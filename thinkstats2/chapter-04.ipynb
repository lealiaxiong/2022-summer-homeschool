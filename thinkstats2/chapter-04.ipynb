{
 "cells": [
  {
   "cell_type": "markdown",
   "id": "1487071d-8283-497a-b5a1-de618f354d87",
   "metadata": {},
   "source": [
    "# Chapter 4: Cumulative distribution functions"
   ]
  },
  {
   "cell_type": "markdown",
   "id": "a5aad36a-77de-4c09-9d9b-51c2bd5208fb",
   "metadata": {},
   "source": [
    "## Reading"
   ]
  },
  {
   "cell_type": "code",
   "execution_count": 1,
   "id": "5a008a39-6434-489f-92e7-75a217a7d01a",
   "metadata": {},
   "outputs": [],
   "source": [
    "from os.path import basename, exists\n",
    "\n",
    "\n",
    "def download(url):\n",
    "    filename = basename(url)\n",
    "    if not exists(filename):\n",
    "        from urllib.request import urlretrieve\n",
    "\n",
    "        local, _ = urlretrieve(url, filename)\n",
    "        print(\"Downloaded \" + local)\n",
    "\n",
    "\n",
    "download(\"https://github.com/AllenDowney/ThinkStats2/raw/master/code/thinkstats2.py\")\n",
    "download(\"https://github.com/AllenDowney/ThinkStats2/raw/master/code/thinkplot.py\")\n",
    "download(\"https://github.com/AllenDowney/ThinkStats2/raw/master/code/nsfg.py\")\n",
    "download(\"https://github.com/AllenDowney/ThinkStats2/raw/master/code/first.py\")\n",
    "\n",
    "\n",
    "download(\"https://github.com/AllenDowney/ThinkStats2/raw/master/code/2002FemPreg.dct\")\n",
    "download(\n",
    "    \"https://github.com/AllenDowney/ThinkStats2/raw/master/code/2002FemPreg.dat.gz\"\n",
    ")"
   ]
  },
  {
   "cell_type": "code",
   "execution_count": 2,
   "id": "4e05b295-b282-4ae4-9ec6-f9f408faf9a3",
   "metadata": {},
   "outputs": [],
   "source": [
    "import numpy as np\n",
    "import thinkstats2\n",
    "import thinkplot"
   ]
  },
  {
   "cell_type": "code",
   "execution_count": 3,
   "id": "e87686d0-1993-4c92-9128-49cf055f2482",
   "metadata": {},
   "outputs": [],
   "source": [
    "import first\n",
    "\n",
    "live, firsts, others = first.MakeFrames()"
   ]
  },
  {
   "cell_type": "markdown",
   "id": "e8b9c176-3359-4b52-8742-bab6543ede3f",
   "metadata": {},
   "source": [
    "PMFs aren't so useful if you have a lot of possible values."
   ]
  },
  {
   "cell_type": "code",
   "execution_count": 4,
   "id": "23d80336-5d35-4e73-a8ac-720f6e101ab1",
   "metadata": {},
   "outputs": [
    {
     "name": "stdout",
     "output_type": "stream",
     "text": [
      "firsts: 4413, after dropping nans: 4363\n",
      "others: 4735, after dropping nans: 4675\n"
     ]
    }
   ],
   "source": [
    "first_wgt = firsts.totalwgt_lb\n",
    "first_wgt_dropna = first_wgt.dropna()\n",
    "print(f'firsts: {len(first_wgt)}, after dropping nans: {len(first_wgt_dropna)}')\n",
    "\n",
    "other_wgt = others.totalwgt_lb\n",
    "other_wgt_dropna = other_wgt.dropna()\n",
    "print(f'others: {len(other_wgt)}, after dropping nans: {len(other_wgt_dropna)}')\n",
    "\n",
    "first_pmf = thinkstats2.Pmf(first_wgt_dropna, label='first')\n",
    "other_pmf = thinkstats2.Pmf(other_wgt_dropna, label='other')"
   ]
  },
  {
   "cell_type": "code",
   "execution_count": 5,
   "id": "105f9984-885a-4c90-8924-adf371202901",
   "metadata": {},
   "outputs": [
    {
     "data": {
      "image/png": "[encoded data removed]",
      "text/plain": [
       "<Figure size 432x288 with 1 Axes>"
      ]
     },
     "metadata": {
      "needs_background": "light"
     },
     "output_type": "display_data"
    }
   ],
   "source": [
    "width = 0.4 / 16\n",
    "thinkplot.PrePlot(2)\n",
    "thinkplot.Pmfs([first_pmf, other_pmf])\n",
    "thinkplot.Config(xlabel='birth weight (lb)', ylabel='pmf')"
   ]
  },
  {
   "cell_type": "markdown",
   "id": "a039e53a-bb7a-4b64-96b8-6a45efbe19bc",
   "metadata": {},
   "source": [
    "Percentile rank and percentile:"
   ]
  },
  {
   "cell_type": "code",
   "execution_count": 6,
   "id": "69424b4c-13a0-4a98-bf9f-ea32278156c6",
   "metadata": {},
   "outputs": [],
   "source": [
    "def PercentileRank(scores, your_score):\n",
    "    count = 0\n",
    "    for score in scores:\n",
    "        if score <= your_score:\n",
    "            count += 1\n",
    "            \n",
    "    percentile_rank = 100.0 * count / len(scores)\n",
    "    \n",
    "    return percentile_rank"
   ]
  },
  {
   "cell_type": "code",
   "execution_count": 8,
   "id": "6a16c79d-99e7-4661-9af3-e94c62fbc122",
   "metadata": {},
   "outputs": [],
   "source": [
    "def Percentile(scores, percentile_rank):\n",
    "    scores.sort()\n",
    "    index = percentile_rank * (len(scores)-1) // 100\n",
    "    return scores[int(index)]"
   ]
  },
  {
   "cell_type": "markdown",
   "id": "7d644eb5-9911-422b-b059-f388493f39d2",
   "metadata": {},
   "source": [
    "Cumulative distribution function:"
   ]
  },
  {
   "cell_type": "code",
   "execution_count": 9,
   "id": "e478616e-de0c-4d12-8a04-6964170c2a14",
   "metadata": {},
   "outputs": [],
   "source": [
    "def EvalCdf(sample, x):\n",
    "    count = 0.0\n",
    "    for value in sample:\n",
    "        if value <= x:\n",
    "            count += 1\n",
    "            \n",
    "    prob = count / len(sample)\n",
    "    return prob"
   ]
  },
  {
   "cell_type": "code",
   "execution_count": 10,
   "id": "dec6108b-e0b5-45d6-b21b-693f9525fd1d",
   "metadata": {},
   "outputs": [
    {
     "data": {
      "image/png": "[encoded data removed]",
      "text/plain": [
       "<Figure size 432x288 with 1 Axes>"
      ]
     },
     "metadata": {
      "needs_background": "light"
     },
     "output_type": "display_data"
    }
   ],
   "source": [
    "cdf = thinkstats2.Cdf(live.prglngth, label='prglngth')\n",
    "thinkplot.Cdf(cdf)\n",
    "thinkplot.Config(xlabel='Pregnancy length (weeks)', ylabel='CDF', loc='upper left')"
   ]
  },
  {
   "cell_type": "code",
   "execution_count": 12,
   "id": "70de7b9a-ff8a-47e7-b24a-a7c021225886",
   "metadata": {},
   "outputs": [
    {
     "data": {
      "text/plain": [
       "0.9406427634455619"
      ]
     },
     "execution_count": 12,
     "metadata": {},
     "output_type": "execute_result"
    }
   ],
   "source": [
    "cdf.Prob(41)"
   ]
  },
  {
   "cell_type": "code",
   "execution_count": 13,
   "id": "3ac97904-658b-4d8d-a2df-a1aabb7e917c",
   "metadata": {},
   "outputs": [
    {
     "data": {
      "text/plain": [
       "39"
      ]
     },
     "execution_count": 13,
     "metadata": {},
     "output_type": "execute_result"
    }
   ],
   "source": [
    "cdf.Value(0.5)"
   ]
  },
  {
   "cell_type": "code",
   "execution_count": 14,
   "id": "646bccb8-6f7a-45cd-b139-843134570ad2",
   "metadata": {},
   "outputs": [
    {
     "data": {
      "image/png": "[encoded data removed]",
      "text/plain": [
       "<Figure size 432x288 with 1 Axes>"
      ]
     },
     "metadata": {
      "needs_background": "light"
     },
     "output_type": "display_data"
    }
   ],
   "source": [
    "first_cdf = thinkstats2.Cdf(firsts.totalwgt_lb, label='first')\n",
    "other_cdf = thinkstats2.Cdf(others.totalwgt_lb, label='other')\n",
    "\n",
    "thinkplot.PrePlot(2)\n",
    "thinkplot.Cdfs([first_cdf, other_cdf])\n",
    "thinkplot.Config(xlabel='Weight (pounds)', ylabel='CDF')"
   ]
  },
  {
   "cell_type": "code",
   "execution_count": 18,
   "id": "989f00b1-9611-4c82-bdfa-dab265a61702",
   "metadata": {},
   "outputs": [
    {
     "data": {
      "image/png": "[encoded data removed]",
      "text/plain": [
       "<Figure size 432x288 with 1 Axes>"
      ]
     },
     "metadata": {
      "needs_background": "light"
     },
     "output_type": "display_data"
    }
   ],
   "source": [
    "thinkplot.PrePlot(2)\n",
    "thinkplot.Cdfs([first_cdf, other_cdf])\n",
    "thinkplot.Config(xlim=(4, 10))"
   ]
  },
  {
   "cell_type": "code",
   "execution_count": 19,
   "id": "7fc13074-e3f8-428d-b046-680835340d3c",
   "metadata": {},
   "outputs": [],
   "source": [
    "weights = live.totalwgt_lb\n",
    "live_cdf = thinkstats2.Cdf(weights, label='live')"
   ]
  },
  {
   "cell_type": "code",
   "execution_count": 20,
   "id": "c3b39595-1812-49fd-90d8-69675da6b15b",
   "metadata": {},
   "outputs": [
    {
     "data": {
      "text/plain": [
       "7.375"
      ]
     },
     "execution_count": 20,
     "metadata": {},
     "output_type": "execute_result"
    }
   ],
   "source": [
    "median = live_cdf.Percentile(50)\n",
    "median"
   ]
  },
  {
   "cell_type": "code",
   "execution_count": 21,
   "id": "6cc4095d-a110-4427-b4ef-b4fafade94b0",
   "metadata": {},
   "outputs": [
    {
     "data": {
      "text/plain": [
       "(6.5, 8.125)"
      ]
     },
     "execution_count": 21,
     "metadata": {},
     "output_type": "execute_result"
    }
   ],
   "source": [
    "iqr = (live_cdf.Percentile(25), live_cdf.Percentile(75))\n",
    "iqr"
   ]
  },
  {
   "cell_type": "code",
   "execution_count": 22,
   "id": "ee6dcf04-e82f-41a5-b2f2-d83d30a5fdec",
   "metadata": {},
   "outputs": [
    {
     "data": {
      "text/plain": [
       "3.961053330382828"
      ]
     },
     "execution_count": 22,
     "metadata": {},
     "output_type": "execute_result"
    }
   ],
   "source": [
    "live_cdf.PercentileRank(4 + 10/16)"
   ]
  },
  {
   "cell_type": "markdown",
   "id": "95020d01-259e-44de-bbef-d01c69763a14",
   "metadata": {},
   "source": [
    "Random numbers:"
   ]
  },
  {
   "cell_type": "code",
   "execution_count": 23,
   "id": "dc0b62d0-eeeb-434f-bd3b-e1fccb1f0262",
   "metadata": {},
   "outputs": [],
   "source": [
    "sample = np.random.choice(weights, 100, replace=True)\n",
    "ranks = [live_cdf.PercentileRank(x) for x in sample]"
   ]
  },
  {
   "cell_type": "code",
   "execution_count": 24,
   "id": "6e0322c1-c64a-47d6-aa53-537f06ff76f7",
   "metadata": {},
   "outputs": [
    {
     "data": {
      "image/png": "[encoded data removed]",
      "text/plain": [
       "<Figure size 432x288 with 1 Axes>"
      ]
     },
     "metadata": {
      "needs_background": "light"
     },
     "output_type": "display_data"
    }
   ],
   "source": [
    "rank_cdf = thinkstats2.Cdf(ranks)\n",
    "thinkplot.Cdf(rank_cdf)\n",
    "thinkplot.Config(xlabel='Percentile rank', ylabel='cdf')"
   ]
  },
  {
   "cell_type": "code",
   "execution_count": 25,
   "id": "74168f5c-e0e9-4296-a552-ceb6964ce204",
   "metadata": {},
   "outputs": [
    {
     "data": {
      "image/png": "[encoded data removed]",
      "text/plain": [
       "<Figure size 432x288 with 1 Axes>"
      ]
     },
     "metadata": {
      "needs_background": "light"
     },
     "output_type": "display_data"
    }
   ],
   "source": [
    "resample = live_cdf.Sample(1000)\n",
    "thinkplot.Cdf(live_cdf)\n",
    "thinkplot.Cdf(thinkstats2.Cdf(resample, label='resample'))\n",
    "thinkplot.Config(xlabel='Birth weight (pounds)', ylabel='CDF')"
   ]
  },
  {
   "cell_type": "markdown",
   "id": "5138355f-cdd5-4378-87f1-b84f3452d3d2",
   "metadata": {},
   "source": [
    "**Exercise:** How much did you weigh at birth? If you don’t know, call your mother or someone else who knows. Using the NSFG data (all live births), compute the distribution of birth weights and use it to find your percentile rank. If you were a first baby, find your percentile rank in the distribution for first babies. Otherwise use the distribution for others. If you are in the 90th percentile or higher, call your mother back and apologize."
   ]
  },
  {
   "cell_type": "code",
   "execution_count": 26,
   "id": "78ccfc5c-f151-4908-854b-d38abebd6f81",
   "metadata": {},
   "outputs": [
    {
     "data": {
      "text/plain": [
       "4.1714416685766675"
      ]
     },
     "execution_count": 26,
     "metadata": {},
     "output_type": "execute_result"
    }
   ],
   "source": [
    "# Ed and Holly's baby\n",
    "first_cdf.PercentileRank(4 + 10/16)"
   ]
  },
  {
   "cell_type": "markdown",
   "id": "547c08a7-1987-4417-8d5c-4c0fe9a2715f",
   "metadata": {},
   "source": [
    "**Exercise:** The numbers generated by `numpy.random.random` are supposed to be uniform between 0 and 1; that is, every value in the range should have the same probability.\n",
    "\n",
    "Generate 1000 numbers from `numpy.random.random` and plot their PMF.  What goes wrong?\n",
    "\n",
    "Now plot the CDF. Is the distribution uniform?"
   ]
  },
  {
   "cell_type": "code",
   "execution_count": 28,
   "id": "dbac399c-9a4b-4f93-8185-3b734c0caa0d",
   "metadata": {},
   "outputs": [
    {
     "data": {
      "image/png": "[encoded data removed]",
      "text/plain": [
       "<Figure size 432x288 with 1 Axes>"
      ]
     },
     "metadata": {
      "needs_background": "light"
     },
     "output_type": "display_data"
    }
   ],
   "source": [
    "randoms = np.random.random(size=1000)\n",
    "\n",
    "rnd_pmf = thinkstats2.Pmf(randoms, label='randoms')\n",
    "\n",
    "thinkplot.Pmf(rnd_pmf)\n",
    "thinkplot.Config(xlabel='number', ylabel='pmf')"
   ]
  },
  {
   "cell_type": "markdown",
   "id": "024fc723-ad84-486f-a328-45fbe0b82ff0",
   "metadata": {},
   "source": [
    "The plot draws the line down to zero between each number."
   ]
  },
  {
   "cell_type": "code",
   "execution_count": 29,
   "id": "76cf65ce-0395-495f-b8e8-2038f9096066",
   "metadata": {},
   "outputs": [
    {
     "data": {
      "image/png": "[encoded data removed]",
      "text/plain": [
       "<Figure size 432x288 with 1 Axes>"
      ]
     },
     "metadata": {
      "needs_background": "light"
     },
     "output_type": "display_data"
    }
   ],
   "source": [
    "rnd_cdf = thinkstats2.Cdf(randoms, label='randoms')\n",
    "\n",
    "thinkplot.Cdf(rnd_cdf)\n",
    "thinkplot.Config(xlabel='number', ylabel='cdf')"
   ]
  },
  {
   "cell_type": "code",
   "execution_count": null,
   "id": "ed733679-30ee-4acb-b67e-091b49f9ee48",
   "metadata": {},
   "outputs": [],
   "source": []
  }
 ],
 "metadata": {
  "kernelspec": {
   "display_name": "Python 3 (ipykernel)",
   "language": "python",
   "name": "python3"
  },
  "language_info": {
   "codemirror_mode": {
    "name": "ipython",
    "version": 3
   },
   "file_extension": ".py",
   "mimetype": "text/x-python",
   "name": "python",
   "nbconvert_exporter": "python",
   "pygments_lexer": "ipython3",
   "version": "3.9.7"
  }
 },
 "nbformat": 4,
 "nbformat_minor": 5
}
