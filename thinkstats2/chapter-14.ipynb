{
 "cells": [
  {
   "cell_type": "markdown",
   "id": "3bc50e0c-ff17-42db-ac45-644a9fc0c8b9",
   "metadata": {},
   "source": [
    "# Chapter 14\n",
    "Analytic methods"
   ]
  },
  {
   "cell_type": "markdown",
   "id": "9fd3a373-f98e-49b4-b0d0-7f7e8a648dd8",
   "metadata": {},
   "source": [
    "## Reading"
   ]
  },
  {
   "cell_type": "code",
   "execution_count": 1,
   "id": "7b1945be-1184-456e-950a-1e2b7f47add2",
   "metadata": {},
   "outputs": [],
   "source": [
    "from os.path import basename, exists\n",
    "\n",
    "\n",
    "def download(url):\n",
    "    filename = basename(url)\n",
    "    if not exists(filename):\n",
    "        from urllib.request import urlretrieve\n",
    "\n",
    "        local, _ = urlretrieve(url, filename)\n",
    "        print(\"Downloaded \" + local)\n",
    "\n",
    "\n",
    "download(\"https://github.com/AllenDowney/ThinkStats2/raw/master/code/thinkstats2.py\")\n",
    "download(\"https://github.com/AllenDowney/ThinkStats2/raw/master/code/thinkplot.py\")"
   ]
  },
  {
   "cell_type": "code",
   "execution_count": 2,
   "id": "ecdc45ef-342d-4c7f-90a5-c02c9945f2a8",
   "metadata": {},
   "outputs": [],
   "source": [
    "import numpy as np\n",
    "import pandas as pd\n",
    "\n",
    "import random\n",
    "\n",
    "import thinkstats2\n",
    "import thinkplot"
   ]
  },
  {
   "cell_type": "code",
   "execution_count": 3,
   "id": "550ca058-26cd-41ba-9b5e-636058018432",
   "metadata": {},
   "outputs": [],
   "source": [
    "import scipy.stats\n",
    "\n",
    "\n",
    "def EvalNormalCdfInverse(p, mu=0, sigma=1):\n",
    "    return scipy.stats.norm.ppf(p, loc=mu, scale=sigma)"
   ]
  },
  {
   "cell_type": "code",
   "execution_count": 4,
   "id": "e4785b5d-28ed-443a-998b-61d8dcf8f41a",
   "metadata": {},
   "outputs": [
    {
     "data": {
      "text/plain": [
       "(85.88786593262132, 94.11213406737868)"
      ]
     },
     "execution_count": 4,
     "metadata": {},
     "output_type": "execute_result"
    }
   ],
   "source": [
    "EvalNormalCdfInverse(0.05, mu=90, sigma=2.5), EvalNormalCdfInverse(0.95, mu=90, sigma=2.5)"
   ]
  },
  {
   "cell_type": "code",
   "execution_count": 5,
   "id": "ef9e06e7-1f70-4809-b377-cddde9be8281",
   "metadata": {},
   "outputs": [
    {
     "name": "stdout",
     "output_type": "stream",
     "text": [
      "Downloaded normal.py\n",
      "Downloaded hypothesis.py\n",
      "Downloaded nsfg2.py\n"
     ]
    }
   ],
   "source": [
    "download(\"https://github.com/AllenDowney/ThinkStats2/raw/master/code/normal.py\")\n",
    "download(\"https://github.com/AllenDowney/ThinkStats2/raw/master/code/hypothesis.py\")\n",
    "download(\"https://github.com/AllenDowney/ThinkStats2/raw/master/code/nsfg2.py\")\n",
    "\n",
    "download(\"https://github.com/AllenDowney/ThinkStats2/raw/master/code/nsfg.py\")\n",
    "download(\"https://github.com/AllenDowney/ThinkStats2/raw/master/code/first.py\")"
   ]
  },
  {
   "cell_type": "code",
   "execution_count": 6,
   "id": "cd0597b7-39b9-4a1f-8be5-9726f9e28638",
   "metadata": {},
   "outputs": [
    {
     "data": {
      "text/plain": [
       "Normal(90, 56.25)"
      ]
     },
     "execution_count": 6,
     "metadata": {},
     "output_type": "execute_result"
    }
   ],
   "source": [
    "from normal import Normal\n",
    "\n",
    "dist = Normal(90, 7.5**2)\n",
    "dist"
   ]
  },
  {
   "cell_type": "code",
   "execution_count": 7,
   "id": "bd739bb3-2a50-4fb6-b287-9facfe11b1b4",
   "metadata": {},
   "outputs": [
    {
     "data": {
      "text/plain": [
       "2.5"
      ]
     },
     "execution_count": 7,
     "metadata": {},
     "output_type": "execute_result"
    }
   ],
   "source": [
    "# Sampling distribution of the mean\n",
    "dist_xbar = dist.Sum(9) / 9 # 9 measurements\n",
    "dist_xbar.sigma"
   ]
  },
  {
   "cell_type": "code",
   "execution_count": 8,
   "id": "787c5304-00ab-43f8-8f1c-e48ab8386b7f",
   "metadata": {},
   "outputs": [
    {
     "data": {
      "text/plain": [
       "(85.88786593262132, 94.11213406737868)"
      ]
     },
     "execution_count": 8,
     "metadata": {},
     "output_type": "execute_result"
    }
   ],
   "source": [
    "dist_xbar.Percentile(5), dist_xbar.Percentile(95)"
   ]
  },
  {
   "cell_type": "markdown",
   "id": "892dffb1-0d7d-4d6d-a6d2-e18671811924",
   "metadata": {},
   "source": [
    "### Central Limit Theorem\n",
    "If you add up independent variates from a distribution with finite mean and variance, the sum converges on a normal distribution."
   ]
  },
  {
   "cell_type": "code",
   "execution_count": 9,
   "id": "21212baf-98ac-4cec-a703-64ab6e097122",
   "metadata": {},
   "outputs": [],
   "source": [
    "def MakeExpoSamples(beta=2.0, iters=1000):\n",
    "    samples = []\n",
    "    for n in [1, 10, 100]:\n",
    "        sample = [np.sum(np.random.exponential(beta, n)) for _ in range(iters)]\n",
    "        samples.append((n, sample))\n",
    "        \n",
    "    return samples"
   ]
  },
  {
   "cell_type": "code",
   "execution_count": 10,
   "id": "f75b5846-f782-4052-85e6-d83a9f1d3589",
   "metadata": {},
   "outputs": [],
   "source": [
    "def NormalPlotSamples(samples, plot=1, ylabel=\"\"):\n",
    "    \"\"\"Makes normal probability plots for samples.\n",
    "\n",
    "    samples: list of samples\n",
    "    label: string\n",
    "    \"\"\"\n",
    "    for n, sample in samples:\n",
    "        thinkplot.SubPlot(plot)\n",
    "        thinkstats2.NormalProbabilityPlot(sample)\n",
    "\n",
    "        thinkplot.Config(\n",
    "            title=\"n=%d\" % n,\n",
    "            legend=False,\n",
    "            xticks=[],\n",
    "            yticks=[],\n",
    "            xlabel=\"random normal variate\",\n",
    "            ylabel=ylabel,\n",
    "        )\n",
    "        plot += 1"
   ]
  },
  {
   "cell_type": "code",
   "execution_count": 11,
   "id": "2af60b2e-8b58-4756-872d-52f12fad410c",
   "metadata": {},
   "outputs": [
    {
     "data": {
      "image/png": "[encoded data removed]",
      "text/plain": [
       "<Figure size 1152x720 with 3 Axes>"
      ]
     },
     "metadata": {},
     "output_type": "display_data"
    }
   ],
   "source": [
    "thinkplot.PrePlot(num=3, rows=2, cols=3)\n",
    "samples = MakeExpoSamples()\n",
    "NormalPlotSamples(samples, plot=1, ylabel=\"sum of expo values\")"
   ]
  },
  {
   "cell_type": "code",
   "execution_count": 12,
   "id": "de35f1a9-ae7a-40ce-923c-efd235b7cd4e",
   "metadata": {},
   "outputs": [],
   "source": [
    "def MakeLognormalSamples(mu=1.0, sigma=1.0, iters=1000):\n",
    "    \"\"\"Generates samples from a lognormal distribution.\n",
    "\n",
    "    mu: parmeter\n",
    "    sigma: parameter\n",
    "    iters: number of samples to generate for each size\n",
    "\n",
    "    returns: list of samples\n",
    "    \"\"\"\n",
    "    samples = []\n",
    "    for n in [1, 10, 100]:\n",
    "        sample = [np.sum(np.random.lognormal(mu, sigma, n)) for _ in range(iters)]\n",
    "        samples.append((n, sample))\n",
    "    return samples"
   ]
  },
  {
   "cell_type": "code",
   "execution_count": 13,
   "id": "5c13bc06-1492-4aa6-8a1b-a6ea9e0a3fd7",
   "metadata": {},
   "outputs": [
    {
     "data": {
      "image/png": "[encoded data removed]",
      "text/plain": [
       "<Figure size 1152x720 with 3 Axes>"
      ]
     },
     "metadata": {},
     "output_type": "display_data"
    }
   ],
   "source": [
    "thinkplot.PrePlot(num=3, rows=2, cols=3)\n",
    "samples = MakeLognormalSamples()\n",
    "NormalPlotSamples(samples, ylabel=\"sum of lognormal values\")"
   ]
  },
  {
   "cell_type": "code",
   "execution_count": 14,
   "id": "fdec0de6-5512-43e1-8715-b932cfaf6214",
   "metadata": {},
   "outputs": [],
   "source": [
    "def MakeParetoSamples(alpha=1.0, iters=1000):\n",
    "    \"\"\"Generates samples from a Pareto distribution.\n",
    "\n",
    "    alpha: parameter\n",
    "    iters: number of samples to generate for each size\n",
    "\n",
    "    returns: list of samples\n",
    "    \"\"\"\n",
    "    samples = []\n",
    "\n",
    "    for n in [1, 10, 100]:\n",
    "        sample = [np.sum(np.random.pareto(alpha, n)) for _ in range(iters)]\n",
    "        samples.append((n, sample))\n",
    "    return samples"
   ]
  },
  {
   "cell_type": "code",
   "execution_count": 15,
   "id": "cd7d6cac-80a3-4685-bc1e-e89faae6d071",
   "metadata": {},
   "outputs": [
    {
     "data": {
      "image/png": "[encoded data removed]",
      "text/plain": [
       "<Figure size 1152x720 with 3 Axes>"
      ]
     },
     "metadata": {},
     "output_type": "display_data"
    }
   ],
   "source": [
    "thinkplot.PrePlot(num=3, rows=2, cols=3)\n",
    "samples = MakeParetoSamples()\n",
    "NormalPlotSamples(samples, ylabel=\"sum of Pareto values\")"
   ]
  },
  {
   "cell_type": "markdown",
   "id": "614fe201-d408-4f7c-b489-5602d00ba8cb",
   "metadata": {},
   "source": [
    "This doesn't work because this distribution doesn't have finite mean and variance."
   ]
  },
  {
   "cell_type": "markdown",
   "id": "08246382-8bb7-48ec-b465-ed47411fe349",
   "metadata": {},
   "source": [
    "### Compute a CI and p-value for an observed difference in means.\n",
    "\n",
    "The distribution of pregnancy length is not normal, but it has finite mean and variance, so the sum (or mean) of a few thousand samples is very close to normal."
   ]
  },
  {
   "cell_type": "code",
   "execution_count": 16,
   "id": "487f7f09-ab94-49a9-8bf6-f8c77ecbb651",
   "metadata": {},
   "outputs": [],
   "source": [
    "download(\"https://github.com/AllenDowney/ThinkStats2/raw/master/code/2002FemPreg.dct\")\n",
    "download(\n",
    "    \"https://github.com/AllenDowney/ThinkStats2/raw/master/code/2002FemPreg.dat.gz\"\n",
    ")"
   ]
  },
  {
   "cell_type": "code",
   "execution_count": 17,
   "id": "9907124a-517d-4419-b668-7f5c6775d452",
   "metadata": {},
   "outputs": [
    {
     "data": {
      "text/plain": [
       "0.07803726677754952"
      ]
     },
     "execution_count": 17,
     "metadata": {},
     "output_type": "execute_result"
    }
   ],
   "source": [
    "import first\n",
    "\n",
    "live, firsts, others = first.MakeFrames()\n",
    "delta = firsts.prglngth.mean() - others.prglngth.mean()\n",
    "delta"
   ]
  },
  {
   "cell_type": "code",
   "execution_count": 34,
   "id": "41bb690c-0a26-45d3-a9bc-0553070693c3",
   "metadata": {},
   "outputs": [],
   "source": [
    "def SamplingDistMean(data, n):\n",
    "    \"\"\"\n",
    "    Computes the sampling distribution of the mean.\n",
    "    \"\"\"\n",
    "    mean, var = data.mean(), data.var()\n",
    "    dist = Normal(mean, var)\n",
    "    return dist.Sum(n) / n"
   ]
  },
  {
   "cell_type": "code",
   "execution_count": 35,
   "id": "9fc51955-7087-455a-88e9-f6d0c5cccea8",
   "metadata": {},
   "outputs": [],
   "source": [
    "dist1 = SamplingDistMean(live.prglngth, len(firsts))\n",
    "dist2 = SamplingDistMean(live.prglngth, len(others))"
   ]
  },
  {
   "cell_type": "code",
   "execution_count": 36,
   "id": "3cddbdd5-14db-4eaa-a7d7-8592be6da9e4",
   "metadata": {},
   "outputs": [
    {
     "data": {
      "text/plain": [
       "Normal(0, 0.00319708)"
      ]
     },
     "execution_count": 36,
     "metadata": {},
     "output_type": "execute_result"
    }
   ],
   "source": [
    "dist_diff = dist1 - dist2\n",
    "dist_diff"
   ]
  },
  {
   "cell_type": "markdown",
   "id": "a3882794-7f07-4b6c-87da-f0af83aed340",
   "metadata": {},
   "source": [
    "Under the null hypothesis, here's the chance of exceeding the observed difference:"
   ]
  },
  {
   "cell_type": "code",
   "execution_count": 37,
   "id": "9e6b7d66-d5c0-48a8-b415-ba52d6238390",
   "metadata": {},
   "outputs": [
    {
     "data": {
      "text/plain": [
       "0.08377070425543831"
      ]
     },
     "execution_count": 37,
     "metadata": {},
     "output_type": "execute_result"
    }
   ],
   "source": [
    "1 - dist_diff.Prob(delta)"
   ]
  },
  {
   "cell_type": "markdown",
   "id": "53f51bf3-80a6-4868-b513-e028a06200a6",
   "metadata": {},
   "source": [
    "This is the one-sided p-value."
   ]
  },
  {
   "cell_type": "markdown",
   "id": "275e7880-6577-4959-9b50-27749734209d",
   "metadata": {},
   "source": [
    "Probability of falling below the negated difference:"
   ]
  },
  {
   "cell_type": "code",
   "execution_count": 38,
   "id": "1b2f1716-2e61-4b3a-a977-77598c557871",
   "metadata": {},
   "outputs": [
    {
     "data": {
      "text/plain": [
       "0.08377070425543826"
      ]
     },
     "execution_count": 38,
     "metadata": {},
     "output_type": "execute_result"
    }
   ],
   "source": [
    "dist_diff.Prob(-delta)"
   ]
  },
  {
   "cell_type": "markdown",
   "id": "cc8ad07e-8ccc-40de-b8ad-e4369e183e01",
   "metadata": {},
   "source": [
    "Two-sided p-value:"
   ]
  },
  {
   "cell_type": "code",
   "execution_count": 39,
   "id": "69e33476-4587-4476-b01c-93a96aa427b8",
   "metadata": {},
   "outputs": [
    {
     "data": {
      "text/plain": [
       "0.16754140851087657"
      ]
     },
     "execution_count": 39,
     "metadata": {},
     "output_type": "execute_result"
    }
   ],
   "source": [
    "1 - dist_diff.Prob(delta) + dist_diff.Prob(-delta)"
   ]
  },
  {
   "cell_type": "markdown",
   "id": "d8b50753-0df4-402c-8a06-880d9438daa9",
   "metadata": {},
   "source": [
    "### Testing a correlation"
   ]
  },
  {
   "cell_type": "markdown",
   "id": "fb8ce073-8ae3-437e-8589-c60ad827b70a",
   "metadata": {},
   "source": [
    "Under the null hypothesis (that there is no correlation), the sampling distribution of the observed correlation (suitably transformed) is a \"Student t\" distribution."
   ]
  },
  {
   "cell_type": "code",
   "execution_count": 40,
   "id": "c0fa11ca-b425-458c-9be3-fc0e7980a051",
   "metadata": {},
   "outputs": [],
   "source": [
    "def StudentCdf(n):\n",
    "    \"\"\"\n",
    "    Computes the CDF of correlations from uncorrelated variables.\n",
    "    n: sample size.\n",
    "    \"\"\"\n",
    "    ts = np.linspace(-3, 3, 101)\n",
    "    ps = scipy.stats.t.cdf(ts, df=n-2)\n",
    "    rs = ts / np.sqrt(n - 2 + ts**2)\n",
    "    \n",
    "    return thinkstats2.Cdf(rs, ps)"
   ]
  },
  {
   "cell_type": "markdown",
   "id": "7f4916e2-8c53-4db3-92b4-c5d9f9d4c8f8",
   "metadata": {},
   "source": [
    "Compare estimation by permutation and the Student t distribution:"
   ]
  },
  {
   "cell_type": "code",
   "execution_count": 41,
   "id": "006d5777-c619-4801-931a-8d901d2922b4",
   "metadata": {},
   "outputs": [],
   "source": [
    "import hypothesis\n",
    "\n",
    "\n",
    "class CorrelationPermute(hypothesis.CorrelationPermute):\n",
    "    \"\"\"Tests correlations by permutation.\"\"\"\n",
    "\n",
    "    def TestStatistic(self, data):\n",
    "        \"\"\"Computes the test statistic.\n",
    "\n",
    "        data: tuple of xs and ys\n",
    "        \"\"\"\n",
    "        xs, ys = data\n",
    "        return np.corrcoef(xs, ys)[0][1]"
   ]
  },
  {
   "cell_type": "code",
   "execution_count": 42,
   "id": "0dbbbcfe-6ada-44ec-a7c3-a7208d803000",
   "metadata": {},
   "outputs": [],
   "source": [
    "def ResampleCorrelations(live):\n",
    "    \"\"\"Tests the correlation between birth weight and mother's age.\n",
    "\n",
    "    live: DataFrame for live births\n",
    "\n",
    "    returns: sample size, observed correlation, CDF of resampled correlations\n",
    "    \"\"\"\n",
    "    live2 = live.dropna(subset=[\"agepreg\", \"totalwgt_lb\"])\n",
    "    data = live2.agepreg.values, live2.totalwgt_lb.values\n",
    "    ht = CorrelationPermute(data)\n",
    "    p_value = ht.PValue()\n",
    "    return len(live2), ht.actual, ht.test_cdf"
   ]
  },
  {
   "cell_type": "code",
   "execution_count": 43,
   "id": "84396047-5d05-4a25-b648-17897c41ff4e",
   "metadata": {},
   "outputs": [
    {
     "data": {
      "image/png": "[encoded data removed]",
      "text/plain": [
       "<Figure size 432x288 with 1 Axes>"
      ]
     },
     "metadata": {
      "needs_background": "light"
     },
     "output_type": "display_data"
    }
   ],
   "source": [
    "n, r, cdf = ResampleCorrelations(live)\n",
    "\n",
    "model = StudentCdf(n)\n",
    "thinkplot.Plot(model.xs, model.ps, color=\"gray\", alpha=0.5, label=\"Student t\")\n",
    "thinkplot.Cdf(cdf, label=\"sample\")\n",
    "\n",
    "thinkplot.Config(xlabel=\"correlation\", ylabel=\"CDF\", legend=True, loc=\"lower right\")"
   ]
  },
  {
   "cell_type": "markdown",
   "id": "82dc59c3-750d-43d5-975f-d1277887d076",
   "metadata": {},
   "source": [
    "Use the CDF of the Student t distribution to compute a p-value:"
   ]
  },
  {
   "cell_type": "code",
   "execution_count": 44,
   "id": "a08d6266-9622-4b37-b6f5-c5849840df99",
   "metadata": {},
   "outputs": [
    {
     "name": "stdout",
     "output_type": "stream",
     "text": [
      "0.06883397035410904 2.861466619208386e-11\n"
     ]
    }
   ],
   "source": [
    "t = r * np.sqrt((n - 2) / (1 - r**2))\n",
    "p_value = 1 - scipy.stats.t.cdf(t, df=n - 2)\n",
    "print(r, p_value)"
   ]
  },
  {
   "cell_type": "markdown",
   "id": "6dbc16fc-4255-43a7-bac4-47530b9efd4d",
   "metadata": {},
   "source": [
    "### Chi-squared test"
   ]
  },
  {
   "cell_type": "code",
   "execution_count": 45,
   "id": "b1ec0502-92ae-4144-807f-0c7044e49a14",
   "metadata": {},
   "outputs": [],
   "source": [
    "def ChiSquaredCdf(n):\n",
    "    \"\"\"Discrete approximation of the chi-squared CDF with df=n-1.\n",
    "\n",
    "    n: sample size\n",
    "\n",
    "    returns: Cdf\n",
    "    \"\"\"\n",
    "    xs = np.linspace(0, 25, 101)\n",
    "    ps = scipy.stats.chi2.cdf(xs, df=n - 1)\n",
    "    return thinkstats2.Cdf(xs, ps)"
   ]
  },
  {
   "cell_type": "code",
   "execution_count": 46,
   "id": "4596a1d6-048f-4f27-a34e-7fa4d3cfe734",
   "metadata": {},
   "outputs": [
    {
     "data": {
      "image/png": "[encoded data removed]",
      "text/plain": [
       "<Figure size 432x288 with 1 Axes>"
      ]
     },
     "metadata": {
      "needs_background": "light"
     },
     "output_type": "display_data"
    }
   ],
   "source": [
    "data = [8, 9, 19, 5, 8, 11]\n",
    "dt = hypothesis.DiceChiTest(data)\n",
    "p_value = dt.PValue(iters=1000)\n",
    "n, chi2, cdf = len(data), dt.actual, dt.test_cdf\n",
    "\n",
    "model = ChiSquaredCdf(n)\n",
    "thinkplot.Plot(model.xs, model.ps, color=\"gray\", alpha=0.3, label=\"chi squared\")\n",
    "thinkplot.Cdf(cdf, label=\"sample\")\n",
    "\n",
    "thinkplot.Config(xlabel=\"chi-squared statistic\", ylabel=\"CDF\", loc=\"lower right\")"
   ]
  },
  {
   "cell_type": "code",
   "execution_count": 47,
   "id": "07bfa282-57cc-46a2-9a9d-58f86a802745",
   "metadata": {},
   "outputs": [
    {
     "name": "stdout",
     "output_type": "stream",
     "text": [
      "11.6 0.04069938850404997\n"
     ]
    }
   ],
   "source": [
    "p_value = 1 - scipy.stats.chi2.cdf(chi2, df=n - 1)\n",
    "print(chi2, p_value)"
   ]
  },
  {
   "cell_type": "markdown",
   "id": "7c65bb0e-7588-4bf9-b2df-db080ab76f53",
   "metadata": {},
   "source": [
    "## Exercises"
   ]
  },
  {
   "cell_type": "markdown",
   "id": "628dae44-e7f4-4529-8927-0a11e564d0ff",
   "metadata": {},
   "source": [
    "**Exercise:**    In Section 5.4, we saw that the distribution of adult weights is approximately lognormal. One possible explanation is that the weight a person gains each year is proportional to their current weight. In that case, adult weight is the product of a large number of multiplicative factors:\n",
    "\n",
    "$w = w_0 f_1 f_2 \\dots f_n$\n",
    "\n",
    "where $w$ is adult weight, $w_0$ is birth weight, and $f_i$ is the weight gain factor for year $i$.\n",
    "\n",
    "The log of a product is the sum of the logs of the factors:\n",
    "\n",
    "$\\log w = \\log w_0 + \\log f_1 + \\log f_2 + \\dots + \\log f_n$\n",
    "\n",
    "So by the Central Limit Theorem, the distribution of $\\log w$ is approximately normal for large $n$, which implies that the distribution of $w$ is lognormal.\n",
    "\n",
    "To model this phenomenon, choose a distribution for $f$ that seems reasonable, then generate a sample of adult weights by choosing a random value from the distribution of birth weights, choosing a sequence of factors from the distribution of $f$, and computing the product. What value of $n$ is needed to converge to a lognormal distribution?"
   ]
  },
  {
   "cell_type": "markdown",
   "id": "a14c0555-5066-4d96-a424-cb78a1749e10",
   "metadata": {},
   "source": [
    "---\n",
    "Let's say $f$ is uniformly distributed between 1 and 1.3 - this means that a person will gain 0 to 30% of their bodyweight each year.\n",
    "\n",
    "Let's generate 1000 adult weights from 1000 birth weights for $n = 1, 10, 50, 100$."
   ]
  },
  {
   "cell_type": "code",
   "execution_count": 52,
   "id": "f023bb76-11c6-4a0c-9d12-07166cc877a7",
   "metadata": {},
   "outputs": [],
   "source": [
    "birth_weights = random.sample(list(live.totalwgt_lb.dropna()), 1000)"
   ]
  },
  {
   "cell_type": "code",
   "execution_count": 57,
   "id": "b0e9fa98-2e6f-48ef-a694-bda8fc1ca6e8",
   "metadata": {},
   "outputs": [],
   "source": [
    "def calculate_adult_weights(birth_weights, n):\n",
    "    \"\"\"\n",
    "    Calculate adult weights for n years.\n",
    "    \"\"\"\n",
    "    adult_weights = []\n",
    "    for birth_weight in birth_weights:\n",
    "        fs = np.random.uniform(1, 1.3, n)\n",
    "        adult_weight = birth_weight * np.product(fs)\n",
    "        adult_weights.append(adult_weight)\n",
    "        \n",
    "    return adult_weights"
   ]
  },
  {
   "cell_type": "code",
   "execution_count": 58,
   "id": "d771f93a-ee27-428a-b239-530678128282",
   "metadata": {},
   "outputs": [],
   "source": [
    "adult_weights_ns = [(n, calculate_adult_weights(birth_weights, n)) for n in (1, 10, 50, 100)]"
   ]
  },
  {
   "cell_type": "code",
   "execution_count": 59,
   "id": "2bd50efe-ee70-49dc-b3fe-af081794812d",
   "metadata": {},
   "outputs": [
    {
     "data": {
      "image/png": "[encoded data removed]",
      "text/plain": [
       "<Figure size 864x360 with 4 Axes>"
      ]
     },
     "metadata": {},
     "output_type": "display_data"
    }
   ],
   "source": [
    "samples = [(n, np.log(np.array(adult_weights_n))) for n, adult_weights_n in adult_weights_ns]\n",
    "\n",
    "thinkplot.PrePlot(num=4, cols=4)\n",
    "NormalPlotSamples(samples, plot=1, ylabel='calculated adult weights')"
   ]
  },
  {
   "cell_type": "markdown",
   "id": "be8cb3e9-0557-4943-83ba-afe28c0065a0",
   "metadata": {},
   "source": [
    "This actually already works kind of well for n = 10 and improves for n = 50 and n = 100."
   ]
  },
  {
   "cell_type": "markdown",
   "id": "10b7087d-3d85-4f64-b34f-24eba4c38b0a",
   "metadata": {},
   "source": [
    "**Exercise:** In Section 14.6 we used the Central Limit Theorem to find the sampling distribution of the difference in means, δ, under the null hypothesis that both samples are drawn from the same population.\n",
    "\n",
    "We can also use this distribution to find the standard error of the estimate and confidence intervals, but that would only be approximately correct. To be more precise, we should compute the sampling distribution of δ under the alternate hypothesis that the samples are drawn from different populations.\n",
    "\n",
    "Compute this distribution and use it to calculate the standard error and a 90% confidence interval for the difference in means."
   ]
  },
  {
   "cell_type": "code",
   "execution_count": 60,
   "id": "a8aa812d-0121-4e7b-8eb2-6b7139db3eca",
   "metadata": {},
   "outputs": [
    {
     "data": {
      "text/plain": [
       "Normal(0.0780373, 0.00321144)"
      ]
     },
     "execution_count": 60,
     "metadata": {},
     "output_type": "execute_result"
    }
   ],
   "source": [
    "dist1 = SamplingDistMean(firsts.prglngth, len(firsts))\n",
    "dist2 = SamplingDistMean(others.prglngth, len(others))\n",
    "\n",
    "dist = dist1 - dist2\n",
    "dist"
   ]
  },
  {
   "cell_type": "markdown",
   "id": "14027bf0-9d84-4629-a2a7-04eedb3922ba",
   "metadata": {},
   "source": [
    "The standard error is the standard deviation of the sampling distribution:"
   ]
  },
  {
   "cell_type": "code",
   "execution_count": 61,
   "id": "49fd7c00-be97-4553-bf43-4fccde5037ed",
   "metadata": {},
   "outputs": [
    {
     "data": {
      "text/plain": [
       "0.05666953041905667"
      ]
     },
     "execution_count": 61,
     "metadata": {},
     "output_type": "execute_result"
    }
   ],
   "source": [
    "dist.sigma"
   ]
  },
  {
   "cell_type": "markdown",
   "id": "d52bb283-a26b-446d-a9d4-7d98f07e866a",
   "metadata": {},
   "source": [
    "The 90% CI is the interval between the 5th percentile and the 95% percentile:"
   ]
  },
  {
   "cell_type": "code",
   "execution_count": 62,
   "id": "1e1d643b-0afb-4a1b-8e87-4218e06b943b",
   "metadata": {},
   "outputs": [
    {
     "data": {
      "text/plain": [
       "(-0.01517581586986555, 0.17125034942497877)"
      ]
     },
     "execution_count": 62,
     "metadata": {},
     "output_type": "execute_result"
    }
   ],
   "source": [
    "dist.Percentile(5), dist.Percentile(95)"
   ]
  },
  {
   "cell_type": "markdown",
   "id": "356dfc28-cf79-4ec4-9785-26e6d1aba97e",
   "metadata": {},
   "source": [
    "**Exercise:** [In a recent paper](http://ieeexplore.ieee.org/document/7044435/), Stein et al. investigate the effects of an intervention intended to mitigate gender-stereotypical task allocation within student engineering teams.\n",
    "\n",
    "Before and after the intervention, students responded to a survey that asked them to rate their contribution to each aspect of class projects on a 7-point scale.\n",
    "\n",
    "Before the intervention, male students reported higher scores for the programming aspect of the project than female students; on average men reported a score of 3.57 with standard error 0.28. Women reported 1.91, on average, with standard error 0.32.\n",
    "\n",
    "Compute the sampling distribution of the gender gap (the difference in means), and test whether it is statistically significant. Because you are given standard errors for the estimated means, you don’t need to know the sample size to figure out the sampling distributions.\n",
    "\n",
    "After the intervention, the gender gap was smaller: the average score for men was 3.44 (SE 0.16); the average score for women was 3.18 (SE 0.16). Again, compute the sampling distribution of the gender gap and test it.\n",
    "\n",
    "Finally, estimate the change in gender gap; what is the sampling distribution of this change, and is it statistically significant?"
   ]
  },
  {
   "cell_type": "code",
   "execution_count": 63,
   "id": "48e2d330-9ec2-4499-af72-794f3c5459d6",
   "metadata": {},
   "outputs": [],
   "source": [
    "mean_m_before = 3.57\n",
    "stderr_m_before = 0.28\n",
    "\n",
    "mean_f_before = 1.91\n",
    "stderr_f_before = 0.32\n",
    "\n",
    "mean_m_after = 3.44\n",
    "stderr_m_after = 0.16\n",
    "\n",
    "mean_f_after = 3.18\n",
    "stderr_f_after = 0.16\n",
    "\n",
    "gap_before = mean_m_before - mean_f_before\n",
    "gap_after = mean_m_after - mean_f_after\n",
    "\n",
    "delta_gap = gap_before - gap_after"
   ]
  },
  {
   "cell_type": "code",
   "execution_count": 73,
   "id": "98e6d92d-d6f2-4372-ace3-6150c0b4c1ea",
   "metadata": {},
   "outputs": [],
   "source": [
    "dist_m_before = Normal(mean_m_before, stderr_m_before**2)\n",
    "dist_f_before = Normal(mean_f_before, stderr_f_before**2)\n",
    "\n",
    "dist_diff_before = dist_m_before - dist_f_before"
   ]
  },
  {
   "cell_type": "markdown",
   "id": "5df3bd5b-e42d-404f-972b-ee46827e8f90",
   "metadata": {},
   "source": [
    "Mean:"
   ]
  },
  {
   "cell_type": "code",
   "execution_count": 74,
   "id": "7a912aa6-87cf-46b8-9e27-2a2d543a965f",
   "metadata": {},
   "outputs": [
    {
     "data": {
      "text/plain": [
       "1.66"
      ]
     },
     "execution_count": 74,
     "metadata": {},
     "output_type": "execute_result"
    }
   ],
   "source": [
    "dist_diff_before.mu"
   ]
  },
  {
   "cell_type": "markdown",
   "id": "0bb00d26-327f-4296-b7a7-50a86655dafa",
   "metadata": {},
   "source": [
    "p-value: (probability of a difference of 0 or less)"
   ]
  },
  {
   "cell_type": "code",
   "execution_count": 75,
   "id": "fa4beb35-3911-4475-8328-12ae7bb960dd",
   "metadata": {},
   "outputs": [
    {
     "data": {
      "text/plain": [
       "4.730953232082172e-05"
      ]
     },
     "execution_count": 75,
     "metadata": {},
     "output_type": "execute_result"
    }
   ],
   "source": [
    "dist_diff_before.Prob(0)"
   ]
  },
  {
   "cell_type": "markdown",
   "id": "681d39fc-3af4-408f-b393-05dea12a5615",
   "metadata": {},
   "source": [
    "This is a small p-value, so the difference is significant."
   ]
  },
  {
   "cell_type": "markdown",
   "id": "d545aed1-8de0-45f8-b9fa-9895e8f67184",
   "metadata": {},
   "source": [
    "90% CI:"
   ]
  },
  {
   "cell_type": "code",
   "execution_count": 76,
   "id": "28679e17-3e23-4ac9-92e9-5f2f21042feb",
   "metadata": {},
   "outputs": [
    {
     "data": {
      "text/plain": [
       "(0.9605986441960159, 2.3594013558039837)"
      ]
     },
     "execution_count": 76,
     "metadata": {},
     "output_type": "execute_result"
    }
   ],
   "source": [
    "dist_diff_before.Percentile(5), dist_diff_before.Percentile(95)"
   ]
  },
  {
   "cell_type": "markdown",
   "id": "039ca361-8907-4976-8213-fd599f840b87",
   "metadata": {},
   "source": [
    "Standard error:"
   ]
  },
  {
   "cell_type": "code",
   "execution_count": 77,
   "id": "a84f5664-fa15-4c2a-bd4b-aaa69aed7c69",
   "metadata": {},
   "outputs": [
    {
     "data": {
      "text/plain": [
       "0.425205832509386"
      ]
     },
     "execution_count": 77,
     "metadata": {},
     "output_type": "execute_result"
    }
   ],
   "source": [
    "dist_diff_before.sigma"
   ]
  },
  {
   "cell_type": "code",
   "execution_count": 78,
   "id": "06de6c3e-8452-4452-aa59-ae3144ada5b6",
   "metadata": {},
   "outputs": [],
   "source": [
    "dist_m_after = Normal(mean_m_after, stderr_m_after**2)\n",
    "dist_f_after = Normal(mean_f_after, stderr_f_after**2)\n",
    "\n",
    "dist_diff_after = dist_m_after - dist_f_after"
   ]
  },
  {
   "cell_type": "markdown",
   "id": "a2080283-012d-4435-bf21-4e4c3b8314a4",
   "metadata": {},
   "source": [
    "Mean:"
   ]
  },
  {
   "cell_type": "code",
   "execution_count": 79,
   "id": "601316a0-103d-4116-9ab5-2657236a67ee",
   "metadata": {},
   "outputs": [
    {
     "data": {
      "text/plain": [
       "0.2599999999999998"
      ]
     },
     "execution_count": 79,
     "metadata": {},
     "output_type": "execute_result"
    }
   ],
   "source": [
    "dist_diff_after.mu"
   ]
  },
  {
   "cell_type": "markdown",
   "id": "f3fe81f9-d989-42c8-b441-ae6038f4b86c",
   "metadata": {},
   "source": [
    "p-value: (probability of a difference of 0 or less)"
   ]
  },
  {
   "cell_type": "code",
   "execution_count": 80,
   "id": "c78e5a40-4a4b-4360-bd41-f062e379bcc5",
   "metadata": {},
   "outputs": [
    {
     "data": {
      "text/plain": [
       "0.12526798720681914"
      ]
     },
     "execution_count": 80,
     "metadata": {},
     "output_type": "execute_result"
    }
   ],
   "source": [
    "dist_diff_after.Prob(0)"
   ]
  },
  {
   "cell_type": "markdown",
   "id": "0770c656-918d-4cf8-9e20-745dac50b802",
   "metadata": {},
   "source": [
    "This is p > 0.05, so this difference is not statistically significant."
   ]
  },
  {
   "cell_type": "markdown",
   "id": "1117cef2-ff44-49fe-8171-c89935632049",
   "metadata": {},
   "source": [
    "90% CI:"
   ]
  },
  {
   "cell_type": "code",
   "execution_count": 81,
   "id": "bb8c6c8f-9584-4806-9e96-fac654012375",
   "metadata": {},
   "outputs": [
    {
     "data": {
      "text/plain": [
       "(-0.11218788917653594, 0.6321878891765353)"
      ]
     },
     "execution_count": 81,
     "metadata": {},
     "output_type": "execute_result"
    }
   ],
   "source": [
    "dist_diff_after.Percentile(5), dist_diff_after.Percentile(95)"
   ]
  },
  {
   "cell_type": "markdown",
   "id": "b343c88c-24c8-4727-862c-4db6ad495eae",
   "metadata": {},
   "source": [
    "Standard error:"
   ]
  },
  {
   "cell_type": "code",
   "execution_count": 82,
   "id": "47198a69-361a-4264-9a15-9745639d61e7",
   "metadata": {},
   "outputs": [
    {
     "data": {
      "text/plain": [
       "0.2262741699796952"
      ]
     },
     "execution_count": 82,
     "metadata": {},
     "output_type": "execute_result"
    }
   ],
   "source": [
    "dist_diff_after.sigma"
   ]
  },
  {
   "cell_type": "code",
   "execution_count": 83,
   "id": "e767ab72-c3b7-4d81-ae8e-a30598169b2d",
   "metadata": {},
   "outputs": [],
   "source": [
    "dist_diff_gap = dist_diff_before - dist_diff_after"
   ]
  },
  {
   "cell_type": "markdown",
   "id": "7acb9180-e341-47ea-98d4-209236aec5eb",
   "metadata": {},
   "source": [
    "Mean:"
   ]
  },
  {
   "cell_type": "code",
   "execution_count": 84,
   "id": "cfbf5d8c-ca79-4e80-ac2b-b0d4a5f16e42",
   "metadata": {},
   "outputs": [
    {
     "data": {
      "text/plain": [
       "1.4000000000000001"
      ]
     },
     "execution_count": 84,
     "metadata": {},
     "output_type": "execute_result"
    }
   ],
   "source": [
    "dist_diff_gap.mu"
   ]
  },
  {
   "cell_type": "markdown",
   "id": "2e79aebd-6cfc-4464-950c-2f5962a7b9b2",
   "metadata": {},
   "source": [
    "p-value: (probability of a difference of 0 or less)"
   ]
  },
  {
   "cell_type": "code",
   "execution_count": 85,
   "id": "e68b4fb2-eec9-4cf8-95fd-a216f58f57f1",
   "metadata": {},
   "outputs": [
    {
     "data": {
      "text/plain": [
       "0.0018269483689769925"
      ]
     },
     "execution_count": 85,
     "metadata": {},
     "output_type": "execute_result"
    }
   ],
   "source": [
    "dist_diff_gap.Prob(0)"
   ]
  },
  {
   "cell_type": "markdown",
   "id": "f4db5889-0ad7-424d-810e-51b55e2895f0",
   "metadata": {},
   "source": [
    "This is p < 0.05, so this difference is statistically significant."
   ]
  },
  {
   "cell_type": "markdown",
   "id": "8776a911-f127-4a19-a683-2183e8432926",
   "metadata": {},
   "source": [
    "90% CI:"
   ]
  },
  {
   "cell_type": "code",
   "execution_count": 86,
   "id": "017e009a-e7c7-4600-9bed-28be5de317a4",
   "metadata": {},
   "outputs": [
    {
     "data": {
      "text/plain": [
       "(0.6077335793117721, 2.192266420688228)"
      ]
     },
     "execution_count": 86,
     "metadata": {},
     "output_type": "execute_result"
    }
   ],
   "source": [
    "dist_diff_gap.Percentile(5), dist_diff_gap.Percentile(95)"
   ]
  },
  {
   "cell_type": "markdown",
   "id": "f8a733f6-aefb-409d-925f-5dd68054c0c8",
   "metadata": {},
   "source": [
    "Standard error:"
   ]
  },
  {
   "cell_type": "code",
   "execution_count": 87,
   "id": "facfa0fa-2bf6-40ad-8afe-fe3b82b40b78",
   "metadata": {},
   "outputs": [
    {
     "data": {
      "text/plain": [
       "0.48166378315169184"
      ]
     },
     "execution_count": 87,
     "metadata": {},
     "output_type": "execute_result"
    }
   ],
   "source": [
    "dist_diff_gap.sigma"
   ]
  },
  {
   "cell_type": "code",
   "execution_count": null,
   "id": "5403a023-7f92-4ee2-bc71-ffe8647c52bb",
   "metadata": {},
   "outputs": [],
   "source": []
  }
 ],
 "metadata": {
  "kernelspec": {
   "display_name": "Python 3 (ipykernel)",
   "language": "python",
   "name": "python3"
  },
  "language_info": {
   "codemirror_mode": {
    "name": "ipython",
    "version": 3
   },
   "file_extension": ".py",
   "mimetype": "text/x-python",
   "name": "python",
   "nbconvert_exporter": "python",
   "pygments_lexer": "ipython3",
   "version": "3.9.7"
  }
 },
 "nbformat": 4,
 "nbformat_minor": 5
}
