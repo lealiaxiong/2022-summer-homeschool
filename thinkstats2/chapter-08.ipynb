{
 "cells": [
  {
   "cell_type": "markdown",
   "id": "d9d215df-ee23-4685-abe4-8f5e4baea753",
   "metadata": {},
   "source": [
    "# Chapter 8 - Estimation\n",
    "https://github.com/AllenDowney/ThinkStats2"
   ]
  },
  {
   "cell_type": "markdown",
   "id": "099ad27e-d257-42d8-891a-07f66e77dc90",
   "metadata": {},
   "source": [
    "## Reading"
   ]
  },
  {
   "cell_type": "code",
   "execution_count": 1,
   "id": "309f69e2-d66f-4eb0-8fa7-151ad44c4790",
   "metadata": {},
   "outputs": [],
   "source": [
    "from os.path import basename, exists\n",
    "\n",
    "\n",
    "def download(url):\n",
    "    filename = basename(url)\n",
    "    if not exists(filename):\n",
    "        from urllib.request import urlretrieve\n",
    "\n",
    "        local, _ = urlretrieve(url, filename)\n",
    "        print(\"Downloaded \" + local)\n",
    "\n",
    "\n",
    "download(\"https://github.com/AllenDowney/ThinkStats2/raw/master/code/thinkstats2.py\")\n",
    "download(\"https://github.com/AllenDowney/ThinkStats2/raw/master/code/thinkplot.py\")"
   ]
  },
  {
   "cell_type": "code",
   "execution_count": 2,
   "id": "a3b73b1e-c438-4785-97ea-b4abdc17b46b",
   "metadata": {},
   "outputs": [],
   "source": [
    "import numpy as np\n",
    "\n",
    "import thinkstats2\n",
    "import thinkplot"
   ]
  },
  {
   "cell_type": "code",
   "execution_count": 3,
   "id": "061eb28f-4bdd-4e97-9b49-61413705029d",
   "metadata": {},
   "outputs": [],
   "source": [
    "def RMSE(estimates, actual):\n",
    "    \"\"\"Computes the root mean squared error of a sequence of estimates.\n",
    "\n",
    "    estimate: sequence of numbers\n",
    "    actual: actual value\n",
    "\n",
    "    returns: float RMSE\n",
    "    \"\"\"\n",
    "    \n",
    "    e2 = [(estimate - actual)**2 for estimate in estimates]\n",
    "    mse = np.mean(e2)\n",
    "    \n",
    "    return np.sqrt(mse)"
   ]
  },
  {
   "cell_type": "code",
   "execution_count": 4,
   "id": "05b0ee7e-c96c-4fca-aa59-f7931f27b018",
   "metadata": {},
   "outputs": [
    {
     "name": "stdout",
     "output_type": "stream",
     "text": [
      "Experiment 1\n",
      "rmse xbar 0.393890360894775\n",
      "rmse median 0.47758572842561287\n"
     ]
    }
   ],
   "source": [
    "import random\n",
    "\n",
    "def Estimate1(n=7, iters=1000):\n",
    "    \"\"\"Evaluates RMSE of sample mean and median as estimators.\n",
    "\n",
    "    n: sample size\n",
    "    iters: number of iterations\n",
    "    \"\"\"\n",
    "    mu = 0\n",
    "    sigma = 1\n",
    "\n",
    "    means = []\n",
    "    medians = []\n",
    "    for _ in range(iters):\n",
    "        xs = [random.gauss(mu, sigma) for _ in range(n)]\n",
    "        xbar = np.mean(xs)\n",
    "        median = np.median(xs)\n",
    "        means.append(xbar)\n",
    "        medians.append(median)\n",
    "\n",
    "    print('Experiment 1')\n",
    "    print('rmse xbar', RMSE(means, mu))\n",
    "    print('rmse median', RMSE(medians, mu))\n",
    "    \n",
    "Estimate1()"
   ]
  },
  {
   "cell_type": "code",
   "execution_count": 5,
   "id": "642d3edb-1c1e-4027-87c2-b954ee37356e",
   "metadata": {},
   "outputs": [],
   "source": [
    "def MeanError(estimates, actual):\n",
    "    \"\"\"Computes the mean error of a sequence of estimates.\n",
    "\n",
    "    estimate: sequence of numbers\n",
    "    actual: actual value\n",
    "\n",
    "    returns: float mean error\n",
    "    \"\"\"\n",
    "    errors = [estimate-actual for estimate in estimates]\n",
    "    return np.mean(errors)"
   ]
  },
  {
   "cell_type": "code",
   "execution_count": 108,
   "id": "97f5a9ff-3f1d-466c-81d4-23463bec70de",
   "metadata": {},
   "outputs": [
    {
     "name": "stdout",
     "output_type": "stream",
     "text": [
      "mean error biased -0.1291804198758683\n",
      "mean error unbiased 0.015956176811486963\n"
     ]
    }
   ],
   "source": [
    "def Estimate2(n=7, iters=1000):\n",
    "    mu = 0\n",
    "    sigma = 1\n",
    "\n",
    "    estimates1 = []\n",
    "    estimates2 = []\n",
    "    for _ in range(iters):\n",
    "        xs = [random.gauss(mu, sigma) for i in range(n)]\n",
    "        biased = np.var(xs)\n",
    "        unbiased = np.var(xs, ddof=1)\n",
    "        estimates1.append(biased)\n",
    "        estimates2.append(unbiased)\n",
    "\n",
    "    print('mean error biased', MeanError(estimates1, sigma**2))\n",
    "    print('mean error unbiased', MeanError(estimates2, sigma**2))\n",
    "    \n",
    "Estimate2()"
   ]
  },
  {
   "cell_type": "code",
   "execution_count": 7,
   "id": "35d61381-e7bc-4d15-aecc-d0b5f15893c4",
   "metadata": {},
   "outputs": [],
   "source": [
    "def SimulateSample(mu=90, sigma=7.5, n=9, iters=1000):\n",
    "    xbars = []\n",
    "    for j in range(iters):\n",
    "        xs = np.random.normal(mu, sigma, n)\n",
    "        xbar = np.mean(xs)\n",
    "        xbars.append(xbar)\n",
    "    return xbars\n",
    "\n",
    "xbars = SimulateSample()"
   ]
  },
  {
   "cell_type": "code",
   "execution_count": 8,
   "id": "edabc4d5-91d1-41ae-8798-ba43cb180a6b",
   "metadata": {},
   "outputs": [
    {
     "data": {
      "image/png": "[encoded data removed]",
      "text/plain": [
       "<Figure size 432x288 with 1 Axes>"
      ]
     },
     "metadata": {
      "needs_background": "light"
     },
     "output_type": "display_data"
    }
   ],
   "source": [
    "cdf = thinkstats2.Cdf(xbars)\n",
    "thinkplot.Cdf(cdf)\n",
    "thinkplot.Config(xlabel='Sample mean',\n",
    "                 ylabel='CDF')"
   ]
  },
  {
   "cell_type": "code",
   "execution_count": 9,
   "id": "db57c3d1-5f1f-4ea8-ba80-d3b7b0e040ed",
   "metadata": {},
   "outputs": [
    {
     "data": {
      "text/plain": [
       "89.83134883516546"
      ]
     },
     "execution_count": 9,
     "metadata": {},
     "output_type": "execute_result"
    }
   ],
   "source": [
    "np.mean(xbars)"
   ]
  },
  {
   "cell_type": "code",
   "execution_count": 10,
   "id": "94910946-861e-4b84-b5de-d0181ebbe844",
   "metadata": {},
   "outputs": [
    {
     "data": {
      "text/plain": [
       "(85.60074624571634, 94.00337153087884)"
      ]
     },
     "execution_count": 10,
     "metadata": {},
     "output_type": "execute_result"
    }
   ],
   "source": [
    "ci = cdf.Percentile(5), cdf.Percentile(95)\n",
    "ci"
   ]
  },
  {
   "cell_type": "code",
   "execution_count": 11,
   "id": "d04dd5ef-6da6-44c7-bff0-b852d1caab0c",
   "metadata": {},
   "outputs": [
    {
     "data": {
      "text/plain": [
       "2.529285203326162"
      ]
     },
     "execution_count": 11,
     "metadata": {},
     "output_type": "execute_result"
    }
   ],
   "source": [
    "stderr = RMSE(xbars, 90)\n",
    "stderr"
   ]
  },
  {
   "cell_type": "code",
   "execution_count": 12,
   "id": "69781bea-ad55-4c25-a2a5-3a1be4a60747",
   "metadata": {},
   "outputs": [
    {
     "name": "stdout",
     "output_type": "stream",
     "text": [
      "rmse L 1.0581812243078534\n",
      "rmse Lm 1.7641818343617457\n",
      "mean error L 0.2988317544290277\n",
      "mean error Lm 0.378289923449493\n"
     ]
    }
   ],
   "source": [
    "def Estimate3(n=7, iters=1000):\n",
    "    lam = 2\n",
    "\n",
    "    means = []\n",
    "    medians = []\n",
    "    for _ in range(iters):\n",
    "        xs = np.random.exponential(1.0/lam, n)\n",
    "        L = 1 / np.mean(xs)\n",
    "        Lm = np.log(2) / thinkstats2.Median(xs)\n",
    "        means.append(L)\n",
    "        medians.append(Lm)\n",
    "\n",
    "    print('rmse L', RMSE(means, lam))\n",
    "    print('rmse Lm', RMSE(medians, lam))\n",
    "    print('mean error L', MeanError(means, lam))\n",
    "    print('mean error Lm', MeanError(medians, lam))\n",
    "    \n",
    "Estimate3()"
   ]
  },
  {
   "cell_type": "markdown",
   "id": "b5132fcc-167b-4c99-9d8c-efeb832307c2",
   "metadata": {},
   "source": [
    "## Exercises"
   ]
  },
  {
   "cell_type": "markdown",
   "id": "a9e2a440-0cca-4975-89f0-7f92068d8f66",
   "metadata": {},
   "source": [
    "**Exercise:** Suppose you draw a sample with size n=10 from an exponential distribution with λ=2. Simulate this experiment 1000 times and plot the sampling distribution of the estimate L. Compute the standard error of the estimate and the 90% confidence interval.\n",
    "\n",
    "Repeat the experiment with a few different values of `n` and make a plot of standard error versus `n`.\n",
    "\n"
   ]
  },
  {
   "cell_type": "code",
   "execution_count": 13,
   "id": "c87ec5d2-53ac-4720-ab96-aa03882972c3",
   "metadata": {},
   "outputs": [],
   "source": [
    "def estimate_rate(n=10, iters=1000):\n",
    "    lam = 2\n",
    "\n",
    "    Ls = []\n",
    "    for _ in range(iters):\n",
    "        xs = np.random.exponential(1.0/lam, n)\n",
    "        L = 1 / np.mean(xs)\n",
    "        Ls.append(L)\n",
    "\n",
    "    return Ls"
   ]
  },
  {
   "cell_type": "code",
   "execution_count": 14,
   "id": "fb439daf-1978-4b8a-801d-d6a5c3c0c824",
   "metadata": {},
   "outputs": [],
   "source": [
    "Ls = estimate_rate()"
   ]
  },
  {
   "cell_type": "code",
   "execution_count": 17,
   "id": "602dcc57-828b-40ba-9930-82eadd460810",
   "metadata": {},
   "outputs": [
    {
     "data": {
      "image/png": "[encoded data removed]",
      "text/plain": [
       "<Figure size 432x288 with 1 Axes>"
      ]
     },
     "metadata": {
      "needs_background": "light"
     },
     "output_type": "display_data"
    }
   ],
   "source": [
    "cdf = thinkstats2.Cdf(Ls)\n",
    "\n",
    "thinkplot.Cdf(cdf)\n",
    "thinkplot.Config(xlabel='estimate L', ylabel='cdf')"
   ]
  },
  {
   "cell_type": "code",
   "execution_count": 18,
   "id": "ce8b742b-167c-45b7-9599-513c31dec1dd",
   "metadata": {},
   "outputs": [
    {
     "name": "stdout",
     "output_type": "stream",
     "text": [
      "The standard error of the estimate is: 0.8141105087004922.\n"
     ]
    }
   ],
   "source": [
    "stderr = RMSE(Ls, 2)\n",
    "print(f'The standard error of the estimate is: {stderr}.')"
   ]
  },
  {
   "cell_type": "code",
   "execution_count": 19,
   "id": "43b8e6b0-dde6-4a28-be51-88be9d0538f0",
   "metadata": {},
   "outputs": [
    {
     "name": "stdout",
     "output_type": "stream",
     "text": [
      "The 90% CI is: (1.3251971130252265, 3.699235172639285).\n"
     ]
    }
   ],
   "source": [
    "ci = cdf.Percentile(5), cdf.Percentile(95)\n",
    "print(f'The 90% CI is: {ci}.')"
   ]
  },
  {
   "cell_type": "code",
   "execution_count": 31,
   "id": "a582bdcd-5a59-4e89-ab7a-bc3297879e29",
   "metadata": {},
   "outputs": [],
   "source": [
    "ns = np.arange(2, 17)\n",
    "stderrs = []\n",
    "for n in ns:\n",
    "    stderrs.append(RMSE(estimate_rate(n=n), 2))"
   ]
  },
  {
   "cell_type": "code",
   "execution_count": 32,
   "id": "6d8b5d22-519c-491b-acce-b568f70e93f5",
   "metadata": {},
   "outputs": [
    {
     "data": {
      "image/png": "[encoded data removed]",
      "text/plain": [
       "<Figure size 432x288 with 1 Axes>"
      ]
     },
     "metadata": {
      "needs_background": "light"
     },
     "output_type": "display_data"
    }
   ],
   "source": [
    "thinkplot.Plot(ns, stderrs)\n",
    "thinkplot.Config(xlabel='n', ylabel='standard error of the estimate')"
   ]
  },
  {
   "cell_type": "markdown",
   "id": "a0e92395-1478-4374-9091-115d6a834cfe",
   "metadata": {},
   "source": [
    "**Exercise:** In games like hockey and soccer, the time between goals is roughly exponential. So you could estimate a team’s goal-scoring rate by observing the number of goals they score in a game. This estimation process is a little different from sampling the time between goals, so let’s see how it works.\n",
    "\n",
    "Write a function that takes a goal-scoring rate, `lam`, in goals per game, and simulates a game by generating the time between goals until the total time exceeds 1 game, then returns the number of goals scored.\n",
    "\n",
    "Write another function that simulates many games, stores the estimates of `lam`, then computes their mean error and RMSE.\n",
    "\n",
    "Is this way of making an estimate biased?"
   ]
  },
  {
   "cell_type": "code",
   "execution_count": 61,
   "id": "4feefc16-27df-4cd3-96e4-d591bc857592",
   "metadata": {},
   "outputs": [],
   "source": [
    "def simulate_game(lam):\n",
    "    \"\"\"\n",
    "    Simulates a game by generate the time between goals until the total time\n",
    "    exceeds 1 game, using the goal-scoring rate `lam`.\n",
    "    Returns the number of goals scored.\n",
    "    \"\"\"\n",
    "    t = 0\n",
    "    n_goals = 0\n",
    "    while True:\n",
    "        delta_t = np.random.exponential(1.0 / lam)\n",
    "        t += delta_t\n",
    "        n_goals += 1\n",
    "        \n",
    "        if t + delta_t > 1:\n",
    "            break\n",
    "            \n",
    "    return n_goals"
   ]
  },
  {
   "cell_type": "code",
   "execution_count": 112,
   "id": "8f7c32a2-aec6-45f9-8188-9368e67a692f",
   "metadata": {},
   "outputs": [],
   "source": [
    "def simulate_many_games(lam, iters=1000000):\n",
    "    Ls = []\n",
    "    for _ in range(iters):\n",
    "        Ls.append(simulate_game(lam))\n",
    "\n",
    "    return Ls, MeanError(Ls, lam), RMSE(Ls, lam)"
   ]
  },
  {
   "cell_type": "code",
   "execution_count": 121,
   "id": "ddb5a9cb-e583-4fc1-a6cf-65cd9917db31",
   "metadata": {},
   "outputs": [
    {
     "name": "stdout",
     "output_type": "stream",
     "text": [
      "0.227308 1.3179772380432069\n"
     ]
    }
   ],
   "source": [
    "Ls, mean_error, rmse = simulate_many_games(2)\n",
    "print(mean_error, rmse)"
   ]
  },
  {
   "cell_type": "code",
   "execution_count": 122,
   "id": "412ed1be-95f3-4aa4-a94e-18b5ef00ecf7",
   "metadata": {},
   "outputs": [
    {
     "data": {
      "image/png": "[encoded data removed]",
      "text/plain": [
       "<Figure size 432x288 with 1 Axes>"
      ]
     },
     "metadata": {
      "needs_background": "light"
     },
     "output_type": "display_data"
    }
   ],
   "source": [
    "cdf = thinkstats2.Cdf(Ls)\n",
    "thinkplot.Cdf(cdf)\n",
    "thinkplot.Config(xlabel='estimated number of goals', ylabel='cdf')"
   ]
  },
  {
   "cell_type": "code",
   "execution_count": 123,
   "id": "e7c0ec40-fce5-4f33-8926-915dabc4b633",
   "metadata": {},
   "outputs": [
    {
     "name": "stdout",
     "output_type": "stream",
     "text": [
      "The 90% CI is: (1, 5).\n"
     ]
    }
   ],
   "source": [
    "ci = cdf.Percentile(5), cdf.Percentile(95)\n",
    "print(f'The 90% CI is: {ci}.')"
   ]
  },
  {
   "cell_type": "code",
   "execution_count": 124,
   "id": "17e2b43f-b83c-493c-9ae9-406c26b17245",
   "metadata": {},
   "outputs": [],
   "source": [
    "mean_errs = []\n",
    "rmses = []\n",
    "for lam in np.arange(2, 10):\n",
    "    Ls, mean_error, rmse = simulate_many_games(lam, iters=10000)\n",
    "    mean_errs.append(mean_error)\n",
    "    rmses.append(rmse)"
   ]
  },
  {
   "cell_type": "code",
   "execution_count": 125,
   "id": "29431a1a-c198-4869-b5f0-21bdd2d9b36c",
   "metadata": {},
   "outputs": [
    {
     "data": {
      "image/png": "[encoded data removed]",
      "text/plain": [
       "<Figure size 432x288 with 1 Axes>"
      ]
     },
     "metadata": {
      "needs_background": "light"
     },
     "output_type": "display_data"
    }
   ],
   "source": [
    "thinkplot.Plot(np.arange(2, 10), mean_errs)"
   ]
  },
  {
   "cell_type": "code",
   "execution_count": 120,
   "id": "eac85315-5021-45a0-bd4e-a5993c38e1b7",
   "metadata": {},
   "outputs": [
    {
     "data": {
      "image/png": "[encoded data removed]",
      "text/plain": [
       "<Figure size 432x288 with 1 Axes>"
      ]
     },
     "metadata": {
      "needs_background": "light"
     },
     "output_type": "display_data"
    }
   ],
   "source": [
    "thinkplot.Plot(np.arange(2, 10), rmses)"
   ]
  },
  {
   "cell_type": "markdown",
   "id": "2fcfdbae-a3a1-4465-9211-38692385fb62",
   "metadata": {},
   "source": [
    "The mean error is small and decreases with number of iterations indicating that the method is unbiased."
   ]
  },
  {
   "cell_type": "markdown",
   "id": "2861458b-f501-4ff1-b6db-271daabf4854",
   "metadata": {},
   "source": [
    "**Exercise:**  In this chapter we used $\\bar{x}$ and median to estimate µ, and found that $\\bar{x}$ yields lower MSE. Also, we used $S^2$ and $S_{n-1}^2$ to estimate σ, and found that $S^2$ is biased and $S_{n-1}^2$ unbiased.\n",
    "Run similar experiments to see if $\\bar{x}$ and median are biased estimates of µ. Also check whether $S^2$ or $S_{n-1}^2$ yields a lower MSE."
   ]
  },
  {
   "cell_type": "code",
   "execution_count": 126,
   "id": "d1906517-bd3c-4591-8dd8-28ea78801afb",
   "metadata": {},
   "outputs": [],
   "source": [
    "def Estimate4(n=7, m=100000):\n",
    "    mu = 0\n",
    "    sigma = 1\n",
    "    \n",
    "    estimates_mean = []\n",
    "    estimates_median = []\n",
    "    xs = [random.gauss(mu, sigma) for i in range(n)]\n",
    "    estimates_mean.append(np.mean(xs))\n",
    "    estimates_median.append(np.median(xs))\n",
    "    \n",
    "    print(f'mean error of mean: {MeanError(estimates_mean, mu)}')\n",
    "    print(f'mean error of median: {MeanError(estimates_median, mu)}')"
   ]
  },
  {
   "cell_type": "code",
   "execution_count": 127,
   "id": "b77ccf64-d7f8-43a8-9d8d-32de9224f9ae",
   "metadata": {},
   "outputs": [
    {
     "name": "stdout",
     "output_type": "stream",
     "text": [
      "mean error of mean: -0.11601841468107447\n",
      "mean error of median: -0.042850904252197924\n"
     ]
    }
   ],
   "source": [
    "Estimate4()"
   ]
  },
  {
   "cell_type": "markdown",
   "id": "0d98e812-6513-41cb-b95c-d586a25f27a6",
   "metadata": {},
   "source": [
    "The mean and median both yield lower mean error as m increases, so they are both unbiased."
   ]
  },
  {
   "cell_type": "code",
   "execution_count": null,
   "id": "1dd9afe1-500b-4c41-8e34-21fe61f115c9",
   "metadata": {},
   "outputs": [],
   "source": []
  }
 ],
 "metadata": {
  "kernelspec": {
   "display_name": "Python 3 (ipykernel)",
   "language": "python",
   "name": "python3"
  },
  "language_info": {
   "codemirror_mode": {
    "name": "ipython",
    "version": 3
   },
   "file_extension": ".py",
   "mimetype": "text/x-python",
   "name": "python",
   "nbconvert_exporter": "python",
   "pygments_lexer": "ipython3",
   "version": "3.9.7"
  }
 },
 "nbformat": 4,
 "nbformat_minor": 5
}
