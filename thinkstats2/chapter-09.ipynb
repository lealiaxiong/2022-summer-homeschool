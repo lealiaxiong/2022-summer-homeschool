{
 "cells": [
  {
   "cell_type": "markdown",
   "id": "303d2241-0aa5-4395-b412-25e2b65d61f9",
   "metadata": {},
   "source": [
    "# Chapter 9 - Hypothesis testing\n",
    "https://github.com/AllenDowney/ThinkStats2"
   ]
  },
  {
   "cell_type": "markdown",
   "id": "0165cc65-9e79-4ba0-bf87-bad456609e9a",
   "metadata": {},
   "source": [
    "## Reading"
   ]
  },
  {
   "cell_type": "code",
   "execution_count": 1,
   "id": "853cb702-9a35-496e-bcfe-fed77de0782c",
   "metadata": {},
   "outputs": [],
   "source": [
    "from os.path import basename, exists\n",
    "\n",
    "\n",
    "def download(url):\n",
    "    filename = basename(url)\n",
    "    if not exists(filename):\n",
    "        from urllib.request import urlretrieve\n",
    "\n",
    "        local, _ = urlretrieve(url, filename)\n",
    "        print(\"Downloaded \" + local)\n",
    "\n",
    "\n",
    "download(\"https://github.com/AllenDowney/ThinkStats2/raw/master/code/thinkstats2.py\")\n",
    "download(\"https://github.com/AllenDowney/ThinkStats2/raw/master/code/thinkplot.py\")"
   ]
  },
  {
   "cell_type": "code",
   "execution_count": 2,
   "id": "3bb92c7a-4fe2-4b12-9c0e-44295a7b6637",
   "metadata": {},
   "outputs": [],
   "source": [
    "import numpy as np\n",
    "\n",
    "import random\n",
    "\n",
    "import thinkstats2\n",
    "import thinkplot"
   ]
  },
  {
   "cell_type": "markdown",
   "id": "e6499f58-cd76-4b7f-bf08-26d2ad8d01c4",
   "metadata": {},
   "source": [
    "Hypothesis testing:"
   ]
  },
  {
   "cell_type": "code",
   "execution_count": 3,
   "id": "84ce388c-f541-432c-8fd7-2732d1c55898",
   "metadata": {},
   "outputs": [],
   "source": [
    "class CoinTest(thinkstats2.HypothesisTest):\n",
    "    \n",
    "    def TestStatistic(self, data):\n",
    "        heads, tails = data\n",
    "        test_stat = abs(heads - tails)\n",
    "        return test_stat\n",
    "    \n",
    "    def RunModel(self):\n",
    "        heads, tails = self.data\n",
    "        n = heads + tails\n",
    "        sample = [random.choice('HT') for _ in range(n)]\n",
    "        hist = thinkstats2.Hist(sample)\n",
    "        data = hist['H'], hist['T']\n",
    "        return data"
   ]
  },
  {
   "cell_type": "code",
   "execution_count": 4,
   "id": "c522359a-dacd-4cf4-a43f-3f341b8d9b06",
   "metadata": {},
   "outputs": [
    {
     "data": {
      "text/plain": [
       "0.067"
      ]
     },
     "execution_count": 4,
     "metadata": {},
     "output_type": "execute_result"
    }
   ],
   "source": [
    "ct = CoinTest((140, 110))\n",
    "pvalue = ct.PValue()\n",
    "pvalue"
   ]
  },
  {
   "cell_type": "markdown",
   "id": "07d7ece5-98aa-469f-b6be-d220be0ebbee",
   "metadata": {},
   "source": [
    "Permutation test:"
   ]
  },
  {
   "cell_type": "code",
   "execution_count": 6,
   "id": "a2497e52-6967-426d-83cf-1e4da28d078e",
   "metadata": {},
   "outputs": [],
   "source": [
    "class DiffMeansPermute(thinkstats2.HypothesisTest):\n",
    "    \n",
    "    def TestStatistic(self, data):\n",
    "        group1, group2 = data\n",
    "        test_stat = abs(group1.mean() - group2.mean())\n",
    "        return test_stat\n",
    "    \n",
    "    def MakeModel(self):\n",
    "        group1, group2 = self.data\n",
    "        self.n, self.m = len(group1), len(group2)\n",
    "        self.pool = np.hstack((group1, group2))\n",
    "        \n",
    "    def RunModel(self):\n",
    "        np.random.shuffle(self.pool)\n",
    "        data = self.pool[:self.n], self.pool[self.n:]\n",
    "        return data"
   ]
  },
  {
   "cell_type": "code",
   "execution_count": 7,
   "id": "c7e1fa9d-7379-405d-972c-0f87dc25416f",
   "metadata": {},
   "outputs": [],
   "source": [
    "download(\"https://github.com/AllenDowney/ThinkStats2/raw/master/code/nsfg.py\")\n",
    "download(\"https://github.com/AllenDowney/ThinkStats2/raw/master/code/first.py\")\n",
    "download(\"https://github.com/AllenDowney/ThinkStats2/raw/master/code/2002FemPreg.dct\")\n",
    "download(\n",
    "    \"https://github.com/AllenDowney/ThinkStats2/raw/master/code/2002FemPreg.dat.gz\"\n",
    ")"
   ]
  },
  {
   "cell_type": "code",
   "execution_count": 8,
   "id": "dc7cbfd2-1b30-4536-991d-147eabc00c81",
   "metadata": {},
   "outputs": [],
   "source": [
    "import first\n",
    "\n",
    "live, firsts, others = first.MakeFrames()\n",
    "data = firsts.prglngth.values, others.prglngth.values"
   ]
  },
  {
   "cell_type": "code",
   "execution_count": 9,
   "id": "a312a99b-c6f2-4191-881c-707e1af18605",
   "metadata": {},
   "outputs": [
    {
     "data": {
      "text/plain": [
       "0.17"
      ]
     },
     "execution_count": 9,
     "metadata": {},
     "output_type": "execute_result"
    }
   ],
   "source": [
    "ht = DiffMeansPermute(data)\n",
    "pvalue = ht.PValue()\n",
    "pvalue"
   ]
  },
  {
   "cell_type": "code",
   "execution_count": 10,
   "id": "c4d77b0b-83be-448c-8d23-1f9735451b4d",
   "metadata": {},
   "outputs": [
    {
     "data": {
      "image/png": "[encoded data removed]",
      "text/plain": [
       "<Figure size 432x288 with 1 Axes>"
      ]
     },
     "metadata": {
      "needs_background": "light"
     },
     "output_type": "display_data"
    }
   ],
   "source": [
    "ht.PlotCdf()\n",
    "thinkplot.Config(xlabel='test statistic',\n",
    "                   ylabel='CDF')"
   ]
  },
  {
   "cell_type": "markdown",
   "id": "4117a506-c74e-49ac-b0ea-f5fe3653470d",
   "metadata": {},
   "source": [
    "Under the null hypothesis, we often see differences bigger than the observed difference (17% of the time)."
   ]
  },
  {
   "cell_type": "code",
   "execution_count": 11,
   "id": "0fbcd593-db4d-4dd0-b947-345fbac57ef8",
   "metadata": {},
   "outputs": [],
   "source": [
    "class DiffMeansOneSided(DiffMeansPermute):\n",
    "    \n",
    "    def TestStatistic(self, data):\n",
    "        group1, group2 = data\n",
    "        test_stat = group1.mean() - group2.mean()\n",
    "        return test_stat"
   ]
  },
  {
   "cell_type": "code",
   "execution_count": 12,
   "id": "d931ae43-9eee-4408-b6cb-83fe554d0289",
   "metadata": {},
   "outputs": [
    {
     "data": {
      "text/plain": [
       "0.091"
      ]
     },
     "execution_count": 12,
     "metadata": {},
     "output_type": "execute_result"
    }
   ],
   "source": [
    "ht = DiffMeansOneSided(data)\n",
    "pvalue = ht.PValue()\n",
    "pvalue"
   ]
  },
  {
   "cell_type": "code",
   "execution_count": 13,
   "id": "51893e99-c910-4427-84a4-3f112220f8ad",
   "metadata": {},
   "outputs": [],
   "source": [
    "class DiffStdPermute(DiffMeansPermute):\n",
    "\n",
    "    def TestStatistic(self, data):\n",
    "        group1, group2 = data\n",
    "        test_stat = group1.std() - group2.std()\n",
    "        return test_stat"
   ]
  },
  {
   "cell_type": "code",
   "execution_count": 14,
   "id": "444fbf55-5c82-4273-bc6d-b6d510b20bf4",
   "metadata": {},
   "outputs": [
    {
     "data": {
      "text/plain": [
       "0.084"
      ]
     },
     "execution_count": 14,
     "metadata": {},
     "output_type": "execute_result"
    }
   ],
   "source": [
    "ht = DiffStdPermute(data)\n",
    "pvalue = ht.PValue()\n",
    "pvalue"
   ]
  },
  {
   "cell_type": "markdown",
   "id": "be567fcf-47c2-43c5-96f1-6c2858c8b7da",
   "metadata": {},
   "source": [
    "Testing correlation:"
   ]
  },
  {
   "cell_type": "code",
   "execution_count": 17,
   "id": "47016f35-c5e9-4c88-a64e-ba51674fd4fa",
   "metadata": {},
   "outputs": [],
   "source": [
    "class CorrelationPermute(thinkstats2.HypothesisTest):\n",
    "    \n",
    "    def TestStatistic(self, data):\n",
    "        xs, ys = data\n",
    "        test_stat = abs(thinkstats2.Corr(xs, ys))\n",
    "        return test_stat\n",
    "    \n",
    "    def RunModel(self):\n",
    "        xs, ys = self.data\n",
    "        xs = np.random.permutation(xs)\n",
    "        return xs, ys"
   ]
  },
  {
   "cell_type": "code",
   "execution_count": 18,
   "id": "f57d2955-e776-40e3-b5f4-6dd2c8afae96",
   "metadata": {},
   "outputs": [
    {
     "data": {
      "text/plain": [
       "0.0"
      ]
     },
     "execution_count": 18,
     "metadata": {},
     "output_type": "execute_result"
    }
   ],
   "source": [
    "cleaned = live.dropna(subset=['agepreg', 'totalwgt_lb'])\n",
    "data = cleaned.agepreg.values, cleaned.totalwgt_lb.values\n",
    "ht = CorrelationPermute(data)\n",
    "pvalue = ht.PValue()\n",
    "pvalue"
   ]
  },
  {
   "cell_type": "code",
   "execution_count": 19,
   "id": "4a7209ce-499f-4e2a-a6fc-6eaa1e6ccc24",
   "metadata": {},
   "outputs": [
    {
     "data": {
      "text/plain": [
       "(0.06883397035410911, 0.0358931430660744)"
      ]
     },
     "execution_count": 19,
     "metadata": {},
     "output_type": "execute_result"
    }
   ],
   "source": [
    "ht.actual, ht.MaxTestStat()"
   ]
  },
  {
   "cell_type": "markdown",
   "id": "1b74d9d4-34f0-4d53-b695-7e20e000b213",
   "metadata": {},
   "source": [
    "Testing proportions:"
   ]
  },
  {
   "cell_type": "code",
   "execution_count": 20,
   "id": "7cd3a1a7-ba6d-49e7-9be3-070ba254ddc2",
   "metadata": {},
   "outputs": [],
   "source": [
    "class DiceTest(thinkstats2.HypothesisTest):\n",
    "    \n",
    "    def TestStatistic(self, data):\n",
    "        observed = data\n",
    "        n = sum(observed)\n",
    "        expected = np.ones(6) * n / 6\n",
    "        test_stat = sum(abs(observed - expected))\n",
    "        return test_stat\n",
    "    \n",
    "    def RunModel(self):\n",
    "        n = sum(self.data)\n",
    "        values = [1, 2, 3, 4, 5, 6]\n",
    "        rolls = np.random.choice(values, n, replace=True)\n",
    "        hist = thinkstats2.Hist(rolls)\n",
    "        freqs = hist.Freqs(values)\n",
    "        return freqs"
   ]
  },
  {
   "cell_type": "code",
   "execution_count": 21,
   "id": "4c026321-2f6d-4d11-9737-66625a82e761",
   "metadata": {},
   "outputs": [
    {
     "data": {
      "text/plain": [
       "0.1279"
      ]
     },
     "execution_count": 21,
     "metadata": {},
     "output_type": "execute_result"
    }
   ],
   "source": [
    "data = [8, 9, 19, 5, 8, 11]\n",
    "dt = DiceTest(data)\n",
    "pvalue = dt.PValue(iters=10000)\n",
    "pvalue"
   ]
  },
  {
   "cell_type": "code",
   "execution_count": 22,
   "id": "139ebaf6-e030-41b2-841d-b0a61a3ba0a4",
   "metadata": {},
   "outputs": [],
   "source": [
    "class DiceChiTest(DiceTest):\n",
    "\n",
    "    def TestStatistic(self, data):\n",
    "        observed = data\n",
    "        n = sum(observed)\n",
    "        expected = np.ones(6) * n / 6\n",
    "        test_stat = sum((observed - expected)**2 / expected)\n",
    "        return test_stat"
   ]
  },
  {
   "cell_type": "code",
   "execution_count": 23,
   "id": "9f943408-4fcb-43ab-a6f6-05b667753998",
   "metadata": {},
   "outputs": [
    {
     "data": {
      "text/plain": [
       "0.0436"
      ]
     },
     "execution_count": 23,
     "metadata": {},
     "output_type": "execute_result"
    }
   ],
   "source": [
    "dt = DiceChiTest(data)\n",
    "pvalue = dt.PValue(iters=10000)\n",
    "pvalue"
   ]
  },
  {
   "cell_type": "code",
   "execution_count": 29,
   "id": "328983f9-254f-4835-a5d0-aaf3dc1e113a",
   "metadata": {},
   "outputs": [],
   "source": [
    "class PregLengthTest(thinkstats2.HypothesisTest):\n",
    "\n",
    "    def MakeModel(self):\n",
    "        firsts, others = self.data\n",
    "        self.n = len(firsts)\n",
    "        self.pool = np.hstack((firsts, others))\n",
    "\n",
    "        pmf = thinkstats2.Pmf(self.pool)\n",
    "        self.values = range(35, 44)\n",
    "        self.expected_probs = np.array(pmf.Probs(self.values))\n",
    "\n",
    "    def RunModel(self):\n",
    "        np.random.shuffle(self.pool)\n",
    "        data = self.pool[:self.n], self.pool[self.n:]\n",
    "        return data\n",
    "    \n",
    "    def TestStatistic(self, data):\n",
    "        firsts, others = data\n",
    "        stat = self.ChiSquared(firsts) + self.ChiSquared(others)\n",
    "        return stat\n",
    "\n",
    "    def ChiSquared(self, lengths):\n",
    "        hist = thinkstats2.Hist(lengths)\n",
    "        observed = np.array(hist.Freqs(self.values))\n",
    "        expected = self.expected_probs * len(lengths)\n",
    "        stat = sum((observed - expected)**2 / expected)\n",
    "        return stat"
   ]
  },
  {
   "cell_type": "code",
   "execution_count": 30,
   "id": "f9b8186b-1666-4df5-8751-cec6fa6d2041",
   "metadata": {},
   "outputs": [
    {
     "name": "stdout",
     "output_type": "stream",
     "text": [
      "p-value = 0.0\n",
      "actual = 101.50141482893264\n",
      "ts max = 26.71394869241753\n"
     ]
    }
   ],
   "source": [
    "data = firsts.prglngth.values, others.prglngth.values\n",
    "ht = PregLengthTest(data)\n",
    "p_value = ht.PValue()\n",
    "print('p-value =', p_value)\n",
    "print('actual =', ht.actual)\n",
    "print('ts max =', ht.MaxTestStat())"
   ]
  },
  {
   "cell_type": "markdown",
   "id": "609af323-cb10-4b16-bcac-f1e8f5fcbb62",
   "metadata": {},
   "source": [
    "Power:"
   ]
  },
  {
   "cell_type": "code",
   "execution_count": 32,
   "id": "dddbe8aa-8576-48b8-adad-847a1351b614",
   "metadata": {},
   "outputs": [],
   "source": [
    "def FalseNegRate(data, num_runs=1000):\n",
    "    \"\"\"\n",
    "    Computes the chance of a false negative based on resampling.\n",
    "    `data`: pair of sequences\n",
    "    `num_runs`: number of experiments to simulate\n",
    "    \n",
    "    returns: float false negative rate\n",
    "    \"\"\"\n",
    "    \n",
    "    group1, group2 = data\n",
    "    count = 0\n",
    "    \n",
    "    for _ in range(num_runs):\n",
    "        sample1 = thinkstats2.Resample(group1)\n",
    "        sample2 = thinkstats2.Resample(group2)\n",
    "        ht = DiffMeansPermute((sample1, sample2))\n",
    "        p_value = ht.PValue(iters=101)\n",
    "        if p_value > 0.05:\n",
    "            count += 1\n",
    "            \n",
    "    return count / num_runs"
   ]
  },
  {
   "cell_type": "code",
   "execution_count": 33,
   "id": "9fc72696-f0a6-4787-98ab-0a44d7b33a0c",
   "metadata": {},
   "outputs": [
    {
     "data": {
      "text/plain": [
       "0.703"
      ]
     },
     "execution_count": 33,
     "metadata": {},
     "output_type": "execute_result"
    }
   ],
   "source": [
    "neg_rate = FalseNegRate(data)\n",
    "neg_rate"
   ]
  },
  {
   "cell_type": "markdown",
   "id": "87b4abba-eace-496c-a93f-1a85aa6e9122",
   "metadata": {},
   "source": [
    "# Exercises"
   ]
  },
  {
   "cell_type": "markdown",
   "id": "55836bd6-163a-4326-845c-2543625a54ff",
   "metadata": {},
   "source": [
    "**Exercise:** As sample size increases, the power of a hypothesis test increases, which means it is more likely to be positive if the effect is real. Conversely, as sample size decreases, the test is less likely to be positive even if the effect is real.\n",
    "\n",
    "To investigate this behavior, run the tests in this chapter with different subsets of the NSFG data. You can use `thinkstats2.SampleRows` to select a random subset of the rows in a DataFrame.\n",
    "\n",
    "What happens to the p-values of these tests as sample size decreases? What is the smallest sample size that yields a positive test?"
   ]
  },
  {
   "cell_type": "code",
   "execution_count": 46,
   "id": "cef79341-ede1-47a7-8ffc-1a245d828db8",
   "metadata": {},
   "outputs": [
    {
     "name": "stdout",
     "output_type": "stream",
     "text": [
      "p-value = 0.0\n",
      "actual = 101.50141482893264\n",
      "ts max = 23.63749505974132\n"
     ]
    }
   ],
   "source": [
    "data = firsts.prglngth.values, others.prglngth.values\n",
    "ht = PregLengthTest(data)\n",
    "p_value = ht.PValue()\n",
    "print('p-value =', p_value)\n",
    "print('actual =', ht.actual)\n",
    "print('ts max =', ht.MaxTestStat())"
   ]
  },
  {
   "cell_type": "code",
   "execution_count": 54,
   "id": "52ac7c37-abae-4295-98da-df42ccb3111a",
   "metadata": {},
   "outputs": [
    {
     "data": {
      "text/plain": [
       "9148"
      ]
     },
     "execution_count": 54,
     "metadata": {},
     "output_type": "execute_result"
    }
   ],
   "source": [
    "len(live)"
   ]
  },
  {
   "cell_type": "code",
   "execution_count": 57,
   "id": "d849e955-70b0-4aa2-8980-4d106cadef07",
   "metadata": {},
   "outputs": [],
   "source": [
    "def run_tests(df):\n",
    "    \"\"\"\n",
    "    Run tests on live birth data contained in `df`.\n",
    "    Returns p-values.\n",
    "    \"\"\"\n",
    "    \n",
    "    pvalues = {}\n",
    "    \n",
    "    # Separate first birth data from tohers\n",
    "    firsts = df.loc[df['birthord'] == 1]\n",
    "    others = df.loc[df['birthord'] != 1]\n",
    "\n",
    "    # Difference in means for pregnancy length\n",
    "    data = firsts.prglngth.values, others.prglngth.values\n",
    "    ht = DiffMeansPermute(data)\n",
    "    pvalue = ht.PValue()\n",
    "    pvalues['diff means pregnancy length'] = pvalue\n",
    "    \n",
    "    # One-sided difference in means for pregnancy length\n",
    "    ht = DiffMeansOneSided(data)\n",
    "    pvalue = ht.PValue()\n",
    "    pvalues['diff means one-sided pregnancy length'] = pvalue\n",
    "    \n",
    "    # Chi-square tes for pregnancy length\n",
    "    ht = PregLengthTest(data)\n",
    "    pvalue = ht.PValue()\n",
    "    pvalues['chi-square pregnancy length'] = pvalue\n",
    "    \n",
    "    # Difference in std dev for pregnancy length\n",
    "    ht = DiffStdPermute(data)\n",
    "    pvalue = ht.PValue()\n",
    "    pvalues['diff stdev pregnancy length'] = pvalue\n",
    "    \n",
    "    # Correlation between birthweight and mother's age\n",
    "    cleaned = df.dropna(subset=['agepreg', 'totalwgt_lb'])\n",
    "    data = cleaned.agepreg.values, cleaned.totalwgt_lb.values\n",
    "    ht = CorrelationPermute(data)\n",
    "    pvalue = ht.PValue()\n",
    "    pvalues['corr birthweight and mother age'] = ht.PValue()\n",
    "    \n",
    "    return pvalues"
   ]
  },
  {
   "cell_type": "code",
   "execution_count": 62,
   "id": "6e1a1e69-5c94-4796-813a-91c6d829da97",
   "metadata": {},
   "outputs": [
    {
     "name": "stderr",
     "output_type": "stream",
     "text": [
      "/var/folders/pv/jsnn4l_x60x5zx013kbk8l280000gn/T/ipykernel_53248/2705733632.py:26: RuntimeWarning: invalid value encountered in true_divide\n",
      "  stat = sum((observed - expected)**2 / expected)\n",
      "/var/folders/pv/jsnn4l_x60x5zx013kbk8l280000gn/T/ipykernel_53248/2705733632.py:26: RuntimeWarning: invalid value encountered in true_divide\n",
      "  stat = sum((observed - expected)**2 / expected)\n",
      "/var/folders/pv/jsnn4l_x60x5zx013kbk8l280000gn/T/ipykernel_53248/2705733632.py:26: RuntimeWarning: invalid value encountered in true_divide\n",
      "  stat = sum((observed - expected)**2 / expected)\n",
      "/var/folders/pv/jsnn4l_x60x5zx013kbk8l280000gn/T/ipykernel_53248/2705733632.py:26: RuntimeWarning: invalid value encountered in true_divide\n",
      "  stat = sum((observed - expected)**2 / expected)\n"
     ]
    }
   ],
   "source": [
    "ns = [5, 10, 50, 100, 500, 1000, 5000, len(live)]\n",
    "p_values_subsets = {}\n",
    "for n in ns[::-1]:\n",
    "    df = thinkstats2.SampleRows(live, n)\n",
    "    p_values_subsets[n] = run_tests(df)"
   ]
  },
  {
   "cell_type": "code",
   "execution_count": 63,
   "id": "c1c06006-1759-4438-8d78-8684615a097e",
   "metadata": {},
   "outputs": [
    {
     "data": {
      "text/plain": [
       "{9148: {'diff means pregnancy length': 0.149,\n",
       "  'diff means one-sided pregnancy length': 0.083,\n",
       "  'chi-square pregnancy length': 0.0,\n",
       "  'diff stdev pregnancy length': 0.094,\n",
       "  'corr birthweight and mother age': 0.0},\n",
       " 5000: {'diff means pregnancy length': 0.065,\n",
       "  'diff means one-sided pregnancy length': 0.037,\n",
       "  'chi-square pregnancy length': 0.0,\n",
       "  'diff stdev pregnancy length': 0.262,\n",
       "  'corr birthweight and mother age': 0.0},\n",
       " 1000: {'diff means pregnancy length': 0.957,\n",
       "  'diff means one-sided pregnancy length': 0.482,\n",
       "  'chi-square pregnancy length': 0.009,\n",
       "  'diff stdev pregnancy length': 0.378,\n",
       "  'corr birthweight and mother age': 0.354},\n",
       " 500: {'diff means pregnancy length': 0.523,\n",
       "  'diff means one-sided pregnancy length': 0.258,\n",
       "  'chi-square pregnancy length': 0.482,\n",
       "  'diff stdev pregnancy length': 0.192,\n",
       "  'corr birthweight and mother age': 0.029},\n",
       " 100: {'diff means pregnancy length': 0.529,\n",
       "  'diff means one-sided pregnancy length': 0.753,\n",
       "  'chi-square pregnancy length': 0.0,\n",
       "  'diff stdev pregnancy length': 0.474,\n",
       "  'corr birthweight and mother age': 0.406},\n",
       " 50: {'diff means pregnancy length': 0.16,\n",
       "  'diff means one-sided pregnancy length': 0.075,\n",
       "  'chi-square pregnancy length': 0.0,\n",
       "  'diff stdev pregnancy length': 0.885,\n",
       "  'corr birthweight and mother age': 0.658},\n",
       " 10: {'diff means pregnancy length': 0.156,\n",
       "  'diff means one-sided pregnancy length': 0.078,\n",
       "  'chi-square pregnancy length': 0.0,\n",
       "  'diff stdev pregnancy length': 0.434,\n",
       "  'corr birthweight and mother age': 0.141},\n",
       " 5: {'diff means pregnancy length': 1.0,\n",
       "  'diff means one-sided pregnancy length': 0.908,\n",
       "  'chi-square pregnancy length': 0.0,\n",
       "  'diff stdev pregnancy length': 1.0,\n",
       "  'corr birthweight and mother age': 0.822}}"
      ]
     },
     "execution_count": 63,
     "metadata": {},
     "output_type": "execute_result"
    }
   ],
   "source": [
    "p_values_subsets"
   ]
  },
  {
   "cell_type": "markdown",
   "id": "e4688b79-15b4-4757-8133-ebef54988da4",
   "metadata": {},
   "source": [
    "**Exercise:** In Section 9.3, we simulated the null hypothesis by permutation; that is, we treated the observed values as if they represented the entire population, and randomly assigned the members of the population to the two groups.\n",
    "\n",
    "An alternative is to use the sample to estimate the distribution for the population, then draw a random sample from that distribution. This process is called resampling. There are several ways to implement resampling, but one of the simplest is to draw a sample with replacement from the observed values, as in Section 9.10.\n",
    "\n",
    "Write a class named `DiffMeansResample` that inherits from `DiffMeansPermute` and overrides `RunModel` to implement resampling, rather than permutation.\n",
    "\n",
    "Use this model to test the differences in pregnancy length and birth weight. How much does the model affect the results?"
   ]
  },
  {
   "cell_type": "code",
   "execution_count": 69,
   "id": "8a6c45d4-9d32-4729-ac65-ff68724b84f8",
   "metadata": {},
   "outputs": [],
   "source": [
    "class DiffMeansResample(DiffMeansPermute):\n",
    "    \n",
    "    def RunModel(self):\n",
    "        pool = np.random.choice(self.pool, len(self.pool), replace=True)\n",
    "        data = self.pool[:self.n], self.pool[self.n:]\n",
    "        return data"
   ]
  },
  {
   "cell_type": "code",
   "execution_count": 72,
   "id": "458f5c1c-3646-4bb3-9a36-c4962743d986",
   "metadata": {},
   "outputs": [],
   "source": [
    "class DiffMeansResample(DiffMeansPermute):\n",
    "    \n",
    "    def RunModel(self):\n",
    "        group1 = np.random.choice(self.pool, self.n, replace=True)\n",
    "        group2 = np.random.choice(self.pool, self.m, replace=True)\n",
    "        return group1, group2"
   ]
  },
  {
   "cell_type": "code",
   "execution_count": 73,
   "id": "c694b10b-944e-48aa-b151-9a5f217ff9ef",
   "metadata": {},
   "outputs": [
    {
     "data": {
      "text/plain": [
       "(0.168, 0.156)"
      ]
     },
     "execution_count": 73,
     "metadata": {},
     "output_type": "execute_result"
    }
   ],
   "source": [
    "live, firsts, others = first.MakeFrames()\n",
    "\n",
    "data = firsts.prglngth.values, others.prglngth.values\n",
    "\n",
    "ht1 = DiffMeansResample(data)\n",
    "pvalue1 = ht1.PValue()\n",
    "\n",
    "ht2 = DiffMeansPermute(data)\n",
    "pvalue2 = ht2.PValue()\n",
    "\n",
    "pvalue1, pvalue2"
   ]
  },
  {
   "cell_type": "code",
   "execution_count": 74,
   "id": "a45165ed-caf5-42db-a97b-19b841992a07",
   "metadata": {},
   "outputs": [
    {
     "data": {
      "text/plain": [
       "(0.0, 0.0)"
      ]
     },
     "execution_count": 74,
     "metadata": {},
     "output_type": "execute_result"
    }
   ],
   "source": [
    "data = firsts.totalwgt_lb.values, others.totalwgt_lb.values\n",
    "\n",
    "ht1 = DiffMeansResample(data)\n",
    "pvalue1 = ht1.PValue()\n",
    "\n",
    "ht2 = DiffMeansPermute(data)\n",
    "pvalue2 = ht2.PValue()\n",
    "\n",
    "pvalue1, pvalue2"
   ]
  },
  {
   "cell_type": "code",
   "execution_count": null,
   "id": "bdc1030c-50c3-4438-ab7a-5d5e3df03e6d",
   "metadata": {},
   "outputs": [],
   "source": []
  }
 ],
 "metadata": {
  "kernelspec": {
   "display_name": "Python 3 (ipykernel)",
   "language": "python",
   "name": "python3"
  },
  "language_info": {
   "codemirror_mode": {
    "name": "ipython",
    "version": 3
   },
   "file_extension": ".py",
   "mimetype": "text/x-python",
   "name": "python",
   "nbconvert_exporter": "python",
   "pygments_lexer": "ipython3",
   "version": "3.9.7"
  }
 },
 "nbformat": 4,
 "nbformat_minor": 5
}
