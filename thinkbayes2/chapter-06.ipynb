{
 "cells": [
  {
   "cell_type": "markdown",
   "id": "bdabb12f-bdf9-43df-93ab-bfe3c171c4a5",
   "metadata": {},
   "source": [
    "# Chapter 6 - Odds and Addends\n",
    "http://allendowney.github.io/ThinkBayes2/chap06.html"
   ]
  },
  {
   "cell_type": "markdown",
   "id": "c6270006-5f9a-49cc-a546-58ce8c1eecfc",
   "metadata": {},
   "source": [
    "## Reading"
   ]
  },
  {
   "cell_type": "code",
   "execution_count": 4,
   "id": "fda1d200-89e0-4660-bcc2-97016103c6e6",
   "metadata": {},
   "outputs": [],
   "source": [
    "from utils import set_pyplot_params\n",
    "set_pyplot_params()"
   ]
  },
  {
   "cell_type": "markdown",
   "id": "7e19633a-74cc-44ac-957c-c018fcfb6f36",
   "metadata": {},
   "source": [
    "### Odds"
   ]
  },
  {
   "cell_type": "code",
   "execution_count": 1,
   "id": "a657445c-5d75-49dd-92b9-105192c10ce0",
   "metadata": {},
   "outputs": [],
   "source": [
    "def odds(p):\n",
    "    return p / (1 - p)"
   ]
  },
  {
   "cell_type": "code",
   "execution_count": 2,
   "id": "4ccb4cdf-b2ab-4d8f-9c1b-794ad02f943b",
   "metadata": {},
   "outputs": [],
   "source": [
    "def prob(o):\n",
    "    return o / (o + 1)"
   ]
  },
  {
   "cell_type": "code",
   "execution_count": 3,
   "id": "bfea04e6-1505-4f2c-ac2e-300f95e87653",
   "metadata": {},
   "outputs": [],
   "source": [
    "def prob2(yes, no):\n",
    "    return yes / (yes + no)"
   ]
  },
  {
   "cell_type": "markdown",
   "id": "ab948112-b748-488a-a99c-098827df5590",
   "metadata": {},
   "source": [
    "### Bayes's Rule"
   ]
  },
  {
   "cell_type": "markdown",
   "id": "0d5f8bf1-1083-4dac-b781-c7911809b088",
   "metadata": {},
   "source": [
    "$$\\mathrm{odds}(A|D) = \\mathrm{odds}(A)~\\frac{P(D|A)}{P(D|B)}$$\n",
    "\n",
    "This is Bayes's Rule, which says that the posterior odds are the prior odds times the likelihood ratio.\n",
    "Bayes's Rule is convenient for computing a Bayesian update on paper or in your head."
   ]
  },
  {
   "cell_type": "markdown",
   "id": "b05c951d-4cce-4589-b2fd-7329989229cd",
   "metadata": {
    "tags": []
   },
   "source": [
    "#### Oliver's blood\n",
    "\n",
    "> Two people have left traces of their own blood at the scene of a crime. A suspect, Oliver, is tested and found to have type ‘O’ blood. The blood groups of the two traces are found to be of type ‘O’ (a common type in the local population, having frequency 60%) and of type ‘AB’ (a rare type, with frequency 1%). Do these data \\[the traces found at the scene\\] give evidence in favor of the proposition that Oliver was one of the people \\[who left blood at the scene\\]?"
   ]
  },
  {
   "cell_type": "markdown",
   "id": "fc3af192-51e1-4afd-8ec6-31357b0d9f27",
   "metadata": {},
   "source": [
    "If Oliver left blood at the scene of the crime, the probability of the data is the probability that the other person, a member of the local population, has type 'AB' blood.\n",
    "\n",
    "If Oliver did not leave blood at the scene of the crime, the probability of the data is the probability that when choosing any two members of the local population, one has 'AB' blood and the other has 'O' blood."
   ]
  },
  {
   "cell_type": "code",
   "execution_count": 5,
   "id": "8dc4f122-9919-4035-be66-009485820586",
   "metadata": {},
   "outputs": [
    {
     "data": {
      "text/plain": [
       "0.8333333333333334"
      ]
     },
     "execution_count": 5,
     "metadata": {},
     "output_type": "execute_result"
    }
   ],
   "source": [
    "like1 = 0.01\n",
    "like2 = 2 * 0.6 * 0.01\n",
    "\n",
    "likelihood_ratio = like1 / like2\n",
    "likelihood_ratio"
   ]
  },
  {
   "cell_type": "code",
   "execution_count": 6,
   "id": "fd9a992d-0d19-4d22-8a4d-f185d2e74f31",
   "metadata": {},
   "outputs": [
    {
     "data": {
      "text/plain": [
       "0.45454545454545453"
      ]
     },
     "execution_count": 6,
     "metadata": {},
     "output_type": "execute_result"
    }
   ],
   "source": [
    "post_odds = 1 * like1 / like2\n",
    "prob(post_odds)"
   ]
  },
  {
   "cell_type": "markdown",
   "id": "22c6464d-2591-414c-a94f-e8c9f289a91e",
   "metadata": {},
   "source": [
    "**Exercise:** Suppose that based on other evidence, you prior belief in Oliver's guilt is 90%.  How much would the blood evidence in this section change your beliefs?  What if you initially thought there was only a 10% chance of his guilt?"
   ]
  },
  {
   "cell_type": "code",
   "execution_count": 7,
   "id": "f53706f8-62d3-4127-928f-42e0538947d7",
   "metadata": {},
   "outputs": [
    {
     "data": {
      "text/plain": [
       "0.8823529411764706"
      ]
     },
     "execution_count": 7,
     "metadata": {},
     "output_type": "execute_result"
    }
   ],
   "source": [
    "# Prior belief is 90% chance of guilt\n",
    "post_odds = odds(0.9) * like1 / like2\n",
    "prob(post_odds)"
   ]
  },
  {
   "cell_type": "code",
   "execution_count": 8,
   "id": "6a5313ce-af7a-4221-a561-ab8ed3f77560",
   "metadata": {},
   "outputs": [
    {
     "data": {
      "text/plain": [
       "0.0847457627118644"
      ]
     },
     "execution_count": 8,
     "metadata": {},
     "output_type": "execute_result"
    }
   ],
   "source": [
    "# Prior belief is 10% chance of guilt\n",
    "post_odds = odds(0.1) * like1 / like2\n",
    "prob(post_odds)"
   ]
  },
  {
   "cell_type": "markdown",
   "id": "a4979da7-465b-428a-8104-a3d4d64e200a",
   "metadata": {},
   "source": [
    "### Addends"
   ]
  },
  {
   "cell_type": "code",
   "execution_count": 9,
   "id": "5dc57e95-5e43-4997-ba01-d11f44a511ad",
   "metadata": {},
   "outputs": [],
   "source": [
    "import numpy as np\n",
    "from empiricaldist import Pmf\n",
    "\n",
    "def make_die(sides):\n",
    "    outcomes = np.arange(1, sides+1)\n",
    "    die = Pmf(1/sides, outcomes)\n",
    "    return die"
   ]
  },
  {
   "cell_type": "code",
   "execution_count": 10,
   "id": "c803a277-f7a6-4720-846a-1df108c1b111",
   "metadata": {},
   "outputs": [],
   "source": [
    "die = make_die(6)"
   ]
  },
  {
   "cell_type": "code",
   "execution_count": 11,
   "id": "5ebbb5c6-0dcc-4481-9f84-982605f32ac7",
   "metadata": {},
   "outputs": [
    {
     "data": {
      "image/png": "[encoded data removed]",
      "text/plain": [
       "<Figure size 432x288 with 1 Axes>"
      ]
     },
     "metadata": {
      "needs_background": "light"
     },
     "output_type": "display_data"
    }
   ],
   "source": [
    "from utils import decorate\n",
    "\n",
    "die.bar(alpha=0.4)\n",
    "decorate(xlabel='Outcome',\n",
    "         ylabel='PMF')"
   ]
  },
  {
   "cell_type": "code",
   "execution_count": 12,
   "id": "66d0ff0b-5957-40b3-b39c-b488433581e4",
   "metadata": {},
   "outputs": [],
   "source": [
    "def add_dist(pmf1, pmf2):\n",
    "    \"\"\"Compute the distribution of a sum.\"\"\"\n",
    "    res = Pmf()\n",
    "    for q1, p1 in pmf1.items():\n",
    "        for q2, p2 in pmf2.items():\n",
    "            q = q1 + q2\n",
    "            p = p1 * p2\n",
    "            res[q] = res(q) + p\n",
    "    return res"
   ]
  },
  {
   "cell_type": "code",
   "execution_count": 13,
   "id": "3206751c-1fd8-4a0f-9d39-7e6a8e88a7db",
   "metadata": {},
   "outputs": [],
   "source": [
    "twice = die.add_dist(die)"
   ]
  },
  {
   "cell_type": "code",
   "execution_count": 14,
   "id": "acf6f721-9501-473b-9639-34679022722f",
   "metadata": {},
   "outputs": [],
   "source": [
    "from utils import decorate\n",
    "\n",
    "def decorate_dice(title=''):\n",
    "    decorate(xlabel='Outcome',\n",
    "             ylabel='PMF',\n",
    "             title=title)"
   ]
  },
  {
   "cell_type": "code",
   "execution_count": 15,
   "id": "577550d5-1824-489d-9881-622e73c6ef92",
   "metadata": {},
   "outputs": [
    {
     "data": {
      "image/png": "[encoded data removed]",
      "text/plain": [
       "<Figure size 432x288 with 1 Axes>"
      ]
     },
     "metadata": {
      "needs_background": "light"
     },
     "output_type": "display_data"
    }
   ],
   "source": [
    "twice = add_dist(die, die)\n",
    "twice.bar(color='C1', alpha=0.5)\n",
    "decorate_dice()"
   ]
  },
  {
   "cell_type": "code",
   "execution_count": 16,
   "id": "74af7494-e131-430b-b049-d56f84c920b9",
   "metadata": {},
   "outputs": [],
   "source": [
    "def add_dist_seq(seq):\n",
    "    \"\"\"Compute Pmf of the sum of values from seq.\"\"\"\n",
    "    total = seq[0]\n",
    "    for other in seq[1:]:\n",
    "        total = total.add_dist(other)\n",
    "    return total"
   ]
  },
  {
   "cell_type": "code",
   "execution_count": 17,
   "id": "d2ec8ec1-2c70-413a-b31c-a96f25457dff",
   "metadata": {},
   "outputs": [],
   "source": [
    "dice = [die] * 3"
   ]
  },
  {
   "cell_type": "code",
   "execution_count": 18,
   "id": "68aae793-8f04-4845-9e85-70e949c4fd46",
   "metadata": {},
   "outputs": [],
   "source": [
    "thrice = add_dist_seq(dice)"
   ]
  },
  {
   "cell_type": "code",
   "execution_count": 19,
   "id": "310c06bc-53bf-48b8-9e7d-c982782bf168",
   "metadata": {},
   "outputs": [
    {
     "data": {
      "image/png": "[encoded data removed]",
      "text/plain": [
       "<Figure size 432x288 with 1 Axes>"
      ]
     },
     "metadata": {
      "needs_background": "light"
     },
     "output_type": "display_data"
    }
   ],
   "source": [
    "import matplotlib.pyplot as plt\n",
    "\n",
    "die.plot(label='once')\n",
    "twice.plot(label='twice', style='--')\n",
    "thrice.plot(label='thrice', style=':')\n",
    "\n",
    "plt.xticks([0,3,6,9,12,15,18])\n",
    "decorate_dice(title='Distributions of sums')"
   ]
  },
  {
   "cell_type": "markdown",
   "id": "b864e318-f2f9-47be-84bf-61f2b459b543",
   "metadata": {},
   "source": [
    "### Gluten sensitivity"
   ]
  },
  {
   "cell_type": "markdown",
   "id": "141900a7-99c8-4f58-a2fb-c9b397cd6b77",
   "metadata": {},
   "source": [
    "Modeling decisions:\n",
    "Assume people who are sensitive to gluten have a 95% chance of correctly identifying gluten flour. Assume people who are not sensitive have a 40% chance of identifying the gluten flour by chance."
   ]
  },
  {
   "cell_type": "markdown",
   "id": "0420a5cb-e90a-4667-baf2-71b8e63fcdc2",
   "metadata": {},
   "source": [
    "#### Forward problem\n",
    "Given the number of sensitive subjects, we can compute the distribution of the data."
   ]
  },
  {
   "cell_type": "markdown",
   "id": "effb2ab7-4235-4ba5-98ae-4050e7007d97",
   "metadata": {},
   "source": [
    "Suppose we know that 10 of the 35 subjects are sensitive to gluten."
   ]
  },
  {
   "cell_type": "code",
   "execution_count": 20,
   "id": "ffb96766-02de-4fac-ba42-739c4914bb75",
   "metadata": {},
   "outputs": [],
   "source": [
    "n = 35\n",
    "num_sensitive = 10\n",
    "num_insensitive = n - num_sensitive"
   ]
  },
  {
   "cell_type": "code",
   "execution_count": 21,
   "id": "4381821a-d895-42b7-abb9-53f71ccbdc2f",
   "metadata": {},
   "outputs": [],
   "source": [
    "from utils import make_binomial\n",
    "\n",
    "dist_sensitive = make_binomial(num_sensitive, 0.95)\n",
    "dist_insensitive = make_binomial(num_insensitive, 0.40)\n",
    "\n",
    "dist_total = Pmf.add_dist(dist_sensitive, dist_insensitive)"
   ]
  },
  {
   "cell_type": "code",
   "execution_count": 22,
   "id": "9d43daca-ea2c-410a-9a59-f5cff2fe546b",
   "metadata": {},
   "outputs": [
    {
     "data": {
      "image/png": "[encoded data removed]",
      "text/plain": [
       "<Figure size 432x288 with 1 Axes>"
      ]
     },
     "metadata": {
      "needs_background": "light"
     },
     "output_type": "display_data"
    }
   ],
   "source": [
    "dist_sensitive.plot(label='sensitive', style=':')\n",
    "dist_insensitive.plot(label='insensitive', style='--')\n",
    "dist_total.plot(label='total')\n",
    "\n",
    "decorate(xlabel='Number of correct identifications',\n",
    "         ylabel='PMF',\n",
    "         title='Gluten sensitivity')"
   ]
  },
  {
   "cell_type": "markdown",
   "id": "ce651c8b-2d8a-4238-b348-f0603773a4f1",
   "metadata": {},
   "source": [
    "#### Inverse problem\n",
    "Given the data, we'll compute the posterior distribution of the number of sensitive subjects."
   ]
  },
  {
   "cell_type": "code",
   "execution_count": 23,
   "id": "08498508-091a-4061-a4cf-6e8cba700907",
   "metadata": {},
   "outputs": [],
   "source": [
    "import pandas as pd\n",
    "\n",
    "table = pd.DataFrame()\n",
    "for num_sensitive in range(n+1):\n",
    "    num_insensitive = n - num_sensitive\n",
    "    dist_sensitive = make_binomial(num_sensitive, 0.95)\n",
    "    dist_insensitive = make_binomial(num_insensitive, 0.4)\n",
    "    dist_total = Pmf.add_dist(dist_sensitive, dist_insensitive)\n",
    "    table[num_sensitive] = dist_total"
   ]
  },
  {
   "cell_type": "code",
   "execution_count": 24,
   "id": "c85f6a0d-0fbc-4fe9-bf47-82b882f1c5b0",
   "metadata": {},
   "outputs": [
    {
     "data": {
      "text/html": [
       "<div>\n",
       "<style scoped>\n",
       "    .dataframe tbody tr th:only-of-type {\n",
       "        vertical-align: middle;\n",
       "    }\n",
       "\n",
       "    .dataframe tbody tr th {\n",
       "        vertical-align: top;\n",
       "    }\n",
       "\n",
       "    .dataframe thead th {\n",
       "        text-align: right;\n",
       "    }\n",
       "</style>\n",
       "<table border=\"1\" class=\"dataframe\">\n",
       "  <thead>\n",
       "    <tr style=\"text-align: right;\">\n",
       "      <th></th>\n",
       "      <th>0</th>\n",
       "      <th>1</th>\n",
       "      <th>2</th>\n",
       "      <th>3</th>\n",
       "      <th>4</th>\n",
       "      <th>5</th>\n",
       "      <th>6</th>\n",
       "      <th>7</th>\n",
       "      <th>8</th>\n",
       "      <th>9</th>\n",
       "      <th>...</th>\n",
       "      <th>26</th>\n",
       "      <th>27</th>\n",
       "      <th>28</th>\n",
       "      <th>29</th>\n",
       "      <th>30</th>\n",
       "      <th>31</th>\n",
       "      <th>32</th>\n",
       "      <th>33</th>\n",
       "      <th>34</th>\n",
       "      <th>35</th>\n",
       "    </tr>\n",
       "  </thead>\n",
       "  <tbody>\n",
       "    <tr>\n",
       "      <th>0</th>\n",
       "      <td>1.719071e-08</td>\n",
       "      <td>1.432559e-09</td>\n",
       "      <td>1.193799e-10</td>\n",
       "      <td>9.948326e-12</td>\n",
       "      <td>8.290272e-13</td>\n",
       "      <td>6.908560e-14</td>\n",
       "      <td>5.757133e-15</td>\n",
       "      <td>4.797611e-16</td>\n",
       "      <td>3.998009e-17</td>\n",
       "      <td>3.331674e-18</td>\n",
       "      <td>...</td>\n",
       "      <td>1.501694e-36</td>\n",
       "      <td>1.251411e-37</td>\n",
       "      <td>1.042843e-38</td>\n",
       "      <td>8.690357e-40</td>\n",
       "      <td>7.241964e-41</td>\n",
       "      <td>6.034970e-42</td>\n",
       "      <td>5.029142e-43</td>\n",
       "      <td>4.190952e-44</td>\n",
       "      <td>3.492460e-45</td>\n",
       "      <td>2.910383e-46</td>\n",
       "    </tr>\n",
       "    <tr>\n",
       "      <th>1</th>\n",
       "      <td>4.011165e-07</td>\n",
       "      <td>5.968996e-08</td>\n",
       "      <td>7.162795e-09</td>\n",
       "      <td>7.792856e-10</td>\n",
       "      <td>8.013930e-11</td>\n",
       "      <td>7.944844e-12</td>\n",
       "      <td>7.676178e-13</td>\n",
       "      <td>7.276377e-14</td>\n",
       "      <td>6.796616e-15</td>\n",
       "      <td>6.274653e-16</td>\n",
       "      <td>...</td>\n",
       "      <td>7.508469e-34</td>\n",
       "      <td>6.486483e-35</td>\n",
       "      <td>5.596590e-36</td>\n",
       "      <td>4.823148e-37</td>\n",
       "      <td>4.152060e-38</td>\n",
       "      <td>3.570691e-39</td>\n",
       "      <td>3.067777e-40</td>\n",
       "      <td>2.633315e-41</td>\n",
       "      <td>2.258457e-42</td>\n",
       "      <td>1.935405e-43</td>\n",
       "    </tr>\n",
       "    <tr>\n",
       "      <th>2</th>\n",
       "      <td>4.545987e-06</td>\n",
       "      <td>9.741401e-07</td>\n",
       "      <td>1.709122e-07</td>\n",
       "      <td>2.506426e-08</td>\n",
       "      <td>3.269131e-09</td>\n",
       "      <td>3.940182e-10</td>\n",
       "      <td>4.490244e-11</td>\n",
       "      <td>4.908756e-12</td>\n",
       "      <td>5.197412e-13</td>\n",
       "      <td>5.365476e-14</td>\n",
       "      <td>...</td>\n",
       "      <td>1.806613e-31</td>\n",
       "      <td>1.620070e-32</td>\n",
       "      <td>1.449030e-33</td>\n",
       "      <td>1.292922e-34</td>\n",
       "      <td>1.151034e-35</td>\n",
       "      <td>1.022555e-36</td>\n",
       "      <td>9.066202e-38</td>\n",
       "      <td>8.023344e-39</td>\n",
       "      <td>7.088005e-40</td>\n",
       "      <td>6.251357e-41</td>\n",
       "    </tr>\n",
       "  </tbody>\n",
       "</table>\n",
       "<p>3 rows × 36 columns</p>\n",
       "</div>"
      ],
      "text/plain": [
       "             0             1             2             3             4   \\\n",
       "0  1.719071e-08  1.432559e-09  1.193799e-10  9.948326e-12  8.290272e-13   \n",
       "1  4.011165e-07  5.968996e-08  7.162795e-09  7.792856e-10  8.013930e-11   \n",
       "2  4.545987e-06  9.741401e-07  1.709122e-07  2.506426e-08  3.269131e-09   \n",
       "\n",
       "             5             6             7             8             9   ...  \\\n",
       "0  6.908560e-14  5.757133e-15  4.797611e-16  3.998009e-17  3.331674e-18  ...   \n",
       "1  7.944844e-12  7.676178e-13  7.276377e-14  6.796616e-15  6.274653e-16  ...   \n",
       "2  3.940182e-10  4.490244e-11  4.908756e-12  5.197412e-13  5.365476e-14  ...   \n",
       "\n",
       "             26            27            28            29            30  \\\n",
       "0  1.501694e-36  1.251411e-37  1.042843e-38  8.690357e-40  7.241964e-41   \n",
       "1  7.508469e-34  6.486483e-35  5.596590e-36  4.823148e-37  4.152060e-38   \n",
       "2  1.806613e-31  1.620070e-32  1.449030e-33  1.292922e-34  1.151034e-35   \n",
       "\n",
       "             31            32            33            34            35  \n",
       "0  6.034970e-42  5.029142e-43  4.190952e-44  3.492460e-45  2.910383e-46  \n",
       "1  3.570691e-39  3.067777e-40  2.633315e-41  2.258457e-42  1.935405e-43  \n",
       "2  1.022555e-36  9.066202e-38  8.023344e-39  7.088005e-40  6.251357e-41  \n",
       "\n",
       "[3 rows x 36 columns]"
      ]
     },
     "execution_count": 24,
     "metadata": {},
     "output_type": "execute_result"
    }
   ],
   "source": [
    "table.head(3)"
   ]
  },
  {
   "cell_type": "code",
   "execution_count": 25,
   "id": "d467ba95-b56c-4c68-b499-57d3a2cdd512",
   "metadata": {},
   "outputs": [
    {
     "data": {
      "image/png": "[encoded data removed]",
      "text/plain": [
       "<Figure size 432x288 with 1 Axes>"
      ]
     },
     "metadata": {
      "needs_background": "light"
     },
     "output_type": "display_data"
    }
   ],
   "source": [
    "table[0].plot(label='num_sensitive = 0')\n",
    "table[10].plot(label='num_sensitive = 10')\n",
    "table[20].plot(label='num_sensitive = 20', style='--')\n",
    "table[30].plot(label='num_sensitive = 30', style=':')\n",
    "    \n",
    "decorate(xlabel='Number of correct identifications',\n",
    "         ylabel='PMF',\n",
    "         title='Gluten sensitivity')"
   ]
  },
  {
   "cell_type": "code",
   "execution_count": 26,
   "id": "f2969ec8-c80f-452b-b479-7c8c9677a605",
   "metadata": {},
   "outputs": [],
   "source": [
    "likelihood1 = table.loc[12]"
   ]
  },
  {
   "cell_type": "code",
   "execution_count": 28,
   "id": "3c8c3812-d297-475a-bda5-887b4c67af87",
   "metadata": {},
   "outputs": [
    {
     "data": {
      "text/plain": [
       "0     1.105605e-01\n",
       "1     9.608232e-02\n",
       "2     7.965245e-02\n",
       "3     6.270212e-02\n",
       "4     4.662672e-02\n",
       "5     3.256040e-02\n",
       "6     2.120994e-02\n",
       "7     1.279154e-02\n",
       "8     7.083554e-03\n",
       "9     3.570425e-03\n",
       "10    1.623937e-03\n",
       "11    6.615772e-04\n",
       "12    2.403445e-04\n",
       "13    7.789399e-05\n",
       "14    2.264999e-05\n",
       "15    5.963394e-06\n",
       "16    1.436429e-06\n",
       "17    3.197853e-07\n",
       "18    6.641264e-08\n",
       "19    1.297218e-08\n",
       "20    2.400043e-09\n",
       "21    4.231622e-10\n",
       "22    7.147234e-11\n",
       "23    1.161589e-11\n",
       "24    1.823564e-12\n",
       "25    2.774510e-13\n",
       "26    4.103002e-14\n",
       "27    5.912350e-15\n",
       "28    8.319923e-16\n",
       "29    1.145573e-16\n",
       "30    1.546022e-17\n",
       "31    2.048146e-18\n",
       "32    2.667160e-19\n",
       "33    3.418286e-20\n",
       "34    4.316326e-21\n",
       "35    5.375200e-22\n",
       "Name: 12, dtype: float64"
      ]
     },
     "execution_count": 28,
     "metadata": {},
     "output_type": "execute_result"
    }
   ],
   "source": [
    "likelihood1"
   ]
  },
  {
   "cell_type": "markdown",
   "id": "2c285411-5924-4f7a-999c-c19a281fe877",
   "metadata": {},
   "source": [
    "This is the row with index 12, which contains the probability of 12 correct identifications for each hypothetical value of `num_sensitive`."
   ]
  },
  {
   "cell_type": "code",
   "execution_count": 29,
   "id": "6b1967b0-ffb6-4419-bbbf-0d9a14cc1526",
   "metadata": {},
   "outputs": [],
   "source": [
    "# Uniform prior\n",
    "hypos = np.arange(n+1)\n",
    "prior = Pmf(1, hypos)"
   ]
  },
  {
   "cell_type": "code",
   "execution_count": 31,
   "id": "0fa14328-2120-46e0-bf51-14aa4f32a58f",
   "metadata": {},
   "outputs": [
    {
     "data": {
      "text/plain": [
       "0.4754741648615133"
      ]
     },
     "execution_count": 31,
     "metadata": {},
     "output_type": "execute_result"
    }
   ],
   "source": [
    "posterior1 = prior * likelihood1\n",
    "posterior1.normalize()"
   ]
  },
  {
   "cell_type": "code",
   "execution_count": 32,
   "id": "3cb68bb4-bb7b-4509-9c54-d1e64bb76ecf",
   "metadata": {},
   "outputs": [
    {
     "data": {
      "image/png": "[encoded data removed]",
      "text/plain": [
       "<Figure size 432x288 with 1 Axes>"
      ]
     },
     "metadata": {
      "needs_background": "light"
     },
     "output_type": "display_data"
    }
   ],
   "source": [
    "posterior1.plot(label='posterior with 12 correct', color='C4')\n",
    "decorate(xlabel='Number of sensitive subjects',\n",
    "         ylabel='PMF',\n",
    "         title='Posterior distributions')"
   ]
  },
  {
   "cell_type": "code",
   "execution_count": 33,
   "id": "2fc98375-de2a-4eab-a4cc-776621be1b27",
   "metadata": {},
   "outputs": [
    {
     "data": {
      "text/plain": [
       "0"
      ]
     },
     "execution_count": 33,
     "metadata": {},
     "output_type": "execute_result"
    }
   ],
   "source": [
    "posterior1.max_prob()"
   ]
  },
  {
   "cell_type": "code",
   "execution_count": 34,
   "id": "edd3b8c3-b9ee-4ca5-921f-ec645be989c1",
   "metadata": {},
   "outputs": [
    {
     "data": {
      "text/plain": [
       "2.3686989069839957"
      ]
     },
     "execution_count": 34,
     "metadata": {},
     "output_type": "execute_result"
    }
   ],
   "source": [
    "posterior1.mean()"
   ]
  },
  {
   "cell_type": "markdown",
   "id": "8bf1facf-c9f2-42ca-b2a6-b43eeeaac62d",
   "metadata": {},
   "source": [
    "## Exercises"
   ]
  },
  {
   "cell_type": "markdown",
   "id": "b89c4726-f36f-45d3-8595-73c60898b1ee",
   "metadata": {},
   "source": [
    "**Exercise:** Let's use Bayes's Rule to solve the Elvis problem from <<_Distributions>>:\n",
    "\n",
    "> Elvis Presley had a twin brother who died at birth. What is the probability that Elvis was an identical twin?\n",
    "\n",
    "In 1935, about 2/3 of twins were fraternal and 1/3 were identical.\n",
    "The question contains two pieces of information we can use to update this prior.\n",
    "\n",
    "* First, Elvis's twin was also male, which is more likely if they were identical twins, with a likelihood ratio of 2.\n",
    "\n",
    "* Also, Elvis's twin died at birth, which is more likely if they were identical twins, with a likelihood ratio of 1.25.\n",
    "\n",
    "If you are curious about where those numbers come from, I wrote [a blog post about it](https://www.allendowney.com/blog/2020/01/28/the-elvis-problem-revisited)."
   ]
  },
  {
   "cell_type": "code",
   "execution_count": 36,
   "id": "a8f829bb-993a-4f87-bf1a-9688188745b9",
   "metadata": {},
   "outputs": [
    {
     "data": {
      "text/plain": [
       "0.49999999999999994"
      ]
     },
     "execution_count": 36,
     "metadata": {},
     "output_type": "execute_result"
    }
   ],
   "source": [
    "prior_odds = odds(1/3)\n",
    "posterior1 = prior_odds * 2\n",
    "prob(posterior1)"
   ]
  },
  {
   "cell_type": "code",
   "execution_count": 37,
   "id": "e00f7f93-c0b8-4010-bb65-508c25295155",
   "metadata": {},
   "outputs": [
    {
     "data": {
      "text/plain": [
       "0.5555555555555555"
      ]
     },
     "execution_count": 37,
     "metadata": {},
     "output_type": "execute_result"
    }
   ],
   "source": [
    "posterior2 = posterior1 * 1.25\n",
    "prob(posterior2)"
   ]
  },
  {
   "cell_type": "markdown",
   "id": "456352b7-730c-4fce-b4b2-9748c0b171a8",
   "metadata": {},
   "source": [
    "**Exercise:** The following is an [interview question that appeared on glassdoor.com](https://www.glassdoor.com/Interview/You-re-about-to-get-on-a-plane-to-Seattle-You-want-to-know-if-you-should-bring-an-umbrella-You-call-3-random-friends-of-y-QTN_519262.htm), attributed to Facebook:\n",
    "\n",
    "> You're about to get on a plane to Seattle. You want to know if you should bring an umbrella. You call 3 random friends of yours who live there and ask each independently if it's raining. Each of your friends has a 2/3 chance of telling you the truth and a 1/3 chance of messing with you by lying. All 3 friends tell you that \"Yes\" it is raining. What is the probability that it's actually raining in Seattle?\n",
    "\n",
    "Use Bayes's Rule to solve this problem.  As a prior you can assume that it rains in Seattle about 10% of the time.\n",
    "\n",
    "This question causes some confusion about the differences between Bayesian and frequentist interpretations of probability; if you are curious about this point, [I wrote a blog article about it](http://allendowney.blogspot.com/2016/09/bayess-theorem-is-not-optional.html)."
   ]
  },
  {
   "cell_type": "code",
   "execution_count": 38,
   "id": "6322ccae-4ea5-4a5c-b718-2536373e38c5",
   "metadata": {},
   "outputs": [],
   "source": [
    "prior = odds(1/10)"
   ]
  },
  {
   "cell_type": "markdown",
   "id": "627af3b7-5678-4b19-aebd-ebd549140aa2",
   "metadata": {},
   "source": [
    "Likelihood ratio: probability that friend says it is raining given that it is raining / probability that friend says it is raining given that it is not raining."
   ]
  },
  {
   "cell_type": "code",
   "execution_count": 39,
   "id": "db58f65b-fc26-4ddf-b016-2b6a8b89638f",
   "metadata": {},
   "outputs": [],
   "source": [
    "likelihood_ratio = (2 / 3) / (1 / 3)"
   ]
  },
  {
   "cell_type": "code",
   "execution_count": 40,
   "id": "613a3bf3-9b29-4e8b-936b-0723b2097107",
   "metadata": {},
   "outputs": [
    {
     "data": {
      "text/plain": [
       "0.4705882352941177"
      ]
     },
     "execution_count": 40,
     "metadata": {},
     "output_type": "execute_result"
    }
   ],
   "source": [
    "posterior = prior * (likelihood_ratio)**3\n",
    "prob(posterior)"
   ]
  },
  {
   "cell_type": "markdown",
   "id": "dc258be5-f4f1-4c95-8137-f5f2eefc009c",
   "metadata": {},
   "source": [
    "**Exercise:** [According to the CDC](https://www.cdc.gov/tobacco/data_statistics/fact_sheets/health_effects/effects_cig_smoking), people who smoke are about 25 times more likely to develop lung cancer than nonsmokers.\n",
    "\n",
    "[Also according to the CDC](https://www.cdc.gov/tobacco/data_statistics/fact_sheets/adult_data/cig_smoking/index.htm), about 14\\% of adults in the U.S. are smokers.\n",
    "If you learn that someone has lung cancer, what is the probability they are a smoker?"
   ]
  },
  {
   "cell_type": "markdown",
   "id": "3b73531c-9880-41e3-aadf-899a05cc7407",
   "metadata": {},
   "source": [
    "---\n",
    "$\\text{odds}(S | LC) = \\text{odds}(S) \\frac{P(LC | S)}{P(LC | NS)}$"
   ]
  },
  {
   "cell_type": "code",
   "execution_count": 41,
   "id": "04a2a9cf-ebfc-4409-82cc-b4ee6f35297b",
   "metadata": {},
   "outputs": [],
   "source": [
    "likelihood_factor = 25\n",
    "prob_s = 0.14"
   ]
  },
  {
   "cell_type": "code",
   "execution_count": 42,
   "id": "8cfb5118-41df-41ec-97aa-44e3e0f5a46b",
   "metadata": {},
   "outputs": [
    {
     "data": {
      "text/plain": [
       "0.8027522935779816"
      ]
     },
     "execution_count": 42,
     "metadata": {},
     "output_type": "execute_result"
    }
   ],
   "source": [
    "odds_s_lc = odds(prob_s) * likelihood_factor\n",
    "prob(odds_s_lc)"
   ]
  },
  {
   "cell_type": "markdown",
   "id": "ef7bc6f5-9e21-4455-ab28-7044145c8dab",
   "metadata": {},
   "source": [
    "**Exercise:** In *Dungeons & Dragons*, the amount of damage a goblin can withstand is the sum of two six-sided dice. The amount of damage you inflict with a short sword is determined by rolling one six-sided die.\n",
    "A goblin is defeated if the total damage you inflict is greater than or equal to the amount it can withstand.\n",
    "\n",
    "Suppose you are fighting a goblin and you have already inflicted 3 points of damage. What is your probability of defeating the goblin with your next successful attack?\n",
    "\n",
    "Hint: You can use `Pmf.add_dist` to add a constant amount, like 3, to a `Pmf` and `Pmf.sub_dist` to compute the distribution of remaining points."
   ]
  },
  {
   "cell_type": "code",
   "execution_count": 65,
   "id": "0bbffbfa-0c70-4e67-b511-f61a763b6ee2",
   "metadata": {},
   "outputs": [
    {
     "data": {
      "text/html": [
       "<div>\n",
       "<style scoped>\n",
       "    .dataframe tbody tr th:only-of-type {\n",
       "        vertical-align: middle;\n",
       "    }\n",
       "\n",
       "    .dataframe tbody tr th {\n",
       "        vertical-align: top;\n",
       "    }\n",
       "\n",
       "    .dataframe thead th {\n",
       "        text-align: right;\n",
       "    }\n",
       "</style>\n",
       "<table border=\"1\" class=\"dataframe\">\n",
       "  <thead>\n",
       "    <tr style=\"text-align: right;\">\n",
       "      <th></th>\n",
       "      <th>probs</th>\n",
       "    </tr>\n",
       "  </thead>\n",
       "  <tbody>\n",
       "    <tr>\n",
       "      <th>2</th>\n",
       "      <td>0.027778</td>\n",
       "    </tr>\n",
       "    <tr>\n",
       "      <th>3</th>\n",
       "      <td>0.055556</td>\n",
       "    </tr>\n",
       "    <tr>\n",
       "      <th>4</th>\n",
       "      <td>0.083333</td>\n",
       "    </tr>\n",
       "    <tr>\n",
       "      <th>5</th>\n",
       "      <td>0.111111</td>\n",
       "    </tr>\n",
       "    <tr>\n",
       "      <th>6</th>\n",
       "      <td>0.138889</td>\n",
       "    </tr>\n",
       "    <tr>\n",
       "      <th>7</th>\n",
       "      <td>0.166667</td>\n",
       "    </tr>\n",
       "    <tr>\n",
       "      <th>8</th>\n",
       "      <td>0.138889</td>\n",
       "    </tr>\n",
       "    <tr>\n",
       "      <th>9</th>\n",
       "      <td>0.111111</td>\n",
       "    </tr>\n",
       "    <tr>\n",
       "      <th>10</th>\n",
       "      <td>0.083333</td>\n",
       "    </tr>\n",
       "    <tr>\n",
       "      <th>11</th>\n",
       "      <td>0.055556</td>\n",
       "    </tr>\n",
       "    <tr>\n",
       "      <th>12</th>\n",
       "      <td>0.027778</td>\n",
       "    </tr>\n",
       "  </tbody>\n",
       "</table>\n",
       "</div>"
      ],
      "text/plain": [
       "2     0.027778\n",
       "3     0.055556\n",
       "4     0.083333\n",
       "5     0.111111\n",
       "6     0.138889\n",
       "7     0.166667\n",
       "8     0.138889\n",
       "9     0.111111\n",
       "10    0.083333\n",
       "11    0.055556\n",
       "12    0.027778\n",
       "Name: , dtype: float64"
      ]
     },
     "execution_count": 65,
     "metadata": {},
     "output_type": "execute_result"
    }
   ],
   "source": [
    "pmf_goblin_health = Pmf.add_dist(make_die(6), make_die(6))\n",
    "pmf_goblin_health"
   ]
  },
  {
   "cell_type": "code",
   "execution_count": 66,
   "id": "8838bfd1-1101-4ee0-ae75-94338c236eb5",
   "metadata": {},
   "outputs": [
    {
     "data": {
      "text/html": [
       "<div>\n",
       "<style scoped>\n",
       "    .dataframe tbody tr th:only-of-type {\n",
       "        vertical-align: middle;\n",
       "    }\n",
       "\n",
       "    .dataframe tbody tr th {\n",
       "        vertical-align: top;\n",
       "    }\n",
       "\n",
       "    .dataframe thead th {\n",
       "        text-align: right;\n",
       "    }\n",
       "</style>\n",
       "<table border=\"1\" class=\"dataframe\">\n",
       "  <thead>\n",
       "    <tr style=\"text-align: right;\">\n",
       "      <th></th>\n",
       "      <th>probs</th>\n",
       "    </tr>\n",
       "  </thead>\n",
       "  <tbody>\n",
       "    <tr>\n",
       "      <th>-7</th>\n",
       "      <td>0.004630</td>\n",
       "    </tr>\n",
       "    <tr>\n",
       "      <th>-6</th>\n",
       "      <td>0.013889</td>\n",
       "    </tr>\n",
       "    <tr>\n",
       "      <th>-5</th>\n",
       "      <td>0.027778</td>\n",
       "    </tr>\n",
       "    <tr>\n",
       "      <th>-4</th>\n",
       "      <td>0.046296</td>\n",
       "    </tr>\n",
       "    <tr>\n",
       "      <th>-3</th>\n",
       "      <td>0.069444</td>\n",
       "    </tr>\n",
       "    <tr>\n",
       "      <th>-2</th>\n",
       "      <td>0.097222</td>\n",
       "    </tr>\n",
       "    <tr>\n",
       "      <th>-1</th>\n",
       "      <td>0.115741</td>\n",
       "    </tr>\n",
       "    <tr>\n",
       "      <th>0</th>\n",
       "      <td>0.125000</td>\n",
       "    </tr>\n",
       "    <tr>\n",
       "      <th>1</th>\n",
       "      <td>0.125000</td>\n",
       "    </tr>\n",
       "    <tr>\n",
       "      <th>2</th>\n",
       "      <td>0.115741</td>\n",
       "    </tr>\n",
       "    <tr>\n",
       "      <th>3</th>\n",
       "      <td>0.097222</td>\n",
       "    </tr>\n",
       "    <tr>\n",
       "      <th>4</th>\n",
       "      <td>0.069444</td>\n",
       "    </tr>\n",
       "    <tr>\n",
       "      <th>5</th>\n",
       "      <td>0.046296</td>\n",
       "    </tr>\n",
       "    <tr>\n",
       "      <th>6</th>\n",
       "      <td>0.027778</td>\n",
       "    </tr>\n",
       "    <tr>\n",
       "      <th>7</th>\n",
       "      <td>0.013889</td>\n",
       "    </tr>\n",
       "    <tr>\n",
       "      <th>8</th>\n",
       "      <td>0.004630</td>\n",
       "    </tr>\n",
       "  </tbody>\n",
       "</table>\n",
       "</div>"
      ],
      "text/plain": [
       "-7    0.004630\n",
       "-6    0.013889\n",
       "-5    0.027778\n",
       "-4    0.046296\n",
       "-3    0.069444\n",
       "-2    0.097222\n",
       "-1    0.115741\n",
       " 0    0.125000\n",
       " 1    0.125000\n",
       " 2    0.115741\n",
       " 3    0.097222\n",
       " 4    0.069444\n",
       " 5    0.046296\n",
       " 6    0.027778\n",
       " 7    0.013889\n",
       " 8    0.004630\n",
       "Name: , dtype: float64"
      ]
     },
     "execution_count": 66,
     "metadata": {},
     "output_type": "execute_result"
    }
   ],
   "source": [
    "pmf_total_damage = Pmf.add_dist(make_die(6), 3)\n",
    "pmf_goblin_health = pmf_goblin_health.sub_dist(pmf_total_damage)\n",
    "pmf_goblin_health.normalize()\n",
    "pmf_goblin_health"
   ]
  },
  {
   "cell_type": "code",
   "execution_count": 67,
   "id": "fcc3e900-8d0a-45f7-9b9a-4e5bf899c7ec",
   "metadata": {},
   "outputs": [
    {
     "data": {
      "text/plain": [
       "0.5"
      ]
     },
     "execution_count": 67,
     "metadata": {},
     "output_type": "execute_result"
    }
   ],
   "source": [
    "pmf_goblin_health.prob_le(0)"
   ]
  },
  {
   "cell_type": "markdown",
   "id": "634f74f0-2f6d-43bf-b606-6032a8946066",
   "metadata": {},
   "source": [
    "**Exercise:** Suppose I have a box with a 6-sided die, an 8-sided die, and a 12-sided die.\n",
    "I choose one of the dice at random, roll it twice, multiply the outcomes, and report that the product is 12.\n",
    "What is the probability that I chose the 8-sided die?\n",
    "\n",
    "Hint: `Pmf` provides a function called `mul_dist` that takes two `Pmf` objects and returns a `Pmf` that represents the distribution of the product."
   ]
  },
  {
   "cell_type": "code",
   "execution_count": 70,
   "id": "382ed6fe-8860-4018-99c1-3a08f7e2180f",
   "metadata": {},
   "outputs": [
    {
     "data": {
      "text/html": [
       "<div>\n",
       "<style scoped>\n",
       "    .dataframe tbody tr th:only-of-type {\n",
       "        vertical-align: middle;\n",
       "    }\n",
       "\n",
       "    .dataframe tbody tr th {\n",
       "        vertical-align: top;\n",
       "    }\n",
       "\n",
       "    .dataframe thead th {\n",
       "        text-align: right;\n",
       "    }\n",
       "</style>\n",
       "<table border=\"1\" class=\"dataframe\">\n",
       "  <thead>\n",
       "    <tr style=\"text-align: right;\">\n",
       "      <th></th>\n",
       "      <th>probs</th>\n",
       "    </tr>\n",
       "  </thead>\n",
       "  <tbody>\n",
       "    <tr>\n",
       "      <th>6</th>\n",
       "      <td>0.333333</td>\n",
       "    </tr>\n",
       "    <tr>\n",
       "      <th>8</th>\n",
       "      <td>0.333333</td>\n",
       "    </tr>\n",
       "    <tr>\n",
       "      <th>12</th>\n",
       "      <td>0.333333</td>\n",
       "    </tr>\n",
       "  </tbody>\n",
       "</table>\n",
       "</div>"
      ],
      "text/plain": [
       "6     0.333333\n",
       "8     0.333333\n",
       "12    0.333333\n",
       "Name: , dtype: float64"
      ]
     },
     "execution_count": 70,
     "metadata": {},
     "output_type": "execute_result"
    }
   ],
   "source": [
    "hypos = [6, 8, 12]\n",
    "prior = Pmf(1, hypos)\n",
    "prior.normalize()\n",
    "prior"
   ]
  },
  {
   "cell_type": "code",
   "execution_count": 71,
   "id": "abfb5f80-f781-4d7b-9513-22ee9c2135d4",
   "metadata": {},
   "outputs": [
    {
     "data": {
      "text/plain": [
       "[0.1111111111111111, 0.0625, 0.041666666666666664]"
      ]
     },
     "execution_count": 71,
     "metadata": {},
     "output_type": "execute_result"
    }
   ],
   "source": [
    "likelihood = []\n",
    "for hypo in hypos:\n",
    "    die = make_die(hypo)\n",
    "    pmf_prod = Pmf.mul_dist(die, die)\n",
    "    likelihood.append(pmf_prod[12])\n",
    "    \n",
    "likelihood"
   ]
  },
  {
   "cell_type": "code",
   "execution_count": 74,
   "id": "67716d53-f713-4c85-87d6-698ba9e579c4",
   "metadata": {},
   "outputs": [
    {
     "data": {
      "text/plain": [
       "0.07175925925925924"
      ]
     },
     "execution_count": 74,
     "metadata": {},
     "output_type": "execute_result"
    }
   ],
   "source": [
    "posterior = prior * likelihood\n",
    "posterior.normalize()"
   ]
  },
  {
   "cell_type": "code",
   "execution_count": 75,
   "id": "00637cbb-9795-4bea-9d6d-988f5fc241a3",
   "metadata": {},
   "outputs": [
    {
     "data": {
      "text/html": [
       "<div>\n",
       "<style scoped>\n",
       "    .dataframe tbody tr th:only-of-type {\n",
       "        vertical-align: middle;\n",
       "    }\n",
       "\n",
       "    .dataframe tbody tr th {\n",
       "        vertical-align: top;\n",
       "    }\n",
       "\n",
       "    .dataframe thead th {\n",
       "        text-align: right;\n",
       "    }\n",
       "</style>\n",
       "<table border=\"1\" class=\"dataframe\">\n",
       "  <thead>\n",
       "    <tr style=\"text-align: right;\">\n",
       "      <th></th>\n",
       "      <th>probs</th>\n",
       "    </tr>\n",
       "  </thead>\n",
       "  <tbody>\n",
       "    <tr>\n",
       "      <th>6</th>\n",
       "      <td>0.516129</td>\n",
       "    </tr>\n",
       "    <tr>\n",
       "      <th>8</th>\n",
       "      <td>0.290323</td>\n",
       "    </tr>\n",
       "    <tr>\n",
       "      <th>12</th>\n",
       "      <td>0.193548</td>\n",
       "    </tr>\n",
       "  </tbody>\n",
       "</table>\n",
       "</div>"
      ],
      "text/plain": [
       "6     0.516129\n",
       "8     0.290323\n",
       "12    0.193548\n",
       "Name: , dtype: float64"
      ]
     },
     "execution_count": 75,
     "metadata": {},
     "output_type": "execute_result"
    }
   ],
   "source": [
    "posterior"
   ]
  },
  {
   "cell_type": "markdown",
   "id": "4d1a9164-862b-407d-957a-df75eb047f6d",
   "metadata": {},
   "source": [
    "**Exercise:** *Betrayal at House on the Hill* is a strategy game in which characters with different attributes explore a haunted house.  Depending on their attributes, the characters roll different numbers of dice.  For example, if attempting a task that depends on knowledge, Professor Longfellow rolls 5 dice, Madame Zostra rolls 4, and Ox Bellows rolls 3.  Each die yields 0, 1, or 2 with equal probability.  \n",
    "\n",
    "If a randomly chosen character attempts a task three times and rolls a total of 3 on the first attempt, 4 on the second, and 5 on the third, which character do you think it was?"
   ]
  },
  {
   "cell_type": "code",
   "execution_count": 79,
   "id": "9c3e8637-5647-4e2f-bb91-2192bc10567d",
   "metadata": {},
   "outputs": [],
   "source": [
    "def make_betrayal_die():\n",
    "    outcomes = [0, 1, 2]\n",
    "    die = Pmf(1/3, outcomes)\n",
    "    return die"
   ]
  },
  {
   "cell_type": "code",
   "execution_count": 100,
   "id": "280c2bee-4d11-42d5-b5df-2506d447a223",
   "metadata": {},
   "outputs": [
    {
     "data": {
      "text/html": [
       "<div>\n",
       "<style scoped>\n",
       "    .dataframe tbody tr th:only-of-type {\n",
       "        vertical-align: middle;\n",
       "    }\n",
       "\n",
       "    .dataframe tbody tr th {\n",
       "        vertical-align: top;\n",
       "    }\n",
       "\n",
       "    .dataframe thead th {\n",
       "        text-align: right;\n",
       "    }\n",
       "</style>\n",
       "<table border=\"1\" class=\"dataframe\">\n",
       "  <thead>\n",
       "    <tr style=\"text-align: right;\">\n",
       "      <th></th>\n",
       "      <th>probs</th>\n",
       "    </tr>\n",
       "  </thead>\n",
       "  <tbody>\n",
       "    <tr>\n",
       "      <th>longfellow</th>\n",
       "      <td>0.235762</td>\n",
       "    </tr>\n",
       "    <tr>\n",
       "      <th>zostra</th>\n",
       "      <td>0.449704</td>\n",
       "    </tr>\n",
       "    <tr>\n",
       "      <th>bellows</th>\n",
       "      <td>0.314534</td>\n",
       "    </tr>\n",
       "  </tbody>\n",
       "</table>\n",
       "</div>"
      ],
      "text/plain": [
       "longfellow    0.235762\n",
       "zostra        0.449704\n",
       "bellows       0.314534\n",
       "Name: , dtype: float64"
      ]
     },
     "execution_count": 100,
     "metadata": {},
     "output_type": "execute_result"
    }
   ],
   "source": [
    "hypos = ['longfellow', 'zostra', 'bellows']\n",
    "num_dice_dict = {\n",
    "    'longfellow': 5,\n",
    "    'zostra': 4,\n",
    "    'bellows': 3\n",
    "}\n",
    "prior = Pmf(1, hypos)\n",
    "prior.normalize()\n",
    "\n",
    "die = make_betrayal_die()\n",
    "\n",
    "def get_likelihood(num, die=die):\n",
    "    likelihood = []\n",
    "    for hypo in hypos:\n",
    "        dice = [die] * num_dice_dict[hypo]\n",
    "        pmf = add_dist_seq(dice)\n",
    "        likelihood.append(pmf[num])\n",
    "    return likelihood\n",
    "\n",
    "likelihood1 = get_likelihood(3)\n",
    "likelihood2 = get_likelihood(4)\n",
    "likelihood3 = get_likelihood(5)\n",
    "\n",
    "posterior = prior * likelihood1 * likelihood2 * likelihood3\n",
    "posterior.normalize()\n",
    "\n",
    "posterior"
   ]
  },
  {
   "cell_type": "markdown",
   "id": "6e551166-0d19-478e-8c62-b82e83a867e2",
   "metadata": {},
   "source": [
    "**Exercise:** There are 538 members of the United States Congress. Suppose we audit their investment portfolios and find that 312 of them out-perform the market.\n",
    "Let's assume that an honest member of Congress has only a 50% chance of out-performing the market, but a dishonest member who trades on inside information has a 90% chance.  How many members of Congress are honest?"
   ]
  },
  {
   "cell_type": "code",
   "execution_count": 105,
   "id": "5733d1a1-9e97-4972-8569-0073906cecaf",
   "metadata": {
    "collapsed": true,
    "jupyter": {
     "outputs_hidden": true
    },
    "tags": []
   },
   "outputs": [
    {
     "name": "stderr",
     "output_type": "stream",
     "text": [
      "/var/folders/pv/jsnn4l_x60x5zx013kbk8l280000gn/T/ipykernel_6357/2699096837.py:9: PerformanceWarning: DataFrame is highly fragmented.  This is usually the result of calling `frame.insert` many times, which has poor performance.  Consider joining all columns at once using pd.concat(axis=1) instead. To get a de-fragmented frame, use `newframe = frame.copy()`\n",
      "  table[num_honest] = dist_total\n",
      "/var/folders/pv/jsnn4l_x60x5zx013kbk8l280000gn/T/ipykernel_6357/2699096837.py:9: PerformanceWarning: DataFrame is highly fragmented.  This is usually the result of calling `frame.insert` many times, which has poor performance.  Consider joining all columns at once using pd.concat(axis=1) instead. To get a de-fragmented frame, use `newframe = frame.copy()`\n",
      "  table[num_honest] = dist_total\n",
      "/var/folders/pv/jsnn4l_x60x5zx013kbk8l280000gn/T/ipykernel_6357/2699096837.py:9: PerformanceWarning: DataFrame is highly fragmented.  This is usually the result of calling `frame.insert` many times, which has poor performance.  Consider joining all columns at once using pd.concat(axis=1) instead. To get a de-fragmented frame, use `newframe = frame.copy()`\n",
      "  table[num_honest] = dist_total\n",
      "/var/folders/pv/jsnn4l_x60x5zx013kbk8l280000gn/T/ipykernel_6357/2699096837.py:9: PerformanceWarning: DataFrame is highly fragmented.  This is usually the result of calling `frame.insert` many times, which has poor performance.  Consider joining all columns at once using pd.concat(axis=1) instead. To get a de-fragmented frame, use `newframe = frame.copy()`\n",
      "  table[num_honest] = dist_total\n",
      "/var/folders/pv/jsnn4l_x60x5zx013kbk8l280000gn/T/ipykernel_6357/2699096837.py:9: PerformanceWarning: DataFrame is highly fragmented.  This is usually the result of calling `frame.insert` many times, which has poor performance.  Consider joining all columns at once using pd.concat(axis=1) instead. To get a de-fragmented frame, use `newframe = frame.copy()`\n",
      "  table[num_honest] = dist_total\n",
      "/var/folders/pv/jsnn4l_x60x5zx013kbk8l280000gn/T/ipykernel_6357/2699096837.py:9: PerformanceWarning: DataFrame is highly fragmented.  This is usually the result of calling `frame.insert` many times, which has poor performance.  Consider joining all columns at once using pd.concat(axis=1) instead. To get a de-fragmented frame, use `newframe = frame.copy()`\n",
      "  table[num_honest] = dist_total\n",
      "/var/folders/pv/jsnn4l_x60x5zx013kbk8l280000gn/T/ipykernel_6357/2699096837.py:9: PerformanceWarning: DataFrame is highly fragmented.  This is usually the result of calling `frame.insert` many times, which has poor performance.  Consider joining all columns at once using pd.concat(axis=1) instead. To get a de-fragmented frame, use `newframe = frame.copy()`\n",
      "  table[num_honest] = dist_total\n",
      "/var/folders/pv/jsnn4l_x60x5zx013kbk8l280000gn/T/ipykernel_6357/2699096837.py:9: PerformanceWarning: DataFrame is highly fragmented.  This is usually the result of calling `frame.insert` many times, which has poor performance.  Consider joining all columns at once using pd.concat(axis=1) instead. To get a de-fragmented frame, use `newframe = frame.copy()`\n",
      "  table[num_honest] = dist_total\n",
      "/var/folders/pv/jsnn4l_x60x5zx013kbk8l280000gn/T/ipykernel_6357/2699096837.py:9: PerformanceWarning: DataFrame is highly fragmented.  This is usually the result of calling `frame.insert` many times, which has poor performance.  Consider joining all columns at once using pd.concat(axis=1) instead. To get a de-fragmented frame, use `newframe = frame.copy()`\n",
      "  table[num_honest] = dist_total\n",
      "/var/folders/pv/jsnn4l_x60x5zx013kbk8l280000gn/T/ipykernel_6357/2699096837.py:9: PerformanceWarning: DataFrame is highly fragmented.  This is usually the result of calling `frame.insert` many times, which has poor performance.  Consider joining all columns at once using pd.concat(axis=1) instead. To get a de-fragmented frame, use `newframe = frame.copy()`\n",
      "  table[num_honest] = dist_total\n",
      "/var/folders/pv/jsnn4l_x60x5zx013kbk8l280000gn/T/ipykernel_6357/2699096837.py:9: PerformanceWarning: DataFrame is highly fragmented.  This is usually the result of calling `frame.insert` many times, which has poor performance.  Consider joining all columns at once using pd.concat(axis=1) instead. To get a de-fragmented frame, use `newframe = frame.copy()`\n",
      "  table[num_honest] = dist_total\n",
      "/var/folders/pv/jsnn4l_x60x5zx013kbk8l280000gn/T/ipykernel_6357/2699096837.py:9: PerformanceWarning: DataFrame is highly fragmented.  This is usually the result of calling `frame.insert` many times, which has poor performance.  Consider joining all columns at once using pd.concat(axis=1) instead. To get a de-fragmented frame, use `newframe = frame.copy()`\n",
      "  table[num_honest] = dist_total\n",
      "/var/folders/pv/jsnn4l_x60x5zx013kbk8l280000gn/T/ipykernel_6357/2699096837.py:9: PerformanceWarning: DataFrame is highly fragmented.  This is usually the result of calling `frame.insert` many times, which has poor performance.  Consider joining all columns at once using pd.concat(axis=1) instead. To get a de-fragmented frame, use `newframe = frame.copy()`\n",
      "  table[num_honest] = dist_total\n",
      "/var/folders/pv/jsnn4l_x60x5zx013kbk8l280000gn/T/ipykernel_6357/2699096837.py:9: PerformanceWarning: DataFrame is highly fragmented.  This is usually the result of calling `frame.insert` many times, which has poor performance.  Consider joining all columns at once using pd.concat(axis=1) instead. To get a de-fragmented frame, use `newframe = frame.copy()`\n",
      "  table[num_honest] = dist_total\n",
      "/var/folders/pv/jsnn4l_x60x5zx013kbk8l280000gn/T/ipykernel_6357/2699096837.py:9: PerformanceWarning: DataFrame is highly fragmented.  This is usually the result of calling `frame.insert` many times, which has poor performance.  Consider joining all columns at once using pd.concat(axis=1) instead. To get a de-fragmented frame, use `newframe = frame.copy()`\n",
      "  table[num_honest] = dist_total\n",
      "/var/folders/pv/jsnn4l_x60x5zx013kbk8l280000gn/T/ipykernel_6357/2699096837.py:9: PerformanceWarning: DataFrame is highly fragmented.  This is usually the result of calling `frame.insert` many times, which has poor performance.  Consider joining all columns at once using pd.concat(axis=1) instead. To get a de-fragmented frame, use `newframe = frame.copy()`\n",
      "  table[num_honest] = dist_total\n",
      "/var/folders/pv/jsnn4l_x60x5zx013kbk8l280000gn/T/ipykernel_6357/2699096837.py:9: PerformanceWarning: DataFrame is highly fragmented.  This is usually the result of calling `frame.insert` many times, which has poor performance.  Consider joining all columns at once using pd.concat(axis=1) instead. To get a de-fragmented frame, use `newframe = frame.copy()`\n",
      "  table[num_honest] = dist_total\n",
      "/var/folders/pv/jsnn4l_x60x5zx013kbk8l280000gn/T/ipykernel_6357/2699096837.py:9: PerformanceWarning: DataFrame is highly fragmented.  This is usually the result of calling `frame.insert` many times, which has poor performance.  Consider joining all columns at once using pd.concat(axis=1) instead. To get a de-fragmented frame, use `newframe = frame.copy()`\n",
      "  table[num_honest] = dist_total\n",
      "/var/folders/pv/jsnn4l_x60x5zx013kbk8l280000gn/T/ipykernel_6357/2699096837.py:9: PerformanceWarning: DataFrame is highly fragmented.  This is usually the result of calling `frame.insert` many times, which has poor performance.  Consider joining all columns at once using pd.concat(axis=1) instead. To get a de-fragmented frame, use `newframe = frame.copy()`\n",
      "  table[num_honest] = dist_total\n",
      "/var/folders/pv/jsnn4l_x60x5zx013kbk8l280000gn/T/ipykernel_6357/2699096837.py:9: PerformanceWarning: DataFrame is highly fragmented.  This is usually the result of calling `frame.insert` many times, which has poor performance.  Consider joining all columns at once using pd.concat(axis=1) instead. To get a de-fragmented frame, use `newframe = frame.copy()`\n",
      "  table[num_honest] = dist_total\n",
      "/var/folders/pv/jsnn4l_x60x5zx013kbk8l280000gn/T/ipykernel_6357/2699096837.py:9: PerformanceWarning: DataFrame is highly fragmented.  This is usually the result of calling `frame.insert` many times, which has poor performance.  Consider joining all columns at once using pd.concat(axis=1) instead. To get a de-fragmented frame, use `newframe = frame.copy()`\n",
      "  table[num_honest] = dist_total\n",
      "/var/folders/pv/jsnn4l_x60x5zx013kbk8l280000gn/T/ipykernel_6357/2699096837.py:9: PerformanceWarning: DataFrame is highly fragmented.  This is usually the result of calling `frame.insert` many times, which has poor performance.  Consider joining all columns at once using pd.concat(axis=1) instead. To get a de-fragmented frame, use `newframe = frame.copy()`\n",
      "  table[num_honest] = dist_total\n",
      "/var/folders/pv/jsnn4l_x60x5zx013kbk8l280000gn/T/ipykernel_6357/2699096837.py:9: PerformanceWarning: DataFrame is highly fragmented.  This is usually the result of calling `frame.insert` many times, which has poor performance.  Consider joining all columns at once using pd.concat(axis=1) instead. To get a de-fragmented frame, use `newframe = frame.copy()`\n",
      "  table[num_honest] = dist_total\n",
      "/var/folders/pv/jsnn4l_x60x5zx013kbk8l280000gn/T/ipykernel_6357/2699096837.py:9: PerformanceWarning: DataFrame is highly fragmented.  This is usually the result of calling `frame.insert` many times, which has poor performance.  Consider joining all columns at once using pd.concat(axis=1) instead. To get a de-fragmented frame, use `newframe = frame.copy()`\n",
      "  table[num_honest] = dist_total\n",
      "/var/folders/pv/jsnn4l_x60x5zx013kbk8l280000gn/T/ipykernel_6357/2699096837.py:9: PerformanceWarning: DataFrame is highly fragmented.  This is usually the result of calling `frame.insert` many times, which has poor performance.  Consider joining all columns at once using pd.concat(axis=1) instead. To get a de-fragmented frame, use `newframe = frame.copy()`\n",
      "  table[num_honest] = dist_total\n",
      "/var/folders/pv/jsnn4l_x60x5zx013kbk8l280000gn/T/ipykernel_6357/2699096837.py:9: PerformanceWarning: DataFrame is highly fragmented.  This is usually the result of calling `frame.insert` many times, which has poor performance.  Consider joining all columns at once using pd.concat(axis=1) instead. To get a de-fragmented frame, use `newframe = frame.copy()`\n",
      "  table[num_honest] = dist_total\n",
      "/var/folders/pv/jsnn4l_x60x5zx013kbk8l280000gn/T/ipykernel_6357/2699096837.py:9: PerformanceWarning: DataFrame is highly fragmented.  This is usually the result of calling `frame.insert` many times, which has poor performance.  Consider joining all columns at once using pd.concat(axis=1) instead. To get a de-fragmented frame, use `newframe = frame.copy()`\n",
      "  table[num_honest] = dist_total\n",
      "/var/folders/pv/jsnn4l_x60x5zx013kbk8l280000gn/T/ipykernel_6357/2699096837.py:9: PerformanceWarning: DataFrame is highly fragmented.  This is usually the result of calling `frame.insert` many times, which has poor performance.  Consider joining all columns at once using pd.concat(axis=1) instead. To get a de-fragmented frame, use `newframe = frame.copy()`\n",
      "  table[num_honest] = dist_total\n",
      "/var/folders/pv/jsnn4l_x60x5zx013kbk8l280000gn/T/ipykernel_6357/2699096837.py:9: PerformanceWarning: DataFrame is highly fragmented.  This is usually the result of calling `frame.insert` many times, which has poor performance.  Consider joining all columns at once using pd.concat(axis=1) instead. To get a de-fragmented frame, use `newframe = frame.copy()`\n",
      "  table[num_honest] = dist_total\n",
      "/var/folders/pv/jsnn4l_x60x5zx013kbk8l280000gn/T/ipykernel_6357/2699096837.py:9: PerformanceWarning: DataFrame is highly fragmented.  This is usually the result of calling `frame.insert` many times, which has poor performance.  Consider joining all columns at once using pd.concat(axis=1) instead. To get a de-fragmented frame, use `newframe = frame.copy()`\n",
      "  table[num_honest] = dist_total\n",
      "/var/folders/pv/jsnn4l_x60x5zx013kbk8l280000gn/T/ipykernel_6357/2699096837.py:9: PerformanceWarning: DataFrame is highly fragmented.  This is usually the result of calling `frame.insert` many times, which has poor performance.  Consider joining all columns at once using pd.concat(axis=1) instead. To get a de-fragmented frame, use `newframe = frame.copy()`\n",
      "  table[num_honest] = dist_total\n",
      "/var/folders/pv/jsnn4l_x60x5zx013kbk8l280000gn/T/ipykernel_6357/2699096837.py:9: PerformanceWarning: DataFrame is highly fragmented.  This is usually the result of calling `frame.insert` many times, which has poor performance.  Consider joining all columns at once using pd.concat(axis=1) instead. To get a de-fragmented frame, use `newframe = frame.copy()`\n",
      "  table[num_honest] = dist_total\n",
      "/var/folders/pv/jsnn4l_x60x5zx013kbk8l280000gn/T/ipykernel_6357/2699096837.py:9: PerformanceWarning: DataFrame is highly fragmented.  This is usually the result of calling `frame.insert` many times, which has poor performance.  Consider joining all columns at once using pd.concat(axis=1) instead. To get a de-fragmented frame, use `newframe = frame.copy()`\n",
      "  table[num_honest] = dist_total\n",
      "/var/folders/pv/jsnn4l_x60x5zx013kbk8l280000gn/T/ipykernel_6357/2699096837.py:9: PerformanceWarning: DataFrame is highly fragmented.  This is usually the result of calling `frame.insert` many times, which has poor performance.  Consider joining all columns at once using pd.concat(axis=1) instead. To get a de-fragmented frame, use `newframe = frame.copy()`\n",
      "  table[num_honest] = dist_total\n",
      "/var/folders/pv/jsnn4l_x60x5zx013kbk8l280000gn/T/ipykernel_6357/2699096837.py:9: PerformanceWarning: DataFrame is highly fragmented.  This is usually the result of calling `frame.insert` many times, which has poor performance.  Consider joining all columns at once using pd.concat(axis=1) instead. To get a de-fragmented frame, use `newframe = frame.copy()`\n",
      "  table[num_honest] = dist_total\n",
      "/var/folders/pv/jsnn4l_x60x5zx013kbk8l280000gn/T/ipykernel_6357/2699096837.py:9: PerformanceWarning: DataFrame is highly fragmented.  This is usually the result of calling `frame.insert` many times, which has poor performance.  Consider joining all columns at once using pd.concat(axis=1) instead. To get a de-fragmented frame, use `newframe = frame.copy()`\n",
      "  table[num_honest] = dist_total\n",
      "/var/folders/pv/jsnn4l_x60x5zx013kbk8l280000gn/T/ipykernel_6357/2699096837.py:9: PerformanceWarning: DataFrame is highly fragmented.  This is usually the result of calling `frame.insert` many times, which has poor performance.  Consider joining all columns at once using pd.concat(axis=1) instead. To get a de-fragmented frame, use `newframe = frame.copy()`\n",
      "  table[num_honest] = dist_total\n",
      "/var/folders/pv/jsnn4l_x60x5zx013kbk8l280000gn/T/ipykernel_6357/2699096837.py:9: PerformanceWarning: DataFrame is highly fragmented.  This is usually the result of calling `frame.insert` many times, which has poor performance.  Consider joining all columns at once using pd.concat(axis=1) instead. To get a de-fragmented frame, use `newframe = frame.copy()`\n",
      "  table[num_honest] = dist_total\n",
      "/var/folders/pv/jsnn4l_x60x5zx013kbk8l280000gn/T/ipykernel_6357/2699096837.py:9: PerformanceWarning: DataFrame is highly fragmented.  This is usually the result of calling `frame.insert` many times, which has poor performance.  Consider joining all columns at once using pd.concat(axis=1) instead. To get a de-fragmented frame, use `newframe = frame.copy()`\n",
      "  table[num_honest] = dist_total\n",
      "/var/folders/pv/jsnn4l_x60x5zx013kbk8l280000gn/T/ipykernel_6357/2699096837.py:9: PerformanceWarning: DataFrame is highly fragmented.  This is usually the result of calling `frame.insert` many times, which has poor performance.  Consider joining all columns at once using pd.concat(axis=1) instead. To get a de-fragmented frame, use `newframe = frame.copy()`\n",
      "  table[num_honest] = dist_total\n",
      "/var/folders/pv/jsnn4l_x60x5zx013kbk8l280000gn/T/ipykernel_6357/2699096837.py:9: PerformanceWarning: DataFrame is highly fragmented.  This is usually the result of calling `frame.insert` many times, which has poor performance.  Consider joining all columns at once using pd.concat(axis=1) instead. To get a de-fragmented frame, use `newframe = frame.copy()`\n",
      "  table[num_honest] = dist_total\n",
      "/var/folders/pv/jsnn4l_x60x5zx013kbk8l280000gn/T/ipykernel_6357/2699096837.py:9: PerformanceWarning: DataFrame is highly fragmented.  This is usually the result of calling `frame.insert` many times, which has poor performance.  Consider joining all columns at once using pd.concat(axis=1) instead. To get a de-fragmented frame, use `newframe = frame.copy()`\n",
      "  table[num_honest] = dist_total\n",
      "/var/folders/pv/jsnn4l_x60x5zx013kbk8l280000gn/T/ipykernel_6357/2699096837.py:9: PerformanceWarning: DataFrame is highly fragmented.  This is usually the result of calling `frame.insert` many times, which has poor performance.  Consider joining all columns at once using pd.concat(axis=1) instead. To get a de-fragmented frame, use `newframe = frame.copy()`\n",
      "  table[num_honest] = dist_total\n",
      "/var/folders/pv/jsnn4l_x60x5zx013kbk8l280000gn/T/ipykernel_6357/2699096837.py:9: PerformanceWarning: DataFrame is highly fragmented.  This is usually the result of calling `frame.insert` many times, which has poor performance.  Consider joining all columns at once using pd.concat(axis=1) instead. To get a de-fragmented frame, use `newframe = frame.copy()`\n",
      "  table[num_honest] = dist_total\n",
      "/var/folders/pv/jsnn4l_x60x5zx013kbk8l280000gn/T/ipykernel_6357/2699096837.py:9: PerformanceWarning: DataFrame is highly fragmented.  This is usually the result of calling `frame.insert` many times, which has poor performance.  Consider joining all columns at once using pd.concat(axis=1) instead. To get a de-fragmented frame, use `newframe = frame.copy()`\n",
      "  table[num_honest] = dist_total\n",
      "/var/folders/pv/jsnn4l_x60x5zx013kbk8l280000gn/T/ipykernel_6357/2699096837.py:9: PerformanceWarning: DataFrame is highly fragmented.  This is usually the result of calling `frame.insert` many times, which has poor performance.  Consider joining all columns at once using pd.concat(axis=1) instead. To get a de-fragmented frame, use `newframe = frame.copy()`\n",
      "  table[num_honest] = dist_total\n",
      "/var/folders/pv/jsnn4l_x60x5zx013kbk8l280000gn/T/ipykernel_6357/2699096837.py:9: PerformanceWarning: DataFrame is highly fragmented.  This is usually the result of calling `frame.insert` many times, which has poor performance.  Consider joining all columns at once using pd.concat(axis=1) instead. To get a de-fragmented frame, use `newframe = frame.copy()`\n",
      "  table[num_honest] = dist_total\n",
      "/var/folders/pv/jsnn4l_x60x5zx013kbk8l280000gn/T/ipykernel_6357/2699096837.py:9: PerformanceWarning: DataFrame is highly fragmented.  This is usually the result of calling `frame.insert` many times, which has poor performance.  Consider joining all columns at once using pd.concat(axis=1) instead. To get a de-fragmented frame, use `newframe = frame.copy()`\n",
      "  table[num_honest] = dist_total\n",
      "/var/folders/pv/jsnn4l_x60x5zx013kbk8l280000gn/T/ipykernel_6357/2699096837.py:9: PerformanceWarning: DataFrame is highly fragmented.  This is usually the result of calling `frame.insert` many times, which has poor performance.  Consider joining all columns at once using pd.concat(axis=1) instead. To get a de-fragmented frame, use `newframe = frame.copy()`\n",
      "  table[num_honest] = dist_total\n",
      "/var/folders/pv/jsnn4l_x60x5zx013kbk8l280000gn/T/ipykernel_6357/2699096837.py:9: PerformanceWarning: DataFrame is highly fragmented.  This is usually the result of calling `frame.insert` many times, which has poor performance.  Consider joining all columns at once using pd.concat(axis=1) instead. To get a de-fragmented frame, use `newframe = frame.copy()`\n",
      "  table[num_honest] = dist_total\n",
      "/var/folders/pv/jsnn4l_x60x5zx013kbk8l280000gn/T/ipykernel_6357/2699096837.py:9: PerformanceWarning: DataFrame is highly fragmented.  This is usually the result of calling `frame.insert` many times, which has poor performance.  Consider joining all columns at once using pd.concat(axis=1) instead. To get a de-fragmented frame, use `newframe = frame.copy()`\n",
      "  table[num_honest] = dist_total\n",
      "/var/folders/pv/jsnn4l_x60x5zx013kbk8l280000gn/T/ipykernel_6357/2699096837.py:9: PerformanceWarning: DataFrame is highly fragmented.  This is usually the result of calling `frame.insert` many times, which has poor performance.  Consider joining all columns at once using pd.concat(axis=1) instead. To get a de-fragmented frame, use `newframe = frame.copy()`\n",
      "  table[num_honest] = dist_total\n",
      "/var/folders/pv/jsnn4l_x60x5zx013kbk8l280000gn/T/ipykernel_6357/2699096837.py:9: PerformanceWarning: DataFrame is highly fragmented.  This is usually the result of calling `frame.insert` many times, which has poor performance.  Consider joining all columns at once using pd.concat(axis=1) instead. To get a de-fragmented frame, use `newframe = frame.copy()`\n",
      "  table[num_honest] = dist_total\n",
      "/var/folders/pv/jsnn4l_x60x5zx013kbk8l280000gn/T/ipykernel_6357/2699096837.py:9: PerformanceWarning: DataFrame is highly fragmented.  This is usually the result of calling `frame.insert` many times, which has poor performance.  Consider joining all columns at once using pd.concat(axis=1) instead. To get a de-fragmented frame, use `newframe = frame.copy()`\n",
      "  table[num_honest] = dist_total\n",
      "/var/folders/pv/jsnn4l_x60x5zx013kbk8l280000gn/T/ipykernel_6357/2699096837.py:9: PerformanceWarning: DataFrame is highly fragmented.  This is usually the result of calling `frame.insert` many times, which has poor performance.  Consider joining all columns at once using pd.concat(axis=1) instead. To get a de-fragmented frame, use `newframe = frame.copy()`\n",
      "  table[num_honest] = dist_total\n",
      "/var/folders/pv/jsnn4l_x60x5zx013kbk8l280000gn/T/ipykernel_6357/2699096837.py:9: PerformanceWarning: DataFrame is highly fragmented.  This is usually the result of calling `frame.insert` many times, which has poor performance.  Consider joining all columns at once using pd.concat(axis=1) instead. To get a de-fragmented frame, use `newframe = frame.copy()`\n",
      "  table[num_honest] = dist_total\n",
      "/var/folders/pv/jsnn4l_x60x5zx013kbk8l280000gn/T/ipykernel_6357/2699096837.py:9: PerformanceWarning: DataFrame is highly fragmented.  This is usually the result of calling `frame.insert` many times, which has poor performance.  Consider joining all columns at once using pd.concat(axis=1) instead. To get a de-fragmented frame, use `newframe = frame.copy()`\n",
      "  table[num_honest] = dist_total\n",
      "/var/folders/pv/jsnn4l_x60x5zx013kbk8l280000gn/T/ipykernel_6357/2699096837.py:9: PerformanceWarning: DataFrame is highly fragmented.  This is usually the result of calling `frame.insert` many times, which has poor performance.  Consider joining all columns at once using pd.concat(axis=1) instead. To get a de-fragmented frame, use `newframe = frame.copy()`\n",
      "  table[num_honest] = dist_total\n",
      "/var/folders/pv/jsnn4l_x60x5zx013kbk8l280000gn/T/ipykernel_6357/2699096837.py:9: PerformanceWarning: DataFrame is highly fragmented.  This is usually the result of calling `frame.insert` many times, which has poor performance.  Consider joining all columns at once using pd.concat(axis=1) instead. To get a de-fragmented frame, use `newframe = frame.copy()`\n",
      "  table[num_honest] = dist_total\n",
      "/var/folders/pv/jsnn4l_x60x5zx013kbk8l280000gn/T/ipykernel_6357/2699096837.py:9: PerformanceWarning: DataFrame is highly fragmented.  This is usually the result of calling `frame.insert` many times, which has poor performance.  Consider joining all columns at once using pd.concat(axis=1) instead. To get a de-fragmented frame, use `newframe = frame.copy()`\n",
      "  table[num_honest] = dist_total\n",
      "/var/folders/pv/jsnn4l_x60x5zx013kbk8l280000gn/T/ipykernel_6357/2699096837.py:9: PerformanceWarning: DataFrame is highly fragmented.  This is usually the result of calling `frame.insert` many times, which has poor performance.  Consider joining all columns at once using pd.concat(axis=1) instead. To get a de-fragmented frame, use `newframe = frame.copy()`\n",
      "  table[num_honest] = dist_total\n",
      "/var/folders/pv/jsnn4l_x60x5zx013kbk8l280000gn/T/ipykernel_6357/2699096837.py:9: PerformanceWarning: DataFrame is highly fragmented.  This is usually the result of calling `frame.insert` many times, which has poor performance.  Consider joining all columns at once using pd.concat(axis=1) instead. To get a de-fragmented frame, use `newframe = frame.copy()`\n",
      "  table[num_honest] = dist_total\n",
      "/var/folders/pv/jsnn4l_x60x5zx013kbk8l280000gn/T/ipykernel_6357/2699096837.py:9: PerformanceWarning: DataFrame is highly fragmented.  This is usually the result of calling `frame.insert` many times, which has poor performance.  Consider joining all columns at once using pd.concat(axis=1) instead. To get a de-fragmented frame, use `newframe = frame.copy()`\n",
      "  table[num_honest] = dist_total\n",
      "/var/folders/pv/jsnn4l_x60x5zx013kbk8l280000gn/T/ipykernel_6357/2699096837.py:9: PerformanceWarning: DataFrame is highly fragmented.  This is usually the result of calling `frame.insert` many times, which has poor performance.  Consider joining all columns at once using pd.concat(axis=1) instead. To get a de-fragmented frame, use `newframe = frame.copy()`\n",
      "  table[num_honest] = dist_total\n",
      "/var/folders/pv/jsnn4l_x60x5zx013kbk8l280000gn/T/ipykernel_6357/2699096837.py:9: PerformanceWarning: DataFrame is highly fragmented.  This is usually the result of calling `frame.insert` many times, which has poor performance.  Consider joining all columns at once using pd.concat(axis=1) instead. To get a de-fragmented frame, use `newframe = frame.copy()`\n",
      "  table[num_honest] = dist_total\n",
      "/var/folders/pv/jsnn4l_x60x5zx013kbk8l280000gn/T/ipykernel_6357/2699096837.py:9: PerformanceWarning: DataFrame is highly fragmented.  This is usually the result of calling `frame.insert` many times, which has poor performance.  Consider joining all columns at once using pd.concat(axis=1) instead. To get a de-fragmented frame, use `newframe = frame.copy()`\n",
      "  table[num_honest] = dist_total\n",
      "/var/folders/pv/jsnn4l_x60x5zx013kbk8l280000gn/T/ipykernel_6357/2699096837.py:9: PerformanceWarning: DataFrame is highly fragmented.  This is usually the result of calling `frame.insert` many times, which has poor performance.  Consider joining all columns at once using pd.concat(axis=1) instead. To get a de-fragmented frame, use `newframe = frame.copy()`\n",
      "  table[num_honest] = dist_total\n",
      "/var/folders/pv/jsnn4l_x60x5zx013kbk8l280000gn/T/ipykernel_6357/2699096837.py:9: PerformanceWarning: DataFrame is highly fragmented.  This is usually the result of calling `frame.insert` many times, which has poor performance.  Consider joining all columns at once using pd.concat(axis=1) instead. To get a de-fragmented frame, use `newframe = frame.copy()`\n",
      "  table[num_honest] = dist_total\n",
      "/var/folders/pv/jsnn4l_x60x5zx013kbk8l280000gn/T/ipykernel_6357/2699096837.py:9: PerformanceWarning: DataFrame is highly fragmented.  This is usually the result of calling `frame.insert` many times, which has poor performance.  Consider joining all columns at once using pd.concat(axis=1) instead. To get a de-fragmented frame, use `newframe = frame.copy()`\n",
      "  table[num_honest] = dist_total\n",
      "/var/folders/pv/jsnn4l_x60x5zx013kbk8l280000gn/T/ipykernel_6357/2699096837.py:9: PerformanceWarning: DataFrame is highly fragmented.  This is usually the result of calling `frame.insert` many times, which has poor performance.  Consider joining all columns at once using pd.concat(axis=1) instead. To get a de-fragmented frame, use `newframe = frame.copy()`\n",
      "  table[num_honest] = dist_total\n",
      "/var/folders/pv/jsnn4l_x60x5zx013kbk8l280000gn/T/ipykernel_6357/2699096837.py:9: PerformanceWarning: DataFrame is highly fragmented.  This is usually the result of calling `frame.insert` many times, which has poor performance.  Consider joining all columns at once using pd.concat(axis=1) instead. To get a de-fragmented frame, use `newframe = frame.copy()`\n",
      "  table[num_honest] = dist_total\n",
      "/var/folders/pv/jsnn4l_x60x5zx013kbk8l280000gn/T/ipykernel_6357/2699096837.py:9: PerformanceWarning: DataFrame is highly fragmented.  This is usually the result of calling `frame.insert` many times, which has poor performance.  Consider joining all columns at once using pd.concat(axis=1) instead. To get a de-fragmented frame, use `newframe = frame.copy()`\n",
      "  table[num_honest] = dist_total\n",
      "/var/folders/pv/jsnn4l_x60x5zx013kbk8l280000gn/T/ipykernel_6357/2699096837.py:9: PerformanceWarning: DataFrame is highly fragmented.  This is usually the result of calling `frame.insert` many times, which has poor performance.  Consider joining all columns at once using pd.concat(axis=1) instead. To get a de-fragmented frame, use `newframe = frame.copy()`\n",
      "  table[num_honest] = dist_total\n",
      "/var/folders/pv/jsnn4l_x60x5zx013kbk8l280000gn/T/ipykernel_6357/2699096837.py:9: PerformanceWarning: DataFrame is highly fragmented.  This is usually the result of calling `frame.insert` many times, which has poor performance.  Consider joining all columns at once using pd.concat(axis=1) instead. To get a de-fragmented frame, use `newframe = frame.copy()`\n",
      "  table[num_honest] = dist_total\n",
      "/var/folders/pv/jsnn4l_x60x5zx013kbk8l280000gn/T/ipykernel_6357/2699096837.py:9: PerformanceWarning: DataFrame is highly fragmented.  This is usually the result of calling `frame.insert` many times, which has poor performance.  Consider joining all columns at once using pd.concat(axis=1) instead. To get a de-fragmented frame, use `newframe = frame.copy()`\n",
      "  table[num_honest] = dist_total\n",
      "/var/folders/pv/jsnn4l_x60x5zx013kbk8l280000gn/T/ipykernel_6357/2699096837.py:9: PerformanceWarning: DataFrame is highly fragmented.  This is usually the result of calling `frame.insert` many times, which has poor performance.  Consider joining all columns at once using pd.concat(axis=1) instead. To get a de-fragmented frame, use `newframe = frame.copy()`\n",
      "  table[num_honest] = dist_total\n",
      "/var/folders/pv/jsnn4l_x60x5zx013kbk8l280000gn/T/ipykernel_6357/2699096837.py:9: PerformanceWarning: DataFrame is highly fragmented.  This is usually the result of calling `frame.insert` many times, which has poor performance.  Consider joining all columns at once using pd.concat(axis=1) instead. To get a de-fragmented frame, use `newframe = frame.copy()`\n",
      "  table[num_honest] = dist_total\n",
      "/var/folders/pv/jsnn4l_x60x5zx013kbk8l280000gn/T/ipykernel_6357/2699096837.py:9: PerformanceWarning: DataFrame is highly fragmented.  This is usually the result of calling `frame.insert` many times, which has poor performance.  Consider joining all columns at once using pd.concat(axis=1) instead. To get a de-fragmented frame, use `newframe = frame.copy()`\n",
      "  table[num_honest] = dist_total\n",
      "/var/folders/pv/jsnn4l_x60x5zx013kbk8l280000gn/T/ipykernel_6357/2699096837.py:9: PerformanceWarning: DataFrame is highly fragmented.  This is usually the result of calling `frame.insert` many times, which has poor performance.  Consider joining all columns at once using pd.concat(axis=1) instead. To get a de-fragmented frame, use `newframe = frame.copy()`\n",
      "  table[num_honest] = dist_total\n",
      "/var/folders/pv/jsnn4l_x60x5zx013kbk8l280000gn/T/ipykernel_6357/2699096837.py:9: PerformanceWarning: DataFrame is highly fragmented.  This is usually the result of calling `frame.insert` many times, which has poor performance.  Consider joining all columns at once using pd.concat(axis=1) instead. To get a de-fragmented frame, use `newframe = frame.copy()`\n",
      "  table[num_honest] = dist_total\n",
      "/var/folders/pv/jsnn4l_x60x5zx013kbk8l280000gn/T/ipykernel_6357/2699096837.py:9: PerformanceWarning: DataFrame is highly fragmented.  This is usually the result of calling `frame.insert` many times, which has poor performance.  Consider joining all columns at once using pd.concat(axis=1) instead. To get a de-fragmented frame, use `newframe = frame.copy()`\n",
      "  table[num_honest] = dist_total\n",
      "/var/folders/pv/jsnn4l_x60x5zx013kbk8l280000gn/T/ipykernel_6357/2699096837.py:9: PerformanceWarning: DataFrame is highly fragmented.  This is usually the result of calling `frame.insert` many times, which has poor performance.  Consider joining all columns at once using pd.concat(axis=1) instead. To get a de-fragmented frame, use `newframe = frame.copy()`\n",
      "  table[num_honest] = dist_total\n",
      "/var/folders/pv/jsnn4l_x60x5zx013kbk8l280000gn/T/ipykernel_6357/2699096837.py:9: PerformanceWarning: DataFrame is highly fragmented.  This is usually the result of calling `frame.insert` many times, which has poor performance.  Consider joining all columns at once using pd.concat(axis=1) instead. To get a de-fragmented frame, use `newframe = frame.copy()`\n",
      "  table[num_honest] = dist_total\n",
      "/var/folders/pv/jsnn4l_x60x5zx013kbk8l280000gn/T/ipykernel_6357/2699096837.py:9: PerformanceWarning: DataFrame is highly fragmented.  This is usually the result of calling `frame.insert` many times, which has poor performance.  Consider joining all columns at once using pd.concat(axis=1) instead. To get a de-fragmented frame, use `newframe = frame.copy()`\n",
      "  table[num_honest] = dist_total\n",
      "/var/folders/pv/jsnn4l_x60x5zx013kbk8l280000gn/T/ipykernel_6357/2699096837.py:9: PerformanceWarning: DataFrame is highly fragmented.  This is usually the result of calling `frame.insert` many times, which has poor performance.  Consider joining all columns at once using pd.concat(axis=1) instead. To get a de-fragmented frame, use `newframe = frame.copy()`\n",
      "  table[num_honest] = dist_total\n",
      "/var/folders/pv/jsnn4l_x60x5zx013kbk8l280000gn/T/ipykernel_6357/2699096837.py:9: PerformanceWarning: DataFrame is highly fragmented.  This is usually the result of calling `frame.insert` many times, which has poor performance.  Consider joining all columns at once using pd.concat(axis=1) instead. To get a de-fragmented frame, use `newframe = frame.copy()`\n",
      "  table[num_honest] = dist_total\n",
      "/var/folders/pv/jsnn4l_x60x5zx013kbk8l280000gn/T/ipykernel_6357/2699096837.py:9: PerformanceWarning: DataFrame is highly fragmented.  This is usually the result of calling `frame.insert` many times, which has poor performance.  Consider joining all columns at once using pd.concat(axis=1) instead. To get a de-fragmented frame, use `newframe = frame.copy()`\n",
      "  table[num_honest] = dist_total\n",
      "/var/folders/pv/jsnn4l_x60x5zx013kbk8l280000gn/T/ipykernel_6357/2699096837.py:9: PerformanceWarning: DataFrame is highly fragmented.  This is usually the result of calling `frame.insert` many times, which has poor performance.  Consider joining all columns at once using pd.concat(axis=1) instead. To get a de-fragmented frame, use `newframe = frame.copy()`\n",
      "  table[num_honest] = dist_total\n",
      "/var/folders/pv/jsnn4l_x60x5zx013kbk8l280000gn/T/ipykernel_6357/2699096837.py:9: PerformanceWarning: DataFrame is highly fragmented.  This is usually the result of calling `frame.insert` many times, which has poor performance.  Consider joining all columns at once using pd.concat(axis=1) instead. To get a de-fragmented frame, use `newframe = frame.copy()`\n",
      "  table[num_honest] = dist_total\n",
      "/var/folders/pv/jsnn4l_x60x5zx013kbk8l280000gn/T/ipykernel_6357/2699096837.py:9: PerformanceWarning: DataFrame is highly fragmented.  This is usually the result of calling `frame.insert` many times, which has poor performance.  Consider joining all columns at once using pd.concat(axis=1) instead. To get a de-fragmented frame, use `newframe = frame.copy()`\n",
      "  table[num_honest] = dist_total\n",
      "/var/folders/pv/jsnn4l_x60x5zx013kbk8l280000gn/T/ipykernel_6357/2699096837.py:9: PerformanceWarning: DataFrame is highly fragmented.  This is usually the result of calling `frame.insert` many times, which has poor performance.  Consider joining all columns at once using pd.concat(axis=1) instead. To get a de-fragmented frame, use `newframe = frame.copy()`\n",
      "  table[num_honest] = dist_total\n",
      "/var/folders/pv/jsnn4l_x60x5zx013kbk8l280000gn/T/ipykernel_6357/2699096837.py:9: PerformanceWarning: DataFrame is highly fragmented.  This is usually the result of calling `frame.insert` many times, which has poor performance.  Consider joining all columns at once using pd.concat(axis=1) instead. To get a de-fragmented frame, use `newframe = frame.copy()`\n",
      "  table[num_honest] = dist_total\n",
      "/var/folders/pv/jsnn4l_x60x5zx013kbk8l280000gn/T/ipykernel_6357/2699096837.py:9: PerformanceWarning: DataFrame is highly fragmented.  This is usually the result of calling `frame.insert` many times, which has poor performance.  Consider joining all columns at once using pd.concat(axis=1) instead. To get a de-fragmented frame, use `newframe = frame.copy()`\n",
      "  table[num_honest] = dist_total\n",
      "/var/folders/pv/jsnn4l_x60x5zx013kbk8l280000gn/T/ipykernel_6357/2699096837.py:9: PerformanceWarning: DataFrame is highly fragmented.  This is usually the result of calling `frame.insert` many times, which has poor performance.  Consider joining all columns at once using pd.concat(axis=1) instead. To get a de-fragmented frame, use `newframe = frame.copy()`\n",
      "  table[num_honest] = dist_total\n",
      "/var/folders/pv/jsnn4l_x60x5zx013kbk8l280000gn/T/ipykernel_6357/2699096837.py:9: PerformanceWarning: DataFrame is highly fragmented.  This is usually the result of calling `frame.insert` many times, which has poor performance.  Consider joining all columns at once using pd.concat(axis=1) instead. To get a de-fragmented frame, use `newframe = frame.copy()`\n",
      "  table[num_honest] = dist_total\n",
      "/var/folders/pv/jsnn4l_x60x5zx013kbk8l280000gn/T/ipykernel_6357/2699096837.py:9: PerformanceWarning: DataFrame is highly fragmented.  This is usually the result of calling `frame.insert` many times, which has poor performance.  Consider joining all columns at once using pd.concat(axis=1) instead. To get a de-fragmented frame, use `newframe = frame.copy()`\n",
      "  table[num_honest] = dist_total\n",
      "/var/folders/pv/jsnn4l_x60x5zx013kbk8l280000gn/T/ipykernel_6357/2699096837.py:9: PerformanceWarning: DataFrame is highly fragmented.  This is usually the result of calling `frame.insert` many times, which has poor performance.  Consider joining all columns at once using pd.concat(axis=1) instead. To get a de-fragmented frame, use `newframe = frame.copy()`\n",
      "  table[num_honest] = dist_total\n",
      "/var/folders/pv/jsnn4l_x60x5zx013kbk8l280000gn/T/ipykernel_6357/2699096837.py:9: PerformanceWarning: DataFrame is highly fragmented.  This is usually the result of calling `frame.insert` many times, which has poor performance.  Consider joining all columns at once using pd.concat(axis=1) instead. To get a de-fragmented frame, use `newframe = frame.copy()`\n",
      "  table[num_honest] = dist_total\n",
      "/var/folders/pv/jsnn4l_x60x5zx013kbk8l280000gn/T/ipykernel_6357/2699096837.py:9: PerformanceWarning: DataFrame is highly fragmented.  This is usually the result of calling `frame.insert` many times, which has poor performance.  Consider joining all columns at once using pd.concat(axis=1) instead. To get a de-fragmented frame, use `newframe = frame.copy()`\n",
      "  table[num_honest] = dist_total\n",
      "/var/folders/pv/jsnn4l_x60x5zx013kbk8l280000gn/T/ipykernel_6357/2699096837.py:9: PerformanceWarning: DataFrame is highly fragmented.  This is usually the result of calling `frame.insert` many times, which has poor performance.  Consider joining all columns at once using pd.concat(axis=1) instead. To get a de-fragmented frame, use `newframe = frame.copy()`\n",
      "  table[num_honest] = dist_total\n",
      "/var/folders/pv/jsnn4l_x60x5zx013kbk8l280000gn/T/ipykernel_6357/2699096837.py:9: PerformanceWarning: DataFrame is highly fragmented.  This is usually the result of calling `frame.insert` many times, which has poor performance.  Consider joining all columns at once using pd.concat(axis=1) instead. To get a de-fragmented frame, use `newframe = frame.copy()`\n",
      "  table[num_honest] = dist_total\n",
      "/var/folders/pv/jsnn4l_x60x5zx013kbk8l280000gn/T/ipykernel_6357/2699096837.py:9: PerformanceWarning: DataFrame is highly fragmented.  This is usually the result of calling `frame.insert` many times, which has poor performance.  Consider joining all columns at once using pd.concat(axis=1) instead. To get a de-fragmented frame, use `newframe = frame.copy()`\n",
      "  table[num_honest] = dist_total\n",
      "/var/folders/pv/jsnn4l_x60x5zx013kbk8l280000gn/T/ipykernel_6357/2699096837.py:9: PerformanceWarning: DataFrame is highly fragmented.  This is usually the result of calling `frame.insert` many times, which has poor performance.  Consider joining all columns at once using pd.concat(axis=1) instead. To get a de-fragmented frame, use `newframe = frame.copy()`\n",
      "  table[num_honest] = dist_total\n",
      "/var/folders/pv/jsnn4l_x60x5zx013kbk8l280000gn/T/ipykernel_6357/2699096837.py:9: PerformanceWarning: DataFrame is highly fragmented.  This is usually the result of calling `frame.insert` many times, which has poor performance.  Consider joining all columns at once using pd.concat(axis=1) instead. To get a de-fragmented frame, use `newframe = frame.copy()`\n",
      "  table[num_honest] = dist_total\n",
      "/var/folders/pv/jsnn4l_x60x5zx013kbk8l280000gn/T/ipykernel_6357/2699096837.py:9: PerformanceWarning: DataFrame is highly fragmented.  This is usually the result of calling `frame.insert` many times, which has poor performance.  Consider joining all columns at once using pd.concat(axis=1) instead. To get a de-fragmented frame, use `newframe = frame.copy()`\n",
      "  table[num_honest] = dist_total\n",
      "/var/folders/pv/jsnn4l_x60x5zx013kbk8l280000gn/T/ipykernel_6357/2699096837.py:9: PerformanceWarning: DataFrame is highly fragmented.  This is usually the result of calling `frame.insert` many times, which has poor performance.  Consider joining all columns at once using pd.concat(axis=1) instead. To get a de-fragmented frame, use `newframe = frame.copy()`\n",
      "  table[num_honest] = dist_total\n",
      "/var/folders/pv/jsnn4l_x60x5zx013kbk8l280000gn/T/ipykernel_6357/2699096837.py:9: PerformanceWarning: DataFrame is highly fragmented.  This is usually the result of calling `frame.insert` many times, which has poor performance.  Consider joining all columns at once using pd.concat(axis=1) instead. To get a de-fragmented frame, use `newframe = frame.copy()`\n",
      "  table[num_honest] = dist_total\n",
      "/var/folders/pv/jsnn4l_x60x5zx013kbk8l280000gn/T/ipykernel_6357/2699096837.py:9: PerformanceWarning: DataFrame is highly fragmented.  This is usually the result of calling `frame.insert` many times, which has poor performance.  Consider joining all columns at once using pd.concat(axis=1) instead. To get a de-fragmented frame, use `newframe = frame.copy()`\n",
      "  table[num_honest] = dist_total\n",
      "/var/folders/pv/jsnn4l_x60x5zx013kbk8l280000gn/T/ipykernel_6357/2699096837.py:9: PerformanceWarning: DataFrame is highly fragmented.  This is usually the result of calling `frame.insert` many times, which has poor performance.  Consider joining all columns at once using pd.concat(axis=1) instead. To get a de-fragmented frame, use `newframe = frame.copy()`\n",
      "  table[num_honest] = dist_total\n",
      "/var/folders/pv/jsnn4l_x60x5zx013kbk8l280000gn/T/ipykernel_6357/2699096837.py:9: PerformanceWarning: DataFrame is highly fragmented.  This is usually the result of calling `frame.insert` many times, which has poor performance.  Consider joining all columns at once using pd.concat(axis=1) instead. To get a de-fragmented frame, use `newframe = frame.copy()`\n",
      "  table[num_honest] = dist_total\n",
      "/var/folders/pv/jsnn4l_x60x5zx013kbk8l280000gn/T/ipykernel_6357/2699096837.py:9: PerformanceWarning: DataFrame is highly fragmented.  This is usually the result of calling `frame.insert` many times, which has poor performance.  Consider joining all columns at once using pd.concat(axis=1) instead. To get a de-fragmented frame, use `newframe = frame.copy()`\n",
      "  table[num_honest] = dist_total\n",
      "/var/folders/pv/jsnn4l_x60x5zx013kbk8l280000gn/T/ipykernel_6357/2699096837.py:9: PerformanceWarning: DataFrame is highly fragmented.  This is usually the result of calling `frame.insert` many times, which has poor performance.  Consider joining all columns at once using pd.concat(axis=1) instead. To get a de-fragmented frame, use `newframe = frame.copy()`\n",
      "  table[num_honest] = dist_total\n",
      "/var/folders/pv/jsnn4l_x60x5zx013kbk8l280000gn/T/ipykernel_6357/2699096837.py:9: PerformanceWarning: DataFrame is highly fragmented.  This is usually the result of calling `frame.insert` many times, which has poor performance.  Consider joining all columns at once using pd.concat(axis=1) instead. To get a de-fragmented frame, use `newframe = frame.copy()`\n",
      "  table[num_honest] = dist_total\n",
      "/var/folders/pv/jsnn4l_x60x5zx013kbk8l280000gn/T/ipykernel_6357/2699096837.py:9: PerformanceWarning: DataFrame is highly fragmented.  This is usually the result of calling `frame.insert` many times, which has poor performance.  Consider joining all columns at once using pd.concat(axis=1) instead. To get a de-fragmented frame, use `newframe = frame.copy()`\n",
      "  table[num_honest] = dist_total\n",
      "/var/folders/pv/jsnn4l_x60x5zx013kbk8l280000gn/T/ipykernel_6357/2699096837.py:9: PerformanceWarning: DataFrame is highly fragmented.  This is usually the result of calling `frame.insert` many times, which has poor performance.  Consider joining all columns at once using pd.concat(axis=1) instead. To get a de-fragmented frame, use `newframe = frame.copy()`\n",
      "  table[num_honest] = dist_total\n",
      "/var/folders/pv/jsnn4l_x60x5zx013kbk8l280000gn/T/ipykernel_6357/2699096837.py:9: PerformanceWarning: DataFrame is highly fragmented.  This is usually the result of calling `frame.insert` many times, which has poor performance.  Consider joining all columns at once using pd.concat(axis=1) instead. To get a de-fragmented frame, use `newframe = frame.copy()`\n",
      "  table[num_honest] = dist_total\n",
      "/var/folders/pv/jsnn4l_x60x5zx013kbk8l280000gn/T/ipykernel_6357/2699096837.py:9: PerformanceWarning: DataFrame is highly fragmented.  This is usually the result of calling `frame.insert` many times, which has poor performance.  Consider joining all columns at once using pd.concat(axis=1) instead. To get a de-fragmented frame, use `newframe = frame.copy()`\n",
      "  table[num_honest] = dist_total\n",
      "/var/folders/pv/jsnn4l_x60x5zx013kbk8l280000gn/T/ipykernel_6357/2699096837.py:9: PerformanceWarning: DataFrame is highly fragmented.  This is usually the result of calling `frame.insert` many times, which has poor performance.  Consider joining all columns at once using pd.concat(axis=1) instead. To get a de-fragmented frame, use `newframe = frame.copy()`\n",
      "  table[num_honest] = dist_total\n",
      "/var/folders/pv/jsnn4l_x60x5zx013kbk8l280000gn/T/ipykernel_6357/2699096837.py:9: PerformanceWarning: DataFrame is highly fragmented.  This is usually the result of calling `frame.insert` many times, which has poor performance.  Consider joining all columns at once using pd.concat(axis=1) instead. To get a de-fragmented frame, use `newframe = frame.copy()`\n",
      "  table[num_honest] = dist_total\n",
      "/var/folders/pv/jsnn4l_x60x5zx013kbk8l280000gn/T/ipykernel_6357/2699096837.py:9: PerformanceWarning: DataFrame is highly fragmented.  This is usually the result of calling `frame.insert` many times, which has poor performance.  Consider joining all columns at once using pd.concat(axis=1) instead. To get a de-fragmented frame, use `newframe = frame.copy()`\n",
      "  table[num_honest] = dist_total\n",
      "/var/folders/pv/jsnn4l_x60x5zx013kbk8l280000gn/T/ipykernel_6357/2699096837.py:9: PerformanceWarning: DataFrame is highly fragmented.  This is usually the result of calling `frame.insert` many times, which has poor performance.  Consider joining all columns at once using pd.concat(axis=1) instead. To get a de-fragmented frame, use `newframe = frame.copy()`\n",
      "  table[num_honest] = dist_total\n",
      "/var/folders/pv/jsnn4l_x60x5zx013kbk8l280000gn/T/ipykernel_6357/2699096837.py:9: PerformanceWarning: DataFrame is highly fragmented.  This is usually the result of calling `frame.insert` many times, which has poor performance.  Consider joining all columns at once using pd.concat(axis=1) instead. To get a de-fragmented frame, use `newframe = frame.copy()`\n",
      "  table[num_honest] = dist_total\n",
      "/var/folders/pv/jsnn4l_x60x5zx013kbk8l280000gn/T/ipykernel_6357/2699096837.py:9: PerformanceWarning: DataFrame is highly fragmented.  This is usually the result of calling `frame.insert` many times, which has poor performance.  Consider joining all columns at once using pd.concat(axis=1) instead. To get a de-fragmented frame, use `newframe = frame.copy()`\n",
      "  table[num_honest] = dist_total\n",
      "/var/folders/pv/jsnn4l_x60x5zx013kbk8l280000gn/T/ipykernel_6357/2699096837.py:9: PerformanceWarning: DataFrame is highly fragmented.  This is usually the result of calling `frame.insert` many times, which has poor performance.  Consider joining all columns at once using pd.concat(axis=1) instead. To get a de-fragmented frame, use `newframe = frame.copy()`\n",
      "  table[num_honest] = dist_total\n",
      "/var/folders/pv/jsnn4l_x60x5zx013kbk8l280000gn/T/ipykernel_6357/2699096837.py:9: PerformanceWarning: DataFrame is highly fragmented.  This is usually the result of calling `frame.insert` many times, which has poor performance.  Consider joining all columns at once using pd.concat(axis=1) instead. To get a de-fragmented frame, use `newframe = frame.copy()`\n",
      "  table[num_honest] = dist_total\n",
      "/var/folders/pv/jsnn4l_x60x5zx013kbk8l280000gn/T/ipykernel_6357/2699096837.py:9: PerformanceWarning: DataFrame is highly fragmented.  This is usually the result of calling `frame.insert` many times, which has poor performance.  Consider joining all columns at once using pd.concat(axis=1) instead. To get a de-fragmented frame, use `newframe = frame.copy()`\n",
      "  table[num_honest] = dist_total\n",
      "/var/folders/pv/jsnn4l_x60x5zx013kbk8l280000gn/T/ipykernel_6357/2699096837.py:9: PerformanceWarning: DataFrame is highly fragmented.  This is usually the result of calling `frame.insert` many times, which has poor performance.  Consider joining all columns at once using pd.concat(axis=1) instead. To get a de-fragmented frame, use `newframe = frame.copy()`\n",
      "  table[num_honest] = dist_total\n",
      "/var/folders/pv/jsnn4l_x60x5zx013kbk8l280000gn/T/ipykernel_6357/2699096837.py:9: PerformanceWarning: DataFrame is highly fragmented.  This is usually the result of calling `frame.insert` many times, which has poor performance.  Consider joining all columns at once using pd.concat(axis=1) instead. To get a de-fragmented frame, use `newframe = frame.copy()`\n",
      "  table[num_honest] = dist_total\n",
      "/var/folders/pv/jsnn4l_x60x5zx013kbk8l280000gn/T/ipykernel_6357/2699096837.py:9: PerformanceWarning: DataFrame is highly fragmented.  This is usually the result of calling `frame.insert` many times, which has poor performance.  Consider joining all columns at once using pd.concat(axis=1) instead. To get a de-fragmented frame, use `newframe = frame.copy()`\n",
      "  table[num_honest] = dist_total\n",
      "/var/folders/pv/jsnn4l_x60x5zx013kbk8l280000gn/T/ipykernel_6357/2699096837.py:9: PerformanceWarning: DataFrame is highly fragmented.  This is usually the result of calling `frame.insert` many times, which has poor performance.  Consider joining all columns at once using pd.concat(axis=1) instead. To get a de-fragmented frame, use `newframe = frame.copy()`\n",
      "  table[num_honest] = dist_total\n",
      "/var/folders/pv/jsnn4l_x60x5zx013kbk8l280000gn/T/ipykernel_6357/2699096837.py:9: PerformanceWarning: DataFrame is highly fragmented.  This is usually the result of calling `frame.insert` many times, which has poor performance.  Consider joining all columns at once using pd.concat(axis=1) instead. To get a de-fragmented frame, use `newframe = frame.copy()`\n",
      "  table[num_honest] = dist_total\n",
      "/var/folders/pv/jsnn4l_x60x5zx013kbk8l280000gn/T/ipykernel_6357/2699096837.py:9: PerformanceWarning: DataFrame is highly fragmented.  This is usually the result of calling `frame.insert` many times, which has poor performance.  Consider joining all columns at once using pd.concat(axis=1) instead. To get a de-fragmented frame, use `newframe = frame.copy()`\n",
      "  table[num_honest] = dist_total\n",
      "/var/folders/pv/jsnn4l_x60x5zx013kbk8l280000gn/T/ipykernel_6357/2699096837.py:9: PerformanceWarning: DataFrame is highly fragmented.  This is usually the result of calling `frame.insert` many times, which has poor performance.  Consider joining all columns at once using pd.concat(axis=1) instead. To get a de-fragmented frame, use `newframe = frame.copy()`\n",
      "  table[num_honest] = dist_total\n",
      "/var/folders/pv/jsnn4l_x60x5zx013kbk8l280000gn/T/ipykernel_6357/2699096837.py:9: PerformanceWarning: DataFrame is highly fragmented.  This is usually the result of calling `frame.insert` many times, which has poor performance.  Consider joining all columns at once using pd.concat(axis=1) instead. To get a de-fragmented frame, use `newframe = frame.copy()`\n",
      "  table[num_honest] = dist_total\n",
      "/var/folders/pv/jsnn4l_x60x5zx013kbk8l280000gn/T/ipykernel_6357/2699096837.py:9: PerformanceWarning: DataFrame is highly fragmented.  This is usually the result of calling `frame.insert` many times, which has poor performance.  Consider joining all columns at once using pd.concat(axis=1) instead. To get a de-fragmented frame, use `newframe = frame.copy()`\n",
      "  table[num_honest] = dist_total\n",
      "/var/folders/pv/jsnn4l_x60x5zx013kbk8l280000gn/T/ipykernel_6357/2699096837.py:9: PerformanceWarning: DataFrame is highly fragmented.  This is usually the result of calling `frame.insert` many times, which has poor performance.  Consider joining all columns at once using pd.concat(axis=1) instead. To get a de-fragmented frame, use `newframe = frame.copy()`\n",
      "  table[num_honest] = dist_total\n",
      "/var/folders/pv/jsnn4l_x60x5zx013kbk8l280000gn/T/ipykernel_6357/2699096837.py:9: PerformanceWarning: DataFrame is highly fragmented.  This is usually the result of calling `frame.insert` many times, which has poor performance.  Consider joining all columns at once using pd.concat(axis=1) instead. To get a de-fragmented frame, use `newframe = frame.copy()`\n",
      "  table[num_honest] = dist_total\n",
      "/var/folders/pv/jsnn4l_x60x5zx013kbk8l280000gn/T/ipykernel_6357/2699096837.py:9: PerformanceWarning: DataFrame is highly fragmented.  This is usually the result of calling `frame.insert` many times, which has poor performance.  Consider joining all columns at once using pd.concat(axis=1) instead. To get a de-fragmented frame, use `newframe = frame.copy()`\n",
      "  table[num_honest] = dist_total\n",
      "/var/folders/pv/jsnn4l_x60x5zx013kbk8l280000gn/T/ipykernel_6357/2699096837.py:9: PerformanceWarning: DataFrame is highly fragmented.  This is usually the result of calling `frame.insert` many times, which has poor performance.  Consider joining all columns at once using pd.concat(axis=1) instead. To get a de-fragmented frame, use `newframe = frame.copy()`\n",
      "  table[num_honest] = dist_total\n",
      "/var/folders/pv/jsnn4l_x60x5zx013kbk8l280000gn/T/ipykernel_6357/2699096837.py:9: PerformanceWarning: DataFrame is highly fragmented.  This is usually the result of calling `frame.insert` many times, which has poor performance.  Consider joining all columns at once using pd.concat(axis=1) instead. To get a de-fragmented frame, use `newframe = frame.copy()`\n",
      "  table[num_honest] = dist_total\n",
      "/var/folders/pv/jsnn4l_x60x5zx013kbk8l280000gn/T/ipykernel_6357/2699096837.py:9: PerformanceWarning: DataFrame is highly fragmented.  This is usually the result of calling `frame.insert` many times, which has poor performance.  Consider joining all columns at once using pd.concat(axis=1) instead. To get a de-fragmented frame, use `newframe = frame.copy()`\n",
      "  table[num_honest] = dist_total\n",
      "/var/folders/pv/jsnn4l_x60x5zx013kbk8l280000gn/T/ipykernel_6357/2699096837.py:9: PerformanceWarning: DataFrame is highly fragmented.  This is usually the result of calling `frame.insert` many times, which has poor performance.  Consider joining all columns at once using pd.concat(axis=1) instead. To get a de-fragmented frame, use `newframe = frame.copy()`\n",
      "  table[num_honest] = dist_total\n",
      "/var/folders/pv/jsnn4l_x60x5zx013kbk8l280000gn/T/ipykernel_6357/2699096837.py:9: PerformanceWarning: DataFrame is highly fragmented.  This is usually the result of calling `frame.insert` many times, which has poor performance.  Consider joining all columns at once using pd.concat(axis=1) instead. To get a de-fragmented frame, use `newframe = frame.copy()`\n",
      "  table[num_honest] = dist_total\n",
      "/var/folders/pv/jsnn4l_x60x5zx013kbk8l280000gn/T/ipykernel_6357/2699096837.py:9: PerformanceWarning: DataFrame is highly fragmented.  This is usually the result of calling `frame.insert` many times, which has poor performance.  Consider joining all columns at once using pd.concat(axis=1) instead. To get a de-fragmented frame, use `newframe = frame.copy()`\n",
      "  table[num_honest] = dist_total\n",
      "/var/folders/pv/jsnn4l_x60x5zx013kbk8l280000gn/T/ipykernel_6357/2699096837.py:9: PerformanceWarning: DataFrame is highly fragmented.  This is usually the result of calling `frame.insert` many times, which has poor performance.  Consider joining all columns at once using pd.concat(axis=1) instead. To get a de-fragmented frame, use `newframe = frame.copy()`\n",
      "  table[num_honest] = dist_total\n",
      "/var/folders/pv/jsnn4l_x60x5zx013kbk8l280000gn/T/ipykernel_6357/2699096837.py:9: PerformanceWarning: DataFrame is highly fragmented.  This is usually the result of calling `frame.insert` many times, which has poor performance.  Consider joining all columns at once using pd.concat(axis=1) instead. To get a de-fragmented frame, use `newframe = frame.copy()`\n",
      "  table[num_honest] = dist_total\n",
      "/var/folders/pv/jsnn4l_x60x5zx013kbk8l280000gn/T/ipykernel_6357/2699096837.py:9: PerformanceWarning: DataFrame is highly fragmented.  This is usually the result of calling `frame.insert` many times, which has poor performance.  Consider joining all columns at once using pd.concat(axis=1) instead. To get a de-fragmented frame, use `newframe = frame.copy()`\n",
      "  table[num_honest] = dist_total\n",
      "/var/folders/pv/jsnn4l_x60x5zx013kbk8l280000gn/T/ipykernel_6357/2699096837.py:9: PerformanceWarning: DataFrame is highly fragmented.  This is usually the result of calling `frame.insert` many times, which has poor performance.  Consider joining all columns at once using pd.concat(axis=1) instead. To get a de-fragmented frame, use `newframe = frame.copy()`\n",
      "  table[num_honest] = dist_total\n",
      "/var/folders/pv/jsnn4l_x60x5zx013kbk8l280000gn/T/ipykernel_6357/2699096837.py:9: PerformanceWarning: DataFrame is highly fragmented.  This is usually the result of calling `frame.insert` many times, which has poor performance.  Consider joining all columns at once using pd.concat(axis=1) instead. To get a de-fragmented frame, use `newframe = frame.copy()`\n",
      "  table[num_honest] = dist_total\n",
      "/var/folders/pv/jsnn4l_x60x5zx013kbk8l280000gn/T/ipykernel_6357/2699096837.py:9: PerformanceWarning: DataFrame is highly fragmented.  This is usually the result of calling `frame.insert` many times, which has poor performance.  Consider joining all columns at once using pd.concat(axis=1) instead. To get a de-fragmented frame, use `newframe = frame.copy()`\n",
      "  table[num_honest] = dist_total\n",
      "/var/folders/pv/jsnn4l_x60x5zx013kbk8l280000gn/T/ipykernel_6357/2699096837.py:9: PerformanceWarning: DataFrame is highly fragmented.  This is usually the result of calling `frame.insert` many times, which has poor performance.  Consider joining all columns at once using pd.concat(axis=1) instead. To get a de-fragmented frame, use `newframe = frame.copy()`\n",
      "  table[num_honest] = dist_total\n",
      "/var/folders/pv/jsnn4l_x60x5zx013kbk8l280000gn/T/ipykernel_6357/2699096837.py:9: PerformanceWarning: DataFrame is highly fragmented.  This is usually the result of calling `frame.insert` many times, which has poor performance.  Consider joining all columns at once using pd.concat(axis=1) instead. To get a de-fragmented frame, use `newframe = frame.copy()`\n",
      "  table[num_honest] = dist_total\n",
      "/var/folders/pv/jsnn4l_x60x5zx013kbk8l280000gn/T/ipykernel_6357/2699096837.py:9: PerformanceWarning: DataFrame is highly fragmented.  This is usually the result of calling `frame.insert` many times, which has poor performance.  Consider joining all columns at once using pd.concat(axis=1) instead. To get a de-fragmented frame, use `newframe = frame.copy()`\n",
      "  table[num_honest] = dist_total\n",
      "/var/folders/pv/jsnn4l_x60x5zx013kbk8l280000gn/T/ipykernel_6357/2699096837.py:9: PerformanceWarning: DataFrame is highly fragmented.  This is usually the result of calling `frame.insert` many times, which has poor performance.  Consider joining all columns at once using pd.concat(axis=1) instead. To get a de-fragmented frame, use `newframe = frame.copy()`\n",
      "  table[num_honest] = dist_total\n",
      "/var/folders/pv/jsnn4l_x60x5zx013kbk8l280000gn/T/ipykernel_6357/2699096837.py:9: PerformanceWarning: DataFrame is highly fragmented.  This is usually the result of calling `frame.insert` many times, which has poor performance.  Consider joining all columns at once using pd.concat(axis=1) instead. To get a de-fragmented frame, use `newframe = frame.copy()`\n",
      "  table[num_honest] = dist_total\n",
      "/var/folders/pv/jsnn4l_x60x5zx013kbk8l280000gn/T/ipykernel_6357/2699096837.py:9: PerformanceWarning: DataFrame is highly fragmented.  This is usually the result of calling `frame.insert` many times, which has poor performance.  Consider joining all columns at once using pd.concat(axis=1) instead. To get a de-fragmented frame, use `newframe = frame.copy()`\n",
      "  table[num_honest] = dist_total\n",
      "/var/folders/pv/jsnn4l_x60x5zx013kbk8l280000gn/T/ipykernel_6357/2699096837.py:9: PerformanceWarning: DataFrame is highly fragmented.  This is usually the result of calling `frame.insert` many times, which has poor performance.  Consider joining all columns at once using pd.concat(axis=1) instead. To get a de-fragmented frame, use `newframe = frame.copy()`\n",
      "  table[num_honest] = dist_total\n",
      "/var/folders/pv/jsnn4l_x60x5zx013kbk8l280000gn/T/ipykernel_6357/2699096837.py:9: PerformanceWarning: DataFrame is highly fragmented.  This is usually the result of calling `frame.insert` many times, which has poor performance.  Consider joining all columns at once using pd.concat(axis=1) instead. To get a de-fragmented frame, use `newframe = frame.copy()`\n",
      "  table[num_honest] = dist_total\n",
      "/var/folders/pv/jsnn4l_x60x5zx013kbk8l280000gn/T/ipykernel_6357/2699096837.py:9: PerformanceWarning: DataFrame is highly fragmented.  This is usually the result of calling `frame.insert` many times, which has poor performance.  Consider joining all columns at once using pd.concat(axis=1) instead. To get a de-fragmented frame, use `newframe = frame.copy()`\n",
      "  table[num_honest] = dist_total\n",
      "/var/folders/pv/jsnn4l_x60x5zx013kbk8l280000gn/T/ipykernel_6357/2699096837.py:9: PerformanceWarning: DataFrame is highly fragmented.  This is usually the result of calling `frame.insert` many times, which has poor performance.  Consider joining all columns at once using pd.concat(axis=1) instead. To get a de-fragmented frame, use `newframe = frame.copy()`\n",
      "  table[num_honest] = dist_total\n",
      "/var/folders/pv/jsnn4l_x60x5zx013kbk8l280000gn/T/ipykernel_6357/2699096837.py:9: PerformanceWarning: DataFrame is highly fragmented.  This is usually the result of calling `frame.insert` many times, which has poor performance.  Consider joining all columns at once using pd.concat(axis=1) instead. To get a de-fragmented frame, use `newframe = frame.copy()`\n",
      "  table[num_honest] = dist_total\n",
      "/var/folders/pv/jsnn4l_x60x5zx013kbk8l280000gn/T/ipykernel_6357/2699096837.py:9: PerformanceWarning: DataFrame is highly fragmented.  This is usually the result of calling `frame.insert` many times, which has poor performance.  Consider joining all columns at once using pd.concat(axis=1) instead. To get a de-fragmented frame, use `newframe = frame.copy()`\n",
      "  table[num_honest] = dist_total\n",
      "/var/folders/pv/jsnn4l_x60x5zx013kbk8l280000gn/T/ipykernel_6357/2699096837.py:9: PerformanceWarning: DataFrame is highly fragmented.  This is usually the result of calling `frame.insert` many times, which has poor performance.  Consider joining all columns at once using pd.concat(axis=1) instead. To get a de-fragmented frame, use `newframe = frame.copy()`\n",
      "  table[num_honest] = dist_total\n",
      "/var/folders/pv/jsnn4l_x60x5zx013kbk8l280000gn/T/ipykernel_6357/2699096837.py:9: PerformanceWarning: DataFrame is highly fragmented.  This is usually the result of calling `frame.insert` many times, which has poor performance.  Consider joining all columns at once using pd.concat(axis=1) instead. To get a de-fragmented frame, use `newframe = frame.copy()`\n",
      "  table[num_honest] = dist_total\n",
      "/var/folders/pv/jsnn4l_x60x5zx013kbk8l280000gn/T/ipykernel_6357/2699096837.py:9: PerformanceWarning: DataFrame is highly fragmented.  This is usually the result of calling `frame.insert` many times, which has poor performance.  Consider joining all columns at once using pd.concat(axis=1) instead. To get a de-fragmented frame, use `newframe = frame.copy()`\n",
      "  table[num_honest] = dist_total\n",
      "/var/folders/pv/jsnn4l_x60x5zx013kbk8l280000gn/T/ipykernel_6357/2699096837.py:9: PerformanceWarning: DataFrame is highly fragmented.  This is usually the result of calling `frame.insert` many times, which has poor performance.  Consider joining all columns at once using pd.concat(axis=1) instead. To get a de-fragmented frame, use `newframe = frame.copy()`\n",
      "  table[num_honest] = dist_total\n",
      "/var/folders/pv/jsnn4l_x60x5zx013kbk8l280000gn/T/ipykernel_6357/2699096837.py:9: PerformanceWarning: DataFrame is highly fragmented.  This is usually the result of calling `frame.insert` many times, which has poor performance.  Consider joining all columns at once using pd.concat(axis=1) instead. To get a de-fragmented frame, use `newframe = frame.copy()`\n",
      "  table[num_honest] = dist_total\n",
      "/var/folders/pv/jsnn4l_x60x5zx013kbk8l280000gn/T/ipykernel_6357/2699096837.py:9: PerformanceWarning: DataFrame is highly fragmented.  This is usually the result of calling `frame.insert` many times, which has poor performance.  Consider joining all columns at once using pd.concat(axis=1) instead. To get a de-fragmented frame, use `newframe = frame.copy()`\n",
      "  table[num_honest] = dist_total\n",
      "/var/folders/pv/jsnn4l_x60x5zx013kbk8l280000gn/T/ipykernel_6357/2699096837.py:9: PerformanceWarning: DataFrame is highly fragmented.  This is usually the result of calling `frame.insert` many times, which has poor performance.  Consider joining all columns at once using pd.concat(axis=1) instead. To get a de-fragmented frame, use `newframe = frame.copy()`\n",
      "  table[num_honest] = dist_total\n",
      "/var/folders/pv/jsnn4l_x60x5zx013kbk8l280000gn/T/ipykernel_6357/2699096837.py:9: PerformanceWarning: DataFrame is highly fragmented.  This is usually the result of calling `frame.insert` many times, which has poor performance.  Consider joining all columns at once using pd.concat(axis=1) instead. To get a de-fragmented frame, use `newframe = frame.copy()`\n",
      "  table[num_honest] = dist_total\n",
      "/var/folders/pv/jsnn4l_x60x5zx013kbk8l280000gn/T/ipykernel_6357/2699096837.py:9: PerformanceWarning: DataFrame is highly fragmented.  This is usually the result of calling `frame.insert` many times, which has poor performance.  Consider joining all columns at once using pd.concat(axis=1) instead. To get a de-fragmented frame, use `newframe = frame.copy()`\n",
      "  table[num_honest] = dist_total\n",
      "/var/folders/pv/jsnn4l_x60x5zx013kbk8l280000gn/T/ipykernel_6357/2699096837.py:9: PerformanceWarning: DataFrame is highly fragmented.  This is usually the result of calling `frame.insert` many times, which has poor performance.  Consider joining all columns at once using pd.concat(axis=1) instead. To get a de-fragmented frame, use `newframe = frame.copy()`\n",
      "  table[num_honest] = dist_total\n",
      "/var/folders/pv/jsnn4l_x60x5zx013kbk8l280000gn/T/ipykernel_6357/2699096837.py:9: PerformanceWarning: DataFrame is highly fragmented.  This is usually the result of calling `frame.insert` many times, which has poor performance.  Consider joining all columns at once using pd.concat(axis=1) instead. To get a de-fragmented frame, use `newframe = frame.copy()`\n",
      "  table[num_honest] = dist_total\n",
      "/var/folders/pv/jsnn4l_x60x5zx013kbk8l280000gn/T/ipykernel_6357/2699096837.py:9: PerformanceWarning: DataFrame is highly fragmented.  This is usually the result of calling `frame.insert` many times, which has poor performance.  Consider joining all columns at once using pd.concat(axis=1) instead. To get a de-fragmented frame, use `newframe = frame.copy()`\n",
      "  table[num_honest] = dist_total\n",
      "/var/folders/pv/jsnn4l_x60x5zx013kbk8l280000gn/T/ipykernel_6357/2699096837.py:9: PerformanceWarning: DataFrame is highly fragmented.  This is usually the result of calling `frame.insert` many times, which has poor performance.  Consider joining all columns at once using pd.concat(axis=1) instead. To get a de-fragmented frame, use `newframe = frame.copy()`\n",
      "  table[num_honest] = dist_total\n",
      "/var/folders/pv/jsnn4l_x60x5zx013kbk8l280000gn/T/ipykernel_6357/2699096837.py:9: PerformanceWarning: DataFrame is highly fragmented.  This is usually the result of calling `frame.insert` many times, which has poor performance.  Consider joining all columns at once using pd.concat(axis=1) instead. To get a de-fragmented frame, use `newframe = frame.copy()`\n",
      "  table[num_honest] = dist_total\n",
      "/var/folders/pv/jsnn4l_x60x5zx013kbk8l280000gn/T/ipykernel_6357/2699096837.py:9: PerformanceWarning: DataFrame is highly fragmented.  This is usually the result of calling `frame.insert` many times, which has poor performance.  Consider joining all columns at once using pd.concat(axis=1) instead. To get a de-fragmented frame, use `newframe = frame.copy()`\n",
      "  table[num_honest] = dist_total\n",
      "/var/folders/pv/jsnn4l_x60x5zx013kbk8l280000gn/T/ipykernel_6357/2699096837.py:9: PerformanceWarning: DataFrame is highly fragmented.  This is usually the result of calling `frame.insert` many times, which has poor performance.  Consider joining all columns at once using pd.concat(axis=1) instead. To get a de-fragmented frame, use `newframe = frame.copy()`\n",
      "  table[num_honest] = dist_total\n",
      "/var/folders/pv/jsnn4l_x60x5zx013kbk8l280000gn/T/ipykernel_6357/2699096837.py:9: PerformanceWarning: DataFrame is highly fragmented.  This is usually the result of calling `frame.insert` many times, which has poor performance.  Consider joining all columns at once using pd.concat(axis=1) instead. To get a de-fragmented frame, use `newframe = frame.copy()`\n",
      "  table[num_honest] = dist_total\n",
      "/var/folders/pv/jsnn4l_x60x5zx013kbk8l280000gn/T/ipykernel_6357/2699096837.py:9: PerformanceWarning: DataFrame is highly fragmented.  This is usually the result of calling `frame.insert` many times, which has poor performance.  Consider joining all columns at once using pd.concat(axis=1) instead. To get a de-fragmented frame, use `newframe = frame.copy()`\n",
      "  table[num_honest] = dist_total\n",
      "/var/folders/pv/jsnn4l_x60x5zx013kbk8l280000gn/T/ipykernel_6357/2699096837.py:9: PerformanceWarning: DataFrame is highly fragmented.  This is usually the result of calling `frame.insert` many times, which has poor performance.  Consider joining all columns at once using pd.concat(axis=1) instead. To get a de-fragmented frame, use `newframe = frame.copy()`\n",
      "  table[num_honest] = dist_total\n",
      "/var/folders/pv/jsnn4l_x60x5zx013kbk8l280000gn/T/ipykernel_6357/2699096837.py:9: PerformanceWarning: DataFrame is highly fragmented.  This is usually the result of calling `frame.insert` many times, which has poor performance.  Consider joining all columns at once using pd.concat(axis=1) instead. To get a de-fragmented frame, use `newframe = frame.copy()`\n",
      "  table[num_honest] = dist_total\n",
      "/var/folders/pv/jsnn4l_x60x5zx013kbk8l280000gn/T/ipykernel_6357/2699096837.py:9: PerformanceWarning: DataFrame is highly fragmented.  This is usually the result of calling `frame.insert` many times, which has poor performance.  Consider joining all columns at once using pd.concat(axis=1) instead. To get a de-fragmented frame, use `newframe = frame.copy()`\n",
      "  table[num_honest] = dist_total\n",
      "/var/folders/pv/jsnn4l_x60x5zx013kbk8l280000gn/T/ipykernel_6357/2699096837.py:9: PerformanceWarning: DataFrame is highly fragmented.  This is usually the result of calling `frame.insert` many times, which has poor performance.  Consider joining all columns at once using pd.concat(axis=1) instead. To get a de-fragmented frame, use `newframe = frame.copy()`\n",
      "  table[num_honest] = dist_total\n",
      "/var/folders/pv/jsnn4l_x60x5zx013kbk8l280000gn/T/ipykernel_6357/2699096837.py:9: PerformanceWarning: DataFrame is highly fragmented.  This is usually the result of calling `frame.insert` many times, which has poor performance.  Consider joining all columns at once using pd.concat(axis=1) instead. To get a de-fragmented frame, use `newframe = frame.copy()`\n",
      "  table[num_honest] = dist_total\n",
      "/var/folders/pv/jsnn4l_x60x5zx013kbk8l280000gn/T/ipykernel_6357/2699096837.py:9: PerformanceWarning: DataFrame is highly fragmented.  This is usually the result of calling `frame.insert` many times, which has poor performance.  Consider joining all columns at once using pd.concat(axis=1) instead. To get a de-fragmented frame, use `newframe = frame.copy()`\n",
      "  table[num_honest] = dist_total\n",
      "/var/folders/pv/jsnn4l_x60x5zx013kbk8l280000gn/T/ipykernel_6357/2699096837.py:9: PerformanceWarning: DataFrame is highly fragmented.  This is usually the result of calling `frame.insert` many times, which has poor performance.  Consider joining all columns at once using pd.concat(axis=1) instead. To get a de-fragmented frame, use `newframe = frame.copy()`\n",
      "  table[num_honest] = dist_total\n",
      "/var/folders/pv/jsnn4l_x60x5zx013kbk8l280000gn/T/ipykernel_6357/2699096837.py:9: PerformanceWarning: DataFrame is highly fragmented.  This is usually the result of calling `frame.insert` many times, which has poor performance.  Consider joining all columns at once using pd.concat(axis=1) instead. To get a de-fragmented frame, use `newframe = frame.copy()`\n",
      "  table[num_honest] = dist_total\n",
      "/var/folders/pv/jsnn4l_x60x5zx013kbk8l280000gn/T/ipykernel_6357/2699096837.py:9: PerformanceWarning: DataFrame is highly fragmented.  This is usually the result of calling `frame.insert` many times, which has poor performance.  Consider joining all columns at once using pd.concat(axis=1) instead. To get a de-fragmented frame, use `newframe = frame.copy()`\n",
      "  table[num_honest] = dist_total\n",
      "/var/folders/pv/jsnn4l_x60x5zx013kbk8l280000gn/T/ipykernel_6357/2699096837.py:9: PerformanceWarning: DataFrame is highly fragmented.  This is usually the result of calling `frame.insert` many times, which has poor performance.  Consider joining all columns at once using pd.concat(axis=1) instead. To get a de-fragmented frame, use `newframe = frame.copy()`\n",
      "  table[num_honest] = dist_total\n",
      "/var/folders/pv/jsnn4l_x60x5zx013kbk8l280000gn/T/ipykernel_6357/2699096837.py:9: PerformanceWarning: DataFrame is highly fragmented.  This is usually the result of calling `frame.insert` many times, which has poor performance.  Consider joining all columns at once using pd.concat(axis=1) instead. To get a de-fragmented frame, use `newframe = frame.copy()`\n",
      "  table[num_honest] = dist_total\n",
      "/var/folders/pv/jsnn4l_x60x5zx013kbk8l280000gn/T/ipykernel_6357/2699096837.py:9: PerformanceWarning: DataFrame is highly fragmented.  This is usually the result of calling `frame.insert` many times, which has poor performance.  Consider joining all columns at once using pd.concat(axis=1) instead. To get a de-fragmented frame, use `newframe = frame.copy()`\n",
      "  table[num_honest] = dist_total\n",
      "/var/folders/pv/jsnn4l_x60x5zx013kbk8l280000gn/T/ipykernel_6357/2699096837.py:9: PerformanceWarning: DataFrame is highly fragmented.  This is usually the result of calling `frame.insert` many times, which has poor performance.  Consider joining all columns at once using pd.concat(axis=1) instead. To get a de-fragmented frame, use `newframe = frame.copy()`\n",
      "  table[num_honest] = dist_total\n",
      "/var/folders/pv/jsnn4l_x60x5zx013kbk8l280000gn/T/ipykernel_6357/2699096837.py:9: PerformanceWarning: DataFrame is highly fragmented.  This is usually the result of calling `frame.insert` many times, which has poor performance.  Consider joining all columns at once using pd.concat(axis=1) instead. To get a de-fragmented frame, use `newframe = frame.copy()`\n",
      "  table[num_honest] = dist_total\n",
      "/var/folders/pv/jsnn4l_x60x5zx013kbk8l280000gn/T/ipykernel_6357/2699096837.py:9: PerformanceWarning: DataFrame is highly fragmented.  This is usually the result of calling `frame.insert` many times, which has poor performance.  Consider joining all columns at once using pd.concat(axis=1) instead. To get a de-fragmented frame, use `newframe = frame.copy()`\n",
      "  table[num_honest] = dist_total\n",
      "/var/folders/pv/jsnn4l_x60x5zx013kbk8l280000gn/T/ipykernel_6357/2699096837.py:9: PerformanceWarning: DataFrame is highly fragmented.  This is usually the result of calling `frame.insert` many times, which has poor performance.  Consider joining all columns at once using pd.concat(axis=1) instead. To get a de-fragmented frame, use `newframe = frame.copy()`\n",
      "  table[num_honest] = dist_total\n",
      "/var/folders/pv/jsnn4l_x60x5zx013kbk8l280000gn/T/ipykernel_6357/2699096837.py:9: PerformanceWarning: DataFrame is highly fragmented.  This is usually the result of calling `frame.insert` many times, which has poor performance.  Consider joining all columns at once using pd.concat(axis=1) instead. To get a de-fragmented frame, use `newframe = frame.copy()`\n",
      "  table[num_honest] = dist_total\n",
      "/var/folders/pv/jsnn4l_x60x5zx013kbk8l280000gn/T/ipykernel_6357/2699096837.py:9: PerformanceWarning: DataFrame is highly fragmented.  This is usually the result of calling `frame.insert` many times, which has poor performance.  Consider joining all columns at once using pd.concat(axis=1) instead. To get a de-fragmented frame, use `newframe = frame.copy()`\n",
      "  table[num_honest] = dist_total\n",
      "/var/folders/pv/jsnn4l_x60x5zx013kbk8l280000gn/T/ipykernel_6357/2699096837.py:9: PerformanceWarning: DataFrame is highly fragmented.  This is usually the result of calling `frame.insert` many times, which has poor performance.  Consider joining all columns at once using pd.concat(axis=1) instead. To get a de-fragmented frame, use `newframe = frame.copy()`\n",
      "  table[num_honest] = dist_total\n",
      "/var/folders/pv/jsnn4l_x60x5zx013kbk8l280000gn/T/ipykernel_6357/2699096837.py:9: PerformanceWarning: DataFrame is highly fragmented.  This is usually the result of calling `frame.insert` many times, which has poor performance.  Consider joining all columns at once using pd.concat(axis=1) instead. To get a de-fragmented frame, use `newframe = frame.copy()`\n",
      "  table[num_honest] = dist_total\n",
      "/var/folders/pv/jsnn4l_x60x5zx013kbk8l280000gn/T/ipykernel_6357/2699096837.py:9: PerformanceWarning: DataFrame is highly fragmented.  This is usually the result of calling `frame.insert` many times, which has poor performance.  Consider joining all columns at once using pd.concat(axis=1) instead. To get a de-fragmented frame, use `newframe = frame.copy()`\n",
      "  table[num_honest] = dist_total\n",
      "/var/folders/pv/jsnn4l_x60x5zx013kbk8l280000gn/T/ipykernel_6357/2699096837.py:9: PerformanceWarning: DataFrame is highly fragmented.  This is usually the result of calling `frame.insert` many times, which has poor performance.  Consider joining all columns at once using pd.concat(axis=1) instead. To get a de-fragmented frame, use `newframe = frame.copy()`\n",
      "  table[num_honest] = dist_total\n",
      "/var/folders/pv/jsnn4l_x60x5zx013kbk8l280000gn/T/ipykernel_6357/2699096837.py:9: PerformanceWarning: DataFrame is highly fragmented.  This is usually the result of calling `frame.insert` many times, which has poor performance.  Consider joining all columns at once using pd.concat(axis=1) instead. To get a de-fragmented frame, use `newframe = frame.copy()`\n",
      "  table[num_honest] = dist_total\n",
      "/var/folders/pv/jsnn4l_x60x5zx013kbk8l280000gn/T/ipykernel_6357/2699096837.py:9: PerformanceWarning: DataFrame is highly fragmented.  This is usually the result of calling `frame.insert` many times, which has poor performance.  Consider joining all columns at once using pd.concat(axis=1) instead. To get a de-fragmented frame, use `newframe = frame.copy()`\n",
      "  table[num_honest] = dist_total\n",
      "/var/folders/pv/jsnn4l_x60x5zx013kbk8l280000gn/T/ipykernel_6357/2699096837.py:9: PerformanceWarning: DataFrame is highly fragmented.  This is usually the result of calling `frame.insert` many times, which has poor performance.  Consider joining all columns at once using pd.concat(axis=1) instead. To get a de-fragmented frame, use `newframe = frame.copy()`\n",
      "  table[num_honest] = dist_total\n",
      "/var/folders/pv/jsnn4l_x60x5zx013kbk8l280000gn/T/ipykernel_6357/2699096837.py:9: PerformanceWarning: DataFrame is highly fragmented.  This is usually the result of calling `frame.insert` many times, which has poor performance.  Consider joining all columns at once using pd.concat(axis=1) instead. To get a de-fragmented frame, use `newframe = frame.copy()`\n",
      "  table[num_honest] = dist_total\n",
      "/var/folders/pv/jsnn4l_x60x5zx013kbk8l280000gn/T/ipykernel_6357/2699096837.py:9: PerformanceWarning: DataFrame is highly fragmented.  This is usually the result of calling `frame.insert` many times, which has poor performance.  Consider joining all columns at once using pd.concat(axis=1) instead. To get a de-fragmented frame, use `newframe = frame.copy()`\n",
      "  table[num_honest] = dist_total\n",
      "/var/folders/pv/jsnn4l_x60x5zx013kbk8l280000gn/T/ipykernel_6357/2699096837.py:9: PerformanceWarning: DataFrame is highly fragmented.  This is usually the result of calling `frame.insert` many times, which has poor performance.  Consider joining all columns at once using pd.concat(axis=1) instead. To get a de-fragmented frame, use `newframe = frame.copy()`\n",
      "  table[num_honest] = dist_total\n",
      "/var/folders/pv/jsnn4l_x60x5zx013kbk8l280000gn/T/ipykernel_6357/2699096837.py:9: PerformanceWarning: DataFrame is highly fragmented.  This is usually the result of calling `frame.insert` many times, which has poor performance.  Consider joining all columns at once using pd.concat(axis=1) instead. To get a de-fragmented frame, use `newframe = frame.copy()`\n",
      "  table[num_honest] = dist_total\n",
      "/var/folders/pv/jsnn4l_x60x5zx013kbk8l280000gn/T/ipykernel_6357/2699096837.py:9: PerformanceWarning: DataFrame is highly fragmented.  This is usually the result of calling `frame.insert` many times, which has poor performance.  Consider joining all columns at once using pd.concat(axis=1) instead. To get a de-fragmented frame, use `newframe = frame.copy()`\n",
      "  table[num_honest] = dist_total\n",
      "/var/folders/pv/jsnn4l_x60x5zx013kbk8l280000gn/T/ipykernel_6357/2699096837.py:9: PerformanceWarning: DataFrame is highly fragmented.  This is usually the result of calling `frame.insert` many times, which has poor performance.  Consider joining all columns at once using pd.concat(axis=1) instead. To get a de-fragmented frame, use `newframe = frame.copy()`\n",
      "  table[num_honest] = dist_total\n",
      "/var/folders/pv/jsnn4l_x60x5zx013kbk8l280000gn/T/ipykernel_6357/2699096837.py:9: PerformanceWarning: DataFrame is highly fragmented.  This is usually the result of calling `frame.insert` many times, which has poor performance.  Consider joining all columns at once using pd.concat(axis=1) instead. To get a de-fragmented frame, use `newframe = frame.copy()`\n",
      "  table[num_honest] = dist_total\n",
      "/var/folders/pv/jsnn4l_x60x5zx013kbk8l280000gn/T/ipykernel_6357/2699096837.py:9: PerformanceWarning: DataFrame is highly fragmented.  This is usually the result of calling `frame.insert` many times, which has poor performance.  Consider joining all columns at once using pd.concat(axis=1) instead. To get a de-fragmented frame, use `newframe = frame.copy()`\n",
      "  table[num_honest] = dist_total\n",
      "/var/folders/pv/jsnn4l_x60x5zx013kbk8l280000gn/T/ipykernel_6357/2699096837.py:9: PerformanceWarning: DataFrame is highly fragmented.  This is usually the result of calling `frame.insert` many times, which has poor performance.  Consider joining all columns at once using pd.concat(axis=1) instead. To get a de-fragmented frame, use `newframe = frame.copy()`\n",
      "  table[num_honest] = dist_total\n",
      "/var/folders/pv/jsnn4l_x60x5zx013kbk8l280000gn/T/ipykernel_6357/2699096837.py:9: PerformanceWarning: DataFrame is highly fragmented.  This is usually the result of calling `frame.insert` many times, which has poor performance.  Consider joining all columns at once using pd.concat(axis=1) instead. To get a de-fragmented frame, use `newframe = frame.copy()`\n",
      "  table[num_honest] = dist_total\n",
      "/var/folders/pv/jsnn4l_x60x5zx013kbk8l280000gn/T/ipykernel_6357/2699096837.py:9: PerformanceWarning: DataFrame is highly fragmented.  This is usually the result of calling `frame.insert` many times, which has poor performance.  Consider joining all columns at once using pd.concat(axis=1) instead. To get a de-fragmented frame, use `newframe = frame.copy()`\n",
      "  table[num_honest] = dist_total\n",
      "/var/folders/pv/jsnn4l_x60x5zx013kbk8l280000gn/T/ipykernel_6357/2699096837.py:9: PerformanceWarning: DataFrame is highly fragmented.  This is usually the result of calling `frame.insert` many times, which has poor performance.  Consider joining all columns at once using pd.concat(axis=1) instead. To get a de-fragmented frame, use `newframe = frame.copy()`\n",
      "  table[num_honest] = dist_total\n",
      "/var/folders/pv/jsnn4l_x60x5zx013kbk8l280000gn/T/ipykernel_6357/2699096837.py:9: PerformanceWarning: DataFrame is highly fragmented.  This is usually the result of calling `frame.insert` many times, which has poor performance.  Consider joining all columns at once using pd.concat(axis=1) instead. To get a de-fragmented frame, use `newframe = frame.copy()`\n",
      "  table[num_honest] = dist_total\n",
      "/var/folders/pv/jsnn4l_x60x5zx013kbk8l280000gn/T/ipykernel_6357/2699096837.py:9: PerformanceWarning: DataFrame is highly fragmented.  This is usually the result of calling `frame.insert` many times, which has poor performance.  Consider joining all columns at once using pd.concat(axis=1) instead. To get a de-fragmented frame, use `newframe = frame.copy()`\n",
      "  table[num_honest] = dist_total\n",
      "/var/folders/pv/jsnn4l_x60x5zx013kbk8l280000gn/T/ipykernel_6357/2699096837.py:9: PerformanceWarning: DataFrame is highly fragmented.  This is usually the result of calling `frame.insert` many times, which has poor performance.  Consider joining all columns at once using pd.concat(axis=1) instead. To get a de-fragmented frame, use `newframe = frame.copy()`\n",
      "  table[num_honest] = dist_total\n",
      "/var/folders/pv/jsnn4l_x60x5zx013kbk8l280000gn/T/ipykernel_6357/2699096837.py:9: PerformanceWarning: DataFrame is highly fragmented.  This is usually the result of calling `frame.insert` many times, which has poor performance.  Consider joining all columns at once using pd.concat(axis=1) instead. To get a de-fragmented frame, use `newframe = frame.copy()`\n",
      "  table[num_honest] = dist_total\n",
      "/var/folders/pv/jsnn4l_x60x5zx013kbk8l280000gn/T/ipykernel_6357/2699096837.py:9: PerformanceWarning: DataFrame is highly fragmented.  This is usually the result of calling `frame.insert` many times, which has poor performance.  Consider joining all columns at once using pd.concat(axis=1) instead. To get a de-fragmented frame, use `newframe = frame.copy()`\n",
      "  table[num_honest] = dist_total\n",
      "/var/folders/pv/jsnn4l_x60x5zx013kbk8l280000gn/T/ipykernel_6357/2699096837.py:9: PerformanceWarning: DataFrame is highly fragmented.  This is usually the result of calling `frame.insert` many times, which has poor performance.  Consider joining all columns at once using pd.concat(axis=1) instead. To get a de-fragmented frame, use `newframe = frame.copy()`\n",
      "  table[num_honest] = dist_total\n",
      "/var/folders/pv/jsnn4l_x60x5zx013kbk8l280000gn/T/ipykernel_6357/2699096837.py:9: PerformanceWarning: DataFrame is highly fragmented.  This is usually the result of calling `frame.insert` many times, which has poor performance.  Consider joining all columns at once using pd.concat(axis=1) instead. To get a de-fragmented frame, use `newframe = frame.copy()`\n",
      "  table[num_honest] = dist_total\n",
      "/var/folders/pv/jsnn4l_x60x5zx013kbk8l280000gn/T/ipykernel_6357/2699096837.py:9: PerformanceWarning: DataFrame is highly fragmented.  This is usually the result of calling `frame.insert` many times, which has poor performance.  Consider joining all columns at once using pd.concat(axis=1) instead. To get a de-fragmented frame, use `newframe = frame.copy()`\n",
      "  table[num_honest] = dist_total\n",
      "/var/folders/pv/jsnn4l_x60x5zx013kbk8l280000gn/T/ipykernel_6357/2699096837.py:9: PerformanceWarning: DataFrame is highly fragmented.  This is usually the result of calling `frame.insert` many times, which has poor performance.  Consider joining all columns at once using pd.concat(axis=1) instead. To get a de-fragmented frame, use `newframe = frame.copy()`\n",
      "  table[num_honest] = dist_total\n",
      "/var/folders/pv/jsnn4l_x60x5zx013kbk8l280000gn/T/ipykernel_6357/2699096837.py:9: PerformanceWarning: DataFrame is highly fragmented.  This is usually the result of calling `frame.insert` many times, which has poor performance.  Consider joining all columns at once using pd.concat(axis=1) instead. To get a de-fragmented frame, use `newframe = frame.copy()`\n",
      "  table[num_honest] = dist_total\n",
      "/var/folders/pv/jsnn4l_x60x5zx013kbk8l280000gn/T/ipykernel_6357/2699096837.py:9: PerformanceWarning: DataFrame is highly fragmented.  This is usually the result of calling `frame.insert` many times, which has poor performance.  Consider joining all columns at once using pd.concat(axis=1) instead. To get a de-fragmented frame, use `newframe = frame.copy()`\n",
      "  table[num_honest] = dist_total\n",
      "/var/folders/pv/jsnn4l_x60x5zx013kbk8l280000gn/T/ipykernel_6357/2699096837.py:9: PerformanceWarning: DataFrame is highly fragmented.  This is usually the result of calling `frame.insert` many times, which has poor performance.  Consider joining all columns at once using pd.concat(axis=1) instead. To get a de-fragmented frame, use `newframe = frame.copy()`\n",
      "  table[num_honest] = dist_total\n",
      "/var/folders/pv/jsnn4l_x60x5zx013kbk8l280000gn/T/ipykernel_6357/2699096837.py:9: PerformanceWarning: DataFrame is highly fragmented.  This is usually the result of calling `frame.insert` many times, which has poor performance.  Consider joining all columns at once using pd.concat(axis=1) instead. To get a de-fragmented frame, use `newframe = frame.copy()`\n",
      "  table[num_honest] = dist_total\n",
      "/var/folders/pv/jsnn4l_x60x5zx013kbk8l280000gn/T/ipykernel_6357/2699096837.py:9: PerformanceWarning: DataFrame is highly fragmented.  This is usually the result of calling `frame.insert` many times, which has poor performance.  Consider joining all columns at once using pd.concat(axis=1) instead. To get a de-fragmented frame, use `newframe = frame.copy()`\n",
      "  table[num_honest] = dist_total\n",
      "/var/folders/pv/jsnn4l_x60x5zx013kbk8l280000gn/T/ipykernel_6357/2699096837.py:9: PerformanceWarning: DataFrame is highly fragmented.  This is usually the result of calling `frame.insert` many times, which has poor performance.  Consider joining all columns at once using pd.concat(axis=1) instead. To get a de-fragmented frame, use `newframe = frame.copy()`\n",
      "  table[num_honest] = dist_total\n",
      "/var/folders/pv/jsnn4l_x60x5zx013kbk8l280000gn/T/ipykernel_6357/2699096837.py:9: PerformanceWarning: DataFrame is highly fragmented.  This is usually the result of calling `frame.insert` many times, which has poor performance.  Consider joining all columns at once using pd.concat(axis=1) instead. To get a de-fragmented frame, use `newframe = frame.copy()`\n",
      "  table[num_honest] = dist_total\n",
      "/var/folders/pv/jsnn4l_x60x5zx013kbk8l280000gn/T/ipykernel_6357/2699096837.py:9: PerformanceWarning: DataFrame is highly fragmented.  This is usually the result of calling `frame.insert` many times, which has poor performance.  Consider joining all columns at once using pd.concat(axis=1) instead. To get a de-fragmented frame, use `newframe = frame.copy()`\n",
      "  table[num_honest] = dist_total\n",
      "/var/folders/pv/jsnn4l_x60x5zx013kbk8l280000gn/T/ipykernel_6357/2699096837.py:9: PerformanceWarning: DataFrame is highly fragmented.  This is usually the result of calling `frame.insert` many times, which has poor performance.  Consider joining all columns at once using pd.concat(axis=1) instead. To get a de-fragmented frame, use `newframe = frame.copy()`\n",
      "  table[num_honest] = dist_total\n",
      "/var/folders/pv/jsnn4l_x60x5zx013kbk8l280000gn/T/ipykernel_6357/2699096837.py:9: PerformanceWarning: DataFrame is highly fragmented.  This is usually the result of calling `frame.insert` many times, which has poor performance.  Consider joining all columns at once using pd.concat(axis=1) instead. To get a de-fragmented frame, use `newframe = frame.copy()`\n",
      "  table[num_honest] = dist_total\n",
      "/var/folders/pv/jsnn4l_x60x5zx013kbk8l280000gn/T/ipykernel_6357/2699096837.py:9: PerformanceWarning: DataFrame is highly fragmented.  This is usually the result of calling `frame.insert` many times, which has poor performance.  Consider joining all columns at once using pd.concat(axis=1) instead. To get a de-fragmented frame, use `newframe = frame.copy()`\n",
      "  table[num_honest] = dist_total\n",
      "/var/folders/pv/jsnn4l_x60x5zx013kbk8l280000gn/T/ipykernel_6357/2699096837.py:9: PerformanceWarning: DataFrame is highly fragmented.  This is usually the result of calling `frame.insert` many times, which has poor performance.  Consider joining all columns at once using pd.concat(axis=1) instead. To get a de-fragmented frame, use `newframe = frame.copy()`\n",
      "  table[num_honest] = dist_total\n",
      "/var/folders/pv/jsnn4l_x60x5zx013kbk8l280000gn/T/ipykernel_6357/2699096837.py:9: PerformanceWarning: DataFrame is highly fragmented.  This is usually the result of calling `frame.insert` many times, which has poor performance.  Consider joining all columns at once using pd.concat(axis=1) instead. To get a de-fragmented frame, use `newframe = frame.copy()`\n",
      "  table[num_honest] = dist_total\n",
      "/var/folders/pv/jsnn4l_x60x5zx013kbk8l280000gn/T/ipykernel_6357/2699096837.py:9: PerformanceWarning: DataFrame is highly fragmented.  This is usually the result of calling `frame.insert` many times, which has poor performance.  Consider joining all columns at once using pd.concat(axis=1) instead. To get a de-fragmented frame, use `newframe = frame.copy()`\n",
      "  table[num_honest] = dist_total\n",
      "/var/folders/pv/jsnn4l_x60x5zx013kbk8l280000gn/T/ipykernel_6357/2699096837.py:9: PerformanceWarning: DataFrame is highly fragmented.  This is usually the result of calling `frame.insert` many times, which has poor performance.  Consider joining all columns at once using pd.concat(axis=1) instead. To get a de-fragmented frame, use `newframe = frame.copy()`\n",
      "  table[num_honest] = dist_total\n",
      "/var/folders/pv/jsnn4l_x60x5zx013kbk8l280000gn/T/ipykernel_6357/2699096837.py:9: PerformanceWarning: DataFrame is highly fragmented.  This is usually the result of calling `frame.insert` many times, which has poor performance.  Consider joining all columns at once using pd.concat(axis=1) instead. To get a de-fragmented frame, use `newframe = frame.copy()`\n",
      "  table[num_honest] = dist_total\n",
      "/var/folders/pv/jsnn4l_x60x5zx013kbk8l280000gn/T/ipykernel_6357/2699096837.py:9: PerformanceWarning: DataFrame is highly fragmented.  This is usually the result of calling `frame.insert` many times, which has poor performance.  Consider joining all columns at once using pd.concat(axis=1) instead. To get a de-fragmented frame, use `newframe = frame.copy()`\n",
      "  table[num_honest] = dist_total\n",
      "/var/folders/pv/jsnn4l_x60x5zx013kbk8l280000gn/T/ipykernel_6357/2699096837.py:9: PerformanceWarning: DataFrame is highly fragmented.  This is usually the result of calling `frame.insert` many times, which has poor performance.  Consider joining all columns at once using pd.concat(axis=1) instead. To get a de-fragmented frame, use `newframe = frame.copy()`\n",
      "  table[num_honest] = dist_total\n",
      "/var/folders/pv/jsnn4l_x60x5zx013kbk8l280000gn/T/ipykernel_6357/2699096837.py:9: PerformanceWarning: DataFrame is highly fragmented.  This is usually the result of calling `frame.insert` many times, which has poor performance.  Consider joining all columns at once using pd.concat(axis=1) instead. To get a de-fragmented frame, use `newframe = frame.copy()`\n",
      "  table[num_honest] = dist_total\n",
      "/var/folders/pv/jsnn4l_x60x5zx013kbk8l280000gn/T/ipykernel_6357/2699096837.py:9: PerformanceWarning: DataFrame is highly fragmented.  This is usually the result of calling `frame.insert` many times, which has poor performance.  Consider joining all columns at once using pd.concat(axis=1) instead. To get a de-fragmented frame, use `newframe = frame.copy()`\n",
      "  table[num_honest] = dist_total\n",
      "/var/folders/pv/jsnn4l_x60x5zx013kbk8l280000gn/T/ipykernel_6357/2699096837.py:9: PerformanceWarning: DataFrame is highly fragmented.  This is usually the result of calling `frame.insert` many times, which has poor performance.  Consider joining all columns at once using pd.concat(axis=1) instead. To get a de-fragmented frame, use `newframe = frame.copy()`\n",
      "  table[num_honest] = dist_total\n",
      "/var/folders/pv/jsnn4l_x60x5zx013kbk8l280000gn/T/ipykernel_6357/2699096837.py:9: PerformanceWarning: DataFrame is highly fragmented.  This is usually the result of calling `frame.insert` many times, which has poor performance.  Consider joining all columns at once using pd.concat(axis=1) instead. To get a de-fragmented frame, use `newframe = frame.copy()`\n",
      "  table[num_honest] = dist_total\n",
      "/var/folders/pv/jsnn4l_x60x5zx013kbk8l280000gn/T/ipykernel_6357/2699096837.py:9: PerformanceWarning: DataFrame is highly fragmented.  This is usually the result of calling `frame.insert` many times, which has poor performance.  Consider joining all columns at once using pd.concat(axis=1) instead. To get a de-fragmented frame, use `newframe = frame.copy()`\n",
      "  table[num_honest] = dist_total\n",
      "/var/folders/pv/jsnn4l_x60x5zx013kbk8l280000gn/T/ipykernel_6357/2699096837.py:9: PerformanceWarning: DataFrame is highly fragmented.  This is usually the result of calling `frame.insert` many times, which has poor performance.  Consider joining all columns at once using pd.concat(axis=1) instead. To get a de-fragmented frame, use `newframe = frame.copy()`\n",
      "  table[num_honest] = dist_total\n",
      "/var/folders/pv/jsnn4l_x60x5zx013kbk8l280000gn/T/ipykernel_6357/2699096837.py:9: PerformanceWarning: DataFrame is highly fragmented.  This is usually the result of calling `frame.insert` many times, which has poor performance.  Consider joining all columns at once using pd.concat(axis=1) instead. To get a de-fragmented frame, use `newframe = frame.copy()`\n",
      "  table[num_honest] = dist_total\n",
      "/var/folders/pv/jsnn4l_x60x5zx013kbk8l280000gn/T/ipykernel_6357/2699096837.py:9: PerformanceWarning: DataFrame is highly fragmented.  This is usually the result of calling `frame.insert` many times, which has poor performance.  Consider joining all columns at once using pd.concat(axis=1) instead. To get a de-fragmented frame, use `newframe = frame.copy()`\n",
      "  table[num_honest] = dist_total\n",
      "/var/folders/pv/jsnn4l_x60x5zx013kbk8l280000gn/T/ipykernel_6357/2699096837.py:9: PerformanceWarning: DataFrame is highly fragmented.  This is usually the result of calling `frame.insert` many times, which has poor performance.  Consider joining all columns at once using pd.concat(axis=1) instead. To get a de-fragmented frame, use `newframe = frame.copy()`\n",
      "  table[num_honest] = dist_total\n",
      "/var/folders/pv/jsnn4l_x60x5zx013kbk8l280000gn/T/ipykernel_6357/2699096837.py:9: PerformanceWarning: DataFrame is highly fragmented.  This is usually the result of calling `frame.insert` many times, which has poor performance.  Consider joining all columns at once using pd.concat(axis=1) instead. To get a de-fragmented frame, use `newframe = frame.copy()`\n",
      "  table[num_honest] = dist_total\n",
      "/var/folders/pv/jsnn4l_x60x5zx013kbk8l280000gn/T/ipykernel_6357/2699096837.py:9: PerformanceWarning: DataFrame is highly fragmented.  This is usually the result of calling `frame.insert` many times, which has poor performance.  Consider joining all columns at once using pd.concat(axis=1) instead. To get a de-fragmented frame, use `newframe = frame.copy()`\n",
      "  table[num_honest] = dist_total\n",
      "/var/folders/pv/jsnn4l_x60x5zx013kbk8l280000gn/T/ipykernel_6357/2699096837.py:9: PerformanceWarning: DataFrame is highly fragmented.  This is usually the result of calling `frame.insert` many times, which has poor performance.  Consider joining all columns at once using pd.concat(axis=1) instead. To get a de-fragmented frame, use `newframe = frame.copy()`\n",
      "  table[num_honest] = dist_total\n",
      "/var/folders/pv/jsnn4l_x60x5zx013kbk8l280000gn/T/ipykernel_6357/2699096837.py:9: PerformanceWarning: DataFrame is highly fragmented.  This is usually the result of calling `frame.insert` many times, which has poor performance.  Consider joining all columns at once using pd.concat(axis=1) instead. To get a de-fragmented frame, use `newframe = frame.copy()`\n",
      "  table[num_honest] = dist_total\n",
      "/var/folders/pv/jsnn4l_x60x5zx013kbk8l280000gn/T/ipykernel_6357/2699096837.py:9: PerformanceWarning: DataFrame is highly fragmented.  This is usually the result of calling `frame.insert` many times, which has poor performance.  Consider joining all columns at once using pd.concat(axis=1) instead. To get a de-fragmented frame, use `newframe = frame.copy()`\n",
      "  table[num_honest] = dist_total\n",
      "/var/folders/pv/jsnn4l_x60x5zx013kbk8l280000gn/T/ipykernel_6357/2699096837.py:9: PerformanceWarning: DataFrame is highly fragmented.  This is usually the result of calling `frame.insert` many times, which has poor performance.  Consider joining all columns at once using pd.concat(axis=1) instead. To get a de-fragmented frame, use `newframe = frame.copy()`\n",
      "  table[num_honest] = dist_total\n",
      "/var/folders/pv/jsnn4l_x60x5zx013kbk8l280000gn/T/ipykernel_6357/2699096837.py:9: PerformanceWarning: DataFrame is highly fragmented.  This is usually the result of calling `frame.insert` many times, which has poor performance.  Consider joining all columns at once using pd.concat(axis=1) instead. To get a de-fragmented frame, use `newframe = frame.copy()`\n",
      "  table[num_honest] = dist_total\n",
      "/var/folders/pv/jsnn4l_x60x5zx013kbk8l280000gn/T/ipykernel_6357/2699096837.py:9: PerformanceWarning: DataFrame is highly fragmented.  This is usually the result of calling `frame.insert` many times, which has poor performance.  Consider joining all columns at once using pd.concat(axis=1) instead. To get a de-fragmented frame, use `newframe = frame.copy()`\n",
      "  table[num_honest] = dist_total\n",
      "/var/folders/pv/jsnn4l_x60x5zx013kbk8l280000gn/T/ipykernel_6357/2699096837.py:9: PerformanceWarning: DataFrame is highly fragmented.  This is usually the result of calling `frame.insert` many times, which has poor performance.  Consider joining all columns at once using pd.concat(axis=1) instead. To get a de-fragmented frame, use `newframe = frame.copy()`\n",
      "  table[num_honest] = dist_total\n",
      "/var/folders/pv/jsnn4l_x60x5zx013kbk8l280000gn/T/ipykernel_6357/2699096837.py:9: PerformanceWarning: DataFrame is highly fragmented.  This is usually the result of calling `frame.insert` many times, which has poor performance.  Consider joining all columns at once using pd.concat(axis=1) instead. To get a de-fragmented frame, use `newframe = frame.copy()`\n",
      "  table[num_honest] = dist_total\n",
      "/var/folders/pv/jsnn4l_x60x5zx013kbk8l280000gn/T/ipykernel_6357/2699096837.py:9: PerformanceWarning: DataFrame is highly fragmented.  This is usually the result of calling `frame.insert` many times, which has poor performance.  Consider joining all columns at once using pd.concat(axis=1) instead. To get a de-fragmented frame, use `newframe = frame.copy()`\n",
      "  table[num_honest] = dist_total\n",
      "/var/folders/pv/jsnn4l_x60x5zx013kbk8l280000gn/T/ipykernel_6357/2699096837.py:9: PerformanceWarning: DataFrame is highly fragmented.  This is usually the result of calling `frame.insert` many times, which has poor performance.  Consider joining all columns at once using pd.concat(axis=1) instead. To get a de-fragmented frame, use `newframe = frame.copy()`\n",
      "  table[num_honest] = dist_total\n",
      "/var/folders/pv/jsnn4l_x60x5zx013kbk8l280000gn/T/ipykernel_6357/2699096837.py:9: PerformanceWarning: DataFrame is highly fragmented.  This is usually the result of calling `frame.insert` many times, which has poor performance.  Consider joining all columns at once using pd.concat(axis=1) instead. To get a de-fragmented frame, use `newframe = frame.copy()`\n",
      "  table[num_honest] = dist_total\n",
      "/var/folders/pv/jsnn4l_x60x5zx013kbk8l280000gn/T/ipykernel_6357/2699096837.py:9: PerformanceWarning: DataFrame is highly fragmented.  This is usually the result of calling `frame.insert` many times, which has poor performance.  Consider joining all columns at once using pd.concat(axis=1) instead. To get a de-fragmented frame, use `newframe = frame.copy()`\n",
      "  table[num_honest] = dist_total\n",
      "/var/folders/pv/jsnn4l_x60x5zx013kbk8l280000gn/T/ipykernel_6357/2699096837.py:9: PerformanceWarning: DataFrame is highly fragmented.  This is usually the result of calling `frame.insert` many times, which has poor performance.  Consider joining all columns at once using pd.concat(axis=1) instead. To get a de-fragmented frame, use `newframe = frame.copy()`\n",
      "  table[num_honest] = dist_total\n",
      "/var/folders/pv/jsnn4l_x60x5zx013kbk8l280000gn/T/ipykernel_6357/2699096837.py:9: PerformanceWarning: DataFrame is highly fragmented.  This is usually the result of calling `frame.insert` many times, which has poor performance.  Consider joining all columns at once using pd.concat(axis=1) instead. To get a de-fragmented frame, use `newframe = frame.copy()`\n",
      "  table[num_honest] = dist_total\n",
      "/var/folders/pv/jsnn4l_x60x5zx013kbk8l280000gn/T/ipykernel_6357/2699096837.py:9: PerformanceWarning: DataFrame is highly fragmented.  This is usually the result of calling `frame.insert` many times, which has poor performance.  Consider joining all columns at once using pd.concat(axis=1) instead. To get a de-fragmented frame, use `newframe = frame.copy()`\n",
      "  table[num_honest] = dist_total\n",
      "/var/folders/pv/jsnn4l_x60x5zx013kbk8l280000gn/T/ipykernel_6357/2699096837.py:9: PerformanceWarning: DataFrame is highly fragmented.  This is usually the result of calling `frame.insert` many times, which has poor performance.  Consider joining all columns at once using pd.concat(axis=1) instead. To get a de-fragmented frame, use `newframe = frame.copy()`\n",
      "  table[num_honest] = dist_total\n",
      "/var/folders/pv/jsnn4l_x60x5zx013kbk8l280000gn/T/ipykernel_6357/2699096837.py:9: PerformanceWarning: DataFrame is highly fragmented.  This is usually the result of calling `frame.insert` many times, which has poor performance.  Consider joining all columns at once using pd.concat(axis=1) instead. To get a de-fragmented frame, use `newframe = frame.copy()`\n",
      "  table[num_honest] = dist_total\n",
      "/var/folders/pv/jsnn4l_x60x5zx013kbk8l280000gn/T/ipykernel_6357/2699096837.py:9: PerformanceWarning: DataFrame is highly fragmented.  This is usually the result of calling `frame.insert` many times, which has poor performance.  Consider joining all columns at once using pd.concat(axis=1) instead. To get a de-fragmented frame, use `newframe = frame.copy()`\n",
      "  table[num_honest] = dist_total\n",
      "/var/folders/pv/jsnn4l_x60x5zx013kbk8l280000gn/T/ipykernel_6357/2699096837.py:9: PerformanceWarning: DataFrame is highly fragmented.  This is usually the result of calling `frame.insert` many times, which has poor performance.  Consider joining all columns at once using pd.concat(axis=1) instead. To get a de-fragmented frame, use `newframe = frame.copy()`\n",
      "  table[num_honest] = dist_total\n",
      "/var/folders/pv/jsnn4l_x60x5zx013kbk8l280000gn/T/ipykernel_6357/2699096837.py:9: PerformanceWarning: DataFrame is highly fragmented.  This is usually the result of calling `frame.insert` many times, which has poor performance.  Consider joining all columns at once using pd.concat(axis=1) instead. To get a de-fragmented frame, use `newframe = frame.copy()`\n",
      "  table[num_honest] = dist_total\n",
      "/var/folders/pv/jsnn4l_x60x5zx013kbk8l280000gn/T/ipykernel_6357/2699096837.py:9: PerformanceWarning: DataFrame is highly fragmented.  This is usually the result of calling `frame.insert` many times, which has poor performance.  Consider joining all columns at once using pd.concat(axis=1) instead. To get a de-fragmented frame, use `newframe = frame.copy()`\n",
      "  table[num_honest] = dist_total\n",
      "/var/folders/pv/jsnn4l_x60x5zx013kbk8l280000gn/T/ipykernel_6357/2699096837.py:9: PerformanceWarning: DataFrame is highly fragmented.  This is usually the result of calling `frame.insert` many times, which has poor performance.  Consider joining all columns at once using pd.concat(axis=1) instead. To get a de-fragmented frame, use `newframe = frame.copy()`\n",
      "  table[num_honest] = dist_total\n",
      "/var/folders/pv/jsnn4l_x60x5zx013kbk8l280000gn/T/ipykernel_6357/2699096837.py:9: PerformanceWarning: DataFrame is highly fragmented.  This is usually the result of calling `frame.insert` many times, which has poor performance.  Consider joining all columns at once using pd.concat(axis=1) instead. To get a de-fragmented frame, use `newframe = frame.copy()`\n",
      "  table[num_honest] = dist_total\n",
      "/var/folders/pv/jsnn4l_x60x5zx013kbk8l280000gn/T/ipykernel_6357/2699096837.py:9: PerformanceWarning: DataFrame is highly fragmented.  This is usually the result of calling `frame.insert` many times, which has poor performance.  Consider joining all columns at once using pd.concat(axis=1) instead. To get a de-fragmented frame, use `newframe = frame.copy()`\n",
      "  table[num_honest] = dist_total\n",
      "/var/folders/pv/jsnn4l_x60x5zx013kbk8l280000gn/T/ipykernel_6357/2699096837.py:9: PerformanceWarning: DataFrame is highly fragmented.  This is usually the result of calling `frame.insert` many times, which has poor performance.  Consider joining all columns at once using pd.concat(axis=1) instead. To get a de-fragmented frame, use `newframe = frame.copy()`\n",
      "  table[num_honest] = dist_total\n",
      "/var/folders/pv/jsnn4l_x60x5zx013kbk8l280000gn/T/ipykernel_6357/2699096837.py:9: PerformanceWarning: DataFrame is highly fragmented.  This is usually the result of calling `frame.insert` many times, which has poor performance.  Consider joining all columns at once using pd.concat(axis=1) instead. To get a de-fragmented frame, use `newframe = frame.copy()`\n",
      "  table[num_honest] = dist_total\n",
      "/var/folders/pv/jsnn4l_x60x5zx013kbk8l280000gn/T/ipykernel_6357/2699096837.py:9: PerformanceWarning: DataFrame is highly fragmented.  This is usually the result of calling `frame.insert` many times, which has poor performance.  Consider joining all columns at once using pd.concat(axis=1) instead. To get a de-fragmented frame, use `newframe = frame.copy()`\n",
      "  table[num_honest] = dist_total\n",
      "/var/folders/pv/jsnn4l_x60x5zx013kbk8l280000gn/T/ipykernel_6357/2699096837.py:9: PerformanceWarning: DataFrame is highly fragmented.  This is usually the result of calling `frame.insert` many times, which has poor performance.  Consider joining all columns at once using pd.concat(axis=1) instead. To get a de-fragmented frame, use `newframe = frame.copy()`\n",
      "  table[num_honest] = dist_total\n",
      "/var/folders/pv/jsnn4l_x60x5zx013kbk8l280000gn/T/ipykernel_6357/2699096837.py:9: PerformanceWarning: DataFrame is highly fragmented.  This is usually the result of calling `frame.insert` many times, which has poor performance.  Consider joining all columns at once using pd.concat(axis=1) instead. To get a de-fragmented frame, use `newframe = frame.copy()`\n",
      "  table[num_honest] = dist_total\n",
      "/var/folders/pv/jsnn4l_x60x5zx013kbk8l280000gn/T/ipykernel_6357/2699096837.py:9: PerformanceWarning: DataFrame is highly fragmented.  This is usually the result of calling `frame.insert` many times, which has poor performance.  Consider joining all columns at once using pd.concat(axis=1) instead. To get a de-fragmented frame, use `newframe = frame.copy()`\n",
      "  table[num_honest] = dist_total\n",
      "/var/folders/pv/jsnn4l_x60x5zx013kbk8l280000gn/T/ipykernel_6357/2699096837.py:9: PerformanceWarning: DataFrame is highly fragmented.  This is usually the result of calling `frame.insert` many times, which has poor performance.  Consider joining all columns at once using pd.concat(axis=1) instead. To get a de-fragmented frame, use `newframe = frame.copy()`\n",
      "  table[num_honest] = dist_total\n",
      "/var/folders/pv/jsnn4l_x60x5zx013kbk8l280000gn/T/ipykernel_6357/2699096837.py:9: PerformanceWarning: DataFrame is highly fragmented.  This is usually the result of calling `frame.insert` many times, which has poor performance.  Consider joining all columns at once using pd.concat(axis=1) instead. To get a de-fragmented frame, use `newframe = frame.copy()`\n",
      "  table[num_honest] = dist_total\n",
      "/var/folders/pv/jsnn4l_x60x5zx013kbk8l280000gn/T/ipykernel_6357/2699096837.py:9: PerformanceWarning: DataFrame is highly fragmented.  This is usually the result of calling `frame.insert` many times, which has poor performance.  Consider joining all columns at once using pd.concat(axis=1) instead. To get a de-fragmented frame, use `newframe = frame.copy()`\n",
      "  table[num_honest] = dist_total\n",
      "/var/folders/pv/jsnn4l_x60x5zx013kbk8l280000gn/T/ipykernel_6357/2699096837.py:9: PerformanceWarning: DataFrame is highly fragmented.  This is usually the result of calling `frame.insert` many times, which has poor performance.  Consider joining all columns at once using pd.concat(axis=1) instead. To get a de-fragmented frame, use `newframe = frame.copy()`\n",
      "  table[num_honest] = dist_total\n",
      "/var/folders/pv/jsnn4l_x60x5zx013kbk8l280000gn/T/ipykernel_6357/2699096837.py:9: PerformanceWarning: DataFrame is highly fragmented.  This is usually the result of calling `frame.insert` many times, which has poor performance.  Consider joining all columns at once using pd.concat(axis=1) instead. To get a de-fragmented frame, use `newframe = frame.copy()`\n",
      "  table[num_honest] = dist_total\n",
      "/var/folders/pv/jsnn4l_x60x5zx013kbk8l280000gn/T/ipykernel_6357/2699096837.py:9: PerformanceWarning: DataFrame is highly fragmented.  This is usually the result of calling `frame.insert` many times, which has poor performance.  Consider joining all columns at once using pd.concat(axis=1) instead. To get a de-fragmented frame, use `newframe = frame.copy()`\n",
      "  table[num_honest] = dist_total\n",
      "/var/folders/pv/jsnn4l_x60x5zx013kbk8l280000gn/T/ipykernel_6357/2699096837.py:9: PerformanceWarning: DataFrame is highly fragmented.  This is usually the result of calling `frame.insert` many times, which has poor performance.  Consider joining all columns at once using pd.concat(axis=1) instead. To get a de-fragmented frame, use `newframe = frame.copy()`\n",
      "  table[num_honest] = dist_total\n",
      "/var/folders/pv/jsnn4l_x60x5zx013kbk8l280000gn/T/ipykernel_6357/2699096837.py:9: PerformanceWarning: DataFrame is highly fragmented.  This is usually the result of calling `frame.insert` many times, which has poor performance.  Consider joining all columns at once using pd.concat(axis=1) instead. To get a de-fragmented frame, use `newframe = frame.copy()`\n",
      "  table[num_honest] = dist_total\n",
      "/var/folders/pv/jsnn4l_x60x5zx013kbk8l280000gn/T/ipykernel_6357/2699096837.py:9: PerformanceWarning: DataFrame is highly fragmented.  This is usually the result of calling `frame.insert` many times, which has poor performance.  Consider joining all columns at once using pd.concat(axis=1) instead. To get a de-fragmented frame, use `newframe = frame.copy()`\n",
      "  table[num_honest] = dist_total\n",
      "/var/folders/pv/jsnn4l_x60x5zx013kbk8l280000gn/T/ipykernel_6357/2699096837.py:9: PerformanceWarning: DataFrame is highly fragmented.  This is usually the result of calling `frame.insert` many times, which has poor performance.  Consider joining all columns at once using pd.concat(axis=1) instead. To get a de-fragmented frame, use `newframe = frame.copy()`\n",
      "  table[num_honest] = dist_total\n",
      "/var/folders/pv/jsnn4l_x60x5zx013kbk8l280000gn/T/ipykernel_6357/2699096837.py:9: PerformanceWarning: DataFrame is highly fragmented.  This is usually the result of calling `frame.insert` many times, which has poor performance.  Consider joining all columns at once using pd.concat(axis=1) instead. To get a de-fragmented frame, use `newframe = frame.copy()`\n",
      "  table[num_honest] = dist_total\n",
      "/var/folders/pv/jsnn4l_x60x5zx013kbk8l280000gn/T/ipykernel_6357/2699096837.py:9: PerformanceWarning: DataFrame is highly fragmented.  This is usually the result of calling `frame.insert` many times, which has poor performance.  Consider joining all columns at once using pd.concat(axis=1) instead. To get a de-fragmented frame, use `newframe = frame.copy()`\n",
      "  table[num_honest] = dist_total\n",
      "/var/folders/pv/jsnn4l_x60x5zx013kbk8l280000gn/T/ipykernel_6357/2699096837.py:9: PerformanceWarning: DataFrame is highly fragmented.  This is usually the result of calling `frame.insert` many times, which has poor performance.  Consider joining all columns at once using pd.concat(axis=1) instead. To get a de-fragmented frame, use `newframe = frame.copy()`\n",
      "  table[num_honest] = dist_total\n",
      "/var/folders/pv/jsnn4l_x60x5zx013kbk8l280000gn/T/ipykernel_6357/2699096837.py:9: PerformanceWarning: DataFrame is highly fragmented.  This is usually the result of calling `frame.insert` many times, which has poor performance.  Consider joining all columns at once using pd.concat(axis=1) instead. To get a de-fragmented frame, use `newframe = frame.copy()`\n",
      "  table[num_honest] = dist_total\n",
      "/var/folders/pv/jsnn4l_x60x5zx013kbk8l280000gn/T/ipykernel_6357/2699096837.py:9: PerformanceWarning: DataFrame is highly fragmented.  This is usually the result of calling `frame.insert` many times, which has poor performance.  Consider joining all columns at once using pd.concat(axis=1) instead. To get a de-fragmented frame, use `newframe = frame.copy()`\n",
      "  table[num_honest] = dist_total\n",
      "/var/folders/pv/jsnn4l_x60x5zx013kbk8l280000gn/T/ipykernel_6357/2699096837.py:9: PerformanceWarning: DataFrame is highly fragmented.  This is usually the result of calling `frame.insert` many times, which has poor performance.  Consider joining all columns at once using pd.concat(axis=1) instead. To get a de-fragmented frame, use `newframe = frame.copy()`\n",
      "  table[num_honest] = dist_total\n",
      "/var/folders/pv/jsnn4l_x60x5zx013kbk8l280000gn/T/ipykernel_6357/2699096837.py:9: PerformanceWarning: DataFrame is highly fragmented.  This is usually the result of calling `frame.insert` many times, which has poor performance.  Consider joining all columns at once using pd.concat(axis=1) instead. To get a de-fragmented frame, use `newframe = frame.copy()`\n",
      "  table[num_honest] = dist_total\n",
      "/var/folders/pv/jsnn4l_x60x5zx013kbk8l280000gn/T/ipykernel_6357/2699096837.py:9: PerformanceWarning: DataFrame is highly fragmented.  This is usually the result of calling `frame.insert` many times, which has poor performance.  Consider joining all columns at once using pd.concat(axis=1) instead. To get a de-fragmented frame, use `newframe = frame.copy()`\n",
      "  table[num_honest] = dist_total\n",
      "/var/folders/pv/jsnn4l_x60x5zx013kbk8l280000gn/T/ipykernel_6357/2699096837.py:9: PerformanceWarning: DataFrame is highly fragmented.  This is usually the result of calling `frame.insert` many times, which has poor performance.  Consider joining all columns at once using pd.concat(axis=1) instead. To get a de-fragmented frame, use `newframe = frame.copy()`\n",
      "  table[num_honest] = dist_total\n",
      "/var/folders/pv/jsnn4l_x60x5zx013kbk8l280000gn/T/ipykernel_6357/2699096837.py:9: PerformanceWarning: DataFrame is highly fragmented.  This is usually the result of calling `frame.insert` many times, which has poor performance.  Consider joining all columns at once using pd.concat(axis=1) instead. To get a de-fragmented frame, use `newframe = frame.copy()`\n",
      "  table[num_honest] = dist_total\n",
      "/var/folders/pv/jsnn4l_x60x5zx013kbk8l280000gn/T/ipykernel_6357/2699096837.py:9: PerformanceWarning: DataFrame is highly fragmented.  This is usually the result of calling `frame.insert` many times, which has poor performance.  Consider joining all columns at once using pd.concat(axis=1) instead. To get a de-fragmented frame, use `newframe = frame.copy()`\n",
      "  table[num_honest] = dist_total\n",
      "/var/folders/pv/jsnn4l_x60x5zx013kbk8l280000gn/T/ipykernel_6357/2699096837.py:9: PerformanceWarning: DataFrame is highly fragmented.  This is usually the result of calling `frame.insert` many times, which has poor performance.  Consider joining all columns at once using pd.concat(axis=1) instead. To get a de-fragmented frame, use `newframe = frame.copy()`\n",
      "  table[num_honest] = dist_total\n",
      "/var/folders/pv/jsnn4l_x60x5zx013kbk8l280000gn/T/ipykernel_6357/2699096837.py:9: PerformanceWarning: DataFrame is highly fragmented.  This is usually the result of calling `frame.insert` many times, which has poor performance.  Consider joining all columns at once using pd.concat(axis=1) instead. To get a de-fragmented frame, use `newframe = frame.copy()`\n",
      "  table[num_honest] = dist_total\n",
      "/var/folders/pv/jsnn4l_x60x5zx013kbk8l280000gn/T/ipykernel_6357/2699096837.py:9: PerformanceWarning: DataFrame is highly fragmented.  This is usually the result of calling `frame.insert` many times, which has poor performance.  Consider joining all columns at once using pd.concat(axis=1) instead. To get a de-fragmented frame, use `newframe = frame.copy()`\n",
      "  table[num_honest] = dist_total\n",
      "/var/folders/pv/jsnn4l_x60x5zx013kbk8l280000gn/T/ipykernel_6357/2699096837.py:9: PerformanceWarning: DataFrame is highly fragmented.  This is usually the result of calling `frame.insert` many times, which has poor performance.  Consider joining all columns at once using pd.concat(axis=1) instead. To get a de-fragmented frame, use `newframe = frame.copy()`\n",
      "  table[num_honest] = dist_total\n",
      "/var/folders/pv/jsnn4l_x60x5zx013kbk8l280000gn/T/ipykernel_6357/2699096837.py:9: PerformanceWarning: DataFrame is highly fragmented.  This is usually the result of calling `frame.insert` many times, which has poor performance.  Consider joining all columns at once using pd.concat(axis=1) instead. To get a de-fragmented frame, use `newframe = frame.copy()`\n",
      "  table[num_honest] = dist_total\n",
      "/var/folders/pv/jsnn4l_x60x5zx013kbk8l280000gn/T/ipykernel_6357/2699096837.py:9: PerformanceWarning: DataFrame is highly fragmented.  This is usually the result of calling `frame.insert` many times, which has poor performance.  Consider joining all columns at once using pd.concat(axis=1) instead. To get a de-fragmented frame, use `newframe = frame.copy()`\n",
      "  table[num_honest] = dist_total\n",
      "/var/folders/pv/jsnn4l_x60x5zx013kbk8l280000gn/T/ipykernel_6357/2699096837.py:9: PerformanceWarning: DataFrame is highly fragmented.  This is usually the result of calling `frame.insert` many times, which has poor performance.  Consider joining all columns at once using pd.concat(axis=1) instead. To get a de-fragmented frame, use `newframe = frame.copy()`\n",
      "  table[num_honest] = dist_total\n",
      "/var/folders/pv/jsnn4l_x60x5zx013kbk8l280000gn/T/ipykernel_6357/2699096837.py:9: PerformanceWarning: DataFrame is highly fragmented.  This is usually the result of calling `frame.insert` many times, which has poor performance.  Consider joining all columns at once using pd.concat(axis=1) instead. To get a de-fragmented frame, use `newframe = frame.copy()`\n",
      "  table[num_honest] = dist_total\n",
      "/var/folders/pv/jsnn4l_x60x5zx013kbk8l280000gn/T/ipykernel_6357/2699096837.py:9: PerformanceWarning: DataFrame is highly fragmented.  This is usually the result of calling `frame.insert` many times, which has poor performance.  Consider joining all columns at once using pd.concat(axis=1) instead. To get a de-fragmented frame, use `newframe = frame.copy()`\n",
      "  table[num_honest] = dist_total\n",
      "/var/folders/pv/jsnn4l_x60x5zx013kbk8l280000gn/T/ipykernel_6357/2699096837.py:9: PerformanceWarning: DataFrame is highly fragmented.  This is usually the result of calling `frame.insert` many times, which has poor performance.  Consider joining all columns at once using pd.concat(axis=1) instead. To get a de-fragmented frame, use `newframe = frame.copy()`\n",
      "  table[num_honest] = dist_total\n",
      "/var/folders/pv/jsnn4l_x60x5zx013kbk8l280000gn/T/ipykernel_6357/2699096837.py:9: PerformanceWarning: DataFrame is highly fragmented.  This is usually the result of calling `frame.insert` many times, which has poor performance.  Consider joining all columns at once using pd.concat(axis=1) instead. To get a de-fragmented frame, use `newframe = frame.copy()`\n",
      "  table[num_honest] = dist_total\n",
      "/var/folders/pv/jsnn4l_x60x5zx013kbk8l280000gn/T/ipykernel_6357/2699096837.py:9: PerformanceWarning: DataFrame is highly fragmented.  This is usually the result of calling `frame.insert` many times, which has poor performance.  Consider joining all columns at once using pd.concat(axis=1) instead. To get a de-fragmented frame, use `newframe = frame.copy()`\n",
      "  table[num_honest] = dist_total\n",
      "/var/folders/pv/jsnn4l_x60x5zx013kbk8l280000gn/T/ipykernel_6357/2699096837.py:9: PerformanceWarning: DataFrame is highly fragmented.  This is usually the result of calling `frame.insert` many times, which has poor performance.  Consider joining all columns at once using pd.concat(axis=1) instead. To get a de-fragmented frame, use `newframe = frame.copy()`\n",
      "  table[num_honest] = dist_total\n",
      "/var/folders/pv/jsnn4l_x60x5zx013kbk8l280000gn/T/ipykernel_6357/2699096837.py:9: PerformanceWarning: DataFrame is highly fragmented.  This is usually the result of calling `frame.insert` many times, which has poor performance.  Consider joining all columns at once using pd.concat(axis=1) instead. To get a de-fragmented frame, use `newframe = frame.copy()`\n",
      "  table[num_honest] = dist_total\n",
      "/var/folders/pv/jsnn4l_x60x5zx013kbk8l280000gn/T/ipykernel_6357/2699096837.py:9: PerformanceWarning: DataFrame is highly fragmented.  This is usually the result of calling `frame.insert` many times, which has poor performance.  Consider joining all columns at once using pd.concat(axis=1) instead. To get a de-fragmented frame, use `newframe = frame.copy()`\n",
      "  table[num_honest] = dist_total\n",
      "/var/folders/pv/jsnn4l_x60x5zx013kbk8l280000gn/T/ipykernel_6357/2699096837.py:9: PerformanceWarning: DataFrame is highly fragmented.  This is usually the result of calling `frame.insert` many times, which has poor performance.  Consider joining all columns at once using pd.concat(axis=1) instead. To get a de-fragmented frame, use `newframe = frame.copy()`\n",
      "  table[num_honest] = dist_total\n",
      "/var/folders/pv/jsnn4l_x60x5zx013kbk8l280000gn/T/ipykernel_6357/2699096837.py:9: PerformanceWarning: DataFrame is highly fragmented.  This is usually the result of calling `frame.insert` many times, which has poor performance.  Consider joining all columns at once using pd.concat(axis=1) instead. To get a de-fragmented frame, use `newframe = frame.copy()`\n",
      "  table[num_honest] = dist_total\n",
      "/var/folders/pv/jsnn4l_x60x5zx013kbk8l280000gn/T/ipykernel_6357/2699096837.py:9: PerformanceWarning: DataFrame is highly fragmented.  This is usually the result of calling `frame.insert` many times, which has poor performance.  Consider joining all columns at once using pd.concat(axis=1) instead. To get a de-fragmented frame, use `newframe = frame.copy()`\n",
      "  table[num_honest] = dist_total\n",
      "/var/folders/pv/jsnn4l_x60x5zx013kbk8l280000gn/T/ipykernel_6357/2699096837.py:9: PerformanceWarning: DataFrame is highly fragmented.  This is usually the result of calling `frame.insert` many times, which has poor performance.  Consider joining all columns at once using pd.concat(axis=1) instead. To get a de-fragmented frame, use `newframe = frame.copy()`\n",
      "  table[num_honest] = dist_total\n",
      "/var/folders/pv/jsnn4l_x60x5zx013kbk8l280000gn/T/ipykernel_6357/2699096837.py:9: PerformanceWarning: DataFrame is highly fragmented.  This is usually the result of calling `frame.insert` many times, which has poor performance.  Consider joining all columns at once using pd.concat(axis=1) instead. To get a de-fragmented frame, use `newframe = frame.copy()`\n",
      "  table[num_honest] = dist_total\n",
      "/var/folders/pv/jsnn4l_x60x5zx013kbk8l280000gn/T/ipykernel_6357/2699096837.py:9: PerformanceWarning: DataFrame is highly fragmented.  This is usually the result of calling `frame.insert` many times, which has poor performance.  Consider joining all columns at once using pd.concat(axis=1) instead. To get a de-fragmented frame, use `newframe = frame.copy()`\n",
      "  table[num_honest] = dist_total\n",
      "/var/folders/pv/jsnn4l_x60x5zx013kbk8l280000gn/T/ipykernel_6357/2699096837.py:9: PerformanceWarning: DataFrame is highly fragmented.  This is usually the result of calling `frame.insert` many times, which has poor performance.  Consider joining all columns at once using pd.concat(axis=1) instead. To get a de-fragmented frame, use `newframe = frame.copy()`\n",
      "  table[num_honest] = dist_total\n",
      "/var/folders/pv/jsnn4l_x60x5zx013kbk8l280000gn/T/ipykernel_6357/2699096837.py:9: PerformanceWarning: DataFrame is highly fragmented.  This is usually the result of calling `frame.insert` many times, which has poor performance.  Consider joining all columns at once using pd.concat(axis=1) instead. To get a de-fragmented frame, use `newframe = frame.copy()`\n",
      "  table[num_honest] = dist_total\n",
      "/var/folders/pv/jsnn4l_x60x5zx013kbk8l280000gn/T/ipykernel_6357/2699096837.py:9: PerformanceWarning: DataFrame is highly fragmented.  This is usually the result of calling `frame.insert` many times, which has poor performance.  Consider joining all columns at once using pd.concat(axis=1) instead. To get a de-fragmented frame, use `newframe = frame.copy()`\n",
      "  table[num_honest] = dist_total\n",
      "/var/folders/pv/jsnn4l_x60x5zx013kbk8l280000gn/T/ipykernel_6357/2699096837.py:9: PerformanceWarning: DataFrame is highly fragmented.  This is usually the result of calling `frame.insert` many times, which has poor performance.  Consider joining all columns at once using pd.concat(axis=1) instead. To get a de-fragmented frame, use `newframe = frame.copy()`\n",
      "  table[num_honest] = dist_total\n",
      "/var/folders/pv/jsnn4l_x60x5zx013kbk8l280000gn/T/ipykernel_6357/2699096837.py:9: PerformanceWarning: DataFrame is highly fragmented.  This is usually the result of calling `frame.insert` many times, which has poor performance.  Consider joining all columns at once using pd.concat(axis=1) instead. To get a de-fragmented frame, use `newframe = frame.copy()`\n",
      "  table[num_honest] = dist_total\n",
      "/var/folders/pv/jsnn4l_x60x5zx013kbk8l280000gn/T/ipykernel_6357/2699096837.py:9: PerformanceWarning: DataFrame is highly fragmented.  This is usually the result of calling `frame.insert` many times, which has poor performance.  Consider joining all columns at once using pd.concat(axis=1) instead. To get a de-fragmented frame, use `newframe = frame.copy()`\n",
      "  table[num_honest] = dist_total\n",
      "/var/folders/pv/jsnn4l_x60x5zx013kbk8l280000gn/T/ipykernel_6357/2699096837.py:9: PerformanceWarning: DataFrame is highly fragmented.  This is usually the result of calling `frame.insert` many times, which has poor performance.  Consider joining all columns at once using pd.concat(axis=1) instead. To get a de-fragmented frame, use `newframe = frame.copy()`\n",
      "  table[num_honest] = dist_total\n",
      "/var/folders/pv/jsnn4l_x60x5zx013kbk8l280000gn/T/ipykernel_6357/2699096837.py:9: PerformanceWarning: DataFrame is highly fragmented.  This is usually the result of calling `frame.insert` many times, which has poor performance.  Consider joining all columns at once using pd.concat(axis=1) instead. To get a de-fragmented frame, use `newframe = frame.copy()`\n",
      "  table[num_honest] = dist_total\n",
      "/var/folders/pv/jsnn4l_x60x5zx013kbk8l280000gn/T/ipykernel_6357/2699096837.py:9: PerformanceWarning: DataFrame is highly fragmented.  This is usually the result of calling `frame.insert` many times, which has poor performance.  Consider joining all columns at once using pd.concat(axis=1) instead. To get a de-fragmented frame, use `newframe = frame.copy()`\n",
      "  table[num_honest] = dist_total\n",
      "/var/folders/pv/jsnn4l_x60x5zx013kbk8l280000gn/T/ipykernel_6357/2699096837.py:9: PerformanceWarning: DataFrame is highly fragmented.  This is usually the result of calling `frame.insert` many times, which has poor performance.  Consider joining all columns at once using pd.concat(axis=1) instead. To get a de-fragmented frame, use `newframe = frame.copy()`\n",
      "  table[num_honest] = dist_total\n",
      "/var/folders/pv/jsnn4l_x60x5zx013kbk8l280000gn/T/ipykernel_6357/2699096837.py:9: PerformanceWarning: DataFrame is highly fragmented.  This is usually the result of calling `frame.insert` many times, which has poor performance.  Consider joining all columns at once using pd.concat(axis=1) instead. To get a de-fragmented frame, use `newframe = frame.copy()`\n",
      "  table[num_honest] = dist_total\n",
      "/var/folders/pv/jsnn4l_x60x5zx013kbk8l280000gn/T/ipykernel_6357/2699096837.py:9: PerformanceWarning: DataFrame is highly fragmented.  This is usually the result of calling `frame.insert` many times, which has poor performance.  Consider joining all columns at once using pd.concat(axis=1) instead. To get a de-fragmented frame, use `newframe = frame.copy()`\n",
      "  table[num_honest] = dist_total\n",
      "/var/folders/pv/jsnn4l_x60x5zx013kbk8l280000gn/T/ipykernel_6357/2699096837.py:9: PerformanceWarning: DataFrame is highly fragmented.  This is usually the result of calling `frame.insert` many times, which has poor performance.  Consider joining all columns at once using pd.concat(axis=1) instead. To get a de-fragmented frame, use `newframe = frame.copy()`\n",
      "  table[num_honest] = dist_total\n",
      "/var/folders/pv/jsnn4l_x60x5zx013kbk8l280000gn/T/ipykernel_6357/2699096837.py:9: PerformanceWarning: DataFrame is highly fragmented.  This is usually the result of calling `frame.insert` many times, which has poor performance.  Consider joining all columns at once using pd.concat(axis=1) instead. To get a de-fragmented frame, use `newframe = frame.copy()`\n",
      "  table[num_honest] = dist_total\n",
      "/var/folders/pv/jsnn4l_x60x5zx013kbk8l280000gn/T/ipykernel_6357/2699096837.py:9: PerformanceWarning: DataFrame is highly fragmented.  This is usually the result of calling `frame.insert` many times, which has poor performance.  Consider joining all columns at once using pd.concat(axis=1) instead. To get a de-fragmented frame, use `newframe = frame.copy()`\n",
      "  table[num_honest] = dist_total\n",
      "/var/folders/pv/jsnn4l_x60x5zx013kbk8l280000gn/T/ipykernel_6357/2699096837.py:9: PerformanceWarning: DataFrame is highly fragmented.  This is usually the result of calling `frame.insert` many times, which has poor performance.  Consider joining all columns at once using pd.concat(axis=1) instead. To get a de-fragmented frame, use `newframe = frame.copy()`\n",
      "  table[num_honest] = dist_total\n",
      "/var/folders/pv/jsnn4l_x60x5zx013kbk8l280000gn/T/ipykernel_6357/2699096837.py:9: PerformanceWarning: DataFrame is highly fragmented.  This is usually the result of calling `frame.insert` many times, which has poor performance.  Consider joining all columns at once using pd.concat(axis=1) instead. To get a de-fragmented frame, use `newframe = frame.copy()`\n",
      "  table[num_honest] = dist_total\n",
      "/var/folders/pv/jsnn4l_x60x5zx013kbk8l280000gn/T/ipykernel_6357/2699096837.py:9: PerformanceWarning: DataFrame is highly fragmented.  This is usually the result of calling `frame.insert` many times, which has poor performance.  Consider joining all columns at once using pd.concat(axis=1) instead. To get a de-fragmented frame, use `newframe = frame.copy()`\n",
      "  table[num_honest] = dist_total\n",
      "/var/folders/pv/jsnn4l_x60x5zx013kbk8l280000gn/T/ipykernel_6357/2699096837.py:9: PerformanceWarning: DataFrame is highly fragmented.  This is usually the result of calling `frame.insert` many times, which has poor performance.  Consider joining all columns at once using pd.concat(axis=1) instead. To get a de-fragmented frame, use `newframe = frame.copy()`\n",
      "  table[num_honest] = dist_total\n",
      "/var/folders/pv/jsnn4l_x60x5zx013kbk8l280000gn/T/ipykernel_6357/2699096837.py:9: PerformanceWarning: DataFrame is highly fragmented.  This is usually the result of calling `frame.insert` many times, which has poor performance.  Consider joining all columns at once using pd.concat(axis=1) instead. To get a de-fragmented frame, use `newframe = frame.copy()`\n",
      "  table[num_honest] = dist_total\n",
      "/var/folders/pv/jsnn4l_x60x5zx013kbk8l280000gn/T/ipykernel_6357/2699096837.py:9: PerformanceWarning: DataFrame is highly fragmented.  This is usually the result of calling `frame.insert` many times, which has poor performance.  Consider joining all columns at once using pd.concat(axis=1) instead. To get a de-fragmented frame, use `newframe = frame.copy()`\n",
      "  table[num_honest] = dist_total\n",
      "/var/folders/pv/jsnn4l_x60x5zx013kbk8l280000gn/T/ipykernel_6357/2699096837.py:9: PerformanceWarning: DataFrame is highly fragmented.  This is usually the result of calling `frame.insert` many times, which has poor performance.  Consider joining all columns at once using pd.concat(axis=1) instead. To get a de-fragmented frame, use `newframe = frame.copy()`\n",
      "  table[num_honest] = dist_total\n",
      "/var/folders/pv/jsnn4l_x60x5zx013kbk8l280000gn/T/ipykernel_6357/2699096837.py:9: PerformanceWarning: DataFrame is highly fragmented.  This is usually the result of calling `frame.insert` many times, which has poor performance.  Consider joining all columns at once using pd.concat(axis=1) instead. To get a de-fragmented frame, use `newframe = frame.copy()`\n",
      "  table[num_honest] = dist_total\n",
      "/var/folders/pv/jsnn4l_x60x5zx013kbk8l280000gn/T/ipykernel_6357/2699096837.py:9: PerformanceWarning: DataFrame is highly fragmented.  This is usually the result of calling `frame.insert` many times, which has poor performance.  Consider joining all columns at once using pd.concat(axis=1) instead. To get a de-fragmented frame, use `newframe = frame.copy()`\n",
      "  table[num_honest] = dist_total\n",
      "/var/folders/pv/jsnn4l_x60x5zx013kbk8l280000gn/T/ipykernel_6357/2699096837.py:9: PerformanceWarning: DataFrame is highly fragmented.  This is usually the result of calling `frame.insert` many times, which has poor performance.  Consider joining all columns at once using pd.concat(axis=1) instead. To get a de-fragmented frame, use `newframe = frame.copy()`\n",
      "  table[num_honest] = dist_total\n",
      "/var/folders/pv/jsnn4l_x60x5zx013kbk8l280000gn/T/ipykernel_6357/2699096837.py:9: PerformanceWarning: DataFrame is highly fragmented.  This is usually the result of calling `frame.insert` many times, which has poor performance.  Consider joining all columns at once using pd.concat(axis=1) instead. To get a de-fragmented frame, use `newframe = frame.copy()`\n",
      "  table[num_honest] = dist_total\n",
      "/var/folders/pv/jsnn4l_x60x5zx013kbk8l280000gn/T/ipykernel_6357/2699096837.py:9: PerformanceWarning: DataFrame is highly fragmented.  This is usually the result of calling `frame.insert` many times, which has poor performance.  Consider joining all columns at once using pd.concat(axis=1) instead. To get a de-fragmented frame, use `newframe = frame.copy()`\n",
      "  table[num_honest] = dist_total\n",
      "/var/folders/pv/jsnn4l_x60x5zx013kbk8l280000gn/T/ipykernel_6357/2699096837.py:9: PerformanceWarning: DataFrame is highly fragmented.  This is usually the result of calling `frame.insert` many times, which has poor performance.  Consider joining all columns at once using pd.concat(axis=1) instead. To get a de-fragmented frame, use `newframe = frame.copy()`\n",
      "  table[num_honest] = dist_total\n",
      "/var/folders/pv/jsnn4l_x60x5zx013kbk8l280000gn/T/ipykernel_6357/2699096837.py:9: PerformanceWarning: DataFrame is highly fragmented.  This is usually the result of calling `frame.insert` many times, which has poor performance.  Consider joining all columns at once using pd.concat(axis=1) instead. To get a de-fragmented frame, use `newframe = frame.copy()`\n",
      "  table[num_honest] = dist_total\n",
      "/var/folders/pv/jsnn4l_x60x5zx013kbk8l280000gn/T/ipykernel_6357/2699096837.py:9: PerformanceWarning: DataFrame is highly fragmented.  This is usually the result of calling `frame.insert` many times, which has poor performance.  Consider joining all columns at once using pd.concat(axis=1) instead. To get a de-fragmented frame, use `newframe = frame.copy()`\n",
      "  table[num_honest] = dist_total\n",
      "/var/folders/pv/jsnn4l_x60x5zx013kbk8l280000gn/T/ipykernel_6357/2699096837.py:9: PerformanceWarning: DataFrame is highly fragmented.  This is usually the result of calling `frame.insert` many times, which has poor performance.  Consider joining all columns at once using pd.concat(axis=1) instead. To get a de-fragmented frame, use `newframe = frame.copy()`\n",
      "  table[num_honest] = dist_total\n",
      "/var/folders/pv/jsnn4l_x60x5zx013kbk8l280000gn/T/ipykernel_6357/2699096837.py:9: PerformanceWarning: DataFrame is highly fragmented.  This is usually the result of calling `frame.insert` many times, which has poor performance.  Consider joining all columns at once using pd.concat(axis=1) instead. To get a de-fragmented frame, use `newframe = frame.copy()`\n",
      "  table[num_honest] = dist_total\n",
      "/var/folders/pv/jsnn4l_x60x5zx013kbk8l280000gn/T/ipykernel_6357/2699096837.py:9: PerformanceWarning: DataFrame is highly fragmented.  This is usually the result of calling `frame.insert` many times, which has poor performance.  Consider joining all columns at once using pd.concat(axis=1) instead. To get a de-fragmented frame, use `newframe = frame.copy()`\n",
      "  table[num_honest] = dist_total\n",
      "/var/folders/pv/jsnn4l_x60x5zx013kbk8l280000gn/T/ipykernel_6357/2699096837.py:9: PerformanceWarning: DataFrame is highly fragmented.  This is usually the result of calling `frame.insert` many times, which has poor performance.  Consider joining all columns at once using pd.concat(axis=1) instead. To get a de-fragmented frame, use `newframe = frame.copy()`\n",
      "  table[num_honest] = dist_total\n",
      "/var/folders/pv/jsnn4l_x60x5zx013kbk8l280000gn/T/ipykernel_6357/2699096837.py:9: PerformanceWarning: DataFrame is highly fragmented.  This is usually the result of calling `frame.insert` many times, which has poor performance.  Consider joining all columns at once using pd.concat(axis=1) instead. To get a de-fragmented frame, use `newframe = frame.copy()`\n",
      "  table[num_honest] = dist_total\n",
      "/var/folders/pv/jsnn4l_x60x5zx013kbk8l280000gn/T/ipykernel_6357/2699096837.py:9: PerformanceWarning: DataFrame is highly fragmented.  This is usually the result of calling `frame.insert` many times, which has poor performance.  Consider joining all columns at once using pd.concat(axis=1) instead. To get a de-fragmented frame, use `newframe = frame.copy()`\n",
      "  table[num_honest] = dist_total\n",
      "/var/folders/pv/jsnn4l_x60x5zx013kbk8l280000gn/T/ipykernel_6357/2699096837.py:9: PerformanceWarning: DataFrame is highly fragmented.  This is usually the result of calling `frame.insert` many times, which has poor performance.  Consider joining all columns at once using pd.concat(axis=1) instead. To get a de-fragmented frame, use `newframe = frame.copy()`\n",
      "  table[num_honest] = dist_total\n",
      "/var/folders/pv/jsnn4l_x60x5zx013kbk8l280000gn/T/ipykernel_6357/2699096837.py:9: PerformanceWarning: DataFrame is highly fragmented.  This is usually the result of calling `frame.insert` many times, which has poor performance.  Consider joining all columns at once using pd.concat(axis=1) instead. To get a de-fragmented frame, use `newframe = frame.copy()`\n",
      "  table[num_honest] = dist_total\n",
      "/var/folders/pv/jsnn4l_x60x5zx013kbk8l280000gn/T/ipykernel_6357/2699096837.py:9: PerformanceWarning: DataFrame is highly fragmented.  This is usually the result of calling `frame.insert` many times, which has poor performance.  Consider joining all columns at once using pd.concat(axis=1) instead. To get a de-fragmented frame, use `newframe = frame.copy()`\n",
      "  table[num_honest] = dist_total\n",
      "/var/folders/pv/jsnn4l_x60x5zx013kbk8l280000gn/T/ipykernel_6357/2699096837.py:9: PerformanceWarning: DataFrame is highly fragmented.  This is usually the result of calling `frame.insert` many times, which has poor performance.  Consider joining all columns at once using pd.concat(axis=1) instead. To get a de-fragmented frame, use `newframe = frame.copy()`\n",
      "  table[num_honest] = dist_total\n",
      "/var/folders/pv/jsnn4l_x60x5zx013kbk8l280000gn/T/ipykernel_6357/2699096837.py:9: PerformanceWarning: DataFrame is highly fragmented.  This is usually the result of calling `frame.insert` many times, which has poor performance.  Consider joining all columns at once using pd.concat(axis=1) instead. To get a de-fragmented frame, use `newframe = frame.copy()`\n",
      "  table[num_honest] = dist_total\n",
      "/var/folders/pv/jsnn4l_x60x5zx013kbk8l280000gn/T/ipykernel_6357/2699096837.py:9: PerformanceWarning: DataFrame is highly fragmented.  This is usually the result of calling `frame.insert` many times, which has poor performance.  Consider joining all columns at once using pd.concat(axis=1) instead. To get a de-fragmented frame, use `newframe = frame.copy()`\n",
      "  table[num_honest] = dist_total\n",
      "/var/folders/pv/jsnn4l_x60x5zx013kbk8l280000gn/T/ipykernel_6357/2699096837.py:9: PerformanceWarning: DataFrame is highly fragmented.  This is usually the result of calling `frame.insert` many times, which has poor performance.  Consider joining all columns at once using pd.concat(axis=1) instead. To get a de-fragmented frame, use `newframe = frame.copy()`\n",
      "  table[num_honest] = dist_total\n",
      "/var/folders/pv/jsnn4l_x60x5zx013kbk8l280000gn/T/ipykernel_6357/2699096837.py:9: PerformanceWarning: DataFrame is highly fragmented.  This is usually the result of calling `frame.insert` many times, which has poor performance.  Consider joining all columns at once using pd.concat(axis=1) instead. To get a de-fragmented frame, use `newframe = frame.copy()`\n",
      "  table[num_honest] = dist_total\n",
      "/var/folders/pv/jsnn4l_x60x5zx013kbk8l280000gn/T/ipykernel_6357/2699096837.py:9: PerformanceWarning: DataFrame is highly fragmented.  This is usually the result of calling `frame.insert` many times, which has poor performance.  Consider joining all columns at once using pd.concat(axis=1) instead. To get a de-fragmented frame, use `newframe = frame.copy()`\n",
      "  table[num_honest] = dist_total\n",
      "/var/folders/pv/jsnn4l_x60x5zx013kbk8l280000gn/T/ipykernel_6357/2699096837.py:9: PerformanceWarning: DataFrame is highly fragmented.  This is usually the result of calling `frame.insert` many times, which has poor performance.  Consider joining all columns at once using pd.concat(axis=1) instead. To get a de-fragmented frame, use `newframe = frame.copy()`\n",
      "  table[num_honest] = dist_total\n",
      "/var/folders/pv/jsnn4l_x60x5zx013kbk8l280000gn/T/ipykernel_6357/2699096837.py:9: PerformanceWarning: DataFrame is highly fragmented.  This is usually the result of calling `frame.insert` many times, which has poor performance.  Consider joining all columns at once using pd.concat(axis=1) instead. To get a de-fragmented frame, use `newframe = frame.copy()`\n",
      "  table[num_honest] = dist_total\n",
      "/var/folders/pv/jsnn4l_x60x5zx013kbk8l280000gn/T/ipykernel_6357/2699096837.py:9: PerformanceWarning: DataFrame is highly fragmented.  This is usually the result of calling `frame.insert` many times, which has poor performance.  Consider joining all columns at once using pd.concat(axis=1) instead. To get a de-fragmented frame, use `newframe = frame.copy()`\n",
      "  table[num_honest] = dist_total\n",
      "/var/folders/pv/jsnn4l_x60x5zx013kbk8l280000gn/T/ipykernel_6357/2699096837.py:9: PerformanceWarning: DataFrame is highly fragmented.  This is usually the result of calling `frame.insert` many times, which has poor performance.  Consider joining all columns at once using pd.concat(axis=1) instead. To get a de-fragmented frame, use `newframe = frame.copy()`\n",
      "  table[num_honest] = dist_total\n",
      "/var/folders/pv/jsnn4l_x60x5zx013kbk8l280000gn/T/ipykernel_6357/2699096837.py:9: PerformanceWarning: DataFrame is highly fragmented.  This is usually the result of calling `frame.insert` many times, which has poor performance.  Consider joining all columns at once using pd.concat(axis=1) instead. To get a de-fragmented frame, use `newframe = frame.copy()`\n",
      "  table[num_honest] = dist_total\n",
      "/var/folders/pv/jsnn4l_x60x5zx013kbk8l280000gn/T/ipykernel_6357/2699096837.py:9: PerformanceWarning: DataFrame is highly fragmented.  This is usually the result of calling `frame.insert` many times, which has poor performance.  Consider joining all columns at once using pd.concat(axis=1) instead. To get a de-fragmented frame, use `newframe = frame.copy()`\n",
      "  table[num_honest] = dist_total\n",
      "/var/folders/pv/jsnn4l_x60x5zx013kbk8l280000gn/T/ipykernel_6357/2699096837.py:9: PerformanceWarning: DataFrame is highly fragmented.  This is usually the result of calling `frame.insert` many times, which has poor performance.  Consider joining all columns at once using pd.concat(axis=1) instead. To get a de-fragmented frame, use `newframe = frame.copy()`\n",
      "  table[num_honest] = dist_total\n",
      "/var/folders/pv/jsnn4l_x60x5zx013kbk8l280000gn/T/ipykernel_6357/2699096837.py:9: PerformanceWarning: DataFrame is highly fragmented.  This is usually the result of calling `frame.insert` many times, which has poor performance.  Consider joining all columns at once using pd.concat(axis=1) instead. To get a de-fragmented frame, use `newframe = frame.copy()`\n",
      "  table[num_honest] = dist_total\n",
      "/var/folders/pv/jsnn4l_x60x5zx013kbk8l280000gn/T/ipykernel_6357/2699096837.py:9: PerformanceWarning: DataFrame is highly fragmented.  This is usually the result of calling `frame.insert` many times, which has poor performance.  Consider joining all columns at once using pd.concat(axis=1) instead. To get a de-fragmented frame, use `newframe = frame.copy()`\n",
      "  table[num_honest] = dist_total\n",
      "/var/folders/pv/jsnn4l_x60x5zx013kbk8l280000gn/T/ipykernel_6357/2699096837.py:9: PerformanceWarning: DataFrame is highly fragmented.  This is usually the result of calling `frame.insert` many times, which has poor performance.  Consider joining all columns at once using pd.concat(axis=1) instead. To get a de-fragmented frame, use `newframe = frame.copy()`\n",
      "  table[num_honest] = dist_total\n",
      "/var/folders/pv/jsnn4l_x60x5zx013kbk8l280000gn/T/ipykernel_6357/2699096837.py:9: PerformanceWarning: DataFrame is highly fragmented.  This is usually the result of calling `frame.insert` many times, which has poor performance.  Consider joining all columns at once using pd.concat(axis=1) instead. To get a de-fragmented frame, use `newframe = frame.copy()`\n",
      "  table[num_honest] = dist_total\n",
      "/var/folders/pv/jsnn4l_x60x5zx013kbk8l280000gn/T/ipykernel_6357/2699096837.py:9: PerformanceWarning: DataFrame is highly fragmented.  This is usually the result of calling `frame.insert` many times, which has poor performance.  Consider joining all columns at once using pd.concat(axis=1) instead. To get a de-fragmented frame, use `newframe = frame.copy()`\n",
      "  table[num_honest] = dist_total\n",
      "/var/folders/pv/jsnn4l_x60x5zx013kbk8l280000gn/T/ipykernel_6357/2699096837.py:9: PerformanceWarning: DataFrame is highly fragmented.  This is usually the result of calling `frame.insert` many times, which has poor performance.  Consider joining all columns at once using pd.concat(axis=1) instead. To get a de-fragmented frame, use `newframe = frame.copy()`\n",
      "  table[num_honest] = dist_total\n",
      "/var/folders/pv/jsnn4l_x60x5zx013kbk8l280000gn/T/ipykernel_6357/2699096837.py:9: PerformanceWarning: DataFrame is highly fragmented.  This is usually the result of calling `frame.insert` many times, which has poor performance.  Consider joining all columns at once using pd.concat(axis=1) instead. To get a de-fragmented frame, use `newframe = frame.copy()`\n",
      "  table[num_honest] = dist_total\n",
      "/var/folders/pv/jsnn4l_x60x5zx013kbk8l280000gn/T/ipykernel_6357/2699096837.py:9: PerformanceWarning: DataFrame is highly fragmented.  This is usually the result of calling `frame.insert` many times, which has poor performance.  Consider joining all columns at once using pd.concat(axis=1) instead. To get a de-fragmented frame, use `newframe = frame.copy()`\n",
      "  table[num_honest] = dist_total\n",
      "/var/folders/pv/jsnn4l_x60x5zx013kbk8l280000gn/T/ipykernel_6357/2699096837.py:9: PerformanceWarning: DataFrame is highly fragmented.  This is usually the result of calling `frame.insert` many times, which has poor performance.  Consider joining all columns at once using pd.concat(axis=1) instead. To get a de-fragmented frame, use `newframe = frame.copy()`\n",
      "  table[num_honest] = dist_total\n",
      "/var/folders/pv/jsnn4l_x60x5zx013kbk8l280000gn/T/ipykernel_6357/2699096837.py:9: PerformanceWarning: DataFrame is highly fragmented.  This is usually the result of calling `frame.insert` many times, which has poor performance.  Consider joining all columns at once using pd.concat(axis=1) instead. To get a de-fragmented frame, use `newframe = frame.copy()`\n",
      "  table[num_honest] = dist_total\n",
      "/var/folders/pv/jsnn4l_x60x5zx013kbk8l280000gn/T/ipykernel_6357/2699096837.py:9: PerformanceWarning: DataFrame is highly fragmented.  This is usually the result of calling `frame.insert` many times, which has poor performance.  Consider joining all columns at once using pd.concat(axis=1) instead. To get a de-fragmented frame, use `newframe = frame.copy()`\n",
      "  table[num_honest] = dist_total\n",
      "/var/folders/pv/jsnn4l_x60x5zx013kbk8l280000gn/T/ipykernel_6357/2699096837.py:9: PerformanceWarning: DataFrame is highly fragmented.  This is usually the result of calling `frame.insert` many times, which has poor performance.  Consider joining all columns at once using pd.concat(axis=1) instead. To get a de-fragmented frame, use `newframe = frame.copy()`\n",
      "  table[num_honest] = dist_total\n",
      "/var/folders/pv/jsnn4l_x60x5zx013kbk8l280000gn/T/ipykernel_6357/2699096837.py:9: PerformanceWarning: DataFrame is highly fragmented.  This is usually the result of calling `frame.insert` many times, which has poor performance.  Consider joining all columns at once using pd.concat(axis=1) instead. To get a de-fragmented frame, use `newframe = frame.copy()`\n",
      "  table[num_honest] = dist_total\n",
      "/var/folders/pv/jsnn4l_x60x5zx013kbk8l280000gn/T/ipykernel_6357/2699096837.py:9: PerformanceWarning: DataFrame is highly fragmented.  This is usually the result of calling `frame.insert` many times, which has poor performance.  Consider joining all columns at once using pd.concat(axis=1) instead. To get a de-fragmented frame, use `newframe = frame.copy()`\n",
      "  table[num_honest] = dist_total\n",
      "/var/folders/pv/jsnn4l_x60x5zx013kbk8l280000gn/T/ipykernel_6357/2699096837.py:9: PerformanceWarning: DataFrame is highly fragmented.  This is usually the result of calling `frame.insert` many times, which has poor performance.  Consider joining all columns at once using pd.concat(axis=1) instead. To get a de-fragmented frame, use `newframe = frame.copy()`\n",
      "  table[num_honest] = dist_total\n",
      "/var/folders/pv/jsnn4l_x60x5zx013kbk8l280000gn/T/ipykernel_6357/2699096837.py:9: PerformanceWarning: DataFrame is highly fragmented.  This is usually the result of calling `frame.insert` many times, which has poor performance.  Consider joining all columns at once using pd.concat(axis=1) instead. To get a de-fragmented frame, use `newframe = frame.copy()`\n",
      "  table[num_honest] = dist_total\n",
      "/var/folders/pv/jsnn4l_x60x5zx013kbk8l280000gn/T/ipykernel_6357/2699096837.py:9: PerformanceWarning: DataFrame is highly fragmented.  This is usually the result of calling `frame.insert` many times, which has poor performance.  Consider joining all columns at once using pd.concat(axis=1) instead. To get a de-fragmented frame, use `newframe = frame.copy()`\n",
      "  table[num_honest] = dist_total\n",
      "/var/folders/pv/jsnn4l_x60x5zx013kbk8l280000gn/T/ipykernel_6357/2699096837.py:9: PerformanceWarning: DataFrame is highly fragmented.  This is usually the result of calling `frame.insert` many times, which has poor performance.  Consider joining all columns at once using pd.concat(axis=1) instead. To get a de-fragmented frame, use `newframe = frame.copy()`\n",
      "  table[num_honest] = dist_total\n",
      "/var/folders/pv/jsnn4l_x60x5zx013kbk8l280000gn/T/ipykernel_6357/2699096837.py:9: PerformanceWarning: DataFrame is highly fragmented.  This is usually the result of calling `frame.insert` many times, which has poor performance.  Consider joining all columns at once using pd.concat(axis=1) instead. To get a de-fragmented frame, use `newframe = frame.copy()`\n",
      "  table[num_honest] = dist_total\n",
      "/var/folders/pv/jsnn4l_x60x5zx013kbk8l280000gn/T/ipykernel_6357/2699096837.py:9: PerformanceWarning: DataFrame is highly fragmented.  This is usually the result of calling `frame.insert` many times, which has poor performance.  Consider joining all columns at once using pd.concat(axis=1) instead. To get a de-fragmented frame, use `newframe = frame.copy()`\n",
      "  table[num_honest] = dist_total\n",
      "/var/folders/pv/jsnn4l_x60x5zx013kbk8l280000gn/T/ipykernel_6357/2699096837.py:9: PerformanceWarning: DataFrame is highly fragmented.  This is usually the result of calling `frame.insert` many times, which has poor performance.  Consider joining all columns at once using pd.concat(axis=1) instead. To get a de-fragmented frame, use `newframe = frame.copy()`\n",
      "  table[num_honest] = dist_total\n",
      "/var/folders/pv/jsnn4l_x60x5zx013kbk8l280000gn/T/ipykernel_6357/2699096837.py:9: PerformanceWarning: DataFrame is highly fragmented.  This is usually the result of calling `frame.insert` many times, which has poor performance.  Consider joining all columns at once using pd.concat(axis=1) instead. To get a de-fragmented frame, use `newframe = frame.copy()`\n",
      "  table[num_honest] = dist_total\n",
      "/var/folders/pv/jsnn4l_x60x5zx013kbk8l280000gn/T/ipykernel_6357/2699096837.py:9: PerformanceWarning: DataFrame is highly fragmented.  This is usually the result of calling `frame.insert` many times, which has poor performance.  Consider joining all columns at once using pd.concat(axis=1) instead. To get a de-fragmented frame, use `newframe = frame.copy()`\n",
      "  table[num_honest] = dist_total\n",
      "/var/folders/pv/jsnn4l_x60x5zx013kbk8l280000gn/T/ipykernel_6357/2699096837.py:9: PerformanceWarning: DataFrame is highly fragmented.  This is usually the result of calling `frame.insert` many times, which has poor performance.  Consider joining all columns at once using pd.concat(axis=1) instead. To get a de-fragmented frame, use `newframe = frame.copy()`\n",
      "  table[num_honest] = dist_total\n",
      "/var/folders/pv/jsnn4l_x60x5zx013kbk8l280000gn/T/ipykernel_6357/2699096837.py:9: PerformanceWarning: DataFrame is highly fragmented.  This is usually the result of calling `frame.insert` many times, which has poor performance.  Consider joining all columns at once using pd.concat(axis=1) instead. To get a de-fragmented frame, use `newframe = frame.copy()`\n",
      "  table[num_honest] = dist_total\n",
      "/var/folders/pv/jsnn4l_x60x5zx013kbk8l280000gn/T/ipykernel_6357/2699096837.py:9: PerformanceWarning: DataFrame is highly fragmented.  This is usually the result of calling `frame.insert` many times, which has poor performance.  Consider joining all columns at once using pd.concat(axis=1) instead. To get a de-fragmented frame, use `newframe = frame.copy()`\n",
      "  table[num_honest] = dist_total\n",
      "/var/folders/pv/jsnn4l_x60x5zx013kbk8l280000gn/T/ipykernel_6357/2699096837.py:9: PerformanceWarning: DataFrame is highly fragmented.  This is usually the result of calling `frame.insert` many times, which has poor performance.  Consider joining all columns at once using pd.concat(axis=1) instead. To get a de-fragmented frame, use `newframe = frame.copy()`\n",
      "  table[num_honest] = dist_total\n",
      "/var/folders/pv/jsnn4l_x60x5zx013kbk8l280000gn/T/ipykernel_6357/2699096837.py:9: PerformanceWarning: DataFrame is highly fragmented.  This is usually the result of calling `frame.insert` many times, which has poor performance.  Consider joining all columns at once using pd.concat(axis=1) instead. To get a de-fragmented frame, use `newframe = frame.copy()`\n",
      "  table[num_honest] = dist_total\n",
      "/var/folders/pv/jsnn4l_x60x5zx013kbk8l280000gn/T/ipykernel_6357/2699096837.py:9: PerformanceWarning: DataFrame is highly fragmented.  This is usually the result of calling `frame.insert` many times, which has poor performance.  Consider joining all columns at once using pd.concat(axis=1) instead. To get a de-fragmented frame, use `newframe = frame.copy()`\n",
      "  table[num_honest] = dist_total\n",
      "/var/folders/pv/jsnn4l_x60x5zx013kbk8l280000gn/T/ipykernel_6357/2699096837.py:9: PerformanceWarning: DataFrame is highly fragmented.  This is usually the result of calling `frame.insert` many times, which has poor performance.  Consider joining all columns at once using pd.concat(axis=1) instead. To get a de-fragmented frame, use `newframe = frame.copy()`\n",
      "  table[num_honest] = dist_total\n",
      "/var/folders/pv/jsnn4l_x60x5zx013kbk8l280000gn/T/ipykernel_6357/2699096837.py:9: PerformanceWarning: DataFrame is highly fragmented.  This is usually the result of calling `frame.insert` many times, which has poor performance.  Consider joining all columns at once using pd.concat(axis=1) instead. To get a de-fragmented frame, use `newframe = frame.copy()`\n",
      "  table[num_honest] = dist_total\n",
      "/var/folders/pv/jsnn4l_x60x5zx013kbk8l280000gn/T/ipykernel_6357/2699096837.py:9: PerformanceWarning: DataFrame is highly fragmented.  This is usually the result of calling `frame.insert` many times, which has poor performance.  Consider joining all columns at once using pd.concat(axis=1) instead. To get a de-fragmented frame, use `newframe = frame.copy()`\n",
      "  table[num_honest] = dist_total\n",
      "/var/folders/pv/jsnn4l_x60x5zx013kbk8l280000gn/T/ipykernel_6357/2699096837.py:9: PerformanceWarning: DataFrame is highly fragmented.  This is usually the result of calling `frame.insert` many times, which has poor performance.  Consider joining all columns at once using pd.concat(axis=1) instead. To get a de-fragmented frame, use `newframe = frame.copy()`\n",
      "  table[num_honest] = dist_total\n",
      "/var/folders/pv/jsnn4l_x60x5zx013kbk8l280000gn/T/ipykernel_6357/2699096837.py:9: PerformanceWarning: DataFrame is highly fragmented.  This is usually the result of calling `frame.insert` many times, which has poor performance.  Consider joining all columns at once using pd.concat(axis=1) instead. To get a de-fragmented frame, use `newframe = frame.copy()`\n",
      "  table[num_honest] = dist_total\n",
      "/var/folders/pv/jsnn4l_x60x5zx013kbk8l280000gn/T/ipykernel_6357/2699096837.py:9: PerformanceWarning: DataFrame is highly fragmented.  This is usually the result of calling `frame.insert` many times, which has poor performance.  Consider joining all columns at once using pd.concat(axis=1) instead. To get a de-fragmented frame, use `newframe = frame.copy()`\n",
      "  table[num_honest] = dist_total\n",
      "/var/folders/pv/jsnn4l_x60x5zx013kbk8l280000gn/T/ipykernel_6357/2699096837.py:9: PerformanceWarning: DataFrame is highly fragmented.  This is usually the result of calling `frame.insert` many times, which has poor performance.  Consider joining all columns at once using pd.concat(axis=1) instead. To get a de-fragmented frame, use `newframe = frame.copy()`\n",
      "  table[num_honest] = dist_total\n",
      "/var/folders/pv/jsnn4l_x60x5zx013kbk8l280000gn/T/ipykernel_6357/2699096837.py:9: PerformanceWarning: DataFrame is highly fragmented.  This is usually the result of calling `frame.insert` many times, which has poor performance.  Consider joining all columns at once using pd.concat(axis=1) instead. To get a de-fragmented frame, use `newframe = frame.copy()`\n",
      "  table[num_honest] = dist_total\n",
      "/var/folders/pv/jsnn4l_x60x5zx013kbk8l280000gn/T/ipykernel_6357/2699096837.py:9: PerformanceWarning: DataFrame is highly fragmented.  This is usually the result of calling `frame.insert` many times, which has poor performance.  Consider joining all columns at once using pd.concat(axis=1) instead. To get a de-fragmented frame, use `newframe = frame.copy()`\n",
      "  table[num_honest] = dist_total\n",
      "/var/folders/pv/jsnn4l_x60x5zx013kbk8l280000gn/T/ipykernel_6357/2699096837.py:9: PerformanceWarning: DataFrame is highly fragmented.  This is usually the result of calling `frame.insert` many times, which has poor performance.  Consider joining all columns at once using pd.concat(axis=1) instead. To get a de-fragmented frame, use `newframe = frame.copy()`\n",
      "  table[num_honest] = dist_total\n",
      "/var/folders/pv/jsnn4l_x60x5zx013kbk8l280000gn/T/ipykernel_6357/2699096837.py:9: PerformanceWarning: DataFrame is highly fragmented.  This is usually the result of calling `frame.insert` many times, which has poor performance.  Consider joining all columns at once using pd.concat(axis=1) instead. To get a de-fragmented frame, use `newframe = frame.copy()`\n",
      "  table[num_honest] = dist_total\n",
      "/var/folders/pv/jsnn4l_x60x5zx013kbk8l280000gn/T/ipykernel_6357/2699096837.py:9: PerformanceWarning: DataFrame is highly fragmented.  This is usually the result of calling `frame.insert` many times, which has poor performance.  Consider joining all columns at once using pd.concat(axis=1) instead. To get a de-fragmented frame, use `newframe = frame.copy()`\n",
      "  table[num_honest] = dist_total\n",
      "/var/folders/pv/jsnn4l_x60x5zx013kbk8l280000gn/T/ipykernel_6357/2699096837.py:9: PerformanceWarning: DataFrame is highly fragmented.  This is usually the result of calling `frame.insert` many times, which has poor performance.  Consider joining all columns at once using pd.concat(axis=1) instead. To get a de-fragmented frame, use `newframe = frame.copy()`\n",
      "  table[num_honest] = dist_total\n",
      "/var/folders/pv/jsnn4l_x60x5zx013kbk8l280000gn/T/ipykernel_6357/2699096837.py:9: PerformanceWarning: DataFrame is highly fragmented.  This is usually the result of calling `frame.insert` many times, which has poor performance.  Consider joining all columns at once using pd.concat(axis=1) instead. To get a de-fragmented frame, use `newframe = frame.copy()`\n",
      "  table[num_honest] = dist_total\n",
      "/var/folders/pv/jsnn4l_x60x5zx013kbk8l280000gn/T/ipykernel_6357/2699096837.py:9: PerformanceWarning: DataFrame is highly fragmented.  This is usually the result of calling `frame.insert` many times, which has poor performance.  Consider joining all columns at once using pd.concat(axis=1) instead. To get a de-fragmented frame, use `newframe = frame.copy()`\n",
      "  table[num_honest] = dist_total\n",
      "/var/folders/pv/jsnn4l_x60x5zx013kbk8l280000gn/T/ipykernel_6357/2699096837.py:9: PerformanceWarning: DataFrame is highly fragmented.  This is usually the result of calling `frame.insert` many times, which has poor performance.  Consider joining all columns at once using pd.concat(axis=1) instead. To get a de-fragmented frame, use `newframe = frame.copy()`\n",
      "  table[num_honest] = dist_total\n",
      "/var/folders/pv/jsnn4l_x60x5zx013kbk8l280000gn/T/ipykernel_6357/2699096837.py:9: PerformanceWarning: DataFrame is highly fragmented.  This is usually the result of calling `frame.insert` many times, which has poor performance.  Consider joining all columns at once using pd.concat(axis=1) instead. To get a de-fragmented frame, use `newframe = frame.copy()`\n",
      "  table[num_honest] = dist_total\n",
      "/var/folders/pv/jsnn4l_x60x5zx013kbk8l280000gn/T/ipykernel_6357/2699096837.py:9: PerformanceWarning: DataFrame is highly fragmented.  This is usually the result of calling `frame.insert` many times, which has poor performance.  Consider joining all columns at once using pd.concat(axis=1) instead. To get a de-fragmented frame, use `newframe = frame.copy()`\n",
      "  table[num_honest] = dist_total\n",
      "/var/folders/pv/jsnn4l_x60x5zx013kbk8l280000gn/T/ipykernel_6357/2699096837.py:9: PerformanceWarning: DataFrame is highly fragmented.  This is usually the result of calling `frame.insert` many times, which has poor performance.  Consider joining all columns at once using pd.concat(axis=1) instead. To get a de-fragmented frame, use `newframe = frame.copy()`\n",
      "  table[num_honest] = dist_total\n",
      "/var/folders/pv/jsnn4l_x60x5zx013kbk8l280000gn/T/ipykernel_6357/2699096837.py:9: PerformanceWarning: DataFrame is highly fragmented.  This is usually the result of calling `frame.insert` many times, which has poor performance.  Consider joining all columns at once using pd.concat(axis=1) instead. To get a de-fragmented frame, use `newframe = frame.copy()`\n",
      "  table[num_honest] = dist_total\n",
      "/var/folders/pv/jsnn4l_x60x5zx013kbk8l280000gn/T/ipykernel_6357/2699096837.py:9: PerformanceWarning: DataFrame is highly fragmented.  This is usually the result of calling `frame.insert` many times, which has poor performance.  Consider joining all columns at once using pd.concat(axis=1) instead. To get a de-fragmented frame, use `newframe = frame.copy()`\n",
      "  table[num_honest] = dist_total\n",
      "/var/folders/pv/jsnn4l_x60x5zx013kbk8l280000gn/T/ipykernel_6357/2699096837.py:9: PerformanceWarning: DataFrame is highly fragmented.  This is usually the result of calling `frame.insert` many times, which has poor performance.  Consider joining all columns at once using pd.concat(axis=1) instead. To get a de-fragmented frame, use `newframe = frame.copy()`\n",
      "  table[num_honest] = dist_total\n",
      "/var/folders/pv/jsnn4l_x60x5zx013kbk8l280000gn/T/ipykernel_6357/2699096837.py:9: PerformanceWarning: DataFrame is highly fragmented.  This is usually the result of calling `frame.insert` many times, which has poor performance.  Consider joining all columns at once using pd.concat(axis=1) instead. To get a de-fragmented frame, use `newframe = frame.copy()`\n",
      "  table[num_honest] = dist_total\n",
      "/var/folders/pv/jsnn4l_x60x5zx013kbk8l280000gn/T/ipykernel_6357/2699096837.py:9: PerformanceWarning: DataFrame is highly fragmented.  This is usually the result of calling `frame.insert` many times, which has poor performance.  Consider joining all columns at once using pd.concat(axis=1) instead. To get a de-fragmented frame, use `newframe = frame.copy()`\n",
      "  table[num_honest] = dist_total\n",
      "/var/folders/pv/jsnn4l_x60x5zx013kbk8l280000gn/T/ipykernel_6357/2699096837.py:9: PerformanceWarning: DataFrame is highly fragmented.  This is usually the result of calling `frame.insert` many times, which has poor performance.  Consider joining all columns at once using pd.concat(axis=1) instead. To get a de-fragmented frame, use `newframe = frame.copy()`\n",
      "  table[num_honest] = dist_total\n",
      "/var/folders/pv/jsnn4l_x60x5zx013kbk8l280000gn/T/ipykernel_6357/2699096837.py:9: PerformanceWarning: DataFrame is highly fragmented.  This is usually the result of calling `frame.insert` many times, which has poor performance.  Consider joining all columns at once using pd.concat(axis=1) instead. To get a de-fragmented frame, use `newframe = frame.copy()`\n",
      "  table[num_honest] = dist_total\n",
      "/var/folders/pv/jsnn4l_x60x5zx013kbk8l280000gn/T/ipykernel_6357/2699096837.py:9: PerformanceWarning: DataFrame is highly fragmented.  This is usually the result of calling `frame.insert` many times, which has poor performance.  Consider joining all columns at once using pd.concat(axis=1) instead. To get a de-fragmented frame, use `newframe = frame.copy()`\n",
      "  table[num_honest] = dist_total\n",
      "/var/folders/pv/jsnn4l_x60x5zx013kbk8l280000gn/T/ipykernel_6357/2699096837.py:9: PerformanceWarning: DataFrame is highly fragmented.  This is usually the result of calling `frame.insert` many times, which has poor performance.  Consider joining all columns at once using pd.concat(axis=1) instead. To get a de-fragmented frame, use `newframe = frame.copy()`\n",
      "  table[num_honest] = dist_total\n",
      "/var/folders/pv/jsnn4l_x60x5zx013kbk8l280000gn/T/ipykernel_6357/2699096837.py:9: PerformanceWarning: DataFrame is highly fragmented.  This is usually the result of calling `frame.insert` many times, which has poor performance.  Consider joining all columns at once using pd.concat(axis=1) instead. To get a de-fragmented frame, use `newframe = frame.copy()`\n",
      "  table[num_honest] = dist_total\n",
      "/var/folders/pv/jsnn4l_x60x5zx013kbk8l280000gn/T/ipykernel_6357/2699096837.py:9: PerformanceWarning: DataFrame is highly fragmented.  This is usually the result of calling `frame.insert` many times, which has poor performance.  Consider joining all columns at once using pd.concat(axis=1) instead. To get a de-fragmented frame, use `newframe = frame.copy()`\n",
      "  table[num_honest] = dist_total\n",
      "/var/folders/pv/jsnn4l_x60x5zx013kbk8l280000gn/T/ipykernel_6357/2699096837.py:9: PerformanceWarning: DataFrame is highly fragmented.  This is usually the result of calling `frame.insert` many times, which has poor performance.  Consider joining all columns at once using pd.concat(axis=1) instead. To get a de-fragmented frame, use `newframe = frame.copy()`\n",
      "  table[num_honest] = dist_total\n"
     ]
    }
   ],
   "source": [
    "num_congress = 538\n",
    "\n",
    "table = pd.DataFrame()\n",
    "for num_honest in range(num_congress + 1):\n",
    "    num_dishonest = num_congress - num_honest\n",
    "    dist_honest = make_binomial(num_honest, 0.5)\n",
    "    dist_dishonest = make_binomial(num_dishonest, 0.9)\n",
    "    dist_total = Pmf.add_dist(dist_honest, dist_dishonest)\n",
    "    table[num_honest] = dist_total"
   ]
  },
  {
   "cell_type": "code",
   "execution_count": 106,
   "id": "1e902bde-8c4d-4760-9e2c-3a66bc9cc424",
   "metadata": {},
   "outputs": [],
   "source": [
    "likelihood = table.loc[312]"
   ]
  },
  {
   "cell_type": "code",
   "execution_count": 107,
   "id": "6b036b80-5c85-4106-861d-2484e05b5d64",
   "metadata": {},
   "outputs": [
    {
     "data": {
      "text/plain": [
       "430"
      ]
     },
     "execution_count": 107,
     "metadata": {},
     "output_type": "execute_result"
    }
   ],
   "source": [
    "hypos = np.arange(num_congress + 1)\n",
    "prior = Pmf(1, hypos)\n",
    "posterior = prior * likelihood\n",
    "posterior.normalize()\n",
    "posterior.max_prob()"
   ]
  },
  {
   "cell_type": "code",
   "execution_count": 108,
   "id": "4c567fab-189a-4efd-a205-0c5aa66999f6",
   "metadata": {},
   "outputs": [
    {
     "data": {
      "text/plain": [
       "431.48821145019946"
      ]
     },
     "execution_count": 108,
     "metadata": {},
     "output_type": "execute_result"
    }
   ],
   "source": [
    "posterior.mean()"
   ]
  },
  {
   "cell_type": "code",
   "execution_count": 109,
   "id": "720cf26b-d9f8-429f-84f3-beaf5a1267fb",
   "metadata": {},
   "outputs": [
    {
     "data": {
      "text/plain": [
       "array([388., 477.])"
      ]
     },
     "execution_count": 109,
     "metadata": {},
     "output_type": "execute_result"
    }
   ],
   "source": [
    "posterior.credible_interval(0.9)"
   ]
  },
  {
   "cell_type": "code",
   "execution_count": null,
   "id": "a66e26ed-dfa7-44c8-9167-13dc52a01860",
   "metadata": {},
   "outputs": [],
   "source": []
  }
 ],
 "metadata": {
  "kernelspec": {
   "display_name": "Python 3 (ipykernel)",
   "language": "python",
   "name": "python3"
  },
  "language_info": {
   "codemirror_mode": {
    "name": "ipython",
    "version": 3
   },
   "file_extension": ".py",
   "mimetype": "text/x-python",
   "name": "python",
   "nbconvert_exporter": "python",
   "pygments_lexer": "ipython3",
   "version": "3.9.7"
  }
 },
 "nbformat": 4,
 "nbformat_minor": 5
}
