{
 "cells": [
  {
   "cell_type": "markdown",
   "id": "69f55567-8642-4515-a50b-f9eac3ec2a17",
   "metadata": {},
   "source": [
    "# Chapter 1 - Probability\n",
    "http://allendowney.github.io/ThinkBayes2/"
   ]
  },
  {
   "cell_type": "markdown",
   "id": "98be17be-0f50-472a-b699-20173bfe5d9b",
   "metadata": {},
   "source": [
    "## Reading"
   ]
  },
  {
   "cell_type": "code",
   "execution_count": 1,
   "id": "9b7e11ae-4e1d-416c-b0ff-062587accbeb",
   "metadata": {},
   "outputs": [
    {
     "name": "stdout",
     "output_type": "stream",
     "text": [
      "Downloaded gss_bayes.csv\n"
     ]
    }
   ],
   "source": [
    "# Load the data file\n",
    "\n",
    "from os.path import basename, exists\n",
    "\n",
    "def download(url):\n",
    "    filename = basename(url)\n",
    "    if not exists(filename):\n",
    "        from urllib.request import urlretrieve\n",
    "        local, _ = urlretrieve(url, filename)\n",
    "        print('Downloaded ' + local)\n",
    "    \n",
    "download('https://github.com/AllenDowney/BiteSizeBayes/raw/master/gss_bayes.csv')"
   ]
  },
  {
   "cell_type": "code",
   "execution_count": 2,
   "id": "34a9f986-1b2f-4ab7-bbd5-d5b0c28ace9c",
   "metadata": {},
   "outputs": [
    {
     "data": {
      "text/html": [
       "<div>\n",
       "<style scoped>\n",
       "    .dataframe tbody tr th:only-of-type {\n",
       "        vertical-align: middle;\n",
       "    }\n",
       "\n",
       "    .dataframe tbody tr th {\n",
       "        vertical-align: top;\n",
       "    }\n",
       "\n",
       "    .dataframe thead th {\n",
       "        text-align: right;\n",
       "    }\n",
       "</style>\n",
       "<table border=\"1\" class=\"dataframe\">\n",
       "  <thead>\n",
       "    <tr style=\"text-align: right;\">\n",
       "      <th></th>\n",
       "      <th>year</th>\n",
       "      <th>age</th>\n",
       "      <th>sex</th>\n",
       "      <th>polviews</th>\n",
       "      <th>partyid</th>\n",
       "      <th>indus10</th>\n",
       "    </tr>\n",
       "    <tr>\n",
       "      <th>caseid</th>\n",
       "      <th></th>\n",
       "      <th></th>\n",
       "      <th></th>\n",
       "      <th></th>\n",
       "      <th></th>\n",
       "      <th></th>\n",
       "    </tr>\n",
       "  </thead>\n",
       "  <tbody>\n",
       "    <tr>\n",
       "      <th>1</th>\n",
       "      <td>1974</td>\n",
       "      <td>21.0</td>\n",
       "      <td>1</td>\n",
       "      <td>4.0</td>\n",
       "      <td>2.0</td>\n",
       "      <td>4970.0</td>\n",
       "    </tr>\n",
       "    <tr>\n",
       "      <th>2</th>\n",
       "      <td>1974</td>\n",
       "      <td>41.0</td>\n",
       "      <td>1</td>\n",
       "      <td>5.0</td>\n",
       "      <td>0.0</td>\n",
       "      <td>9160.0</td>\n",
       "    </tr>\n",
       "    <tr>\n",
       "      <th>5</th>\n",
       "      <td>1974</td>\n",
       "      <td>58.0</td>\n",
       "      <td>2</td>\n",
       "      <td>6.0</td>\n",
       "      <td>1.0</td>\n",
       "      <td>2670.0</td>\n",
       "    </tr>\n",
       "    <tr>\n",
       "      <th>6</th>\n",
       "      <td>1974</td>\n",
       "      <td>30.0</td>\n",
       "      <td>1</td>\n",
       "      <td>5.0</td>\n",
       "      <td>4.0</td>\n",
       "      <td>6870.0</td>\n",
       "    </tr>\n",
       "    <tr>\n",
       "      <th>7</th>\n",
       "      <td>1974</td>\n",
       "      <td>48.0</td>\n",
       "      <td>1</td>\n",
       "      <td>5.0</td>\n",
       "      <td>4.0</td>\n",
       "      <td>7860.0</td>\n",
       "    </tr>\n",
       "  </tbody>\n",
       "</table>\n",
       "</div>"
      ],
      "text/plain": [
       "        year   age  sex  polviews  partyid  indus10\n",
       "caseid                                             \n",
       "1       1974  21.0    1       4.0      2.0   4970.0\n",
       "2       1974  41.0    1       5.0      0.0   9160.0\n",
       "5       1974  58.0    2       6.0      1.0   2670.0\n",
       "6       1974  30.0    1       5.0      4.0   6870.0\n",
       "7       1974  48.0    1       5.0      4.0   7860.0"
      ]
     },
     "execution_count": 2,
     "metadata": {},
     "output_type": "execute_result"
    }
   ],
   "source": [
    "import pandas as pd\n",
    "\n",
    "gss = pd.read_csv('gss_bayes.csv', index_col=0)\n",
    "gss.head()"
   ]
  },
  {
   "cell_type": "markdown",
   "id": "18383b98-af54-4167-a67b-a2de259f530f",
   "metadata": {},
   "source": [
    "### Probability"
   ]
  },
  {
   "cell_type": "code",
   "execution_count": 3,
   "id": "a9b61ef9-4d88-4449-8a11-8560eea8608a",
   "metadata": {},
   "outputs": [
    {
     "data": {
      "text/plain": [
       "caseid\n",
       "1    False\n",
       "2    False\n",
       "5    False\n",
       "6     True\n",
       "7    False\n",
       "Name: indus10, dtype: bool"
      ]
     },
     "execution_count": 3,
     "metadata": {},
     "output_type": "execute_result"
    }
   ],
   "source": [
    "banker = (gss['indus10'] == 6870)\n",
    "banker.head()"
   ]
  },
  {
   "cell_type": "code",
   "execution_count": 4,
   "id": "6006af11-a641-407a-ac10-1d17d381915c",
   "metadata": {},
   "outputs": [
    {
     "data": {
      "text/plain": [
       "728"
      ]
     },
     "execution_count": 4,
     "metadata": {},
     "output_type": "execute_result"
    }
   ],
   "source": [
    "banker.sum()"
   ]
  },
  {
   "cell_type": "code",
   "execution_count": 5,
   "id": "0f8448b1-7cd5-462f-ab17-366dfb6615f7",
   "metadata": {},
   "outputs": [
    {
     "data": {
      "text/plain": [
       "0.014769730168391155"
      ]
     },
     "execution_count": 5,
     "metadata": {},
     "output_type": "execute_result"
    }
   ],
   "source": [
    "banker.mean()"
   ]
  },
  {
   "cell_type": "code",
   "execution_count": 6,
   "id": "25c2f0c8-6768-4db0-8a17-f67696e0567f",
   "metadata": {},
   "outputs": [],
   "source": [
    "def prob(A):\n",
    "    \"\"\"Computes the probability of a proposition, A.\"\"\"    \n",
    "    return A.mean()"
   ]
  },
  {
   "cell_type": "code",
   "execution_count": 7,
   "id": "1a99ba63-7db5-44df-903f-5e476a332a2b",
   "metadata": {},
   "outputs": [
    {
     "data": {
      "text/plain": [
       "0.014769730168391155"
      ]
     },
     "execution_count": 7,
     "metadata": {},
     "output_type": "execute_result"
    }
   ],
   "source": [
    "prob(banker)"
   ]
  },
  {
   "cell_type": "code",
   "execution_count": 9,
   "id": "2faa939c-63d6-414d-9d2e-bdb9eed2b678",
   "metadata": {},
   "outputs": [],
   "source": [
    "female = gss['sex'] == 2"
   ]
  },
  {
   "cell_type": "code",
   "execution_count": 10,
   "id": "c87a6a20-fa3b-466a-8b5c-4d49a95f9e1b",
   "metadata": {},
   "outputs": [
    {
     "data": {
      "text/plain": [
       "0.5378575776019476"
      ]
     },
     "execution_count": 10,
     "metadata": {},
     "output_type": "execute_result"
    }
   ],
   "source": [
    "prob(female)"
   ]
  },
  {
   "cell_type": "code",
   "execution_count": 11,
   "id": "629211e5-82d0-4f23-873f-70325d54a379",
   "metadata": {},
   "outputs": [],
   "source": [
    "liberal = gss['polviews'] <=3"
   ]
  },
  {
   "cell_type": "code",
   "execution_count": 12,
   "id": "c997cf58-15ba-45a6-8916-c09bf1536e2e",
   "metadata": {},
   "outputs": [
    {
     "data": {
      "text/plain": [
       "0.27374721038750255"
      ]
     },
     "execution_count": 12,
     "metadata": {},
     "output_type": "execute_result"
    }
   ],
   "source": [
    "prob(liberal)"
   ]
  },
  {
   "cell_type": "code",
   "execution_count": 13,
   "id": "74d96d7c-3468-4722-996d-8cd44c6d204c",
   "metadata": {},
   "outputs": [],
   "source": [
    "democrat = gss['partyid'] <= 1"
   ]
  },
  {
   "cell_type": "code",
   "execution_count": 14,
   "id": "848cf3c7-d5e5-4f87-b238-bc3af75dad9d",
   "metadata": {},
   "outputs": [
    {
     "data": {
      "text/plain": [
       "0.3662609048488537"
      ]
     },
     "execution_count": 14,
     "metadata": {},
     "output_type": "execute_result"
    }
   ],
   "source": [
    "prob(democrat)"
   ]
  },
  {
   "cell_type": "markdown",
   "id": "117bc576-3113-4244-b61f-532da6aff7b4",
   "metadata": {},
   "source": [
    "### Conjunction"
   ]
  },
  {
   "cell_type": "code",
   "execution_count": 15,
   "id": "075a791d-b449-472d-b3e6-b0ca1fdb66ab",
   "metadata": {},
   "outputs": [
    {
     "data": {
      "text/plain": [
       "0.014769730168391155"
      ]
     },
     "execution_count": 15,
     "metadata": {},
     "output_type": "execute_result"
    }
   ],
   "source": [
    "prob(banker)"
   ]
  },
  {
   "cell_type": "code",
   "execution_count": 16,
   "id": "53704026-88b3-4863-a730-a82c65814015",
   "metadata": {},
   "outputs": [
    {
     "data": {
      "text/plain": [
       "0.3662609048488537"
      ]
     },
     "execution_count": 16,
     "metadata": {},
     "output_type": "execute_result"
    }
   ],
   "source": [
    "prob(democrat)"
   ]
  },
  {
   "cell_type": "code",
   "execution_count": 17,
   "id": "18353978-ed3a-4916-94cc-f765357e816c",
   "metadata": {},
   "outputs": [
    {
     "data": {
      "text/plain": [
       "0.004686548995739501"
      ]
     },
     "execution_count": 17,
     "metadata": {},
     "output_type": "execute_result"
    }
   ],
   "source": [
    "prob(banker & democrat)"
   ]
  },
  {
   "cell_type": "code",
   "execution_count": 18,
   "id": "05c0bbd1-572b-426c-bb2b-2370f94f471f",
   "metadata": {},
   "outputs": [
    {
     "data": {
      "text/plain": [
       "0.004686548995739501"
      ]
     },
     "execution_count": 18,
     "metadata": {},
     "output_type": "execute_result"
    }
   ],
   "source": [
    "prob(democrat & banker)"
   ]
  },
  {
   "cell_type": "markdown",
   "id": "0f2f38b0-27f6-4fa4-acbf-65e933736d36",
   "metadata": {},
   "source": [
    "### Conditional probability"
   ]
  },
  {
   "cell_type": "code",
   "execution_count": 19,
   "id": "cabf999e-9958-4294-ba02-5af07890b690",
   "metadata": {},
   "outputs": [
    {
     "data": {
      "text/plain": [
       "caseid\n",
       "1       False\n",
       "2        True\n",
       "5        True\n",
       "6       False\n",
       "7       False\n",
       "        ...  \n",
       "2863     True\n",
       "2864    False\n",
       "2865    False\n",
       "2866    False\n",
       "2867    False\n",
       "Name: partyid, Length: 49290, dtype: bool"
      ]
     },
     "execution_count": 19,
     "metadata": {},
     "output_type": "execute_result"
    }
   ],
   "source": [
    "democrat"
   ]
  },
  {
   "cell_type": "code",
   "execution_count": 20,
   "id": "b036028f-e5cd-4c21-ab68-73e7fef66a86",
   "metadata": {},
   "outputs": [
    {
     "data": {
      "text/plain": [
       "caseid\n",
       "1       False\n",
       "2       False\n",
       "5       False\n",
       "6       False\n",
       "7       False\n",
       "        ...  \n",
       "2863     True\n",
       "2864    False\n",
       "2865    False\n",
       "2866    False\n",
       "2867    False\n",
       "Name: polviews, Length: 49290, dtype: bool"
      ]
     },
     "execution_count": 20,
     "metadata": {},
     "output_type": "execute_result"
    }
   ],
   "source": [
    "liberal"
   ]
  },
  {
   "cell_type": "code",
   "execution_count": 22,
   "id": "1c2c864b-87d6-4053-960f-77712f13fa10",
   "metadata": {},
   "outputs": [
    {
     "data": {
      "text/plain": [
       "caseid\n",
       "12      False\n",
       "25       True\n",
       "26      False\n",
       "32       True\n",
       "38      False\n",
       "        ...  \n",
       "2845    False\n",
       "2849     True\n",
       "2856    False\n",
       "2857     True\n",
       "2863     True\n",
       "Name: partyid, Length: 13493, dtype: bool"
      ]
     },
     "execution_count": 22,
     "metadata": {},
     "output_type": "execute_result"
    }
   ],
   "source": [
    "selected = democrat[liberal]\n",
    "selected"
   ]
  },
  {
   "cell_type": "markdown",
   "id": "36d34b48-790c-42a1-8ed0-831175b4794d",
   "metadata": {},
   "source": [
    "`selected` consists of the members of `democrat` (indexed by `caseid`) with value `True` who have value `True` in `liberal`."
   ]
  },
  {
   "cell_type": "code",
   "execution_count": 23,
   "id": "5788355b-3e04-4238-9216-b55da59c5c47",
   "metadata": {},
   "outputs": [
    {
     "data": {
      "text/plain": [
       "0.5206403320240125"
      ]
     },
     "execution_count": 23,
     "metadata": {},
     "output_type": "execute_result"
    }
   ],
   "source": [
    "prob(selected)"
   ]
  },
  {
   "cell_type": "markdown",
   "id": "7ba4d4fb-6aaf-43c5-bdfb-a7769feef070",
   "metadata": {},
   "source": [
    "This is the probability that someone is a liberal given that they are a democrat."
   ]
  },
  {
   "cell_type": "code",
   "execution_count": 24,
   "id": "812db32b-bf7b-4cca-adc3-65ee3240e235",
   "metadata": {},
   "outputs": [
    {
     "data": {
      "text/plain": [
       "0.7706043956043956"
      ]
     },
     "execution_count": 24,
     "metadata": {},
     "output_type": "execute_result"
    }
   ],
   "source": [
    "selected = female[banker]\n",
    "prob(selected)"
   ]
  },
  {
   "cell_type": "code",
   "execution_count": 25,
   "id": "8866bf08-83c7-4b43-90c4-5ab9d75ed927",
   "metadata": {},
   "outputs": [],
   "source": [
    "def conditional(proposition, given):\n",
    "    \"\"\"Probability of a proposition conditioned on given.\"\"\"\n",
    "    return prob(proposition[given])"
   ]
  },
  {
   "cell_type": "code",
   "execution_count": 26,
   "id": "d2b03327-608d-4795-92a5-54a97fcc2fce",
   "metadata": {},
   "outputs": [
    {
     "data": {
      "text/plain": [
       "0.27581004111500884"
      ]
     },
     "execution_count": 26,
     "metadata": {},
     "output_type": "execute_result"
    }
   ],
   "source": [
    "conditional(liberal, given=female)"
   ]
  },
  {
   "cell_type": "markdown",
   "id": "9656abee-407d-451a-9c8b-2e2baef47d7e",
   "metadata": {},
   "source": [
    "**Conditional probability is not commutative.**"
   ]
  },
  {
   "cell_type": "code",
   "execution_count": 27,
   "id": "dc0446f5-6d37-44dd-9fa7-cca5baba3678",
   "metadata": {},
   "outputs": [
    {
     "data": {
      "text/plain": [
       "0.5419106203216483"
      ]
     },
     "execution_count": 27,
     "metadata": {},
     "output_type": "execute_result"
    }
   ],
   "source": [
    "conditional(female, given=liberal)"
   ]
  },
  {
   "cell_type": "markdown",
   "id": "0a8dee50-d370-43d7-87b5-453c647f0314",
   "metadata": {},
   "source": [
    "### Condition and conjunction"
   ]
  },
  {
   "cell_type": "code",
   "execution_count": 28,
   "id": "acb1dd7f-1d41-42cd-bb3c-c11e67663710",
   "metadata": {},
   "outputs": [
    {
     "data": {
      "text/plain": [
       "0.576085409252669"
      ]
     },
     "execution_count": 28,
     "metadata": {},
     "output_type": "execute_result"
    }
   ],
   "source": [
    "conditional(female, given=liberal & democrat)"
   ]
  },
  {
   "cell_type": "code",
   "execution_count": 29,
   "id": "b20e53de-90be-4d80-98b3-aaa2f4952310",
   "metadata": {},
   "outputs": [
    {
     "data": {
      "text/plain": [
       "0.17307692307692307"
      ]
     },
     "execution_count": 29,
     "metadata": {},
     "output_type": "execute_result"
    }
   ],
   "source": [
    "conditional(liberal & female, given=banker)"
   ]
  },
  {
   "cell_type": "markdown",
   "id": "4cd933cd-c10a-4a51-bf53-38c549ded288",
   "metadata": {},
   "source": [
    "### Laws of probability"
   ]
  },
  {
   "cell_type": "markdown",
   "id": "068a797b-5c71-42c8-b144-26213540804b",
   "metadata": {},
   "source": [
    "#### Theorem 1\n",
    "$$P(A|B) = \\frac{P(A~\\mathrm{and}~B)}{P(B)}$$"
   ]
  },
  {
   "cell_type": "markdown",
   "id": "7be2f5a3-cbdc-4b56-963b-6b734edd41da",
   "metadata": {},
   "source": [
    "What fraction of bankers are female?\n",
    "We can find:\n",
    "1. The fraction of respondents who are female bankers, and\n",
    "2. The fraction of respondents who are bankers\n",
    "\n",
    "and then divide."
   ]
  },
  {
   "cell_type": "code",
   "execution_count": 30,
   "id": "58fe7fee-9e79-4851-b26a-79ba3c491145",
   "metadata": {},
   "outputs": [
    {
     "data": {
      "text/plain": [
       "0.7706043956043956"
      ]
     },
     "execution_count": 30,
     "metadata": {},
     "output_type": "execute_result"
    }
   ],
   "source": [
    "prob(female & banker) / prob(banker)"
   ]
  },
  {
   "cell_type": "markdown",
   "id": "f218fc18-6909-4593-9095-b57a36e16b56",
   "metadata": {},
   "source": [
    "This gives the same result:"
   ]
  },
  {
   "cell_type": "code",
   "execution_count": 32,
   "id": "0f330605-1da2-479f-8be5-e4baedef9760",
   "metadata": {},
   "outputs": [
    {
     "data": {
      "text/plain": [
       "0.7706043956043956"
      ]
     },
     "execution_count": 32,
     "metadata": {},
     "output_type": "execute_result"
    }
   ],
   "source": [
    "conditional(female, given=banker)"
   ]
  },
  {
   "cell_type": "markdown",
   "id": "1b2e0348-7574-46c2-a742-5612f2081afa",
   "metadata": {},
   "source": [
    "#### Theorem 2\n",
    "$$P(A~\\mathrm{and}~B) = P(B) ~ P(A|B)$$\n",
    "This follows from Thm. 1."
   ]
  },
  {
   "cell_type": "code",
   "execution_count": 33,
   "id": "3ad43cdb-8762-4eb2-9596-5a0dd8a0f694",
   "metadata": {},
   "outputs": [
    {
     "data": {
      "text/plain": [
       "0.1425238385067965"
      ]
     },
     "execution_count": 33,
     "metadata": {},
     "output_type": "execute_result"
    }
   ],
   "source": [
    "prob(democrat) * conditional(liberal, democrat)"
   ]
  },
  {
   "cell_type": "code",
   "execution_count": 34,
   "id": "de9907fd-0fa0-408c-9eb6-ea2a07d05349",
   "metadata": {},
   "outputs": [
    {
     "data": {
      "text/plain": [
       "0.1425238385067965"
      ]
     },
     "execution_count": 34,
     "metadata": {},
     "output_type": "execute_result"
    }
   ],
   "source": [
    "prob(democrat & liberal)"
   ]
  },
  {
   "cell_type": "markdown",
   "id": "6b903543-d333-44fc-81ca-559e89ed3ead",
   "metadata": {},
   "source": [
    "#### Theorem 3 - Bayes's Theorem\n",
    "$$P(A|B) = \\frac{P(A) P(B|A)}{P(B)}$$\n",
    "By combining Thm. 1 and Thm. 2."
   ]
  },
  {
   "cell_type": "code",
   "execution_count": 35,
   "id": "587764d3-78ea-4856-9f1f-babb6f896d30",
   "metadata": {},
   "outputs": [
    {
     "data": {
      "text/plain": [
       "0.2239010989010989"
      ]
     },
     "execution_count": 35,
     "metadata": {},
     "output_type": "execute_result"
    }
   ],
   "source": [
    "conditional(liberal, given=banker)"
   ]
  },
  {
   "cell_type": "code",
   "execution_count": 36,
   "id": "2175291e-66a8-486a-a097-b662e5f270fc",
   "metadata": {},
   "outputs": [
    {
     "data": {
      "text/plain": [
       "0.2239010989010989"
      ]
     },
     "execution_count": 36,
     "metadata": {},
     "output_type": "execute_result"
    }
   ],
   "source": [
    "prob(liberal) * conditional(banker, given=liberal) / prob(banker)"
   ]
  },
  {
   "cell_type": "markdown",
   "id": "4a619e06-8524-4bf5-9709-2cc8576afe43",
   "metadata": {},
   "source": [
    "### The law of total probability\n",
    "$$P(A) = \\sum_i P(B_i) P(A|B_i)$$\n"
   ]
  },
  {
   "cell_type": "markdown",
   "id": "38adb49f-feb9-4ebc-9a2c-faae05085608",
   "metadata": {},
   "source": [
    "In this dataset all respondents are either male or female."
   ]
  },
  {
   "cell_type": "code",
   "execution_count": 37,
   "id": "d1ee9cbd-b154-4349-8a1a-4533db80794a",
   "metadata": {},
   "outputs": [
    {
     "data": {
      "text/plain": [
       "0.014769730168391155"
      ]
     },
     "execution_count": 37,
     "metadata": {},
     "output_type": "execute_result"
    }
   ],
   "source": [
    "prob(banker)"
   ]
  },
  {
   "cell_type": "code",
   "execution_count": 38,
   "id": "69d1a154-504c-406a-adad-efef2dc36945",
   "metadata": {},
   "outputs": [],
   "source": [
    "male = (gss['sex'] == 1)"
   ]
  },
  {
   "cell_type": "code",
   "execution_count": 39,
   "id": "18b42961-91ab-4fe2-a2f2-5e48053efaea",
   "metadata": {},
   "outputs": [
    {
     "data": {
      "text/plain": [
       "0.014769730168391155"
      ]
     },
     "execution_count": 39,
     "metadata": {},
     "output_type": "execute_result"
    }
   ],
   "source": [
    "prob(male & banker) + prob(female & banker)"
   ]
  },
  {
   "cell_type": "code",
   "execution_count": 40,
   "id": "766b2b3c-5365-48ba-ab73-6de9ea0b35a0",
   "metadata": {},
   "outputs": [
    {
     "data": {
      "text/plain": [
       "0.014769730168391153"
      ]
     },
     "execution_count": 40,
     "metadata": {},
     "output_type": "execute_result"
    }
   ],
   "source": [
    "prob(male) * conditional(banker, given=male) + prob(female) * conditional(banker, given=female)"
   ]
  },
  {
   "cell_type": "markdown",
   "id": "fbd45a62-8a06-467e-ab04-15ca9b2eecc2",
   "metadata": {},
   "source": [
    "## Exercises"
   ]
  },
  {
   "cell_type": "markdown",
   "id": "38fe8fe4-9db0-4a26-a25c-ea76f01870bd",
   "metadata": {},
   "source": [
    "**Exercise:** Let's use the tools in this chapter to solve a variation of the Linda problem.\n",
    "\n",
    "> Linda is 31 years old, single, outspoken, and very bright. She majored in philosophy. As a student, she was deeply concerned with issues of discrimination and social justice, and also participated in anti-nuclear demonstrations.  Which is more probable?\n",
    "> 1. Linda is a banker.\n",
    "> 2. Linda is a banker and considers herself a liberal Democrat.\n",
    "\n",
    "To answer this question, compute \n",
    "\n",
    "* The probability that Linda is a female banker,\n",
    "\n",
    "* The probability that Linda is a liberal female banker, and\n",
    "\n",
    "* The probability that Linda is a liberal female banker and a Democrat."
   ]
  },
  {
   "cell_type": "code",
   "execution_count": 42,
   "id": "97679ab0-0bce-4192-bd91-65da8767b0f6",
   "metadata": {},
   "outputs": [
    {
     "data": {
      "text/plain": [
       "0.011381618989653074"
      ]
     },
     "execution_count": 42,
     "metadata": {},
     "output_type": "execute_result"
    }
   ],
   "source": [
    "# Probability that Linda is female banker\n",
    "prob(female & banker)"
   ]
  },
  {
   "cell_type": "code",
   "execution_count": 43,
   "id": "d1a0fafd-050f-45d8-8578-ab3d2e1497d2",
   "metadata": {},
   "outputs": [
    {
     "data": {
      "text/plain": [
       "0.002556299452221546"
      ]
     },
     "execution_count": 43,
     "metadata": {},
     "output_type": "execute_result"
    }
   ],
   "source": [
    "# Probability that Linda is a liberal female banker\n",
    "prob(female & banker & liberal)"
   ]
  },
  {
   "cell_type": "code",
   "execution_count": 44,
   "id": "0f0435a7-5505-4f1a-b052-9fa4aeef5dfd",
   "metadata": {},
   "outputs": [
    {
     "data": {
      "text/plain": [
       "0.0012375735443294787"
      ]
     },
     "execution_count": 44,
     "metadata": {},
     "output_type": "execute_result"
    }
   ],
   "source": [
    "# Probability that Linda is a liberal female banker and a Democrat\n",
    "prob(female & banker & liberal & democrat)"
   ]
  },
  {
   "cell_type": "markdown",
   "id": "d7edf0ad-52d3-428a-8652-2c89fae806a1",
   "metadata": {},
   "source": [
    "**Exercise:** Use `conditional` to compute the following probabilities:\n",
    "\n",
    "* What is the probability that a respondent is liberal, given that they are a Democrat?\n",
    "\n",
    "* What is the probability that a respondent is a Democrat, given that they are liberal?\n",
    "\n",
    "Think carefully about the order of the arguments you pass to `conditional`."
   ]
  },
  {
   "cell_type": "code",
   "execution_count": 45,
   "id": "ef2fe1d1-c269-46d7-b81f-cba0e93631f9",
   "metadata": {},
   "outputs": [
    {
     "data": {
      "text/plain": [
       "0.3891320002215698"
      ]
     },
     "execution_count": 45,
     "metadata": {},
     "output_type": "execute_result"
    }
   ],
   "source": [
    "# Probability that a respondent is liberal, given that they are a Democrat\n",
    "conditional(liberal, given=democrat)"
   ]
  },
  {
   "cell_type": "code",
   "execution_count": 46,
   "id": "6f31807f-7950-4583-9e4f-9cdd91f8d912",
   "metadata": {},
   "outputs": [
    {
     "data": {
      "text/plain": [
       "0.5206403320240125"
      ]
     },
     "execution_count": 46,
     "metadata": {},
     "output_type": "execute_result"
    }
   ],
   "source": [
    "# Probability that a respondent is a Democrat, given that they are a liberal\n",
    "conditional(democrat, given=liberal)"
   ]
  },
  {
   "cell_type": "markdown",
   "id": "14c66589-e293-41d2-8dee-1df0dd22d643",
   "metadata": {},
   "source": [
    "**Exercise:** There's a [famous quote](https://quoteinvestigator.com/2014/02/24/heart-head/) about young people, old people, liberals, and conservatives that goes something like:\n",
    "\n",
    "> If you are not a liberal at 25, you have no heart. If you are not a conservative at 35, you have no brain.\n",
    "\n",
    "Whether you agree with this proposition or not, it suggests some probabilities we can compute as an exercise.\n",
    "Rather than use the specific ages 25 and 35, let's define `young` and `old` as under 30 or over 65:"
   ]
  },
  {
   "cell_type": "code",
   "execution_count": 47,
   "id": "ef9ebfc6-e7be-4d6e-a318-343976a579c8",
   "metadata": {},
   "outputs": [
    {
     "data": {
      "text/plain": [
       "0.19435991073240008"
      ]
     },
     "execution_count": 47,
     "metadata": {},
     "output_type": "execute_result"
    }
   ],
   "source": [
    "young = (gss['age'] < 30)\n",
    "prob(young)"
   ]
  },
  {
   "cell_type": "code",
   "execution_count": 48,
   "id": "67992c66-d4e3-4482-80dd-8728c7c35001",
   "metadata": {},
   "outputs": [
    {
     "data": {
      "text/plain": [
       "0.17328058429701765"
      ]
     },
     "execution_count": 48,
     "metadata": {},
     "output_type": "execute_result"
    }
   ],
   "source": [
    "old = (gss['age'] >= 65)\n",
    "prob(old)"
   ]
  },
  {
   "cell_type": "markdown",
   "id": "5e1828c1-e31c-43ab-866f-58fdd3d602d2",
   "metadata": {},
   "source": [
    "For these thresholds, I chose round numbers near the 20th and 80th percentiles.  Depending on your age, you may or may not agree with these definitions of \"young\" and \"old\".\n",
    "\n",
    "I'll define `conservative` as someone whose political views are \"Conservative\", \"Slightly Conservative\", or \"Extremely Conservative\"."
   ]
  },
  {
   "cell_type": "code",
   "execution_count": 49,
   "id": "44966de6-f869-45fb-9407-ed3256869be4",
   "metadata": {},
   "outputs": [
    {
     "data": {
      "text/plain": [
       "0.3419354838709677"
      ]
     },
     "execution_count": 49,
     "metadata": {},
     "output_type": "execute_result"
    }
   ],
   "source": [
    "conservative = (gss['polviews'] >= 5)\n",
    "prob(conservative)"
   ]
  },
  {
   "cell_type": "markdown",
   "id": "8298beb2-68b9-4d62-ae96-386adc00415a",
   "metadata": {},
   "source": [
    "Use `prob` and `conditional` to compute the following probabilities.\n",
    "\n",
    "* What is the probability that a randomly chosen respondent is a young liberal?\n",
    "\n",
    "* What is the probability that a young person is liberal?\n",
    "\n",
    "* What fraction of respondents are old conservatives?\n",
    "\n",
    "* What fraction of conservatives are old?\n",
    "\n",
    "For each statement, think about whether it is expressing a conjunction, a conditional probability, or both.\n",
    "\n",
    "For the conditional probabilities, be careful about the order of the arguments.\n",
    "If your answer to the last question is greater than 30%, you have it backwards!"
   ]
  },
  {
   "cell_type": "code",
   "execution_count": 50,
   "id": "dbed0e84-e657-47c0-979d-f4f8645af3cc",
   "metadata": {},
   "outputs": [
    {
     "data": {
      "text/plain": [
       "0.06579427875836884"
      ]
     },
     "execution_count": 50,
     "metadata": {},
     "output_type": "execute_result"
    }
   ],
   "source": [
    "# Probability that randomly chosen respondent is a young liberal\n",
    "prob(young & liberal)"
   ]
  },
  {
   "cell_type": "code",
   "execution_count": 51,
   "id": "c8e3d789-f5c9-45e3-b0f1-76997ce52a25",
   "metadata": {},
   "outputs": [
    {
     "data": {
      "text/plain": [
       "0.338517745302714"
      ]
     },
     "execution_count": 51,
     "metadata": {},
     "output_type": "execute_result"
    }
   ],
   "source": [
    "# Probability that a young person is liberal\n",
    "conditional(liberal, given=young)"
   ]
  },
  {
   "cell_type": "code",
   "execution_count": 52,
   "id": "6b8813bf-2e3a-464b-b6d6-a85065cb7f56",
   "metadata": {},
   "outputs": [
    {
     "data": {
      "text/plain": [
       "0.06701156421180766"
      ]
     },
     "execution_count": 52,
     "metadata": {},
     "output_type": "execute_result"
    }
   ],
   "source": [
    "# Fraction of respondents that are old conservatives\n",
    "prob(old & conservative)"
   ]
  },
  {
   "cell_type": "code",
   "execution_count": 53,
   "id": "b011c4b4-90cc-45f7-95e5-5c1cede5efe1",
   "metadata": {},
   "outputs": [
    {
     "data": {
      "text/plain": [
       "0.19597721609113564"
      ]
     },
     "execution_count": 53,
     "metadata": {},
     "output_type": "execute_result"
    }
   ],
   "source": [
    "# Fraction of conservatives that are old\n",
    "conditional(old, given=conservative)"
   ]
  },
  {
   "cell_type": "code",
   "execution_count": null,
   "id": "90a5b6e1-1075-47fa-93d3-9050a0f130a7",
   "metadata": {},
   "outputs": [],
   "source": []
  }
 ],
 "metadata": {
  "kernelspec": {
   "display_name": "Python 3 (ipykernel)",
   "language": "python",
   "name": "python3"
  },
  "language_info": {
   "codemirror_mode": {
    "name": "ipython",
    "version": 3
   },
   "file_extension": ".py",
   "mimetype": "text/x-python",
   "name": "python",
   "nbconvert_exporter": "python",
   "pygments_lexer": "ipython3",
   "version": "3.9.7"
  }
 },
 "nbformat": 4,
 "nbformat_minor": 5
}
