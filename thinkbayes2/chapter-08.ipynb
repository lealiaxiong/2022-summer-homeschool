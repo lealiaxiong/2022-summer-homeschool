{
 "cells": [
  {
   "cell_type": "markdown",
   "id": "ce3963d5-100a-40b4-a4b1-4cc07808f312",
   "metadata": {},
   "source": [
    "# Chapter 8 - Poisson Processes\n",
    "http://allendowney.github.io/ThinkBayes2/chap08.html"
   ]
  },
  {
   "cell_type": "markdown",
   "id": "a95a63fb-ae00-4083-8388-06d9a742c98e",
   "metadata": {},
   "source": [
    "## Reading"
   ]
  },
  {
   "cell_type": "markdown",
   "id": "897f261b-7893-4a47-ba2e-445cf53a8381",
   "metadata": {},
   "source": [
    "### The Poisson Distribution"
   ]
  },
  {
   "cell_type": "code",
   "execution_count": 1,
   "id": "64eed92b-0b64-4b82-b400-09ce33b4ce1e",
   "metadata": {},
   "outputs": [
    {
     "data": {
      "text/plain": [
       "scipy.stats._distn_infrastructure.rv_frozen"
      ]
     },
     "execution_count": 1,
     "metadata": {},
     "output_type": "execute_result"
    }
   ],
   "source": [
    "from scipy.stats import poisson\n",
    "\n",
    "lam = 1.4\n",
    "dist = poisson(lam)\n",
    "type(dist)"
   ]
  },
  {
   "cell_type": "code",
   "execution_count": 2,
   "id": "ae5ea6c3-70dc-46d7-be62-119607971f1f",
   "metadata": {},
   "outputs": [
    {
     "data": {
      "text/plain": [
       "0.039471954028253146"
      ]
     },
     "execution_count": 2,
     "metadata": {},
     "output_type": "execute_result"
    }
   ],
   "source": [
    "k = 4\n",
    "dist.pmf(k)"
   ]
  },
  {
   "cell_type": "code",
   "execution_count": 3,
   "id": "e11b447d-32b7-412c-a4d0-cc77d708ee7e",
   "metadata": {},
   "outputs": [],
   "source": [
    "from empiricaldist import Pmf\n",
    "\n",
    "def make_poisson_pmf(lam, qs):\n",
    "    \"\"\"Make a Pmf of a Poisson distribution\"\"\"\n",
    "    ps = poisson(lam).pmf(qs)\n",
    "    pmf = Pmf(ps, qs)\n",
    "    pmf.normalize()\n",
    "    return pmf"
   ]
  },
  {
   "cell_type": "code",
   "execution_count": 4,
   "id": "92047395-d02b-4e35-8ced-81e668b7f01b",
   "metadata": {},
   "outputs": [],
   "source": [
    "import numpy as np\n",
    "\n",
    "lam = 1.4\n",
    "goals = np.arange(10)\n",
    "pmf_goals = make_poisson_pmf(lam, goals)"
   ]
  },
  {
   "cell_type": "code",
   "execution_count": 5,
   "id": "1a72a494-0194-4a65-9bf4-a404b9822624",
   "metadata": {},
   "outputs": [],
   "source": [
    "from utils import decorate\n",
    "\n",
    "def decorate_goals(title=''):\n",
    "    decorate(xlabel='Number of goals',\n",
    "        ylabel='PMF',\n",
    "        title=title)"
   ]
  },
  {
   "cell_type": "code",
   "execution_count": 6,
   "id": "0dcca9f5-75da-4666-b6d6-5f5f05e1920d",
   "metadata": {},
   "outputs": [
    {
     "data": {
      "image/png": "[encoded data removed]",
      "text/plain": [
       "<Figure size 432x288 with 1 Axes>"
      ]
     },
     "metadata": {
      "needs_background": "light"
     },
     "output_type": "display_data"
    }
   ],
   "source": [
    "pmf_goals.bar(label=r'Poisson distribution with $\\lambda=1.4$')\n",
    "\n",
    "decorate_goals('Distribution of goals scored')"
   ]
  },
  {
   "cell_type": "markdown",
   "id": "c072c8f0-dded-4824-8718-946944cec487",
   "metadata": {},
   "source": [
    "### The Gamma Distribution"
   ]
  },
  {
   "cell_type": "code",
   "execution_count": 7,
   "id": "3414cf23-07cf-4c15-9569-1538619617e0",
   "metadata": {},
   "outputs": [],
   "source": [
    "from scipy.stats import gamma\n",
    "\n",
    "alpha = 1.4\n",
    "qs = np.linspace(0, 10, 101)\n",
    "ps = gamma(alpha).pdf(qs)"
   ]
  },
  {
   "cell_type": "code",
   "execution_count": 8,
   "id": "06ed5fec-d327-4095-8074-d7d7e2a4bbac",
   "metadata": {},
   "outputs": [
    {
     "data": {
      "text/plain": [
       "9.889360237140306"
      ]
     },
     "execution_count": 8,
     "metadata": {},
     "output_type": "execute_result"
    }
   ],
   "source": [
    "from empiricaldist import Pmf\n",
    "\n",
    "prior = Pmf(ps, qs)\n",
    "prior.normalize()"
   ]
  },
  {
   "cell_type": "code",
   "execution_count": 9,
   "id": "03c90b99-417b-434f-be50-f65a706d5299",
   "metadata": {},
   "outputs": [],
   "source": [
    "def decorate_rate(title=''):\n",
    "    decorate(xlabel='Goal scoring rate (lam)',\n",
    "        ylabel='PMF',\n",
    "        title=title)"
   ]
  },
  {
   "cell_type": "code",
   "execution_count": 10,
   "id": "d6d75f2d-1412-4d80-b6fb-2f5473ec0a52",
   "metadata": {},
   "outputs": [
    {
     "data": {
      "image/png": "[encoded data removed]",
      "text/plain": [
       "<Figure size 432x288 with 1 Axes>"
      ]
     },
     "metadata": {
      "needs_background": "light"
     },
     "output_type": "display_data"
    }
   ],
   "source": [
    "prior.plot(ls='--', label='prior', color='C5')\n",
    "decorate_rate(r'Prior distribution of $\\lambda$')"
   ]
  },
  {
   "cell_type": "code",
   "execution_count": 11,
   "id": "a23ab29e-6404-4a57-b185-1d65128aef14",
   "metadata": {},
   "outputs": [
    {
     "data": {
      "text/plain": [
       "1.4140818156118378"
      ]
     },
     "execution_count": 11,
     "metadata": {},
     "output_type": "execute_result"
    }
   ],
   "source": [
    "prior.mean()"
   ]
  },
  {
   "cell_type": "code",
   "execution_count": 12,
   "id": "2aeee22c-3101-4424-8c04-5e68805c8fcb",
   "metadata": {},
   "outputs": [],
   "source": [
    "lams = prior.qs\n",
    "k = 4\n",
    "likelihood = poisson(lam).pmf(k)"
   ]
  },
  {
   "cell_type": "code",
   "execution_count": 13,
   "id": "0a6cb36b-6ed6-4978-b028-d49c24c27d5a",
   "metadata": {},
   "outputs": [],
   "source": [
    "def update_poisson(pmf, data):\n",
    "    \"\"\"Update Pmf with a Poisson likelihood\"\"\"\n",
    "    k = data\n",
    "    lams = pmf.qs\n",
    "    likelihood = poisson(lams).pmf(k)\n",
    "    pmf *= likelihood\n",
    "    pmf.normalize()"
   ]
  },
  {
   "cell_type": "code",
   "execution_count": 14,
   "id": "1cf7c523-6c6e-4e59-9162-b7e6ceb13aa3",
   "metadata": {},
   "outputs": [],
   "source": [
    "france = prior.copy()\n",
    "update_poisson(france, 4)"
   ]
  },
  {
   "cell_type": "code",
   "execution_count": 15,
   "id": "f5fb9ba7-b937-4924-b3a2-9d0fc8cd049b",
   "metadata": {},
   "outputs": [
    {
     "data": {
      "image/png": "[encoded data removed]",
      "text/plain": [
       "<Figure size 432x288 with 1 Axes>"
      ]
     },
     "metadata": {
      "needs_background": "light"
     },
     "output_type": "display_data"
    }
   ],
   "source": [
    "prior.plot(ls='--', label='prior', color='C5')\n",
    "france.plot(label='France posterior', color='C3')\n",
    "\n",
    "decorate_rate('Posterior distribution for France')"
   ]
  },
  {
   "cell_type": "code",
   "execution_count": 16,
   "id": "bd965f2f-5d49-412e-a023-e4f7e59fd2bb",
   "metadata": {},
   "outputs": [],
   "source": [
    "croatia = prior.copy()\n",
    "update_poisson(croatia, 2)"
   ]
  },
  {
   "cell_type": "code",
   "execution_count": 17,
   "id": "ad50b96c-bc33-46ee-9cf9-a52e35bd345c",
   "metadata": {},
   "outputs": [
    {
     "data": {
      "image/png": "[encoded data removed]",
      "text/plain": [
       "<Figure size 432x288 with 1 Axes>"
      ]
     },
     "metadata": {
      "needs_background": "light"
     },
     "output_type": "display_data"
    }
   ],
   "source": [
    "prior.plot(ls='--', label='prior', color='C5')\n",
    "croatia.plot(label='Croatia posterior', color='C0')\n",
    "\n",
    "decorate_rate('Posterior distribution for Croatia')"
   ]
  },
  {
   "cell_type": "code",
   "execution_count": 18,
   "id": "be094d5f-6099-49a6-b22d-63589cd62bd2",
   "metadata": {},
   "outputs": [
    {
     "name": "stdout",
     "output_type": "stream",
     "text": [
      "1.6999765866755225 2.699772393342308\n"
     ]
    }
   ],
   "source": [
    "print(croatia.mean(), france.mean())"
   ]
  },
  {
   "cell_type": "markdown",
   "id": "68e9d6c9-f93c-4353-89f0-ffdce818b91a",
   "metadata": {},
   "source": [
    "### Probability of superiority"
   ]
  },
  {
   "cell_type": "code",
   "execution_count": 21,
   "id": "85e1a196-578e-4611-8631-4622fbb696f5",
   "metadata": {},
   "outputs": [],
   "source": [
    "def prob_gt(pmf1, pmf2):\n",
    "    \"\"\"Compute the probability of superiority\"\"\"\n",
    "    total = 0\n",
    "    for q1, p1 in pmf1.items():\n",
    "        for q2, p2 in pmf2.items():\n",
    "            if q1 > q2:\n",
    "                total += p1 * p2\n",
    "    return total"
   ]
  },
  {
   "cell_type": "code",
   "execution_count": 22,
   "id": "c14fbd82-7764-46d2-97f0-346e0b91f3fa",
   "metadata": {},
   "outputs": [
    {
     "data": {
      "text/plain": [
       "0.7499366290930155"
      ]
     },
     "execution_count": 22,
     "metadata": {},
     "output_type": "execute_result"
    }
   ],
   "source": [
    "prob_gt(france, croatia)"
   ]
  },
  {
   "cell_type": "code",
   "execution_count": 23,
   "id": "9634749f-1749-48db-89e9-2deff6e2e765",
   "metadata": {},
   "outputs": [
    {
     "data": {
      "text/plain": [
       "0.7499366290930174"
      ]
     },
     "execution_count": 23,
     "metadata": {},
     "output_type": "execute_result"
    }
   ],
   "source": [
    "Pmf.prob_gt(france, croatia)"
   ]
  },
  {
   "cell_type": "markdown",
   "id": "5c53e159-3c97-4749-9f57-fedc3c26ab13",
   "metadata": {},
   "source": [
    "### Predicting the rematch"
   ]
  },
  {
   "cell_type": "code",
   "execution_count": 24,
   "id": "ede5d095-9802-43ac-8b0d-a62a13125f13",
   "metadata": {},
   "outputs": [],
   "source": [
    "pmf_seq = [make_poisson_pmf(lam, goals) for lam in prior.qs]"
   ]
  },
  {
   "cell_type": "code",
   "execution_count": 25,
   "id": "7bb134c8-294b-451f-862e-9d0cdb93d34b",
   "metadata": {},
   "outputs": [
    {
     "data": {
      "image/png": "[encoded data removed]",
      "text/plain": [
       "<Figure size 432x288 with 4 Axes>"
      ]
     },
     "metadata": {
      "needs_background": "light"
     },
     "output_type": "display_data"
    }
   ],
   "source": [
    "import matplotlib.pyplot as plt\n",
    "\n",
    "for i, index in enumerate([10, 20, 30, 40]):\n",
    "    plt.subplot(2, 2, i+1)\n",
    "    lam = prior.qs[index]\n",
    "    pmf = pmf_seq[index]\n",
    "    pmf.bar(label=f'$\\lambda$ = {lam}', color='C3')\n",
    "    decorate_goals()"
   ]
  },
  {
   "cell_type": "code",
   "execution_count": 26,
   "id": "990cb86d-869e-448a-9950-e925d71598a7",
   "metadata": {},
   "outputs": [],
   "source": [
    "from utils import make_mixture\n",
    "\n",
    "pred_france = make_mixture(france, pmf_seq)"
   ]
  },
  {
   "cell_type": "code",
   "execution_count": 27,
   "id": "b0043449-f898-47c2-ac96-ebfb80e3d647",
   "metadata": {},
   "outputs": [
    {
     "data": {
      "image/png": "[encoded data removed]",
      "text/plain": [
       "<Figure size 432x288 with 1 Axes>"
      ]
     },
     "metadata": {
      "needs_background": "light"
     },
     "output_type": "display_data"
    }
   ],
   "source": [
    "pred_france.bar(color='C3', label='France')\n",
    "decorate_goals('Posterior predictive distribution')"
   ]
  },
  {
   "cell_type": "code",
   "execution_count": 30,
   "id": "7dacde73-ec7c-44de-8599-fa7716bdb0e5",
   "metadata": {},
   "outputs": [],
   "source": [
    "pred_croatia = make_mixture(croatia, pmf_seq)"
   ]
  },
  {
   "cell_type": "code",
   "execution_count": 31,
   "id": "9eb6de07-0e5b-4492-89b1-64b2b52997bf",
   "metadata": {},
   "outputs": [
    {
     "data": {
      "image/png": "[encoded data removed]",
      "text/plain": [
       "<Figure size 432x288 with 1 Axes>"
      ]
     },
     "metadata": {
      "needs_background": "light"
     },
     "output_type": "display_data"
    }
   ],
   "source": [
    "pred_croatia.bar(color='C0', label='Croatia')\n",
    "decorate_goals('Posterior predictive distribution')"
   ]
  },
  {
   "cell_type": "code",
   "execution_count": 32,
   "id": "7b4d3a6a-b5d5-48c6-be6e-8f4348953880",
   "metadata": {},
   "outputs": [
    {
     "data": {
      "text/plain": [
       "0.5703522415934519"
      ]
     },
     "execution_count": 32,
     "metadata": {},
     "output_type": "execute_result"
    }
   ],
   "source": [
    "win = Pmf.prob_gt(pred_france, pred_croatia)\n",
    "win"
   ]
  },
  {
   "cell_type": "code",
   "execution_count": 33,
   "id": "3c749848-ed82-46e7-b97d-63093ee5db8f",
   "metadata": {},
   "outputs": [
    {
     "data": {
      "text/plain": [
       "0.26443376257235873"
      ]
     },
     "execution_count": 33,
     "metadata": {},
     "output_type": "execute_result"
    }
   ],
   "source": [
    "lose = Pmf.prob_lt(pred_france, pred_croatia)\n",
    "lose"
   ]
  },
  {
   "cell_type": "code",
   "execution_count": 34,
   "id": "ffd271a8-3695-4094-8660-aa29b01cd02e",
   "metadata": {},
   "outputs": [
    {
     "data": {
      "text/plain": [
       "0.16521399583418947"
      ]
     },
     "execution_count": 34,
     "metadata": {},
     "output_type": "execute_result"
    }
   ],
   "source": [
    "tie = Pmf.prob_eq(pred_france, pred_croatia)\n",
    "tie"
   ]
  },
  {
   "cell_type": "code",
   "execution_count": 35,
   "id": "40469e5e-47b1-464c-889a-49006d0302ea",
   "metadata": {},
   "outputs": [
    {
     "data": {
      "text/plain": [
       "0.6529592395105466"
      ]
     },
     "execution_count": 35,
     "metadata": {},
     "output_type": "execute_result"
    }
   ],
   "source": [
    "win + tie/2"
   ]
  },
  {
   "cell_type": "markdown",
   "id": "cf479d8f-a079-46af-b003-4c966087365e",
   "metadata": {},
   "source": [
    "### The Exponential Distribution"
   ]
  },
  {
   "cell_type": "code",
   "execution_count": 36,
   "id": "bd33e71d-d42e-4378-ada7-8fc3ac84dc34",
   "metadata": {},
   "outputs": [],
   "source": [
    "def expo_pdf(t, lam):\n",
    "    \"\"\"Compute the PDF of the exponential distribution.\"\"\"\n",
    "    return lam * np.exp(-lam * t)"
   ]
  },
  {
   "cell_type": "code",
   "execution_count": 37,
   "id": "c1d0c190-a887-4227-bb5b-b1d7e4599f22",
   "metadata": {},
   "outputs": [
    {
     "data": {
      "text/plain": [
       "25.616650745459093"
      ]
     },
     "execution_count": 37,
     "metadata": {},
     "output_type": "execute_result"
    }
   ],
   "source": [
    "lam = 1.4\n",
    "qs = np.linspace(0, 4, 101)\n",
    "ps = expo_pdf(qs, lam)\n",
    "pmf_time = Pmf(ps, qs)\n",
    "pmf_time.normalize()"
   ]
  },
  {
   "cell_type": "code",
   "execution_count": 38,
   "id": "8e75a541-363e-4fea-ad2f-f6597f9dce62",
   "metadata": {},
   "outputs": [],
   "source": [
    "def decorate_time(title=''):\n",
    "    decorate(xlabel='Time between goals (games)',\n",
    "             ylabel='PMF',\n",
    "             title=title)"
   ]
  },
  {
   "cell_type": "code",
   "execution_count": 39,
   "id": "def371f6-6fbb-4ba5-8930-bbf4828f86e7",
   "metadata": {},
   "outputs": [
    {
     "data": {
      "image/png": "[encoded data removed]",
      "text/plain": [
       "<Figure size 432x288 with 1 Axes>"
      ]
     },
     "metadata": {
      "needs_background": "light"
     },
     "output_type": "display_data"
    }
   ],
   "source": [
    "pmf_time.plot(label='exponential with $\\lambda$ = 1.4')\n",
    "\n",
    "decorate_time('Distribution of time between goals')"
   ]
  },
  {
   "cell_type": "markdown",
   "id": "c4a228a3-5e27-4f6f-aa7d-fa605c03fba0",
   "metadata": {},
   "source": [
    "## Exercises"
   ]
  },
  {
   "cell_type": "markdown",
   "id": "d88dafe0-de01-49f7-b230-597be3f7ce7d",
   "metadata": {},
   "source": [
    "**Exercise:** Let's finish the exercise we started:\n",
    "\n",
    ">In the 2014 FIFA World Cup, Germany played Brazil in a semifinal match. Germany scored after 11 minutes and again at the 23 minute mark. At that point in the match, how many goals would you expect Germany to score after 90 minutes? What was the probability that they would score 5 more goals (as, in fact, they did)?\n",
    "\n",
    "Here are the steps I recommend:\n",
    "\n",
    "1. Starting with the same gamma prior we used in the previous problem, compute the likelihood of scoring a goal after 11 minutes for each possible value of `lam`.  Don't forget to convert all times into games rather than minutes.\n",
    "\n",
    "2. Compute the posterior distribution of `lam` for Germany after the first goal.\n",
    "\n",
    "3. Compute the likelihood of scoring another goal after 12 more minutes and do another update.  Plot the prior, posterior after one goal, and posterior after two goals.\n",
    "\n",
    "4. Compute the posterior predictive distribution of goals Germany might score during the remaining time in the game, `90-23` minutes.  Note: You will have to think about how to generate predicted goals for a fraction of a game.\n",
    "\n",
    "5. Compute the probability of scoring 5 or more goals during the remaining time."
   ]
  },
  {
   "cell_type": "code",
   "execution_count": 40,
   "id": "7cbb499e-3253-41b6-9ccc-7a5ac5202070",
   "metadata": {},
   "outputs": [
    {
     "data": {
      "text/plain": [
       "9.889360237140306"
      ]
     },
     "execution_count": 40,
     "metadata": {},
     "output_type": "execute_result"
    }
   ],
   "source": [
    "alpha = 1.4\n",
    "qs = np.linspace(0, 10, 101)\n",
    "ps = gamma(alpha).pdf(qs)\n",
    "\n",
    "prior = Pmf(ps, qs)\n",
    "prior.normalize()"
   ]
  },
  {
   "cell_type": "code",
   "execution_count": 142,
   "id": "7a31edcc-c81b-4548-b995-462ba8885297",
   "metadata": {},
   "outputs": [
    {
     "data": {
      "text/plain": [
       "1.0728988807549489"
      ]
     },
     "execution_count": 142,
     "metadata": {},
     "output_type": "execute_result"
    }
   ],
   "source": [
    "lams = prior.qs\n",
    "likelihood_11 = expo_pdf(11 / 90, lams)\n",
    "\n",
    "posterior1 = prior * likelihood_11\n",
    "posterior1.normalize()"
   ]
  },
  {
   "cell_type": "code",
   "execution_count": 143,
   "id": "8178a619-8289-49e8-95b6-307c0c1c7953",
   "metadata": {},
   "outputs": [
    {
     "data": {
      "text/plain": [
       "1.4598709349606904"
      ]
     },
     "execution_count": 143,
     "metadata": {},
     "output_type": "execute_result"
    }
   ],
   "source": [
    "likelihood_12 = expo_pdf(12 / 90, lams)\n",
    "posterior2 = posterior1 * likelihood_12\n",
    "posterior2.normalize()"
   ]
  },
  {
   "cell_type": "code",
   "execution_count": 144,
   "id": "b5158757-2b8f-494e-84b5-daa86a937b10",
   "metadata": {},
   "outputs": [
    {
     "data": {
      "image/png": "[encoded data removed]",
      "text/plain": [
       "<Figure size 432x288 with 1 Axes>"
      ]
     },
     "metadata": {
      "needs_background": "light"
     },
     "output_type": "display_data"
    }
   ],
   "source": [
    "prior.plot(label='prior')\n",
    "posterior1.plot(label='posterior1')\n",
    "posterior2.plot(label='posterior2')\n",
    "decorate_time()"
   ]
  },
  {
   "cell_type": "code",
   "execution_count": 145,
   "id": "7ada0353-3168-439e-bbc6-b591ee1d8d61",
   "metadata": {},
   "outputs": [
    {
     "data": {
      "text/plain": [
       "(2.1358882653086892, 2.703059034926364)"
      ]
     },
     "execution_count": 145,
     "metadata": {},
     "output_type": "execute_result"
    }
   ],
   "source": [
    "posterior1.mean(), posterior2.mean()"
   ]
  },
  {
   "cell_type": "code",
   "execution_count": 146,
   "id": "03c465ef-3efe-421b-86d5-585ff2f6eaee",
   "metadata": {},
   "outputs": [
    {
     "data": {
      "text/html": [
       "<div>\n",
       "<style scoped>\n",
       "    .dataframe tbody tr th:only-of-type {\n",
       "        vertical-align: middle;\n",
       "    }\n",
       "\n",
       "    .dataframe tbody tr th {\n",
       "        vertical-align: top;\n",
       "    }\n",
       "\n",
       "    .dataframe thead th {\n",
       "        text-align: right;\n",
       "    }\n",
       "</style>\n",
       "<table border=\"1\" class=\"dataframe\">\n",
       "  <thead>\n",
       "    <tr style=\"text-align: right;\">\n",
       "      <th></th>\n",
       "      <th>probs</th>\n",
       "    </tr>\n",
       "  </thead>\n",
       "  <tbody>\n",
       "    <tr>\n",
       "      <th>0.0</th>\n",
       "      <td>0.000000</td>\n",
       "    </tr>\n",
       "    <tr>\n",
       "      <th>0.1</th>\n",
       "      <td>0.000255</td>\n",
       "    </tr>\n",
       "    <tr>\n",
       "      <th>0.2</th>\n",
       "      <td>0.001189</td>\n",
       "    </tr>\n",
       "    <tr>\n",
       "      <th>0.3</th>\n",
       "      <td>0.002776</td>\n",
       "    </tr>\n",
       "    <tr>\n",
       "      <th>0.4</th>\n",
       "      <td>0.004884</td>\n",
       "    </tr>\n",
       "    <tr>\n",
       "      <th>...</th>\n",
       "      <td>...</td>\n",
       "    </tr>\n",
       "    <tr>\n",
       "      <th>9.6</th>\n",
       "      <td>0.000097</td>\n",
       "    </tr>\n",
       "    <tr>\n",
       "      <th>9.7</th>\n",
       "      <td>0.000087</td>\n",
       "    </tr>\n",
       "    <tr>\n",
       "      <th>9.8</th>\n",
       "      <td>0.000079</td>\n",
       "    </tr>\n",
       "    <tr>\n",
       "      <th>9.9</th>\n",
       "      <td>0.000071</td>\n",
       "    </tr>\n",
       "    <tr>\n",
       "      <th>10.0</th>\n",
       "      <td>0.000064</td>\n",
       "    </tr>\n",
       "  </tbody>\n",
       "</table>\n",
       "<p>101 rows × 1 columns</p>\n",
       "</div>"
      ],
      "text/plain": [
       "0.0     0.000000\n",
       "0.1     0.000255\n",
       "0.2     0.001189\n",
       "0.3     0.002776\n",
       "0.4     0.004884\n",
       "          ...   \n",
       "9.6     0.000097\n",
       "9.7     0.000087\n",
       "9.8     0.000079\n",
       "9.9     0.000071\n",
       "10.0    0.000064\n",
       "Name: , Length: 101, dtype: float64"
      ]
     },
     "execution_count": 146,
     "metadata": {},
     "output_type": "execute_result"
    }
   ],
   "source": [
    "posterior2"
   ]
  },
  {
   "cell_type": "code",
   "execution_count": 148,
   "id": "3f70a8b7-6357-4f79-b0a0-a8448855334b",
   "metadata": {},
   "outputs": [],
   "source": [
    "# I think the rate of goals in a fraction of a game should be proportional to the fraction\n",
    "\n",
    "goals = np.arange(10)\n",
    "\n",
    "pmf_seq = [make_poisson_pmf((90 - 23) / 90 * lam, goals) for lam in posterior2.qs]\n",
    "\n",
    "pred = make_mixture(posterior2, pmf_seq)"
   ]
  },
  {
   "cell_type": "code",
   "execution_count": 150,
   "id": "f01e907c-69b4-4b12-aebc-5444c9664dd5",
   "metadata": {},
   "outputs": [
    {
     "data": {
      "image/png": "[encoded data removed]",
      "text/plain": [
       "<Figure size 432x288 with 1 Axes>"
      ]
     },
     "metadata": {
      "needs_background": "light"
     },
     "output_type": "display_data"
    }
   ],
   "source": [
    "pred.bar()"
   ]
  },
  {
   "cell_type": "code",
   "execution_count": 151,
   "id": "0e71779b-c360-4845-8a5e-ad7ecc0aa7a2",
   "metadata": {},
   "outputs": [
    {
     "data": {
      "text/plain": [
       "0.09286200122834538"
      ]
     },
     "execution_count": 151,
     "metadata": {},
     "output_type": "execute_result"
    }
   ],
   "source": [
    "pred.prob_ge(5)"
   ]
  },
  {
   "cell_type": "markdown",
   "id": "ff2457cf-988e-41e3-89cc-2af9e7f9ffe7",
   "metadata": {},
   "source": [
    "**Exercise:** Returning to the first version of the World Cup Problem.  Suppose France and Croatia play a rematch.  What is the probability that France scores first?"
   ]
  },
  {
   "cell_type": "markdown",
   "id": "d37fa510-b3fa-4fb7-85ab-5cc21b00d82a",
   "metadata": {},
   "source": [
    "Hint: Compute the posterior predictive distribution for the time until the first goal by making a mixture of exponential distributions.  You can use the following function to make a PMF that approximates an exponential distribution."
   ]
  },
  {
   "cell_type": "code",
   "execution_count": 154,
   "id": "47f2179c-86a7-4846-8efb-897bb16528bf",
   "metadata": {},
   "outputs": [],
   "source": [
    "def make_expo_pmf(lam, high):\n",
    "    \"\"\"Make a PMF of an exponential distribution.\n",
    "    \n",
    "    lam: event rate\n",
    "    high: upper bound on the interval `t`\n",
    "    \n",
    "    returns: Pmf of the interval between events\n",
    "    \"\"\"\n",
    "    qs = np.linspace(0, high, 101)\n",
    "    ps = expo_pdf(qs, lam)\n",
    "    pmf = Pmf(ps, qs)\n",
    "    pmf.normalize()\n",
    "    return pmf"
   ]
  },
  {
   "cell_type": "code",
   "execution_count": 152,
   "id": "231509b7-2b40-4fd2-be24-2673e8feafc2",
   "metadata": {},
   "outputs": [],
   "source": [
    "alpha = 1.4\n",
    "qs = np.linspace(0, 10, 101)\n",
    "ps = gamma(alpha).pdf(qs)\n",
    "\n",
    "prior = Pmf(ps, qs)\n",
    "prior.normalize()\n",
    "\n",
    "france = prior.copy()\n",
    "update_poisson(france, 4)"
   ]
  },
  {
   "cell_type": "code",
   "execution_count": 153,
   "id": "d6dae11a-5e6e-47c9-a3b1-510a183f6681",
   "metadata": {},
   "outputs": [],
   "source": [
    "croatia = prior.copy()\n",
    "update_poisson(croatia, 2)"
   ]
  },
  {
   "cell_type": "code",
   "execution_count": 155,
   "id": "517e49fc-aa35-40ff-9952-42371803d860",
   "metadata": {},
   "outputs": [],
   "source": [
    "# Prior distribution of time until first goal\n",
    "high = 4\n",
    "pmf_seq = [make_expo_pmf(lam, high) for lam in prior.qs]"
   ]
  },
  {
   "cell_type": "code",
   "execution_count": 158,
   "id": "2c23df97-0123-4fc4-845c-5ca45058257b",
   "metadata": {},
   "outputs": [],
   "source": [
    "pred_france = make_mixture(france, pmf_seq)\n",
    "pred_croatia = make_mixture(croatia, pmf_seq)"
   ]
  },
  {
   "cell_type": "code",
   "execution_count": 157,
   "id": "a73791fd-4c91-40e9-9092-6977897d270e",
   "metadata": {},
   "outputs": [
    {
     "data": {
      "text/plain": [
       "<AxesSubplot:>"
      ]
     },
     "execution_count": 157,
     "metadata": {},
     "output_type": "execute_result"
    },
    {
     "data": {
      "image/png": "[encoded data removed]",
      "text/plain": [
       "<Figure size 432x288 with 1 Axes>"
      ]
     },
     "metadata": {
      "needs_background": "light"
     },
     "output_type": "display_data"
    }
   ],
   "source": [
    "pred_france.plot()\n",
    "pred_croatia.plot()"
   ]
  },
  {
   "cell_type": "code",
   "execution_count": 160,
   "id": "00a0dd1a-19e7-4a30-9f88-cfab5419e864",
   "metadata": {},
   "outputs": [
    {
     "data": {
      "text/plain": [
       "0.5904596116867543"
      ]
     },
     "execution_count": 160,
     "metadata": {},
     "output_type": "execute_result"
    }
   ],
   "source": [
    "Pmf.prob_lt(pred_france, pred_croatia)"
   ]
  },
  {
   "cell_type": "markdown",
   "id": "aa5b92c8-07f6-43b7-ae1d-aafda045e0a1",
   "metadata": {},
   "source": [
    "**Exercise:** In the 2010-11 National Hockey League (NHL) Finals, my beloved Boston\n",
    "Bruins played a best-of-seven championship series against the despised\n",
    "Vancouver Canucks.  Boston lost the first two games 0-1 and 2-3, then\n",
    "won the next two games 8-1 and 4-0.  At this point in the series, what\n",
    "is the probability that Boston will win the next game, and what is\n",
    "their probability of winning the championship?\n",
    "\n",
    "To choose a prior distribution, I got some statistics from\n",
    "http://www.nhl.com, specifically the average goals per game\n",
    "for each team in the 2010-11 season.  The distribution is well modeled by a gamma distribution with mean 2.8.\n",
    "\n",
    "In what ways do you think the outcome of these games might violate the assumptions of the Poisson model?  How would these violations affect your predictions?"
   ]
  },
  {
   "cell_type": "code",
   "execution_count": 161,
   "id": "31f898fa-7edd-416f-b539-1da7719604c8",
   "metadata": {},
   "outputs": [
    {
     "data": {
      "text/plain": [
       "4.999692501353028"
      ]
     },
     "execution_count": 161,
     "metadata": {},
     "output_type": "execute_result"
    }
   ],
   "source": [
    "alpha = 2.8\n",
    "qs = np.linspace(0, 20, 101)\n",
    "ps = gamma(alpha).pdf(qs)\n",
    "\n",
    "prior = Pmf(ps, qs)\n",
    "prior.normalize()"
   ]
  },
  {
   "cell_type": "code",
   "execution_count": 162,
   "id": "19760a22-c8a2-410c-84bc-b1f0961747b0",
   "metadata": {},
   "outputs": [],
   "source": [
    "boston_data = [0, 2, 8, 4]\n",
    "vancouver_data = [1, 3, 1, 0]"
   ]
  },
  {
   "cell_type": "code",
   "execution_count": 191,
   "id": "7cc3fb07-f7ff-47de-b0bd-3c168e9dd608",
   "metadata": {},
   "outputs": [],
   "source": [
    "boston = prior.copy()\n",
    "for data in boston_data:\n",
    "    update_poisson(boston, data)\n",
    "    \n",
    "vancouver = prior.copy()\n",
    "for data in vancouver_data:\n",
    "    update_poisson(vancouver, data)"
   ]
  },
  {
   "cell_type": "code",
   "execution_count": 183,
   "id": "ad834210-2a8c-4844-9a39-b5aac4919c7c",
   "metadata": {},
   "outputs": [
    {
     "data": {
      "image/png": "[encoded data removed]",
      "text/plain": [
       "<Figure size 432x288 with 1 Axes>"
      ]
     },
     "metadata": {
      "needs_background": "light"
     },
     "output_type": "display_data"
    }
   ],
   "source": [
    "prior.plot(label='prior')\n",
    "boston.plot(label='boston')\n",
    "vancouver.plot(label='vancouver')\n",
    "decorate()"
   ]
  },
  {
   "cell_type": "code",
   "execution_count": 198,
   "id": "1319f6cd-69be-4a0f-a8ab-a930cbaabb31",
   "metadata": {},
   "outputs": [
    {
     "data": {
      "text/plain": [
       "0.7038674922156204"
      ]
     },
     "execution_count": 198,
     "metadata": {},
     "output_type": "execute_result"
    }
   ],
   "source": [
    "prob_win = Pmf.prob_gt(pred_boston, pred_vancouver)\n",
    "prob_win"
   ]
  },
  {
   "cell_type": "code",
   "execution_count": 199,
   "id": "390b1b37-d3da-49e7-a332-1a9505b6db83",
   "metadata": {},
   "outputs": [
    {
     "data": {
      "text/plain": [
       "0.1350176736159354"
      ]
     },
     "execution_count": 199,
     "metadata": {},
     "output_type": "execute_result"
    }
   ],
   "source": [
    "prob_tie = Pmf.prob_eq(pred_boston, pred_vancouver)\n",
    "prob_tie"
   ]
  },
  {
   "cell_type": "markdown",
   "id": "4b1d6b3c-9a29-4963-a4d9-28c0257db635",
   "metadata": {},
   "source": [
    "There is a 70% chance Boston will win the next game and a 13.5 % chance of a tie."
   ]
  },
  {
   "cell_type": "markdown",
   "id": "d56ca1ef-7b7c-4653-b4ce-796bc2fea7bc",
   "metadata": {},
   "source": [
    "Assume there is a 50% chance of winning a tie."
   ]
  },
  {
   "cell_type": "code",
   "execution_count": 200,
   "id": "333f8ea7-5c5a-431e-a6e7-4bed5b12d614",
   "metadata": {},
   "outputs": [
    {
     "data": {
      "text/plain": [
       "0.7713763290235881"
      ]
     },
     "execution_count": 200,
     "metadata": {},
     "output_type": "execute_result"
    }
   ],
   "source": [
    "prob_win += prob_tie / 2\n",
    "prob_win"
   ]
  },
  {
   "cell_type": "code",
   "execution_count": 202,
   "id": "c767166f-2400-43e6-8d06-afe55702212a",
   "metadata": {},
   "outputs": [
    {
     "data": {
      "text/plain": [
       "0.8670934132699937"
      ]
     },
     "execution_count": 202,
     "metadata": {},
     "output_type": "execute_result"
    }
   ],
   "source": [
    "# Solution\n",
    "\n",
    "# Their chance of winning the series is their\n",
    "# chance of winning k=2 or k=3 of the remaining\n",
    "# n=3 games.\n",
    "\n",
    "from scipy.stats import binom\n",
    "\n",
    "n = 3\n",
    "a = binom.pmf([2,3], n, prob_win)\n",
    "a.sum()"
   ]
  },
  {
   "cell_type": "code",
   "execution_count": 203,
   "id": "39e755c7-f391-4e99-8178-53b4e792a4d5",
   "metadata": {},
   "outputs": [
    {
     "data": {
      "text/plain": [
       "array([0.40810796, 0.45898545])"
      ]
     },
     "execution_count": 203,
     "metadata": {},
     "output_type": "execute_result"
    }
   ],
   "source": [
    "a"
   ]
  },
  {
   "cell_type": "code",
   "execution_count": null,
   "id": "1e7d699f-efc9-44f1-8226-52ef6b57f149",
   "metadata": {},
   "outputs": [],
   "source": []
  }
 ],
 "metadata": {
  "kernelspec": {
   "display_name": "Python 3 (ipykernel)",
   "language": "python",
   "name": "python3"
  },
  "language_info": {
   "codemirror_mode": {
    "name": "ipython",
    "version": 3
   },
   "file_extension": ".py",
   "mimetype": "text/x-python",
   "name": "python",
   "nbconvert_exporter": "python",
   "pygments_lexer": "ipython3",
   "version": "3.9.7"
  }
 },
 "nbformat": 4,
 "nbformat_minor": 5
}
