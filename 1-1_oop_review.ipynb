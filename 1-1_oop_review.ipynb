{
 "cells": [
  {
   "cell_type": "markdown",
   "id": "35c1a2f2-a0d7-46da-8d6c-6b5e46eb49df",
   "metadata": {
    "tags": []
   },
   "source": [
    "# Object-oriented programming in Python\n",
    "From PIC16A at UCLA: https://www.philchodrow.com/PIC16A/schedule/"
   ]
  },
  {
   "cell_type": "markdown",
   "id": "15e6c862-c3dd-497b-a76d-29d6ec50c2cd",
   "metadata": {},
   "source": [
    "A `class` is an abstract set of possible objects sharing certain characteristics."
   ]
  },
  {
   "cell_type": "code",
   "execution_count": 1,
   "id": "b33ee897-6bb6-40d6-bf1f-4712d70ff167",
   "metadata": {},
   "outputs": [],
   "source": [
    "class Totoro:\n",
    "    pass"
   ]
  },
  {
   "cell_type": "code",
   "execution_count": 2,
   "id": "c4efc3f9-1aed-4e62-b20b-23372653863d",
   "metadata": {},
   "outputs": [
    {
     "data": {
      "text/plain": [
       "__main__.Totoro"
      ]
     },
     "execution_count": 2,
     "metadata": {},
     "output_type": "execute_result"
    }
   ],
   "source": [
    "my_neighbor = Totoro()\n",
    "type(my_neighbor)"
   ]
  },
  {
   "cell_type": "markdown",
   "id": "d04e6643-b542-4756-98dc-b1cce2b850a9",
   "metadata": {},
   "source": [
    "Class variables are shared by all instances of the class:"
   ]
  },
  {
   "cell_type": "code",
   "execution_count": 6,
   "id": "1a8bf29f-6a0a-4dcd-862c-e4146ed1548c",
   "metadata": {},
   "outputs": [],
   "source": [
    "class Totoro:\n",
    "    \n",
    "    # Class variables\n",
    "    genus =  \"Totoro\"\n",
    "    species = \"miyazakiensis\"\n",
    "    \n",
    "    def binomial_nomenclature(self):\n",
    "        return(' '.join((self.genus, self.species)))"
   ]
  },
  {
   "cell_type": "code",
   "execution_count": 8,
   "id": "8102c5ba-1115-47f4-934e-b974cba094ee",
   "metadata": {},
   "outputs": [
    {
     "data": {
      "text/plain": [
       "'Totoro'"
      ]
     },
     "execution_count": 8,
     "metadata": {},
     "output_type": "execute_result"
    }
   ],
   "source": [
    "my_neighbor = Totoro()\n",
    "my_neighbor.genus"
   ]
  },
  {
   "cell_type": "code",
   "execution_count": 9,
   "id": "83867d82-703f-4f85-8f3e-3c2f1711ba2f",
   "metadata": {},
   "outputs": [
    {
     "data": {
      "text/plain": [
       "'Totoro miyazakiensis'"
      ]
     },
     "execution_count": 9,
     "metadata": {},
     "output_type": "execute_result"
    }
   ],
   "source": [
    "my_neighbor.binomial_nomenclature()"
   ]
  },
  {
   "cell_type": "markdown",
   "id": "02bb8fd4-4ace-4f1e-a33a-f20f2cb73eba",
   "metadata": {},
   "source": [
    "Instance variables are assigned in the `__init__` method."
   ]
  },
  {
   "cell_type": "code",
   "execution_count": 10,
   "id": "f239ac2e-d998-43e2-b187-5c545178d1fe",
   "metadata": {},
   "outputs": [],
   "source": [
    "class Totoro:\n",
    "    \n",
    "    genus = \"Totoro\"\n",
    "    species = \"miyazakiensis\"\n",
    "    \n",
    "    def __init__(self, size, color, weight):\n",
    "        self.size = size\n",
    "        self.color = color\n",
    "        self.weight = weight\n",
    "        \n",
    "    def yell(self):\n",
    "        if self.size == \"large\":\n",
    "            return (\"AAAAAAHHHHHH!!!!!\")\n",
    "        elif self.size == \"medium\":\n",
    "            return (\"AAAHHH!\")\n",
    "        else:\n",
    "            return (\"aahhh\")"
   ]
  },
  {
   "cell_type": "code",
   "execution_count": 11,
   "id": "a88099f6-8dd8-4848-8ca4-7cb654b9b9fc",
   "metadata": {},
   "outputs": [
    {
     "data": {
      "text/plain": [
       "'medium'"
      ]
     },
     "execution_count": 11,
     "metadata": {},
     "output_type": "execute_result"
    }
   ],
   "source": [
    "my_neighbor = Totoro(\"medium\", \"grey\", 1)\n",
    "my_neighbor.size"
   ]
  },
  {
   "cell_type": "code",
   "execution_count": 12,
   "id": "116729df-0b89-4040-a653-da233ad34421",
   "metadata": {},
   "outputs": [
    {
     "data": {
      "text/plain": [
       "'AAAHHH!'"
      ]
     },
     "execution_count": 12,
     "metadata": {},
     "output_type": "execute_result"
    }
   ],
   "source": [
    "my_neighbor.yell()"
   ]
  },
  {
   "cell_type": "markdown",
   "id": "57c603dd-84c5-4e4f-b8bb-c275bbe9e133",
   "metadata": {},
   "source": [
    "Add docstrings to your class."
   ]
  },
  {
   "cell_type": "code",
   "execution_count": 13,
   "id": "23d3e3c5-e09e-47f9-a3d5-496e8bdb7a9a",
   "metadata": {},
   "outputs": [],
   "source": [
    "class Totoro:\n",
    "    \"\"\"\n",
    "    A friendly forest spirit! Has size, color, and weight\n",
    "    specified by the user, as well as a yell method.\n",
    "    \"\"\"\n",
    "    \n",
    "    genus = \"Totoro\"\n",
    "    species = \"miyazakiensis\"\n",
    "    \n",
    "    def __init__(self, size, color, weight):\n",
    "        self.size = size\n",
    "        self.color = color\n",
    "        self.weight = weight\n",
    "        \n",
    "    def yell(self):\n",
    "        \"\"\"\n",
    "        Return a yell as a string depending on the size of the Totoro.\n",
    "        Larger Totoros have louder yells.\n",
    "        \"\"\"\n",
    "        if self.size == \"large\":\n",
    "            return (\"AAAAAAHHHHHH!!!!!\")\n",
    "        elif self.size == \"medium\":\n",
    "            return (\"AAAHHH!\")\n",
    "        else:\n",
    "            return (\"aahhh\")"
   ]
  },
  {
   "cell_type": "code",
   "execution_count": 15,
   "id": "4e6be9dd-6602-4dc7-bf57-2ba4b2fbb412",
   "metadata": {},
   "outputs": [
    {
     "data": {
      "text/plain": [
       "\u001b[0;31mInit signature:\u001b[0m \u001b[0mTotoro\u001b[0m\u001b[0;34m(\u001b[0m\u001b[0msize\u001b[0m\u001b[0;34m,\u001b[0m \u001b[0mcolor\u001b[0m\u001b[0;34m,\u001b[0m \u001b[0mweight\u001b[0m\u001b[0;34m)\u001b[0m\u001b[0;34m\u001b[0m\u001b[0;34m\u001b[0m\u001b[0m\n",
       "\u001b[0;31mDocstring:\u001b[0m     \n",
       "A friendly forest spirit! Has size, color, and weight\n",
       "specified by the user, as well as a yell method.\n",
       "\u001b[0;31mType:\u001b[0m           type\n",
       "\u001b[0;31mSubclasses:\u001b[0m     \n"
      ]
     },
     "metadata": {},
     "output_type": "display_data"
    }
   ],
   "source": [
    "Totoro?"
   ]
  },
  {
   "cell_type": "markdown",
   "id": "4baeea06-ca92-43c2-bfaf-081ea2448b58",
   "metadata": {},
   "source": [
    "Python doesn't require getters and setters; we use public instance variables, so we can directly access them."
   ]
  },
  {
   "cell_type": "code",
   "execution_count": 16,
   "id": "d930945d-84b4-42be-be70-ae490b5a78c8",
   "metadata": {},
   "outputs": [
    {
     "data": {
      "text/plain": [
       "'medium'"
      ]
     },
     "execution_count": 16,
     "metadata": {},
     "output_type": "execute_result"
    }
   ],
   "source": [
    "my_neighbor.size"
   ]
  },
  {
   "cell_type": "code",
   "execution_count": 17,
   "id": "15d44f5f-c79b-4fc5-a928-7a02d66e91e5",
   "metadata": {},
   "outputs": [
    {
     "data": {
      "text/plain": [
       "('small', 'aahhh')"
      ]
     },
     "execution_count": 17,
     "metadata": {},
     "output_type": "execute_result"
    }
   ],
   "source": [
    "my_neighbor.size = \"small\"\n",
    "\n",
    "my_neighbor.size, my_neighbor.yell()"
   ]
  },
  {
   "cell_type": "markdown",
   "id": "55110ab5-4cf1-48ca-8646-2e1faed2ab49",
   "metadata": {},
   "source": [
    "Magic methods:"
   ]
  },
  {
   "cell_type": "code",
   "execution_count": 18,
   "id": "22436bbd-b64a-4710-9689-f04a8e9bd5d6",
   "metadata": {},
   "outputs": [],
   "source": [
    "class Vector:\n",
    "    \"\"\"\n",
    "    Class for 2-dimensional vectors.\n",
    "    Supports standard vector operations, including\n",
    "    scalar multiplication and vector addition.\n",
    "    \"\"\"\n",
    "    def __init__(self, x, y):\n",
    "        self.x = x\n",
    "        self.y = y\n",
    "        \n",
    "    def scalar_multiply(self, c):\n",
    "        \"\"\"\n",
    "        Return a Vector with components multiplied by `c`.\n",
    "        \"\"\"\n",
    "        return (Vector(c*self.x, c*self.y))"
   ]
  },
  {
   "cell_type": "code",
   "execution_count": 19,
   "id": "b7abd02a-ad3e-41ae-9fbe-64f503e12cff",
   "metadata": {},
   "outputs": [
    {
     "data": {
      "text/plain": [
       "<__main__.Vector at 0x7fa5b1809d00>"
      ]
     },
     "execution_count": 19,
     "metadata": {},
     "output_type": "execute_result"
    }
   ],
   "source": [
    "v = Vector(1, 2)\n",
    "u = v.scalar_multiply(2)\n",
    "u"
   ]
  },
  {
   "cell_type": "markdown",
   "id": "c4f32921-01a7-45f9-bfb9-2fbfd5c61092",
   "metadata": {},
   "source": [
    "Hmm, how can we easily view the result of scalar multiplication? We can use the `__str__` magic method. It tells Python what to do when we call the `print` command."
   ]
  },
  {
   "cell_type": "code",
   "execution_count": 20,
   "id": "e07b20ca-59ec-4719-bbcb-c56c7f924153",
   "metadata": {},
   "outputs": [],
   "source": [
    "class Vector:\n",
    "    \"\"\"\n",
    "    Class for 2-dimensional vectors.\n",
    "    Supports standard vector operations, including\n",
    "    scalar multiplication and vector addition.\n",
    "    \"\"\"\n",
    "    def __init__(self, x, y):\n",
    "        self.x = x\n",
    "        self.y = y\n",
    "        \n",
    "    def scalar_multiply(self, c):\n",
    "        \"\"\"\n",
    "        Return a Vector with components multiplied by `c`.\n",
    "        \"\"\"\n",
    "        return (Vector(c*self.x, c*self.y))\n",
    "    \n",
    "    def __str__(self):\n",
    "        return(f\"Vector({str(self.x)}, {str(self.y)})\")"
   ]
  },
  {
   "cell_type": "code",
   "execution_count": 21,
   "id": "c93ab7a6-29d0-4571-b77b-48a2483efd12",
   "metadata": {},
   "outputs": [
    {
     "name": "stdout",
     "output_type": "stream",
     "text": [
      "Vector(1, 2)\n"
     ]
    }
   ],
   "source": [
    "v = Vector(1, 2)\n",
    "print(v)"
   ]
  },
  {
   "cell_type": "code",
   "execution_count": 22,
   "id": "c050e007-041e-4b2d-a0f5-de0e138d6acc",
   "metadata": {},
   "outputs": [
    {
     "name": "stdout",
     "output_type": "stream",
     "text": [
      "Vector(2, 4)\n"
     ]
    }
   ],
   "source": [
    "print(v.scalar_multiply(2))"
   ]
  },
  {
   "cell_type": "markdown",
   "id": "2d754633-8911-406c-b5ef-3bacdd275df9",
   "metadata": {},
   "source": [
    "Add more magic methods."
   ]
  },
  {
   "cell_type": "code",
   "execution_count": 26,
   "id": "9bb17972-bf4e-4428-a86c-46627f520a8b",
   "metadata": {},
   "outputs": [],
   "source": [
    "class Vector:\n",
    "    \"\"\"\n",
    "    Class for 2-dimensional vectors.\n",
    "    Supports standard vector operations, including\n",
    "    scalar multiplication and vector addition.\n",
    "    \"\"\"\n",
    "    def __init__(self, x, y):\n",
    "        self.x = x\n",
    "        self.y = y\n",
    "        \n",
    "    def scalar_multiply(self, c):\n",
    "        \"\"\"\n",
    "        Return a Vector with components multiplied by `c`.\n",
    "        \"\"\"\n",
    "        return (Vector(c*self.x, c*self.y))\n",
    "    \n",
    "    def __str__(self):\n",
    "        return(f\"Vector({str(self.x)}, {str(self.y)})\")\n",
    "    \n",
    "    def __add__(self, other):\n",
    "        return Vector(self.x + other.x, self.y + other.y)\n",
    "    \n",
    "    def __sub__(self, other):\n",
    "        return(Vector(self.x - other.x, self.y - other.y))"
   ]
  },
  {
   "cell_type": "code",
   "execution_count": 27,
   "id": "fac11659-1165-437b-8c59-19dac9c01e33",
   "metadata": {},
   "outputs": [
    {
     "name": "stdout",
     "output_type": "stream",
     "text": [
      "Vector(2, 3)\n"
     ]
    }
   ],
   "source": [
    "u = Vector(1, 2)\n",
    "v = Vector(1, 1)\n",
    "\n",
    "print(u + v)"
   ]
  },
  {
   "cell_type": "code",
   "execution_count": 28,
   "id": "9faa8b3d-191b-4a05-8657-dbd5787aa96b",
   "metadata": {},
   "outputs": [
    {
     "name": "stdout",
     "output_type": "stream",
     "text": [
      "Vector(0, 1)\n"
     ]
    }
   ],
   "source": [
    "print(u - v)"
   ]
  },
  {
   "cell_type": "markdown",
   "id": "c7e31ae2-32d3-4f0d-96b0-a1f5c8fb7fbc",
   "metadata": {},
   "source": [
    "See https://rszalski.github.io/magicmethods/ for more on magic methods."
   ]
  },
  {
   "cell_type": "markdown",
   "id": "fe3ee643-a783-4520-8e4e-16e3d1c3af37",
   "metadata": {},
   "source": [
    "We can implement new classes that inherit from existing classes."
   ]
  },
  {
   "cell_type": "code",
   "execution_count": 30,
   "id": "d88b37fa-dfcc-46c1-bfd3-fc95bd7df1ef",
   "metadata": {},
   "outputs": [],
   "source": [
    "pantry = {\n",
    "    \"rice (lbs)\" : 2,\n",
    "    \"harissa (jars)\" : 1,\n",
    "    \"onions\" : 5,\n",
    "    \"lemons\" : 3\n",
    "}"
   ]
  },
  {
   "cell_type": "code",
   "execution_count": 32,
   "id": "cbd915f4-113a-44cd-8729-c1173748e495",
   "metadata": {},
   "outputs": [],
   "source": [
    "shopping_trip = {\n",
    "    \"rice (lbs)\" : 1,\n",
    "    \"onions\" : 2,\n",
    "    \"spinach (lbs)\" : 1\n",
    "}"
   ]
  },
  {
   "cell_type": "code",
   "execution_count": 29,
   "id": "fd10a9d9-4106-462c-827d-7b238f9b0fe6",
   "metadata": {},
   "outputs": [],
   "source": [
    "class ArithmeticDict(dict):\n",
    "    pass"
   ]
  },
  {
   "cell_type": "code",
   "execution_count": 33,
   "id": "03eaa022-cd72-45e4-91af-9d96a5d1d14a",
   "metadata": {},
   "outputs": [],
   "source": [
    "x = ArithmeticDict({'a': 1, 'b': 2})"
   ]
  },
  {
   "cell_type": "code",
   "execution_count": 34,
   "id": "d2419e4c-af15-4a40-95e1-a27d6077ac0a",
   "metadata": {},
   "outputs": [
    {
     "data": {
      "text/plain": [
       "{'a': 1, 'b': 2}"
      ]
     },
     "execution_count": 34,
     "metadata": {},
     "output_type": "execute_result"
    }
   ],
   "source": [
    "x"
   ]
  },
  {
   "cell_type": "code",
   "execution_count": 35,
   "id": "a36de898-d214-46c5-b487-fb0f1db5f75a",
   "metadata": {},
   "outputs": [
    {
     "data": {
      "text/plain": [
       "__main__.ArithmeticDict"
      ]
     },
     "execution_count": 35,
     "metadata": {},
     "output_type": "execute_result"
    }
   ],
   "source": [
    "type(x)"
   ]
  },
  {
   "cell_type": "code",
   "execution_count": 36,
   "id": "4817266c-48c9-408c-a03f-97764a887fbe",
   "metadata": {},
   "outputs": [
    {
     "data": {
      "text/plain": [
       "True"
      ]
     },
     "execution_count": 36,
     "metadata": {},
     "output_type": "execute_result"
    }
   ],
   "source": [
    "isinstance(x, dict)"
   ]
  },
  {
   "cell_type": "markdown",
   "id": "14811b6d-9ba0-4abb-a000-8307a4546917",
   "metadata": {},
   "source": [
    "We can do normal `dict` methods:"
   ]
  },
  {
   "cell_type": "code",
   "execution_count": 37,
   "id": "3c88b5ce-7abb-47c2-be9f-fc2f6820b361",
   "metadata": {},
   "outputs": [
    {
     "data": {
      "text/plain": [
       "{'a': 1, 'b': 2, 'c': 3}"
      ]
     },
     "execution_count": 37,
     "metadata": {},
     "output_type": "execute_result"
    }
   ],
   "source": [
    "x.update({'c': 3})\n",
    "x"
   ]
  },
  {
   "cell_type": "markdown",
   "id": "0ae0c2dc-5509-407a-b140-7591601145f6",
   "metadata": {},
   "source": [
    "We can define new methods that will be available only for the `ArithmeticDict` class:"
   ]
  },
  {
   "cell_type": "code",
   "execution_count": 38,
   "id": "133bdd3d-3b01-4a14-a07a-96a3c8321134",
   "metadata": {},
   "outputs": [],
   "source": [
    "class ArithmeticDict(dict):\n",
    "    \"\"\"\n",
    "    A dictionary class that supports entrywise addition.\n",
    "    \"\"\"\n",
    "    \n",
    "    def __add__(self, to_add):\n",
    "        \"\"\"\n",
    "        Add two ArithmeticDicts entrywise.\n",
    "        \"\"\"\n",
    "        \n",
    "        new = {}\n",
    "        keys1 = set(self.keys())\n",
    "        keys2 = set(to_add.keys())\n",
    "        all_keys = keys1.union(keys2)\n",
    "        \n",
    "        for key in all_keys:\n",
    "            new.update({key: self.get(key, 0) + to_add.get(key, 0)}) # Gets value of key, or 0 if key doesn't exist in dict\n",
    "            \n",
    "        return ArithmeticDict(new)"
   ]
  },
  {
   "cell_type": "code",
   "execution_count": 39,
   "id": "29de60a1-d1d9-40e6-8bb6-fa1e909bfa13",
   "metadata": {},
   "outputs": [],
   "source": [
    "x = ArithmeticDict({'a': 1, 'b': 2})\n",
    "y = ArithmeticDict({'a': 1, 'b': 3, 'c': 7})"
   ]
  },
  {
   "cell_type": "code",
   "execution_count": 40,
   "id": "855ab9b6-dc3a-4331-a42e-f75208a6c7ab",
   "metadata": {},
   "outputs": [
    {
     "data": {
      "text/plain": [
       "{'a': 2, 'c': 7, 'b': 5}"
      ]
     },
     "execution_count": 40,
     "metadata": {},
     "output_type": "execute_result"
    }
   ],
   "source": [
    "x + y"
   ]
  },
  {
   "cell_type": "markdown",
   "id": "da615799-3e18-416d-b86d-5d9e3f5639fd",
   "metadata": {},
   "source": [
    "Now we can update the pantry:"
   ]
  },
  {
   "cell_type": "code",
   "execution_count": 41,
   "id": "ffae365f-4a1a-4fe7-99de-6318c401c301",
   "metadata": {},
   "outputs": [
    {
     "data": {
      "text/plain": [
       "{'rice (lbs)': 3,\n",
       " 'spinach (lbs)': 1,\n",
       " 'harissa (jars)': 1,\n",
       " 'onions': 7,\n",
       " 'lemons': 3}"
      ]
     },
     "execution_count": 41,
     "metadata": {},
     "output_type": "execute_result"
    }
   ],
   "source": [
    "pantry = ArithmeticDict(pantry)\n",
    "shopping_trip = ArithmeticDict(shopping_trip)\n",
    "\n",
    "pantry += shopping_trip\n",
    "\n",
    "pantry"
   ]
  },
  {
   "cell_type": "code",
   "execution_count": 49,
   "id": "4d3ad4ba-c09d-4c28-94dc-0e6e4cec6119",
   "metadata": {},
   "outputs": [],
   "source": [
    "import random\n",
    "\n",
    "\n",
    "class StarFleetOfficer:\n",
    "    allegiance = \"United Federation of Planets\"\n",
    "    \n",
    "    def __init__(self, first, last, rank):\n",
    "        self.first = first\n",
    "        self.last = last\n",
    "        self.rank = rank\n",
    "        self.mental_health = random.random()\n",
    "        self.physical_health = random.random()\n",
    "        \n",
    "    def introduce(self):\n",
    "        \"\"\"\n",
    "        Introduce oneself.\n",
    "        \"\"\"\n",
    "        return f\"{self.rank} {self.first} {self.last} of the {self.allegiance}\"\n",
    "    \n",
    "    def fire_phaser(self):\n",
    "        return (\"pew pew!\")"
   ]
  },
  {
   "cell_type": "code",
   "execution_count": 51,
   "id": "5a44369d-876d-4fe1-84fd-b31a49d569cd",
   "metadata": {},
   "outputs": [
    {
     "data": {
      "text/plain": [
       "'Commander Michael Burnham of the United Federation of Planets'"
      ]
     },
     "execution_count": 51,
     "metadata": {},
     "output_type": "execute_result"
    }
   ],
   "source": [
    "burnham = StarFleetOfficer(\"Michael\", \"Burnham\", \"Commander\")\n",
    "burnham.introduce()"
   ]
  },
  {
   "cell_type": "code",
   "execution_count": 52,
   "id": "3599ec6f-2e3b-462e-ad43-321dd0bf9f58",
   "metadata": {},
   "outputs": [
    {
     "data": {
      "text/plain": [
       "'pew pew!'"
      ]
     },
     "execution_count": 52,
     "metadata": {},
     "output_type": "execute_result"
    }
   ],
   "source": [
    "burnham.fire_phaser()"
   ]
  },
  {
   "cell_type": "code",
   "execution_count": 54,
   "id": "7bca6f64-5bcd-424b-b9c2-e5a3da97fdd3",
   "metadata": {},
   "outputs": [
    {
     "data": {
      "text/plain": [
       "(0.5203519261760555, 0.6252449681309749)"
      ]
     },
     "execution_count": 54,
     "metadata": {},
     "output_type": "execute_result"
    }
   ],
   "source": [
    "burnham.mental_health, burnham.physical_health"
   ]
  },
  {
   "cell_type": "code",
   "execution_count": 55,
   "id": "ee716509-f230-4d10-8c7a-25a3182c7d92",
   "metadata": {},
   "outputs": [],
   "source": [
    "class MedicalOfficer(StarFleetOfficer):\n",
    "    \n",
    "    def treat(self, officer):\n",
    "        \"\"\"\n",
    "        Treat physical health of officer.\n",
    "        \"\"\"\n",
    "        officer.physical_health += 0.1\n",
    "        print(\"Is that better?\")"
   ]
  },
  {
   "cell_type": "code",
   "execution_count": 56,
   "id": "5891522d-be35-40e9-ad5c-59a9b154ca0a",
   "metadata": {},
   "outputs": [
    {
     "data": {
      "text/plain": [
       "'Lieutenant Julian Bashir of the United Federation of Planets'"
      ]
     },
     "execution_count": 56,
     "metadata": {},
     "output_type": "execute_result"
    }
   ],
   "source": [
    "bashir = MedicalOfficer(\"Julian\", \"Bashir\", \"Lieutenant\")\n",
    "bashir.introduce()"
   ]
  },
  {
   "cell_type": "code",
   "execution_count": 57,
   "id": "aaa6130c-0534-4b81-90cd-ebbad646a68d",
   "metadata": {},
   "outputs": [
    {
     "name": "stdout",
     "output_type": "stream",
     "text": [
      "Is that better?\n"
     ]
    }
   ],
   "source": [
    "bashir.treat(burnham)"
   ]
  },
  {
   "cell_type": "code",
   "execution_count": 58,
   "id": "a6da2cfd-2ae3-495f-9cf9-6ac0ca1e04b2",
   "metadata": {},
   "outputs": [
    {
     "data": {
      "text/plain": [
       "0.7252449681309748"
      ]
     },
     "execution_count": 58,
     "metadata": {},
     "output_type": "execute_result"
    }
   ],
   "source": [
    "burnham.physical_health"
   ]
  },
  {
   "cell_type": "code",
   "execution_count": 59,
   "id": "1e5d4ef2-c409-4952-bca9-78336a5f6e7a",
   "metadata": {},
   "outputs": [],
   "source": [
    "class ShipsCounselor(StarFleetOfficer):\n",
    "    \n",
    "    def talk_with(self, officer):\n",
    "        \"\"\"\n",
    "        Treat mental health of officer.\n",
    "        \"\"\"\n",
    "        officer.mental_health += 0.1\n",
    "        print(\"Thank you for sharing.\")"
   ]
  },
  {
   "cell_type": "code",
   "execution_count": 60,
   "id": "c4418fa1-9320-4686-b8e1-4883eb0d05aa",
   "metadata": {},
   "outputs": [
    {
     "data": {
      "text/plain": [
       "'Lieutenant Commander Deanna Troi of the United Federation of Planets'"
      ]
     },
     "execution_count": 60,
     "metadata": {},
     "output_type": "execute_result"
    }
   ],
   "source": [
    "troi = ShipsCounselor(\"Deanna\", \"Troi\", \"Lieutenant Commander\")\n",
    "troi.introduce()"
   ]
  },
  {
   "cell_type": "code",
   "execution_count": 61,
   "id": "d2a29968-885c-40c2-8aa8-58ae31877144",
   "metadata": {},
   "outputs": [
    {
     "name": "stdout",
     "output_type": "stream",
     "text": [
      "Thank you for sharing.\n"
     ]
    }
   ],
   "source": [
    "troi.talk_with(burnham)"
   ]
  },
  {
   "cell_type": "code",
   "execution_count": 62,
   "id": "92432969-9dd0-462b-814b-84efaf5c5fa1",
   "metadata": {},
   "outputs": [
    {
     "data": {
      "text/plain": [
       "0.6203519261760555"
      ]
     },
     "execution_count": 62,
     "metadata": {},
     "output_type": "execute_result"
    }
   ],
   "source": [
    "burnham.mental_health"
   ]
  },
  {
   "cell_type": "markdown",
   "id": "4f8914d1-72a7-45aa-9f49-d9a72d575b00",
   "metadata": {},
   "source": [
    "We can also override methods."
   ]
  },
  {
   "cell_type": "code",
   "execution_count": 63,
   "id": "c8ba6606-ea76-44ed-8595-a55d610e423e",
   "metadata": {},
   "outputs": [],
   "source": [
    "class CommandOfficer(StarFleetOfficer):\n",
    "    \n",
    "    def introduce(self):\n",
    "        return(f'{self.first} {self.last} and I call the shots around here!')"
   ]
  },
  {
   "cell_type": "code",
   "execution_count": 64,
   "id": "41688fa8-5989-42db-9534-8ea29ab738da",
   "metadata": {},
   "outputs": [
    {
     "data": {
      "text/plain": [
       "'Jean-Luc Picard and I call the shots around here!'"
      ]
     },
     "execution_count": 64,
     "metadata": {},
     "output_type": "execute_result"
    }
   ],
   "source": [
    "picard = CommandOfficer(\"Jean-Luc\", \"Picard\", \"Captain\")\n",
    "picard.introduce()"
   ]
  },
  {
   "cell_type": "markdown",
   "id": "a9be98c8-5d14-4027-b3af-fe2ddd5784fc",
   "metadata": {},
   "source": [
    "We can still access the original method as well with more complex syntax."
   ]
  },
  {
   "cell_type": "code",
   "execution_count": 65,
   "id": "2f536073-a86a-4b0c-a682-f66425c9d66d",
   "metadata": {},
   "outputs": [
    {
     "data": {
      "text/plain": [
       "'Captain Jean-Luc Picard of the United Federation of Planets'"
      ]
     },
     "execution_count": 65,
     "metadata": {},
     "output_type": "execute_result"
    }
   ],
   "source": [
    "StarFleetOfficer.introduce(picard)"
   ]
  },
  {
   "cell_type": "markdown",
   "id": "ba7a20ac-a4f9-4365-9209-db275d828cd9",
   "metadata": {},
   "source": [
    "The `super()` function automatically identifies the superclass of the subclass in which it is used."
   ]
  },
  {
   "cell_type": "code",
   "execution_count": 66,
   "id": "63a1d1b4-cbf1-4bd5-bd99-d9561e771d6c",
   "metadata": {},
   "outputs": [],
   "source": [
    "class CommandOfficer(StarFleetOfficer):\n",
    "    \n",
    "    def introduce(self):\n",
    "        return(super().introduce() + \" and I call the shots!\")"
   ]
  },
  {
   "cell_type": "code",
   "execution_count": 67,
   "id": "1c1e3795-6444-4862-bb86-7a35cde11ffb",
   "metadata": {},
   "outputs": [
    {
     "data": {
      "text/plain": [
       "'Captain Jean-Luc Picard of the United Federation of Planets and I call the shots!'"
      ]
     },
     "execution_count": 67,
     "metadata": {},
     "output_type": "execute_result"
    }
   ],
   "source": [
    "picard = CommandOfficer(\"Jean-Luc\", \"Picard\", \"Captain\")\n",
    "picard.introduce()"
   ]
  },
  {
   "cell_type": "code",
   "execution_count": null,
   "id": "8a268a68-08a2-4494-ab50-7d29e81cafb0",
   "metadata": {},
   "outputs": [],
   "source": []
  }
 ],
 "metadata": {
  "kernelspec": {
   "display_name": "Python 3 (ipykernel)",
   "language": "python",
   "name": "python3"
  },
  "language_info": {
   "codemirror_mode": {
    "name": "ipython",
    "version": 3
   },
   "file_extension": ".py",
   "mimetype": "text/x-python",
   "name": "python",
   "nbconvert_exporter": "python",
   "pygments_lexer": "ipython3",
   "version": "3.9.7"
  }
 },
 "nbformat": 4,
 "nbformat_minor": 5
}
